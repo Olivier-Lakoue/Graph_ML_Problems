{
 "cells": [
  {
   "cell_type": "code",
   "execution_count": 13,
   "metadata": {},
   "outputs": [],
   "source": [
    "import sys\n",
    "import random\n",
    "sys.path.append('../src/')\n",
    "from random_graph import RandGraph\n",
    "import networkx as nx\n",
    "import numpy as np\n",
    "import matplotlib.pyplot as plt\n",
    "import matplotlib.patches as mpatches"
   ]
  },
  {
   "cell_type": "code",
   "execution_count": 3,
   "metadata": {},
   "outputs": [],
   "source": [
    "g = RandGraph(graph_type='simple')"
   ]
  },
  {
   "cell_type": "code",
   "execution_count": 19,
   "metadata": {},
   "outputs": [
    {
     "data": {
      "text/plain": [
       "(array([[ 0.14285714,  0.16666667,  0.        ,  0.        ]]), 0.0)"
      ]
     },
     "execution_count": 19,
     "metadata": {},
     "output_type": "execute_result"
    }
   ],
   "source": [
    "g.action()"
   ]
  },
  {
   "cell_type": "code",
   "execution_count": 20,
   "metadata": {},
   "outputs": [
    {
     "data": {
      "text/plain": [
       "NodeDataView({1: {'actors': [b'8847ba00']}, 2: {'actors': [b'6cd7e381']}, 3: {'actors': [b'8847ba00'], 'capacity': 7}, 4: {'actors': [b'6cd7e381'], 'capacity': 6}, 5: {'actors': None, 'capacity': 2}, 6: {'actors': None, 'capacity': 2}, 7: {'actors': None}})"
      ]
     },
     "execution_count": 20,
     "metadata": {},
     "output_type": "execute_result"
    }
   ],
   "source": [
    "g.graph.nodes(data=True)"
   ]
  },
  {
   "cell_type": "code",
   "execution_count": 21,
   "metadata": {},
   "outputs": [
    {
     "data": {
      "text/plain": [
       "OutEdgeView([(1, 3), (2, 4), (3, 5), (4, 5), (5, 6), (6, 7)])"
      ]
     },
     "execution_count": 21,
     "metadata": {},
     "output_type": "execute_result"
    }
   ],
   "source": [
    "g.graph.edges"
   ]
  },
  {
   "cell_type": "code",
   "execution_count": 29,
   "metadata": {},
   "outputs": [
    {
     "data": {
      "text/plain": [
       "{'actors': [b'8847ba00'], 'capacity': 7}"
      ]
     },
     "execution_count": 29,
     "metadata": {},
     "output_type": "execute_result"
    }
   ],
   "source": [
    "g.graph.nodes()[3]"
   ]
  },
  {
   "cell_type": "code",
   "execution_count": 40,
   "metadata": {},
   "outputs": [
    {
     "data": {
      "image/png": "[encoded data removed]",
      "text/plain": [
       "<Figure size 432x288 with 1 Axes>"
      ]
     },
     "metadata": {},
     "output_type": "display_data"
    }
   ],
   "source": [
    "pos = nx.kamada_kawai_layout(g.graph)\n",
    "nx.draw_networkx_nodes(g.graph,\n",
    "                               pos,\n",
    "                               node_color='steelblue',\n",
    "                               nodelist=g.core_nodes)\n",
    "nx.draw_networkx_nodes(g.graph,\n",
    "                       pos,\n",
    "                       node_color='g',\n",
    "                       nodelist=g.entry_nodes)\n",
    "nx.draw_networkx_nodes(g.graph,\n",
    "                       pos,\n",
    "                       node_color='r',\n",
    "                       nodelist=g.exit_nodes)\n",
    "\n",
    "nx.draw_networkx_labels(g.graph, pos, font_color='w')\n",
    "nx.draw_networkx_edges(g.graph, pos)\n",
    "nx.draw_networkx_edge_labels(g.graph, pos, edge_labels={\n",
    "    (1,3):'.\\n'*3,\n",
    "    (2,4):'.\\n'*8\n",
    "}, font_size=8, font_weight='bold')\n",
    "plt.axis('off')\n",
    "#legend\n",
    "blue_patch = mpatches.Patch(color='steelblue', label='Core nodes')\n",
    "red_patch = mpatches.Patch(color='r', label='Exit nodes')\n",
    "green_patch = mpatches.Patch(color='g', label='Start nodes')\n",
    "\n",
    "plt.legend(handles=[green_patch,blue_patch,red_patch])\n",
    "plt.show()"
   ]
  },
  {
   "cell_type": "code",
   "execution_count": null,
   "metadata": {},
   "outputs": [],
   "source": []
  }
 ],
 "metadata": {
  "kernelspec": {
   "display_name": "Python 3",
   "language": "python",
   "name": "python3"
  },
  "language_info": {
   "codemirror_mode": {
    "name": "ipython",
    "version": 3
   },
   "file_extension": ".py",
   "mimetype": "text/x-python",
   "name": "python",
   "nbconvert_exporter": "python",
   "pygments_lexer": "ipython3",
   "version": "3.5.4"
  }
 },
 "nbformat": 4,
 "nbformat_minor": 2
}
