{
 "cells": [
  {
   "cell_type": "code",
   "execution_count": 1,
   "metadata": {},
   "outputs": [],
   "source": [
    "%load_ext autoreload\n",
    "%autoreload 2"
   ]
  },
  {
   "cell_type": "code",
   "execution_count": 3,
   "metadata": {},
   "outputs": [],
   "source": [
    "import networkx as nx\n",
    "import sys\n",
    "import random\n",
    "sys.path.append('../src/')\n",
    "from random_graph import RandGraph\n",
    "import pandas as pd\n",
    "import numpy as np\n",
    "import seaborn as sns\n",
    "import matplotlib.pyplot as plt\n",
    "from random import choice"
   ]
  },
  {
   "cell_type": "code",
   "execution_count": 13,
   "metadata": {},
   "outputs": [],
   "source": [
    "def compute_saturation(nb_points):\n",
    "    rand_sets= {}\n",
    "    steps = 30\n",
    "    for i in range(nb_points):\n",
    "        moving = choice(list(range(2,50,2)))\n",
    "        n_entry_nodes = choice(list(range(2,10)))\n",
    "        n_exit_nodes = choice(list(range(2,10)))\n",
    "        n_core_nodes = choice(list(range(10,50,5)))\n",
    "        n_paths = choice(list(range(5,50,5)))\n",
    "\n",
    "        # cross validation\n",
    "        cv = np.zeros((steps+1,5))\n",
    "        for j in range(5):\n",
    "            g = RandGraph(actors=10000, \n",
    "                              moving = moving, \n",
    "                              n_entry_nodes = n_entry_nodes,\n",
    "                             n_exit_nodes = n_exit_nodes,\n",
    "                             n_core_nodes = n_core_nodes,\n",
    "                             n_paths = n_paths)\n",
    "            data, nodes = g.step(n=steps)\n",
    "            cv[:,j] = data.mean(axis=1)\n",
    "\n",
    "        rand_sets[i] = {'moving':moving,\n",
    "                       'n_entry_nodes':n_entry_nodes,\n",
    "                       'n_exit_nodes':n_exit_nodes,\n",
    "                       'n_core_nodes':n_core_nodes,\n",
    "                       'n_paths':n_paths,\n",
    "                       'congestion':np.mean(cv.mean(axis=1))}\n",
    "    return pd.DataFrame.from_dict(rand_sets, orient='index')"
   ]
  },
  {
   "cell_type": "code",
   "execution_count": 7,
   "metadata": {},
   "outputs": [],
   "source": [
    "data = pd.DataFrame.from_dict(rand_sets, orient='index')"
   ]
  },
  {
   "cell_type": "code",
   "execution_count": null,
   "metadata": {},
   "outputs": [
    {
     "name": "stdout",
     "output_type": "stream",
     "text": [
      "% 77   ||||||||"
     ]
    }
   ],
   "source": [
    "data = compute_saturation(500)"
   ]
  },
  {
   "cell_type": "code",
   "execution_count": 12,
   "metadata": {},
   "outputs": [
    {
     "data": {
      "text/html": [
       "<div>\n",
       "<style scoped>\n",
       "    .dataframe tbody tr th:only-of-type {\n",
       "        vertical-align: middle;\n",
       "    }\n",
       "\n",
       "    .dataframe tbody tr th {\n",
       "        vertical-align: top;\n",
       "    }\n",
       "\n",
       "    .dataframe thead th {\n",
       "        text-align: right;\n",
       "    }\n",
       "</style>\n",
       "<table border=\"1\" class=\"dataframe\">\n",
       "  <thead>\n",
       "    <tr style=\"text-align: right;\">\n",
       "      <th></th>\n",
       "      <th>moving</th>\n",
       "      <th>n_entry_nodes</th>\n",
       "      <th>n_exit_nodes</th>\n",
       "      <th>n_core_nodes</th>\n",
       "      <th>n_paths</th>\n",
       "      <th>congestion</th>\n",
       "    </tr>\n",
       "  </thead>\n",
       "  <tbody>\n",
       "    <tr>\n",
       "      <th>0</th>\n",
       "      <td>16</td>\n",
       "      <td>8</td>\n",
       "      <td>4</td>\n",
       "      <td>40</td>\n",
       "      <td>10</td>\n",
       "      <td>0.24149</td>\n",
       "    </tr>\n",
       "  </tbody>\n",
       "</table>\n",
       "</div>"
      ],
      "text/plain": [
       "   moving  n_entry_nodes  n_exit_nodes  n_core_nodes  n_paths  congestion\n",
       "0      16              8             4            40       10     0.24149"
      ]
     },
     "execution_count": 12,
     "metadata": {},
     "output_type": "execute_result"
    }
   ],
   "source": [
    "data.head()"
   ]
  },
  {
   "cell_type": "code",
   "execution_count": null,
   "metadata": {},
   "outputs": [],
   "source": []
  }
 ],
 "metadata": {
  "kernelspec": {
   "display_name": "Python 3.6 (graph)",
   "language": "python",
   "name": "graph_ml_problems"
  },
  "language_info": {
   "codemirror_mode": {
    "name": "ipython",
    "version": 3
   },
   "file_extension": ".py",
   "mimetype": "text/x-python",
   "name": "python",
   "nbconvert_exporter": "python",
   "pygments_lexer": "ipython3",
   "version": "3.6.5"
  }
 },
 "nbformat": 4,
 "nbformat_minor": 2
}
