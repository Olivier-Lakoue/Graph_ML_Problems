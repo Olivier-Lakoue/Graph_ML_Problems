{
 "cells": [
  {
   "cell_type": "markdown",
   "metadata": {},
   "source": [
    "We need to change the action taken on each nodes. We are currently blocking all incoming actors. This is not a realistic actors movements on a network."
   ]
  },
  {
   "cell_type": "code",
   "execution_count": 7,
   "metadata": {},
   "outputs": [],
   "source": [
    "import sys\n",
    "sys.path.append('../src/')\n",
    "from random_graph import RandGraph\n",
    "import networkx as nx\n",
    "import pandas as pd\n",
    "import numpy as np\n",
    "import matplotlib.pyplot as plt"
   ]
  },
  {
   "cell_type": "code",
   "execution_count": 2,
   "metadata": {},
   "outputs": [],
   "source": [
    "g = RandGraph()"
   ]
  },
  {
   "cell_type": "code",
   "execution_count": 3,
   "metadata": {},
   "outputs": [
    {
     "data": {
      "image/png": "[encoded data removed]",
      "text/plain": [
       "<Figure size 432x288 with 1 Axes>"
      ]
     },
     "metadata": {},
     "output_type": "display_data"
    }
   ],
   "source": [
    "g.plot()"
   ]
  },
  {
   "cell_type": "markdown",
   "metadata": {},
   "source": [
    "## `pass_trough`property\n",
    "\n",
    "We need to define a new property of edges (intersection of roads) that will be used to move the number of actors from one node connected to another."
   ]
  },
  {
   "cell_type": "code",
   "execution_count": 392,
   "metadata": {},
   "outputs": [],
   "source": [
    "edges = [\n",
    "    (0,1,{'pass_through':1}),\n",
    "    (0,2,{'pass_through': 2}),\n",
    "    (2,3,{'pass_through': 1}),\n",
    "    (0,4,{'pass_through': 4})\n",
    "]"
   ]
  },
  {
   "cell_type": "code",
   "execution_count": 393,
   "metadata": {},
   "outputs": [],
   "source": [
    "h = nx.DiGraph()"
   ]
  },
  {
   "cell_type": "code",
   "execution_count": 394,
   "metadata": {},
   "outputs": [],
   "source": [
    "h.add_edges_from(edges)"
   ]
  },
  {
   "cell_type": "code",
   "execution_count": 395,
   "metadata": {},
   "outputs": [
    {
     "data": {
      "text/plain": [
       "OutEdgeDataView([(0, 1, {'pass_through': 1}), (0, 2, {'pass_through': 2}), (0, 4, {'pass_through': 4}), (2, 3, {'pass_through': 1})])"
      ]
     },
     "execution_count": 395,
     "metadata": {},
     "output_type": "execute_result"
    }
   ],
   "source": [
    "h.edges(data=True)"
   ]
  },
  {
   "cell_type": "markdown",
   "metadata": {},
   "source": [
    "This property cannot be less than 1. The sum of all output edges from one node is constant."
   ]
  },
  {
   "cell_type": "markdown",
   "metadata": {},
   "source": [
    "One action on one edge (intersection) will consist in increasing or decreasing traffic by a bounded percentage."
   ]
  },
  {
   "cell_type": "code",
   "execution_count": 396,
   "metadata": {},
   "outputs": [
    {
     "data": {
      "text/plain": [
       "7"
      ]
     },
     "execution_count": 396,
     "metadata": {},
     "output_type": "execute_result"
    }
   ],
   "source": [
    "val = 0.5\n",
    "edge = (0,1)\n",
    "origin, dest = edge\n",
    "max_capa = np.sum([x[2]['pass_through'] for x in h.edges(0, data=True)])\n",
    "max_capa"
   ]
  },
  {
   "cell_type": "markdown",
   "metadata": {},
   "source": [
    "if we increase or decrease on edge capa, we should substract or add the same cap to the max_capa.\n",
    "The delta between max_capa and the sum of the rest of the edges will be distributed according to the relative capa of each edges."
   ]
  },
  {
   "cell_type": "code",
   "execution_count": 415,
   "metadata": {},
   "outputs": [],
   "source": [
    "remaining = []\n",
    "below_threshold = False\n",
    "\n",
    "for n1,n2 in h.edges(origin):\n",
    "    if n2 == dest:\n",
    "        increase_val = np.round(h.edges[n1,n2]['pass_through']*val, decimals=2)\n",
    "        if (h.edges[n1,n2]['pass_through'] + increase_val) > 1:\n",
    "            h.edges[n1,n2]['pass_through'] += increase_val\n",
    "        else:\n",
    "            below_threshold =True\n",
    "    else:\n",
    "        remaining.append(h.edges[n1,n2]['pass_through'])\n",
    "\n",
    "sum_remain = np.sum(remaining)\n",
    "\n",
    "# Now we should distribute delta proportionally\n",
    "# pass_though * delta / sum(pass_through)\n",
    "left_over = 0\n",
    "for n1,n2 in h.edges(origin):\n",
    "    \n",
    "    if (n2 != dest) and not below_threshold:\n",
    "        change = np.round((h.edges[n1,n2]['pass_through'] * increase_val) / max_capa , decimals=2) + left_over\n",
    "        if (change+1) < (h.edges[n1,n2]['pass_through']):\n",
    "            h.edges[n1,n2]['pass_through'] -= change\n",
    "        else:\n",
    "            left_over = change"
   ]
  },
  {
   "cell_type": "code",
   "execution_count": 416,
   "metadata": {},
   "outputs": [
    {
     "data": {
      "text/plain": [
       "OutEdgeDataView([(0, 1, {'pass_through': 17.030000000000001}), (0, 2, {'pass_through': 1.0899999999999999}), (0, 4, {'pass_through': 1.1999999999999995})])"
      ]
     },
     "execution_count": 416,
     "metadata": {},
     "output_type": "execute_result"
    }
   ],
   "source": [
    "h.edges(origin, data=True)"
   ]
  },
  {
   "cell_type": "code",
   "execution_count": 417,
   "metadata": {},
   "outputs": [
    {
     "data": {
      "text/plain": [
       "19.32"
      ]
     },
     "execution_count": 417,
     "metadata": {},
     "output_type": "execute_result"
    }
   ],
   "source": [
    "max_capa = np.sum([x[2]['pass_through'] for x in h.edges(0, data=True)])\n",
    "max_capa"
   ]
  },
  {
   "cell_type": "code",
   "execution_count": 418,
   "metadata": {},
   "outputs": [
    {
     "data": {
      "text/plain": [
       "OutEdgeDataView([(0, 1, {'pass_through': 1}), (0, 2, {'pass_through': 2}), (0, 4, {'pass_through': 4}), (2, 3, {'pass_through': 1})])"
      ]
     },
     "execution_count": 418,
     "metadata": {},
     "output_type": "execute_result"
    }
   ],
   "source": [
    "# vectorize\n",
    "edges = [\n",
    "    (0,1,{'pass_through':1}),\n",
    "    (0,2,{'pass_through': 2}),\n",
    "    (2,3,{'pass_through': 1}),\n",
    "    (0,4,{'pass_through': 4})\n",
    "]\n",
    "h = nx.DiGraph()\n",
    "h.add_edges_from(edges)\n",
    "h.edges(data=True)"
   ]
  },
  {
   "cell_type": "code",
   "execution_count": 420,
   "metadata": {},
   "outputs": [],
   "source": [
    "pt_vals = []\n",
    "i = 0\n",
    "val = 0.5\n",
    "edge = (0,1)\n",
    "origin, dest = edge\n",
    "for n1,n2 in h.edges(origin):\n",
    "    pt_vals.append(h.edges[n1,n2]['pass_through'])\n",
    "    if n2 == dest:\n",
    "        idx = i\n",
    "    i += 1"
   ]
  },
  {
   "cell_type": "code",
   "execution_count": 421,
   "metadata": {},
   "outputs": [
    {
     "data": {
      "text/plain": [
       "[1, 2, 4]"
      ]
     },
     "execution_count": 421,
     "metadata": {},
     "output_type": "execute_result"
    }
   ],
   "source": [
    "pt_vals"
   ]
  },
  {
   "cell_type": "code",
   "execution_count": 422,
   "metadata": {},
   "outputs": [
    {
     "data": {
      "text/plain": [
       "0"
      ]
     },
     "execution_count": 422,
     "metadata": {},
     "output_type": "execute_result"
    }
   ],
   "source": [
    "idx"
   ]
  },
  {
   "cell_type": "code",
   "execution_count": 423,
   "metadata": {},
   "outputs": [],
   "source": [
    "pt_vals = np.array(pt_vals)"
   ]
  },
  {
   "cell_type": "code",
   "execution_count": 424,
   "metadata": {},
   "outputs": [
    {
     "data": {
      "text/plain": [
       "array([1, 2, 4])"
      ]
     },
     "execution_count": 424,
     "metadata": {},
     "output_type": "execute_result"
    }
   ],
   "source": [
    "pt_vals"
   ]
  },
  {
   "cell_type": "code",
   "execution_count": 433,
   "metadata": {},
   "outputs": [],
   "source": [
    "a = np.round(2/6 * 0.5, decimals=2)"
   ]
  },
  {
   "cell_type": "code",
   "execution_count": 434,
   "metadata": {},
   "outputs": [],
   "source": [
    "b = np.round(4/6 * 0.5, decimals=2)"
   ]
  },
  {
   "cell_type": "code",
   "execution_count": 435,
   "metadata": {},
   "outputs": [
    {
     "data": {
      "text/plain": [
       "0.5"
      ]
     },
     "execution_count": 435,
     "metadata": {},
     "output_type": "execute_result"
    }
   ],
   "source": [
    "a + b"
   ]
  },
  {
   "cell_type": "code",
   "execution_count": 436,
   "metadata": {},
   "outputs": [],
   "source": [
    "mask = np.ones_like(pt_vals)\n",
    "mask[idx] = 0"
   ]
  },
  {
   "cell_type": "code",
   "execution_count": 437,
   "metadata": {},
   "outputs": [
    {
     "data": {
      "text/plain": [
       "array([0, 1, 1])"
      ]
     },
     "execution_count": 437,
     "metadata": {},
     "output_type": "execute_result"
    }
   ],
   "source": [
    "mask"
   ]
  },
  {
   "cell_type": "code",
   "execution_count": 438,
   "metadata": {},
   "outputs": [],
   "source": [
    "inv_mask = np.array(mask == False, dtype=int)"
   ]
  },
  {
   "cell_type": "code",
   "execution_count": 439,
   "metadata": {},
   "outputs": [
    {
     "data": {
      "text/plain": [
       "array([1, 0, 0])"
      ]
     },
     "execution_count": 439,
     "metadata": {},
     "output_type": "execute_result"
    }
   ],
   "source": [
    "inv_mask"
   ]
  },
  {
   "cell_type": "code",
   "execution_count": 440,
   "metadata": {},
   "outputs": [],
   "source": [
    "percent = 0.5"
   ]
  },
  {
   "cell_type": "code",
   "execution_count": 443,
   "metadata": {},
   "outputs": [
    {
     "data": {
      "text/plain": [
       "array([ 0.5,  0. ,  0. ])"
      ]
     },
     "execution_count": 443,
     "metadata": {},
     "output_type": "execute_result"
    }
   ],
   "source": [
    "pt_vals * inv_mask * percent"
   ]
  },
  {
   "cell_type": "code",
   "execution_count": null,
   "metadata": {},
   "outputs": [],
   "source": []
  }
 ],
 "metadata": {
  "kernelspec": {
   "display_name": "Python 3",
   "language": "python",
   "name": "python3"
  },
  "language_info": {
   "codemirror_mode": {
    "name": "ipython",
    "version": 3
   },
   "file_extension": ".py",
   "mimetype": "text/x-python",
   "name": "python",
   "nbconvert_exporter": "python",
   "pygments_lexer": "ipython3",
   "version": "3.5.4"
  }
 },
 "nbformat": 4,
 "nbformat_minor": 2
}
