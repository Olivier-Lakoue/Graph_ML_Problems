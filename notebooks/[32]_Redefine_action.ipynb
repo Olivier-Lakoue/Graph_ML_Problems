{
 "cells": [
  {
   "cell_type": "markdown",
   "metadata": {},
   "source": [
    "We need to change the action taken on each nodes. We are currently blocking all incoming actors. This is not a realistic actors movements on a network."
   ]
  },
  {
   "cell_type": "code",
   "execution_count": 1,
   "metadata": {},
   "outputs": [],
   "source": [
    "import sys\n",
    "sys.path.append('../src/')\n",
    "from random_graph import RandGraph\n",
    "import networkx as nx\n",
    "import pandas as pd\n",
    "import numpy as np\n",
    "import matplotlib.pyplot as plt"
   ]
  },
  {
   "cell_type": "code",
   "execution_count": 2,
   "metadata": {},
   "outputs": [],
   "source": [
    "g = RandGraph()"
   ]
  },
  {
   "cell_type": "code",
   "execution_count": 3,
   "metadata": {},
   "outputs": [
    {
     "data": {
      "image/png": "[encoded data removed]",
      "text/plain": [
       "<Figure size 432x288 with 1 Axes>"
      ]
     },
     "metadata": {},
     "output_type": "display_data"
    }
   ],
   "source": [
    "g.plot()"
   ]
  },
  {
   "cell_type": "markdown",
   "metadata": {},
   "source": [
    "## `pass_trough`property\n",
    "\n",
    "We need to define a new property of edges (intersection of roads) that will be used to move the number of actors from one node connected to another."
   ]
  },
  {
   "cell_type": "code",
   "execution_count": 4,
   "metadata": {},
   "outputs": [],
   "source": [
    "edges = [\n",
    "    (0,1,{'pass_through':1}),\n",
    "    (0,2,{'pass_through': 2}),\n",
    "    (2,3,{'pass_through': 1}),\n",
    "    (0,4,{'pass_through': 4})\n",
    "]"
   ]
  },
  {
   "cell_type": "code",
   "execution_count": 5,
   "metadata": {},
   "outputs": [],
   "source": [
    "h = nx.DiGraph()"
   ]
  },
  {
   "cell_type": "code",
   "execution_count": 6,
   "metadata": {},
   "outputs": [],
   "source": [
    "h.add_edges_from(edges)"
   ]
  },
  {
   "cell_type": "code",
   "execution_count": 7,
   "metadata": {},
   "outputs": [
    {
     "data": {
      "text/plain": [
       "OutEdgeDataView([(0, 1, {'pass_through': 1}), (0, 2, {'pass_through': 2}), (0, 4, {'pass_through': 4}), (2, 3, {'pass_through': 1})])"
      ]
     },
     "execution_count": 7,
     "metadata": {},
     "output_type": "execute_result"
    }
   ],
   "source": [
    "h.edges(data=True)"
   ]
  },
  {
   "cell_type": "markdown",
   "metadata": {},
   "source": [
    "This property cannot be less than 1. The sum of all output edges from one node is constant."
   ]
  },
  {
   "cell_type": "markdown",
   "metadata": {},
   "source": [
    "One action on one edge (intersection) will consist in increasing or decreasing traffic by a bounded percentage."
   ]
  },
  {
   "cell_type": "code",
   "execution_count": 8,
   "metadata": {},
   "outputs": [
    {
     "data": {
      "text/plain": [
       "7"
      ]
     },
     "execution_count": 8,
     "metadata": {},
     "output_type": "execute_result"
    }
   ],
   "source": [
    "val = 0.5\n",
    "edge = (0,1)\n",
    "origin, dest = edge\n",
    "max_capa = np.sum([x[2]['pass_through'] for x in h.edges(0, data=True)])\n",
    "max_capa"
   ]
  },
  {
   "cell_type": "markdown",
   "metadata": {},
   "source": [
    "if we increase or decrease on edge capa, we should substract or add the same cap to the max_capa.\n",
    "The delta between max_capa and the sum of the rest of the edges will be distributed according to the relative capa of each edges."
   ]
  },
  {
   "cell_type": "code",
   "execution_count": 9,
   "metadata": {},
   "outputs": [],
   "source": [
    "remaining = []\n",
    "below_threshold = False\n",
    "\n",
    "for n1,n2 in h.edges(origin):\n",
    "    if n2 == dest:\n",
    "        increase_val = np.round(h.edges[n1,n2]['pass_through']*val, decimals=2)\n",
    "        if (h.edges[n1,n2]['pass_through'] + increase_val) > 1:\n",
    "            h.edges[n1,n2]['pass_through'] += increase_val\n",
    "        else:\n",
    "            below_threshold =True\n",
    "    else:\n",
    "        remaining.append(h.edges[n1,n2]['pass_through'])\n",
    "\n",
    "sum_remain = np.sum(remaining)\n",
    "\n",
    "# Now we should distribute delta proportionally\n",
    "# pass_though * delta / sum(pass_through)\n",
    "left_over = 0\n",
    "for n1,n2 in h.edges(origin):\n",
    "    \n",
    "    if (n2 != dest) and not below_threshold:\n",
    "        change = np.round((h.edges[n1,n2]['pass_through'] * increase_val) / max_capa , decimals=2) + left_over\n",
    "        if (change+1) < (h.edges[n1,n2]['pass_through']):\n",
    "            h.edges[n1,n2]['pass_through'] -= change\n",
    "        else:\n",
    "            left_over = change"
   ]
  },
  {
   "cell_type": "code",
   "execution_count": 10,
   "metadata": {},
   "outputs": [
    {
     "data": {
      "text/plain": [
       "OutEdgeDataView([(0, 1, {'pass_through': 1.5}), (0, 2, {'pass_through': 1.8599999999999999}), (0, 4, {'pass_through': 3.71})])"
      ]
     },
     "execution_count": 10,
     "metadata": {},
     "output_type": "execute_result"
    }
   ],
   "source": [
    "h.edges(origin, data=True)"
   ]
  },
  {
   "cell_type": "code",
   "execution_count": 11,
   "metadata": {},
   "outputs": [
    {
     "data": {
      "text/plain": [
       "7.07"
      ]
     },
     "execution_count": 11,
     "metadata": {},
     "output_type": "execute_result"
    }
   ],
   "source": [
    "max_capa = np.sum([x[2]['pass_through'] for x in h.edges(0, data=True)])\n",
    "max_capa"
   ]
  },
  {
   "cell_type": "code",
   "execution_count": 50,
   "metadata": {},
   "outputs": [
    {
     "data": {
      "text/plain": [
       "OutEdgeDataView([(0, 1, {'pass_through': 1}), (0, 2, {'pass_through': 2}), (0, 4, {'pass_through': 4}), (2, 3, {'pass_through': 1})])"
      ]
     },
     "execution_count": 50,
     "metadata": {},
     "output_type": "execute_result"
    }
   ],
   "source": [
    "# vectorize\n",
    "edges = [\n",
    "    (0,1,{'pass_through':1}),\n",
    "    (0,2,{'pass_through': 2}),\n",
    "    (2,3,{'pass_through': 1}),\n",
    "    (0,4,{'pass_through': 4})\n",
    "]\n",
    "h = nx.DiGraph()\n",
    "h.add_edges_from(edges)\n",
    "h.edges(data=True)"
   ]
  },
  {
   "cell_type": "code",
   "execution_count": 13,
   "metadata": {},
   "outputs": [],
   "source": [
    "pt_vals = []\n",
    "i = 0\n",
    "val = 0.5\n",
    "edge = (0,1)\n",
    "origin, dest = edge\n",
    "for n1,n2 in h.edges(origin):\n",
    "    pt_vals.append(h.edges[n1,n2]['pass_through'])\n",
    "    if n2 == dest:\n",
    "        idx = i\n",
    "    i += 1"
   ]
  },
  {
   "cell_type": "code",
   "execution_count": 41,
   "metadata": {},
   "outputs": [],
   "source": [
    "def get_pass_through_values(h, edge):\n",
    "    pt_vals = []\n",
    "    i = 0\n",
    "\n",
    "    origin, dest = edge\n",
    "    for n1,n2 in h.edges(origin):\n",
    "        pt_vals.append(h.edges[n1,n2]['pass_through'])\n",
    "        if n2 == dest:\n",
    "            idx = i\n",
    "        i += 1\n",
    "    return pt_vals, idx"
   ]
  },
  {
   "cell_type": "code",
   "execution_count": 47,
   "metadata": {},
   "outputs": [],
   "source": [
    "def set_pass_through_values(h, pt_vals, node):\n",
    "    i = 0\n",
    "    for n1, n2 in h.edges(node):\n",
    "        h.edges[n1,n2]['pass_through'] = pt_vals[i]\n",
    "        i += 1\n",
    "    return h"
   ]
  },
  {
   "cell_type": "code",
   "execution_count": 37,
   "metadata": {},
   "outputs": [
    {
     "data": {
      "text/plain": [
       "[1, 2, 4]"
      ]
     },
     "execution_count": 37,
     "metadata": {},
     "output_type": "execute_result"
    }
   ],
   "source": [
    "get_pass_through_values((0,1))"
   ]
  },
  {
   "cell_type": "code",
   "execution_count": 14,
   "metadata": {},
   "outputs": [
    {
     "data": {
      "text/plain": [
       "[1, 2, 4]"
      ]
     },
     "execution_count": 14,
     "metadata": {},
     "output_type": "execute_result"
    }
   ],
   "source": [
    "pt_vals"
   ]
  },
  {
   "cell_type": "code",
   "execution_count": 15,
   "metadata": {},
   "outputs": [
    {
     "data": {
      "text/plain": [
       "0"
      ]
     },
     "execution_count": 15,
     "metadata": {},
     "output_type": "execute_result"
    }
   ],
   "source": [
    "idx"
   ]
  },
  {
   "cell_type": "code",
   "execution_count": 16,
   "metadata": {},
   "outputs": [],
   "source": [
    "pt_vals = np.array(pt_vals)"
   ]
  },
  {
   "cell_type": "code",
   "execution_count": 17,
   "metadata": {},
   "outputs": [
    {
     "data": {
      "text/plain": [
       "array([1, 2, 4])"
      ]
     },
     "execution_count": 17,
     "metadata": {},
     "output_type": "execute_result"
    }
   ],
   "source": [
    "pt_vals"
   ]
  },
  {
   "cell_type": "code",
   "execution_count": 18,
   "metadata": {},
   "outputs": [],
   "source": [
    "a = np.round(2/6 * 0.5, decimals=2)"
   ]
  },
  {
   "cell_type": "code",
   "execution_count": 19,
   "metadata": {},
   "outputs": [],
   "source": [
    "b = np.round(4/6 * 0.5, decimals=2)"
   ]
  },
  {
   "cell_type": "code",
   "execution_count": 20,
   "metadata": {},
   "outputs": [
    {
     "data": {
      "text/plain": [
       "0.5"
      ]
     },
     "execution_count": 20,
     "metadata": {},
     "output_type": "execute_result"
    }
   ],
   "source": [
    "a + b"
   ]
  },
  {
   "cell_type": "code",
   "execution_count": 21,
   "metadata": {},
   "outputs": [],
   "source": [
    "mask = np.ones_like(pt_vals)\n",
    "mask[idx] = 0"
   ]
  },
  {
   "cell_type": "code",
   "execution_count": 22,
   "metadata": {},
   "outputs": [
    {
     "data": {
      "text/plain": [
       "array([0, 1, 1])"
      ]
     },
     "execution_count": 22,
     "metadata": {},
     "output_type": "execute_result"
    }
   ],
   "source": [
    "mask"
   ]
  },
  {
   "cell_type": "code",
   "execution_count": 23,
   "metadata": {},
   "outputs": [],
   "source": [
    "inv_mask = np.array(mask == False, dtype=int)"
   ]
  },
  {
   "cell_type": "code",
   "execution_count": 24,
   "metadata": {},
   "outputs": [
    {
     "data": {
      "text/plain": [
       "array([1, 0, 0])"
      ]
     },
     "execution_count": 24,
     "metadata": {},
     "output_type": "execute_result"
    }
   ],
   "source": [
    "inv_mask"
   ]
  },
  {
   "cell_type": "code",
   "execution_count": 32,
   "metadata": {},
   "outputs": [],
   "source": [
    "percent = 0.5"
   ]
  },
  {
   "cell_type": "code",
   "execution_count": 33,
   "metadata": {},
   "outputs": [
    {
     "data": {
      "text/plain": [
       "array([0.5       , 2.16666667, 4.33333333])"
      ]
     },
     "execution_count": 33,
     "metadata": {},
     "output_type": "execute_result"
    }
   ],
   "source": [
    "(pt_vals * inv_mask * percent + pt_vals*inv_mask) + ( pt_vals*mask - pt_vals*mask / np.sum(pt_vals * mask) * percent )"
   ]
  },
  {
   "cell_type": "code",
   "execution_count": 350,
   "metadata": {},
   "outputs": [],
   "source": [
    "def update(pass_through, idx, value):\n",
    "    # vector of pass_through values\n",
    "    pt_vals = np.array(pass_through)\n",
    "    # mask\n",
    "    mask = np.ones_like(pt_vals)\n",
    "    mask[idx] = 0\n",
    "    # inverted mask\n",
    "    inv_mask = np.array(mask == False, dtype=int)\n",
    "    # value update at index\n",
    "    updated_idx = pt_vals * inv_mask * value + pt_vals * inv_mask\n",
    "    updated_remaining = pt_vals * mask - pt_vals * mask / np.sum(pt_vals * mask) * value\n",
    "    if (np.sum(updated_idx) >= 1) & ((updated_remaining - mask) >= np.zeros_like(mask)).all():\n",
    "        return updated_idx + updated_remaining\n",
    "    else:\n",
    "        return pt_vals"
   ]
  },
  {
   "cell_type": "code",
   "execution_count": 42,
   "metadata": {},
   "outputs": [],
   "source": [
    "def action(graph, edge, value):\n",
    "    origin, dest = edge\n",
    "    pt_vals, idx = get_pass_through_values(graph, edge)\n",
    "    updated_vals = update(pt_vals, idx, value)\n",
    "    updated_graph = set_pass_through_values(graph, updated_vals, origin)\n",
    "    return updated_graph"
   ]
  },
  {
   "cell_type": "code",
   "execution_count": 83,
   "metadata": {},
   "outputs": [],
   "source": [
    "up_h = action(h.copy(), (0,1), -0.3)"
   ]
  },
  {
   "cell_type": "code",
   "execution_count": 84,
   "metadata": {},
   "outputs": [
    {
     "data": {
      "text/plain": [
       "OutEdgeDataView([(0, 1, {'pass_through': 0.7}), (0, 2, {'pass_through': 2.1}), (0, 4, {'pass_through': 4.2}), (2, 3, {'pass_through': 1})])"
      ]
     },
     "execution_count": 84,
     "metadata": {},
     "output_type": "execute_result"
    }
   ],
   "source": [
    "up_h.edges(data=True)"
   ]
  },
  {
   "cell_type": "code",
   "execution_count": 85,
   "metadata": {},
   "outputs": [
    {
     "data": {
      "text/plain": [
       "OutEdgeDataView([(0, 1, {'pass_through': 1}), (0, 2, {'pass_through': 2}), (0, 4, {'pass_through': 4}), (2, 3, {'pass_through': 1})])"
      ]
     },
     "execution_count": 85,
     "metadata": {},
     "output_type": "execute_result"
    }
   ],
   "source": [
    "h.edges(data=True)"
   ]
  },
  {
   "cell_type": "code",
   "execution_count": 86,
   "metadata": {},
   "outputs": [],
   "source": [
    "j = action(h, (0,1), 0.5)"
   ]
  },
  {
   "cell_type": "code",
   "execution_count": 87,
   "metadata": {},
   "outputs": [
    {
     "data": {
      "text/plain": [
       "OutEdgeDataView([(0, 1, {'pass_through': 1.5}), (0, 2, {'pass_through': 1.8333333333333333}), (0, 4, {'pass_through': 3.6666666666666665}), (2, 3, {'pass_through': 1})])"
      ]
     },
     "execution_count": 87,
     "metadata": {},
     "output_type": "execute_result"
    }
   ],
   "source": [
    "j.edges(data=True)"
   ]
  },
  {
   "cell_type": "code",
   "execution_count": 377,
   "metadata": {},
   "outputs": [
    {
     "data": {
      "text/plain": [
       "OutEdgeDataView([(0, 1, {'pass_through': 1}), (0, 2, {'pass_through': 2}), (0, 4, {'pass_through': 4}), (2, 3, {'pass_through': 1})])"
      ]
     },
     "execution_count": 377,
     "metadata": {},
     "output_type": "execute_result"
    }
   ],
   "source": [
    "edges = [\n",
    "    (0,1,{'pass_through':1}),\n",
    "    (0,2,{'pass_through': 2}),\n",
    "    (2,3,{'pass_through': 1}),\n",
    "    (0,4,{'pass_through': 4})\n",
    "]\n",
    "h = nx.DiGraph()\n",
    "h.add_edges_from(edges)\n",
    "h.edges(data=True)"
   ]
  },
  {
   "cell_type": "code",
   "execution_count": 378,
   "metadata": {},
   "outputs": [],
   "source": [
    "origin = 0\n",
    "dest = 1\n",
    "pt_vals, idx = get_pass_through_values(h, (origin,dest))"
   ]
  },
  {
   "cell_type": "code",
   "execution_count": 379,
   "metadata": {},
   "outputs": [
    {
     "data": {
      "text/plain": [
       "[1, 2, 4]"
      ]
     },
     "execution_count": 379,
     "metadata": {},
     "output_type": "execute_result"
    }
   ],
   "source": [
    "pt_vals"
   ]
  },
  {
   "cell_type": "code",
   "execution_count": 104,
   "metadata": {},
   "outputs": [],
   "source": [
    "up_vals = update(pt_vals, 0, 0.1)"
   ]
  },
  {
   "cell_type": "code",
   "execution_count": 105,
   "metadata": {},
   "outputs": [
    {
     "data": {
      "text/plain": [
       "array([1.1       , 1.96666667, 3.93333333])"
      ]
     },
     "execution_count": 105,
     "metadata": {},
     "output_type": "execute_result"
    }
   ],
   "source": [
    "up_vals"
   ]
  },
  {
   "cell_type": "code",
   "execution_count": 248,
   "metadata": {},
   "outputs": [
    {
     "data": {
      "text/plain": [
       "array([1.01019435, 1.33333333, 2.66666667])"
      ]
     },
     "execution_count": 248,
     "metadata": {},
     "output_type": "execute_result"
    }
   ],
   "source": [
    "up_vals = update(up_vals, 0, -0.3)\n",
    "up_vals"
   ]
  },
  {
   "cell_type": "code",
   "execution_count": 249,
   "metadata": {},
   "outputs": [
    {
     "data": {
      "text/plain": [
       "5.010194353592339"
      ]
     },
     "execution_count": 249,
     "metadata": {},
     "output_type": "execute_result"
    }
   ],
   "source": [
    "np.sum(up_vals)"
   ]
  },
  {
   "cell_type": "code",
   "execution_count": 376,
   "metadata": {},
   "outputs": [
    {
     "data": {
      "text/plain": [
       "0.1776765525823625"
      ]
     },
     "execution_count": 376,
     "metadata": {},
     "output_type": "execute_result"
    }
   ],
   "source": [
    "np.random.randn() * 0.5"
   ]
  },
  {
   "cell_type": "code",
   "execution_count": 380,
   "metadata": {},
   "outputs": [],
   "source": [
    "vals = []\n",
    "for i in range(10000):\n",
    "    v = np.random.randn() * 0.5\n",
    "    pt_vals = update(pt_vals, 0, v)\n",
    "    vals.append(np.sum(pt_vals))"
   ]
  },
  {
   "cell_type": "code",
   "execution_count": 381,
   "metadata": {},
   "outputs": [
    {
     "data": {
      "text/plain": [
       "array([1.00813142, 1.00633483, 2.01266966])"
      ]
     },
     "execution_count": 381,
     "metadata": {},
     "output_type": "execute_result"
    }
   ],
   "source": [
    "pt_vals"
   ]
  },
  {
   "cell_type": "code",
   "execution_count": 382,
   "metadata": {},
   "outputs": [
    {
     "data": {
      "image/png": "[encoded data removed]",
      "text/plain": [
       "<Figure size 432x288 with 1 Axes>"
      ]
     },
     "metadata": {},
     "output_type": "display_data"
    }
   ],
   "source": [
    "pd.DataFrame(vals).plot()\n",
    "plt.show()"
   ]
  },
  {
   "cell_type": "code",
   "execution_count": null,
   "metadata": {},
   "outputs": [],
   "source": []
  },
  {
   "cell_type": "code",
   "execution_count": null,
   "metadata": {},
   "outputs": [],
   "source": []
  }
 ],
 "metadata": {
  "kernelspec": {
   "display_name": "Python 3",
   "language": "python",
   "name": "python3"
  },
  "language_info": {
   "codemirror_mode": {
    "name": "ipython",
    "version": 3
   },
   "file_extension": ".py",
   "mimetype": "text/x-python",
   "name": "python",
   "nbconvert_exporter": "python",
   "pygments_lexer": "ipython3",
   "version": "3.6.5"
  }
 },
 "nbformat": 4,
 "nbformat_minor": 2
}
