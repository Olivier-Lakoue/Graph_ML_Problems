{
 "cells": [
  {
   "cell_type": "code",
   "execution_count": 1,
   "metadata": {
    "collapsed": true
   },
   "outputs": [],
   "source": [
    "%load_ext autoreload\n",
    "%autoreload 2"
   ]
  },
  {
   "cell_type": "code",
   "execution_count": 2,
   "metadata": {
    "collapsed": true
   },
   "outputs": [],
   "source": [
    "import networkx as nx\n",
    "import sys\n",
    "import random"
   ]
  },
  {
   "cell_type": "code",
   "execution_count": 3,
   "metadata": {
    "collapsed": true
   },
   "outputs": [],
   "source": [
    "sys.path.append('../src/')"
   ]
  },
  {
   "cell_type": "code",
   "execution_count": 10,
   "metadata": {
    "collapsed": true
   },
   "outputs": [],
   "source": [
    "from random_graph import RandGraph, Actor, BunchActors"
   ]
  },
  {
   "cell_type": "markdown",
   "metadata": {},
   "source": [
    "## Actors\n",
    "Moving actors should be added to the graph at each timestep. Actors properties:\n",
    "* id\n",
    "* path"
   ]
  },
  {
   "cell_type": "code",
   "execution_count": 5,
   "metadata": {},
   "outputs": [],
   "source": [
    "g = RandGraph()\n",
    "a = Actor()"
   ]
  },
  {
   "cell_type": "code",
   "execution_count": 6,
   "metadata": {},
   "outputs": [
    {
     "data": {
      "text/plain": [
       "164"
      ]
     },
     "execution_count": 6,
     "metadata": {},
     "output_type": "execute_result"
    }
   ],
   "source": [
    "a.id"
   ]
  },
  {
   "cell_type": "code",
   "execution_count": 7,
   "metadata": {},
   "outputs": [],
   "source": [
    "a.set_path(g)"
   ]
  },
  {
   "cell_type": "code",
   "execution_count": 8,
   "metadata": {},
   "outputs": [
    {
     "data": {
      "text/plain": [
       "0"
      ]
     },
     "execution_count": 8,
     "metadata": {},
     "output_type": "execute_result"
    }
   ],
   "source": [
    "a.get_position()"
   ]
  },
  {
   "cell_type": "markdown",
   "metadata": {},
   "source": [
    "## Bunch of Actors"
   ]
  },
  {
   "cell_type": "code",
   "execution_count": null,
   "metadata": {
    "collapsed": true
   },
   "outputs": [],
   "source": [
    "class BunchActors:\n",
    "    def __init__(self, n, g):\n",
    "        self.nb_actors = n\n",
    "        self.bunch = {}\n",
    "        self._get_bunch()\n",
    "        # self._set_paths(g)\n",
    "\n",
    "    def _get_bunch(self):\n",
    "        for _ in range(self.nb_actors):\n",
    "            a = Actor()\n",
    "            self.bunch[a.id] = a\n",
    "\n",
    "    def ids(self):\n",
    "        return list(self.bunch.keys())\n",
    "\n",
    "    def get_actor(self, n):\n",
    "        if n in self.ids():\n",
    "            return self.bunch[n]\n",
    "        else:\n",
    "            return None\n",
    "\n",
    "    def _set_paths(self,idx, g):\n",
    "        for actor in self.bunch[idx].values():\n",
    "            actor.set_path(g)\n",
    "\n",
    "    def get_positions(self):\n",
    "        d = {}\n",
    "        for idx, actor in self.bunch.items():\n",
    "            try:\n",
    "                d[idx] = actor.get_position()\n",
    "            except ValueError:\n",
    "                d[idx] = None\n",
    "        return d\n",
    "\n",
    "    def move(self):\n",
    "        to_remove = {}\n",
    "        for idx, actor in self.bunch.items():\n",
    "            try:\n",
    "                actor.move()\n",
    "            except ValueError:\n",
    "                to_remove[idx] = actor\n",
    "        self.bunch = {k: v for k, v in self.bunch.items() if k not in to_remove}\n",
    "        self.nb_actors -= len(to_remove)"
   ]
  }
 ],
 "metadata": {
  "kernelspec": {
   "display_name": "Python 3.6 (graph)",
   "language": "python",
   "name": "graph_ml_problems"
  },
  "language_info": {
   "codemirror_mode": {
    "name": "ipython",
    "version": 3
   },
   "file_extension": ".py",
   "mimetype": "text/x-python",
   "name": "python",
   "nbconvert_exporter": "python",
   "pygments_lexer": "ipython3",
   "version": "3.6.5"
  }
 },
 "nbformat": 4,
 "nbformat_minor": 2
}
