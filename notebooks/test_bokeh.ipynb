{
 "cells": [
  {
   "cell_type": "code",
   "execution_count": 1,
   "metadata": {},
   "outputs": [],
   "source": [
    "import networkx as nx\n",
    "import sys\n",
    "import random\n",
    "sys.path.append('../src/')\n",
    "from random_graph import RandGraph\n",
    "import pandas as pd\n",
    "import numpy as np\n",
    "import seaborn as sns\n",
    "import matplotlib.pyplot as plt\n",
    "import random"
   ]
  },
  {
   "cell_type": "code",
   "execution_count": 2,
   "metadata": {},
   "outputs": [],
   "source": [
    "from bokeh.plotting import figure\n",
    "from bokeh.models import GraphRenderer, Oval, MultiLine, Circle\n",
    "from bokeh.models import LinearColorMapper, ColumnDataSource\n",
    "from bokeh.palettes import Spectral8, Spectral4\n",
    "from bokeh.models.graphs import from_networkx\n",
    "from bokeh.io import show, output_notebook"
   ]
  },
  {
   "cell_type": "code",
   "execution_count": 3,
   "metadata": {},
   "outputs": [
    {
     "data": {
      "text/html": [
       "\n",
       "    <div class=\"bk-root\">\n",
       "        <a href=\"https://bokeh.pydata.org\" target=\"_blank\" class=\"bk-logo bk-logo-small bk-logo-notebook\"></a>\n",
       "        <span id=\"5ca69dec-6c05-4b01-b948-bdacdebc822a\">Loading BokehJS ...</span>\n",
       "    </div>"
      ]
     },
     "metadata": {},
     "output_type": "display_data"
    },
    {
     "data": {
      "application/javascript": [
       "\n",
       "(function(root) {\n",
       "  function now() {\n",
       "    return new Date();\n",
       "  }\n",
       "\n",
       "  var force = true;\n",
       "\n",
       "  if (typeof (root._bokeh_onload_callbacks) === \"undefined\" || force === true) {\n",
       "    root._bokeh_onload_callbacks = [];\n",
       "    root._bokeh_is_loading = undefined;\n",
       "  }\n",
       "\n",
       "  var JS_MIME_TYPE = 'application/javascript';\n",
       "  var HTML_MIME_TYPE = 'text/html';\n",
       "  var EXEC_MIME_TYPE = 'application/vnd.bokehjs_exec.v0+json';\n",
       "  var CLASS_NAME = 'output_bokeh rendered_html';\n",
       "\n",
       "  /**\n",
       "   * Render data to the DOM node\n",
       "   */\n",
       "  function render(props, node) {\n",
       "    var script = document.createElement(\"script\");\n",
       "    node.appendChild(script);\n",
       "  }\n",
       "\n",
       "  /**\n",
       "   * Handle when an output is cleared or removed\n",
       "   */\n",
       "  function handleClearOutput(event, handle) {\n",
       "    var cell = handle.cell;\n",
       "\n",
       "    var id = cell.output_area._bokeh_element_id;\n",
       "    var server_id = cell.output_area._bokeh_server_id;\n",
       "    // Clean up Bokeh references\n",
       "    if (id !== undefined) {\n",
       "      Bokeh.index[id].model.document.clear();\n",
       "      delete Bokeh.index[id];\n",
       "    }\n",
       "\n",
       "    if (server_id !== undefined) {\n",
       "      // Clean up Bokeh references\n",
       "      var cmd = \"from bokeh.io.state import curstate; print(curstate().uuid_to_server['\" + server_id + \"'].get_sessions()[0].document.roots[0]._id)\";\n",
       "      cell.notebook.kernel.execute(cmd, {\n",
       "        iopub: {\n",
       "          output: function(msg) {\n",
       "            var element_id = msg.content.text.trim();\n",
       "            Bokeh.index[element_id].model.document.clear();\n",
       "            delete Bokeh.index[element_id];\n",
       "          }\n",
       "        }\n",
       "      });\n",
       "      // Destroy server and session\n",
       "      var cmd = \"import bokeh.io.notebook as ion; ion.destroy_server('\" + server_id + \"')\";\n",
       "      cell.notebook.kernel.execute(cmd);\n",
       "    }\n",
       "  }\n",
       "\n",
       "  /**\n",
       "   * Handle when a new output is added\n",
       "   */\n",
       "  function handleAddOutput(event, handle) {\n",
       "    var output_area = handle.output_area;\n",
       "    var output = handle.output;\n",
       "\n",
       "    // limit handleAddOutput to display_data with EXEC_MIME_TYPE content only\n",
       "    if ((output.output_type != \"display_data\") || (!output.data.hasOwnProperty(EXEC_MIME_TYPE))) {\n",
       "      return\n",
       "    }\n",
       "\n",
       "    var toinsert = output_area.element.find(\".\" + CLASS_NAME.split(' ')[0]);\n",
       "\n",
       "    if (output.metadata[EXEC_MIME_TYPE][\"id\"] !== undefined) {\n",
       "      toinsert[toinsert.length - 1].firstChild.textContent = output.data[JS_MIME_TYPE];\n",
       "      // store reference to embed id on output_area\n",
       "      output_area._bokeh_element_id = output.metadata[EXEC_MIME_TYPE][\"id\"];\n",
       "    }\n",
       "    if (output.metadata[EXEC_MIME_TYPE][\"server_id\"] !== undefined) {\n",
       "      var bk_div = document.createElement(\"div\");\n",
       "      bk_div.innerHTML = output.data[HTML_MIME_TYPE];\n",
       "      var script_attrs = bk_div.children[0].attributes;\n",
       "      for (var i = 0; i < script_attrs.length; i++) {\n",
       "        toinsert[toinsert.length - 1].firstChild.setAttribute(script_attrs[i].name, script_attrs[i].value);\n",
       "      }\n",
       "      // store reference to server id on output_area\n",
       "      output_area._bokeh_server_id = output.metadata[EXEC_MIME_TYPE][\"server_id\"];\n",
       "    }\n",
       "  }\n",
       "\n",
       "  function register_renderer(events, OutputArea) {\n",
       "\n",
       "    function append_mime(data, metadata, element) {\n",
       "      // create a DOM node to render to\n",
       "      var toinsert = this.create_output_subarea(\n",
       "        metadata,\n",
       "        CLASS_NAME,\n",
       "        EXEC_MIME_TYPE\n",
       "      );\n",
       "      this.keyboard_manager.register_events(toinsert);\n",
       "      // Render to node\n",
       "      var props = {data: data, metadata: metadata[EXEC_MIME_TYPE]};\n",
       "      render(props, toinsert[toinsert.length - 1]);\n",
       "      element.append(toinsert);\n",
       "      return toinsert\n",
       "    }\n",
       "\n",
       "    /* Handle when an output is cleared or removed */\n",
       "    events.on('clear_output.CodeCell', handleClearOutput);\n",
       "    events.on('delete.Cell', handleClearOutput);\n",
       "\n",
       "    /* Handle when a new output is added */\n",
       "    events.on('output_added.OutputArea', handleAddOutput);\n",
       "\n",
       "    /**\n",
       "     * Register the mime type and append_mime function with output_area\n",
       "     */\n",
       "    OutputArea.prototype.register_mime_type(EXEC_MIME_TYPE, append_mime, {\n",
       "      /* Is output safe? */\n",
       "      safe: true,\n",
       "      /* Index of renderer in `output_area.display_order` */\n",
       "      index: 0\n",
       "    });\n",
       "  }\n",
       "\n",
       "  // register the mime type if in Jupyter Notebook environment and previously unregistered\n",
       "  if (root.Jupyter !== undefined) {\n",
       "    var events = require('base/js/events');\n",
       "    var OutputArea = require('notebook/js/outputarea').OutputArea;\n",
       "\n",
       "    if (OutputArea.prototype.mime_types().indexOf(EXEC_MIME_TYPE) == -1) {\n",
       "      register_renderer(events, OutputArea);\n",
       "    }\n",
       "  }\n",
       "\n",
       "  \n",
       "  if (typeof (root._bokeh_timeout) === \"undefined\" || force === true) {\n",
       "    root._bokeh_timeout = Date.now() + 5000;\n",
       "    root._bokeh_failed_load = false;\n",
       "  }\n",
       "\n",
       "  var NB_LOAD_WARNING = {'data': {'text/html':\n",
       "     \"<div style='background-color: #fdd'>\\n\"+\n",
       "     \"<p>\\n\"+\n",
       "     \"BokehJS does not appear to have successfully loaded. If loading BokehJS from CDN, this \\n\"+\n",
       "     \"may be due to a slow or bad network connection. Possible fixes:\\n\"+\n",
       "     \"</p>\\n\"+\n",
       "     \"<ul>\\n\"+\n",
       "     \"<li>re-rerun `output_notebook()` to attempt to load from CDN again, or</li>\\n\"+\n",
       "     \"<li>use INLINE resources instead, as so:</li>\\n\"+\n",
       "     \"</ul>\\n\"+\n",
       "     \"<code>\\n\"+\n",
       "     \"from bokeh.resources import INLINE\\n\"+\n",
       "     \"output_notebook(resources=INLINE)\\n\"+\n",
       "     \"</code>\\n\"+\n",
       "     \"</div>\"}};\n",
       "\n",
       "  function display_loaded() {\n",
       "    var el = document.getElementById(\"5ca69dec-6c05-4b01-b948-bdacdebc822a\");\n",
       "    if (el != null) {\n",
       "      el.textContent = \"BokehJS is loading...\";\n",
       "    }\n",
       "    if (root.Bokeh !== undefined) {\n",
       "      if (el != null) {\n",
       "        el.textContent = \"BokehJS \" + root.Bokeh.version + \" successfully loaded.\";\n",
       "      }\n",
       "    } else if (Date.now() < root._bokeh_timeout) {\n",
       "      setTimeout(display_loaded, 100)\n",
       "    }\n",
       "  }\n",
       "\n",
       "\n",
       "  function run_callbacks() {\n",
       "    try {\n",
       "      root._bokeh_onload_callbacks.forEach(function(callback) { callback() });\n",
       "    }\n",
       "    finally {\n",
       "      delete root._bokeh_onload_callbacks\n",
       "    }\n",
       "    console.info(\"Bokeh: all callbacks have finished\");\n",
       "  }\n",
       "\n",
       "  function load_libs(js_urls, callback) {\n",
       "    root._bokeh_onload_callbacks.push(callback);\n",
       "    if (root._bokeh_is_loading > 0) {\n",
       "      console.log(\"Bokeh: BokehJS is being loaded, scheduling callback at\", now());\n",
       "      return null;\n",
       "    }\n",
       "    if (js_urls == null || js_urls.length === 0) {\n",
       "      run_callbacks();\n",
       "      return null;\n",
       "    }\n",
       "    console.log(\"Bokeh: BokehJS not loaded, scheduling load and callback at\", now());\n",
       "    root._bokeh_is_loading = js_urls.length;\n",
       "    for (var i = 0; i < js_urls.length; i++) {\n",
       "      var url = js_urls[i];\n",
       "      var s = document.createElement('script');\n",
       "      s.src = url;\n",
       "      s.async = false;\n",
       "      s.onreadystatechange = s.onload = function() {\n",
       "        root._bokeh_is_loading--;\n",
       "        if (root._bokeh_is_loading === 0) {\n",
       "          console.log(\"Bokeh: all BokehJS libraries loaded\");\n",
       "          run_callbacks()\n",
       "        }\n",
       "      };\n",
       "      s.onerror = function() {\n",
       "        console.warn(\"failed to load library \" + url);\n",
       "      };\n",
       "      console.log(\"Bokeh: injecting script tag for BokehJS library: \", url);\n",
       "      document.getElementsByTagName(\"head\")[0].appendChild(s);\n",
       "    }\n",
       "  };var element = document.getElementById(\"5ca69dec-6c05-4b01-b948-bdacdebc822a\");\n",
       "  if (element == null) {\n",
       "    console.log(\"Bokeh: ERROR: autoload.js configured with elementid '5ca69dec-6c05-4b01-b948-bdacdebc822a' but no matching script tag was found. \")\n",
       "    return false;\n",
       "  }\n",
       "\n",
       "  var js_urls = [\"https://cdn.pydata.org/bokeh/release/bokeh-0.12.15.min.js\", \"https://cdn.pydata.org/bokeh/release/bokeh-widgets-0.12.15.min.js\", \"https://cdn.pydata.org/bokeh/release/bokeh-tables-0.12.15.min.js\", \"https://cdn.pydata.org/bokeh/release/bokeh-gl-0.12.15.min.js\"];\n",
       "\n",
       "  var inline_js = [\n",
       "    function(Bokeh) {\n",
       "      Bokeh.set_log_level(\"info\");\n",
       "    },\n",
       "    \n",
       "    function(Bokeh) {\n",
       "      \n",
       "    },\n",
       "    function(Bokeh) {\n",
       "      console.log(\"Bokeh: injecting CSS: https://cdn.pydata.org/bokeh/release/bokeh-0.12.15.min.css\");\n",
       "      Bokeh.embed.inject_css(\"https://cdn.pydata.org/bokeh/release/bokeh-0.12.15.min.css\");\n",
       "      console.log(\"Bokeh: injecting CSS: https://cdn.pydata.org/bokeh/release/bokeh-widgets-0.12.15.min.css\");\n",
       "      Bokeh.embed.inject_css(\"https://cdn.pydata.org/bokeh/release/bokeh-widgets-0.12.15.min.css\");\n",
       "      console.log(\"Bokeh: injecting CSS: https://cdn.pydata.org/bokeh/release/bokeh-tables-0.12.15.min.css\");\n",
       "      Bokeh.embed.inject_css(\"https://cdn.pydata.org/bokeh/release/bokeh-tables-0.12.15.min.css\");\n",
       "    }\n",
       "  ];\n",
       "\n",
       "  function run_inline_js() {\n",
       "    \n",
       "    if ((root.Bokeh !== undefined) || (force === true)) {\n",
       "      for (var i = 0; i < inline_js.length; i++) {\n",
       "        inline_js[i].call(root, root.Bokeh);\n",
       "      }if (force === true) {\n",
       "        display_loaded();\n",
       "      }} else if (Date.now() < root._bokeh_timeout) {\n",
       "      setTimeout(run_inline_js, 100);\n",
       "    } else if (!root._bokeh_failed_load) {\n",
       "      console.log(\"Bokeh: BokehJS failed to load within specified timeout.\");\n",
       "      root._bokeh_failed_load = true;\n",
       "    } else if (force !== true) {\n",
       "      var cell = $(document.getElementById(\"5ca69dec-6c05-4b01-b948-bdacdebc822a\")).parents('.cell').data().cell;\n",
       "      cell.output_area.append_execute_result(NB_LOAD_WARNING)\n",
       "    }\n",
       "\n",
       "  }\n",
       "\n",
       "  if (root._bokeh_is_loading === 0) {\n",
       "    console.log(\"Bokeh: BokehJS loaded, going straight to plotting\");\n",
       "    run_inline_js();\n",
       "  } else {\n",
       "    load_libs(js_urls, function() {\n",
       "      console.log(\"Bokeh: BokehJS plotting callback run at\", now());\n",
       "      run_inline_js();\n",
       "    });\n",
       "  }\n",
       "}(window));"
      ],
      "application/vnd.bokehjs_load.v0+json": "\n(function(root) {\n  function now() {\n    return new Date();\n  }\n\n  var force = true;\n\n  if (typeof (root._bokeh_onload_callbacks) === \"undefined\" || force === true) {\n    root._bokeh_onload_callbacks = [];\n    root._bokeh_is_loading = undefined;\n  }\n\n  \n\n  \n  if (typeof (root._bokeh_timeout) === \"undefined\" || force === true) {\n    root._bokeh_timeout = Date.now() + 5000;\n    root._bokeh_failed_load = false;\n  }\n\n  var NB_LOAD_WARNING = {'data': {'text/html':\n     \"<div style='background-color: #fdd'>\\n\"+\n     \"<p>\\n\"+\n     \"BokehJS does not appear to have successfully loaded. If loading BokehJS from CDN, this \\n\"+\n     \"may be due to a slow or bad network connection. Possible fixes:\\n\"+\n     \"</p>\\n\"+\n     \"<ul>\\n\"+\n     \"<li>re-rerun `output_notebook()` to attempt to load from CDN again, or</li>\\n\"+\n     \"<li>use INLINE resources instead, as so:</li>\\n\"+\n     \"</ul>\\n\"+\n     \"<code>\\n\"+\n     \"from bokeh.resources import INLINE\\n\"+\n     \"output_notebook(resources=INLINE)\\n\"+\n     \"</code>\\n\"+\n     \"</div>\"}};\n\n  function display_loaded() {\n    var el = document.getElementById(\"5ca69dec-6c05-4b01-b948-bdacdebc822a\");\n    if (el != null) {\n      el.textContent = \"BokehJS is loading...\";\n    }\n    if (root.Bokeh !== undefined) {\n      if (el != null) {\n        el.textContent = \"BokehJS \" + root.Bokeh.version + \" successfully loaded.\";\n      }\n    } else if (Date.now() < root._bokeh_timeout) {\n      setTimeout(display_loaded, 100)\n    }\n  }\n\n\n  function run_callbacks() {\n    try {\n      root._bokeh_onload_callbacks.forEach(function(callback) { callback() });\n    }\n    finally {\n      delete root._bokeh_onload_callbacks\n    }\n    console.info(\"Bokeh: all callbacks have finished\");\n  }\n\n  function load_libs(js_urls, callback) {\n    root._bokeh_onload_callbacks.push(callback);\n    if (root._bokeh_is_loading > 0) {\n      console.log(\"Bokeh: BokehJS is being loaded, scheduling callback at\", now());\n      return null;\n    }\n    if (js_urls == null || js_urls.length === 0) {\n      run_callbacks();\n      return null;\n    }\n    console.log(\"Bokeh: BokehJS not loaded, scheduling load and callback at\", now());\n    root._bokeh_is_loading = js_urls.length;\n    for (var i = 0; i < js_urls.length; i++) {\n      var url = js_urls[i];\n      var s = document.createElement('script');\n      s.src = url;\n      s.async = false;\n      s.onreadystatechange = s.onload = function() {\n        root._bokeh_is_loading--;\n        if (root._bokeh_is_loading === 0) {\n          console.log(\"Bokeh: all BokehJS libraries loaded\");\n          run_callbacks()\n        }\n      };\n      s.onerror = function() {\n        console.warn(\"failed to load library \" + url);\n      };\n      console.log(\"Bokeh: injecting script tag for BokehJS library: \", url);\n      document.getElementsByTagName(\"head\")[0].appendChild(s);\n    }\n  };var element = document.getElementById(\"5ca69dec-6c05-4b01-b948-bdacdebc822a\");\n  if (element == null) {\n    console.log(\"Bokeh: ERROR: autoload.js configured with elementid '5ca69dec-6c05-4b01-b948-bdacdebc822a' but no matching script tag was found. \")\n    return false;\n  }\n\n  var js_urls = [\"https://cdn.pydata.org/bokeh/release/bokeh-0.12.15.min.js\", \"https://cdn.pydata.org/bokeh/release/bokeh-widgets-0.12.15.min.js\", \"https://cdn.pydata.org/bokeh/release/bokeh-tables-0.12.15.min.js\", \"https://cdn.pydata.org/bokeh/release/bokeh-gl-0.12.15.min.js\"];\n\n  var inline_js = [\n    function(Bokeh) {\n      Bokeh.set_log_level(\"info\");\n    },\n    \n    function(Bokeh) {\n      \n    },\n    function(Bokeh) {\n      console.log(\"Bokeh: injecting CSS: https://cdn.pydata.org/bokeh/release/bokeh-0.12.15.min.css\");\n      Bokeh.embed.inject_css(\"https://cdn.pydata.org/bokeh/release/bokeh-0.12.15.min.css\");\n      console.log(\"Bokeh: injecting CSS: https://cdn.pydata.org/bokeh/release/bokeh-widgets-0.12.15.min.css\");\n      Bokeh.embed.inject_css(\"https://cdn.pydata.org/bokeh/release/bokeh-widgets-0.12.15.min.css\");\n      console.log(\"Bokeh: injecting CSS: https://cdn.pydata.org/bokeh/release/bokeh-tables-0.12.15.min.css\");\n      Bokeh.embed.inject_css(\"https://cdn.pydata.org/bokeh/release/bokeh-tables-0.12.15.min.css\");\n    }\n  ];\n\n  function run_inline_js() {\n    \n    if ((root.Bokeh !== undefined) || (force === true)) {\n      for (var i = 0; i < inline_js.length; i++) {\n        inline_js[i].call(root, root.Bokeh);\n      }if (force === true) {\n        display_loaded();\n      }} else if (Date.now() < root._bokeh_timeout) {\n      setTimeout(run_inline_js, 100);\n    } else if (!root._bokeh_failed_load) {\n      console.log(\"Bokeh: BokehJS failed to load within specified timeout.\");\n      root._bokeh_failed_load = true;\n    } else if (force !== true) {\n      var cell = $(document.getElementById(\"5ca69dec-6c05-4b01-b948-bdacdebc822a\")).parents('.cell').data().cell;\n      cell.output_area.append_execute_result(NB_LOAD_WARNING)\n    }\n\n  }\n\n  if (root._bokeh_is_loading === 0) {\n    console.log(\"Bokeh: BokehJS loaded, going straight to plotting\");\n    run_inline_js();\n  } else {\n    load_libs(js_urls, function() {\n      console.log(\"Bokeh: BokehJS plotting callback run at\", now());\n      run_inline_js();\n    });\n  }\n}(window));"
     },
     "metadata": {},
     "output_type": "display_data"
    }
   ],
   "source": [
    "\n",
    "output_notebook()\n"
   ]
  },
  {
   "cell_type": "code",
   "execution_count": 4,
   "metadata": {},
   "outputs": [],
   "source": [
    "g = RandGraph(graph_type='simple')"
   ]
  },
  {
   "cell_type": "code",
   "execution_count": 89,
   "metadata": {},
   "outputs": [],
   "source": [
    "plot = figure(title=\"Simple graph\",\n",
    "             tools=\"\",\n",
    "              x_range=(-1,1.5),\n",
    "              y_range=(-.4,.4),\n",
    "             toolbar_location=None)"
   ]
  },
  {
   "cell_type": "code",
   "execution_count": 5,
   "metadata": {},
   "outputs": [],
   "source": [
    "graph = from_networkx(g.graph, nx.kamada_kawai_layout,\n",
    "                     scale=2)"
   ]
  },
  {
   "cell_type": "code",
   "execution_count": 7,
   "metadata": {},
   "outputs": [],
   "source": [
    "p = figure()"
   ]
  },
  {
   "cell_type": "code",
   "execution_count": 8,
   "metadata": {},
   "outputs": [
    {
     "ename": "TypeError",
     "evalue": "graph() missing 2 required positional arguments: 'edge_source' and 'layout_provider'",
     "output_type": "error",
     "traceback": [
      "\u001b[0;31m---------------------------------------------------------------------------\u001b[0m",
      "\u001b[0;31mTypeError\u001b[0m                                 Traceback (most recent call last)",
      "\u001b[0;32m<ipython-input-8-86024fe14e2e>\u001b[0m in \u001b[0;36m<module>\u001b[0;34m()\u001b[0m\n\u001b[0;32m----> 1\u001b[0;31m \u001b[0mp\u001b[0m\u001b[0;34m.\u001b[0m\u001b[0mgraph\u001b[0m\u001b[0;34m(\u001b[0m\u001b[0mgraph\u001b[0m\u001b[0;34m)\u001b[0m\u001b[0;34m\u001b[0m\u001b[0m\n\u001b[0m",
      "\u001b[0;31mTypeError\u001b[0m: graph() missing 2 required positional arguments: 'edge_source' and 'layout_provider'"
     ]
    }
   ],
   "source": [
    "p.graph(graph)"
   ]
  },
  {
   "cell_type": "code",
   "execution_count": 91,
   "metadata": {},
   "outputs": [],
   "source": [
    "df = pd.DataFrame.from_dict({k:v for k,v in g.graph.nodes(data=True)},\n",
    "                           orient='index')\n"
   ]
  },
  {
   "cell_type": "code",
   "execution_count": 92,
   "metadata": {},
   "outputs": [],
   "source": [
    "df.capacity = 10 + df.capacity"
   ]
  },
  {
   "cell_type": "code",
   "execution_count": 93,
   "metadata": {},
   "outputs": [
    {
     "data": {
      "text/html": [
       "<div>\n",
       "<style scoped>\n",
       "    .dataframe tbody tr th:only-of-type {\n",
       "        vertical-align: middle;\n",
       "    }\n",
       "\n",
       "    .dataframe tbody tr th {\n",
       "        vertical-align: top;\n",
       "    }\n",
       "\n",
       "    .dataframe thead th {\n",
       "        text-align: right;\n",
       "    }\n",
       "</style>\n",
       "<table border=\"1\" class=\"dataframe\">\n",
       "  <thead>\n",
       "    <tr style=\"text-align: right;\">\n",
       "      <th></th>\n",
       "      <th>actors</th>\n",
       "      <th>capacity</th>\n",
       "    </tr>\n",
       "  </thead>\n",
       "  <tbody>\n",
       "    <tr>\n",
       "      <th>1</th>\n",
       "      <td>None</td>\n",
       "      <td>NaN</td>\n",
       "    </tr>\n",
       "    <tr>\n",
       "      <th>2</th>\n",
       "      <td>None</td>\n",
       "      <td>NaN</td>\n",
       "    </tr>\n",
       "    <tr>\n",
       "      <th>3</th>\n",
       "      <td>None</td>\n",
       "      <td>17.0</td>\n",
       "    </tr>\n",
       "    <tr>\n",
       "      <th>4</th>\n",
       "      <td>None</td>\n",
       "      <td>16.0</td>\n",
       "    </tr>\n",
       "    <tr>\n",
       "      <th>5</th>\n",
       "      <td>None</td>\n",
       "      <td>12.0</td>\n",
       "    </tr>\n",
       "    <tr>\n",
       "      <th>6</th>\n",
       "      <td>None</td>\n",
       "      <td>12.0</td>\n",
       "    </tr>\n",
       "    <tr>\n",
       "      <th>7</th>\n",
       "      <td>None</td>\n",
       "      <td>NaN</td>\n",
       "    </tr>\n",
       "  </tbody>\n",
       "</table>\n",
       "</div>"
      ],
      "text/plain": [
       "  actors  capacity\n",
       "1   None       NaN\n",
       "2   None       NaN\n",
       "3   None      17.0\n",
       "4   None      16.0\n",
       "5   None      12.0\n",
       "6   None      12.0\n",
       "7   None       NaN"
      ]
     },
     "execution_count": 93,
     "metadata": {},
     "output_type": "execute_result"
    }
   ],
   "source": [
    "df"
   ]
  },
  {
   "cell_type": "code",
   "execution_count": 124,
   "metadata": {},
   "outputs": [
    {
     "data": {
      "text/plain": [
       "[0, 0, 0, 0, 0, 0, 0]"
      ]
     },
     "execution_count": 124,
     "metadata": {},
     "output_type": "execute_result"
    }
   ],
   "source": [
    "l = []\n",
    "for k,v in g.graph.nodes(data=True):\n",
    "    if v['actors']:\n",
    "        l.append(len(v['actors']))\n",
    "    else:\n",
    "        l.append(0)\n",
    "l"
   ]
  },
  {
   "cell_type": "code",
   "execution_count": 125,
   "metadata": {},
   "outputs": [],
   "source": [
    "df['color'] = l"
   ]
  },
  {
   "cell_type": "code",
   "execution_count": 134,
   "metadata": {},
   "outputs": [
    {
     "data": {
      "text/html": [
       "<div>\n",
       "<style scoped>\n",
       "    .dataframe tbody tr th:only-of-type {\n",
       "        vertical-align: middle;\n",
       "    }\n",
       "\n",
       "    .dataframe tbody tr th {\n",
       "        vertical-align: top;\n",
       "    }\n",
       "\n",
       "    .dataframe thead th {\n",
       "        text-align: right;\n",
       "    }\n",
       "</style>\n",
       "<table border=\"1\" class=\"dataframe\">\n",
       "  <thead>\n",
       "    <tr style=\"text-align: right;\">\n",
       "      <th></th>\n",
       "      <th>actors</th>\n",
       "      <th>capacity</th>\n",
       "      <th>color</th>\n",
       "    </tr>\n",
       "  </thead>\n",
       "  <tbody>\n",
       "    <tr>\n",
       "      <th>1</th>\n",
       "      <td>None</td>\n",
       "      <td>NaN</td>\n",
       "      <td>0</td>\n",
       "    </tr>\n",
       "    <tr>\n",
       "      <th>2</th>\n",
       "      <td>None</td>\n",
       "      <td>NaN</td>\n",
       "      <td>0</td>\n",
       "    </tr>\n",
       "    <tr>\n",
       "      <th>3</th>\n",
       "      <td>None</td>\n",
       "      <td>17.0</td>\n",
       "      <td>0</td>\n",
       "    </tr>\n",
       "    <tr>\n",
       "      <th>4</th>\n",
       "      <td>None</td>\n",
       "      <td>16.0</td>\n",
       "      <td>0</td>\n",
       "    </tr>\n",
       "    <tr>\n",
       "      <th>5</th>\n",
       "      <td>None</td>\n",
       "      <td>12.0</td>\n",
       "      <td>0</td>\n",
       "    </tr>\n",
       "    <tr>\n",
       "      <th>6</th>\n",
       "      <td>None</td>\n",
       "      <td>12.0</td>\n",
       "      <td>0</td>\n",
       "    </tr>\n",
       "    <tr>\n",
       "      <th>7</th>\n",
       "      <td>None</td>\n",
       "      <td>NaN</td>\n",
       "      <td>0</td>\n",
       "    </tr>\n",
       "  </tbody>\n",
       "</table>\n",
       "</div>"
      ],
      "text/plain": [
       "  actors  capacity  color\n",
       "1   None       NaN      0\n",
       "2   None       NaN      0\n",
       "3   None      17.0      0\n",
       "4   None      16.0      0\n",
       "5   None      12.0      0\n",
       "6   None      12.0      0\n",
       "7   None       NaN      0"
      ]
     },
     "execution_count": 134,
     "metadata": {},
     "output_type": "execute_result"
    }
   ],
   "source": [
    "df"
   ]
  },
  {
   "cell_type": "code",
   "execution_count": 126,
   "metadata": {},
   "outputs": [],
   "source": [
    "source = ColumnDataSource(df)"
   ]
  },
  {
   "cell_type": "code",
   "execution_count": 127,
   "metadata": {},
   "outputs": [],
   "source": [
    "graph.node_renderer.data_source = source"
   ]
  },
  {
   "cell_type": "code",
   "execution_count": 128,
   "metadata": {},
   "outputs": [],
   "source": [
    "# Map cubehelix_palette\n",
    "palette = sns.cubehelix_palette(10)\n",
    "pal_hex_lst = palette.as_hex()"
   ]
  },
  {
   "cell_type": "code",
   "execution_count": 129,
   "metadata": {},
   "outputs": [],
   "source": [
    "mapper = LinearColorMapper(palette=pal_hex_lst, low=0, high=21)"
   ]
  },
  {
   "cell_type": "code",
   "execution_count": 135,
   "metadata": {},
   "outputs": [],
   "source": [
    "graph.edge_renderer.glyph = MultiLine(line_color=\"#CCCCCC\", \n",
    "                                      line_width=3)\n",
    "graph.node_renderer.glyph = Circle(size='capacity',\n",
    "                                   fill_color={'field':'color',\n",
    "                                              'transform': mapper})"
   ]
  },
  {
   "cell_type": "code",
   "execution_count": 136,
   "metadata": {},
   "outputs": [],
   "source": [
    "plot.renderers.append(graph)"
   ]
  },
  {
   "cell_type": "code",
   "execution_count": 137,
   "metadata": {},
   "outputs": [],
   "source": [
    "plot.xgrid.visible =False\n",
    "plot.ygrid.visible = False\n",
    "plot.axis.visible = False"
   ]
  },
  {
   "cell_type": "code",
   "execution_count": 138,
   "metadata": {},
   "outputs": [
    {
     "name": "stderr",
     "output_type": "stream",
     "text": [
      "ERROR:bokeh.core.validation.check:E-1010 (CDSVIEW_SOURCE_DOESNT_MATCH): CDSView used by Glyph renderer must have a source that matches the Glyph renderer's data source: GlyphRenderer(id='24b31b0a-f000-4162-990c-2f7cb20bbab9', ...)\n"
     ]
    },
    {
     "data": {
      "text/html": [
       "\n",
       "<div class=\"bk-root\">\n",
       "    <div class=\"bk-plotdiv\" id=\"fd01bb06-7890-4634-b8ef-d0a9fe745515\"></div>\n",
       "</div>"
      ]
     },
     "metadata": {},
     "output_type": "display_data"
    },
    {
     "data": {
      "application/javascript": [
       "(function(root) {\n",
       "  function embed_document(root) {\n",
       "    \n",
       "  var docs_json = {\"1fdad78c-e396-40f9-b43f-fd32071f9f00\":{\"roots\":{\"references\":[{\"attributes\":{},\"id\":\"cfdc1c26-5dd3-4fc1-be6a-a497554922e8\",\"type\":\"BasicTicker\"},{\"attributes\":{},\"id\":\"b7acf704-68a7-459c-94ab-69206c5fe8ea\",\"type\":\"LinearScale\"},{\"attributes\":{\"data_source\":{\"id\":\"39814380-2ecd-4009-a25d-f8da2edcade5\",\"type\":\"ColumnDataSource\"},\"glyph\":{\"id\":\"c5bbfa7d-b3a3-49c7-8e9a-a580d7382fe8\",\"type\":\"Circle\"},\"hover_glyph\":null,\"muted_glyph\":null,\"view\":{\"id\":\"099dc462-80bb-4c69-bbcc-6c0ea6685af5\",\"type\":\"CDSView\"}},\"id\":\"24b31b0a-f000-4162-990c-2f7cb20bbab9\",\"type\":\"GlyphRenderer\"},{\"attributes\":{\"formatter\":{\"id\":\"877f4395-cafb-47f5-8f68-2d26ef96cc46\",\"type\":\"BasicTickFormatter\"},\"plot\":{\"id\":\"aec5b9f7-38cb-4cc2-b97d-ae7d81d6bf77\",\"subtype\":\"Figure\",\"type\":\"Plot\"},\"ticker\":{\"id\":\"ee1f9f47-c3d7-44a5-b7a2-e3e453865f31\",\"type\":\"BasicTicker\"},\"visible\":false},\"id\":\"30a40594-3175-4384-9fd2-f20e196f87f6\",\"type\":\"LinearAxis\"},{\"attributes\":{\"below\":[{\"id\":\"65585938-a761-4acd-af8f-70938919d767\",\"type\":\"LinearAxis\"}],\"left\":[{\"id\":\"30a40594-3175-4384-9fd2-f20e196f87f6\",\"type\":\"LinearAxis\"}],\"renderers\":[{\"id\":\"65585938-a761-4acd-af8f-70938919d767\",\"type\":\"LinearAxis\"},{\"id\":\"ecdef6e1-b6f6-4cf6-9336-bb23be602820\",\"type\":\"Grid\"},{\"id\":\"30a40594-3175-4384-9fd2-f20e196f87f6\",\"type\":\"LinearAxis\"},{\"id\":\"952a6879-d958-49ba-a264-36cdd7e889d7\",\"type\":\"Grid\"},{\"id\":\"5431f8db-fb01-4853-97c7-4d4245ad3f14\",\"type\":\"GraphRenderer\"},{\"id\":\"5431f8db-fb01-4853-97c7-4d4245ad3f14\",\"type\":\"GraphRenderer\"},{\"id\":\"5431f8db-fb01-4853-97c7-4d4245ad3f14\",\"type\":\"GraphRenderer\"},{\"id\":\"5431f8db-fb01-4853-97c7-4d4245ad3f14\",\"type\":\"GraphRenderer\"},{\"id\":\"5431f8db-fb01-4853-97c7-4d4245ad3f14\",\"type\":\"GraphRenderer\"}],\"title\":{\"id\":\"736523bb-ab76-4dc2-b0e2-d7436e928896\",\"type\":\"Title\"},\"toolbar\":{\"id\":\"6f0ae05c-941c-4ed9-838b-2f9fed0a3017\",\"type\":\"Toolbar\"},\"toolbar_location\":null,\"x_range\":{\"id\":\"c0f72e53-a526-46a2-92ea-6d1fb4d7fed3\",\"type\":\"Range1d\"},\"x_scale\":{\"id\":\"b7acf704-68a7-459c-94ab-69206c5fe8ea\",\"type\":\"LinearScale\"},\"y_range\":{\"id\":\"13b7c0a8-1a42-4dc6-9cf8-b331b4677a69\",\"type\":\"Range1d\"},\"y_scale\":{\"id\":\"51c43fed-9f3e-4f24-9acc-4db640621b30\",\"type\":\"LinearScale\"}},\"id\":\"aec5b9f7-38cb-4cc2-b97d-ae7d81d6bf77\",\"subtype\":\"Figure\",\"type\":\"Plot\"},{\"attributes\":{},\"id\":\"9ce4bc5f-54b6-4aa7-91b6-b025430fb162\",\"type\":\"NodesOnly\"},{\"attributes\":{},\"id\":\"ee1f9f47-c3d7-44a5-b7a2-e3e453865f31\",\"type\":\"BasicTicker\"},{\"attributes\":{\"formatter\":{\"id\":\"31c7bec4-7296-4740-91ef-2666a652504e\",\"type\":\"BasicTickFormatter\"},\"plot\":{\"id\":\"aec5b9f7-38cb-4cc2-b97d-ae7d81d6bf77\",\"subtype\":\"Figure\",\"type\":\"Plot\"},\"ticker\":{\"id\":\"cfdc1c26-5dd3-4fc1-be6a-a497554922e8\",\"type\":\"BasicTicker\"},\"visible\":false},\"id\":\"65585938-a761-4acd-af8f-70938919d767\",\"type\":\"LinearAxis\"},{\"attributes\":{},\"id\":\"877f4395-cafb-47f5-8f68-2d26ef96cc46\",\"type\":\"BasicTickFormatter\"},{\"attributes\":{},\"id\":\"be78f246-b1c2-491a-bf0d-898e54b2dd35\",\"type\":\"NodesOnly\"},{\"attributes\":{\"graph_layout\":{\"1\":[-1.2868123412676953,0.2776489543821986],\"2\":[-1.307355956156182,0.15999588191810105],\"3\":[-0.459600929081527,0.14552746944256634],\"4\":[-0.47824950349983736,0.041659686613562744],\"5\":[0.3537515607821755,-0.05533940712911415],\"6\":[1.1782671692230664,-0.20384979614602358],\"7\":[2.0,-0.3656427890812909]}},\"id\":\"b52ca38b-f0eb-4934-9567-ad290b1013bf\",\"type\":\"StaticLayoutProvider\"},{\"attributes\":{\"callback\":null,\"column_names\":[\"actors\",\"capacity\",\"color\",\"index\"],\"data\":{\"actors\":[\"NaN\",\"NaN\",\"NaN\",\"NaN\",\"NaN\",\"NaN\",\"NaN\"],\"capacity\":{\"__ndarray__\":\"AAAAAAAA+H8AAAAAAAD4fwAAAAAAADFAAAAAAAAAMEAAAAAAAAAoQAAAAAAAAChAAAAAAAAA+H8=\",\"dtype\":\"float64\",\"shape\":[7]},\"color\":[0,0,0,0,0,0,0],\"index\":[1,2,3,4,5,6,7]},\"selected\":null,\"selection_policy\":null},\"id\":\"39814380-2ecd-4009-a25d-f8da2edcade5\",\"type\":\"ColumnDataSource\"},{\"attributes\":{},\"id\":\"51c43fed-9f3e-4f24-9acc-4db640621b30\",\"type\":\"LinearScale\"},{\"attributes\":{\"callback\":null,\"column_names\":[\"start\",\"end\"],\"data\":{\"end\":[3,4,5,5,6,7],\"start\":[1,2,3,4,5,6]},\"selected\":null,\"selection_policy\":null},\"id\":\"6b743ed8-bb68-40fe-a01c-d48b8aa6456a\",\"type\":\"ColumnDataSource\"},{\"attributes\":{\"active_drag\":\"auto\",\"active_inspect\":\"auto\",\"active_scroll\":\"auto\",\"active_tap\":\"auto\"},\"id\":\"6f0ae05c-941c-4ed9-838b-2f9fed0a3017\",\"type\":\"Toolbar\"},{\"attributes\":{\"data_source\":{\"id\":\"6b743ed8-bb68-40fe-a01c-d48b8aa6456a\",\"type\":\"ColumnDataSource\"},\"glyph\":{\"id\":\"fe6a42c2-5d68-4a3b-aa76-44065cd8bf2c\",\"type\":\"MultiLine\"},\"hover_glyph\":null,\"muted_glyph\":null,\"view\":{\"id\":\"3f6062c5-baf2-4084-8729-a6023746aae3\",\"type\":\"CDSView\"}},\"id\":\"ed91091b-a882-4927-b195-c36155f84679\",\"type\":\"GlyphRenderer\"},{\"attributes\":{\"line_color\":{\"value\":\"#CCCCCC\"},\"line_width\":{\"value\":3}},\"id\":\"fe6a42c2-5d68-4a3b-aa76-44065cd8bf2c\",\"type\":\"MultiLine\"},{\"attributes\":{\"plot\":null,\"text\":\"Simple graph\"},\"id\":\"736523bb-ab76-4dc2-b0e2-d7436e928896\",\"type\":\"Title\"},{\"attributes\":{\"source\":{\"id\":\"6b743ed8-bb68-40fe-a01c-d48b8aa6456a\",\"type\":\"ColumnDataSource\"}},\"id\":\"3f6062c5-baf2-4084-8729-a6023746aae3\",\"type\":\"CDSView\"},{\"attributes\":{\"callback\":null,\"column_names\":[\"index\"],\"data\":{\"index\":[1,2,7,3,4,5,6]},\"selected\":null,\"selection_policy\":null},\"id\":\"5ddeca7b-ed2d-49c7-a3ce-c6e84118d129\",\"type\":\"ColumnDataSource\"},{\"attributes\":{},\"id\":\"31c7bec4-7296-4740-91ef-2666a652504e\",\"type\":\"BasicTickFormatter\"},{\"attributes\":{\"fill_color\":{\"field\":\"color\",\"transform\":{\"id\":\"a862aca8-42e0-429a-9b0e-bb84292314af\",\"type\":\"LinearColorMapper\"}},\"size\":{\"field\":\"capacity\",\"units\":\"screen\"}},\"id\":\"c5bbfa7d-b3a3-49c7-8e9a-a580d7382fe8\",\"type\":\"Circle\"},{\"attributes\":{\"source\":{\"id\":\"5ddeca7b-ed2d-49c7-a3ce-c6e84118d129\",\"type\":\"ColumnDataSource\"}},\"id\":\"099dc462-80bb-4c69-bbcc-6c0ea6685af5\",\"type\":\"CDSView\"},{\"attributes\":{\"dimension\":1,\"plot\":{\"id\":\"aec5b9f7-38cb-4cc2-b97d-ae7d81d6bf77\",\"subtype\":\"Figure\",\"type\":\"Plot\"},\"ticker\":{\"id\":\"ee1f9f47-c3d7-44a5-b7a2-e3e453865f31\",\"type\":\"BasicTicker\"},\"visible\":false},\"id\":\"952a6879-d958-49ba-a264-36cdd7e889d7\",\"type\":\"Grid\"},{\"attributes\":{\"callback\":null,\"end\":1.5,\"start\":-1},\"id\":\"c0f72e53-a526-46a2-92ea-6d1fb4d7fed3\",\"type\":\"Range1d\"},{\"attributes\":{\"high\":21,\"low\":0,\"palette\":[\"#edd1cb\",\"#e4b8b8\",\"#d89faa\",\"#c8879e\",\"#b47194\",\"#9e5e8a\",\"#834c7d\",\"#673c6d\",\"#492d58\",\"#2d1e3e\"]},\"id\":\"a862aca8-42e0-429a-9b0e-bb84292314af\",\"type\":\"LinearColorMapper\"},{\"attributes\":{\"plot\":{\"id\":\"aec5b9f7-38cb-4cc2-b97d-ae7d81d6bf77\",\"subtype\":\"Figure\",\"type\":\"Plot\"},\"ticker\":{\"id\":\"cfdc1c26-5dd3-4fc1-be6a-a497554922e8\",\"type\":\"BasicTicker\"},\"visible\":false},\"id\":\"ecdef6e1-b6f6-4cf6-9336-bb23be602820\",\"type\":\"Grid\"},{\"attributes\":{\"callback\":null,\"end\":0.4,\"start\":-0.4},\"id\":\"13b7c0a8-1a42-4dc6-9cf8-b331b4677a69\",\"type\":\"Range1d\"},{\"attributes\":{\"edge_renderer\":{\"id\":\"ed91091b-a882-4927-b195-c36155f84679\",\"type\":\"GlyphRenderer\"},\"inspection_policy\":{\"id\":\"be78f246-b1c2-491a-bf0d-898e54b2dd35\",\"type\":\"NodesOnly\"},\"layout_provider\":{\"id\":\"b52ca38b-f0eb-4934-9567-ad290b1013bf\",\"type\":\"StaticLayoutProvider\"},\"node_renderer\":{\"id\":\"24b31b0a-f000-4162-990c-2f7cb20bbab9\",\"type\":\"GlyphRenderer\"},\"selection_policy\":{\"id\":\"9ce4bc5f-54b6-4aa7-91b6-b025430fb162\",\"type\":\"NodesOnly\"}},\"id\":\"5431f8db-fb01-4853-97c7-4d4245ad3f14\",\"type\":\"GraphRenderer\"}],\"root_ids\":[\"aec5b9f7-38cb-4cc2-b97d-ae7d81d6bf77\"]},\"title\":\"Bokeh Application\",\"version\":\"0.12.15\"}};\n",
       "  var render_items = [{\"docid\":\"1fdad78c-e396-40f9-b43f-fd32071f9f00\",\"elementid\":\"fd01bb06-7890-4634-b8ef-d0a9fe745515\",\"modelid\":\"aec5b9f7-38cb-4cc2-b97d-ae7d81d6bf77\"}];\n",
       "  root.Bokeh.embed.embed_items_notebook(docs_json, render_items);\n",
       "\n",
       "  }\n",
       "  if (root.Bokeh !== undefined) {\n",
       "    embed_document(root);\n",
       "  } else {\n",
       "    var attempts = 0;\n",
       "    var timer = setInterval(function(root) {\n",
       "      if (root.Bokeh !== undefined) {\n",
       "        embed_document(root);\n",
       "        clearInterval(timer);\n",
       "      }\n",
       "      attempts++;\n",
       "      if (attempts > 100) {\n",
       "        console.log(\"Bokeh: ERROR: Unable to run BokehJS code because BokehJS library is missing\")\n",
       "        clearInterval(timer);\n",
       "      }\n",
       "    }, 10, root)\n",
       "  }\n",
       "})(window);"
      ],
      "application/vnd.bokehjs_exec.v0+json": ""
     },
     "metadata": {
      "application/vnd.bokehjs_exec.v0+json": {
       "id": "aec5b9f7-38cb-4cc2-b97d-ae7d81d6bf77"
      }
     },
     "output_type": "display_data"
    }
   ],
   "source": [
    "show(plot)"
   ]
  },
  {
   "cell_type": "code",
   "execution_count": 172,
   "metadata": {},
   "outputs": [
    {
     "data": {
      "text/plain": [
       "[1, 2, 7, 3, 4, 5, 6]"
      ]
     },
     "execution_count": 172,
     "metadata": {},
     "output_type": "execute_result"
    }
   ],
   "source": [
    "list(g.graph.nodes())"
   ]
  },
  {
   "cell_type": "code",
   "execution_count": 169,
   "metadata": {},
   "outputs": [
    {
     "data": {
      "text/plain": [
       "[{'actors': None},\n",
       " {'actors': [b'0e7e1a26']},\n",
       " {'actors': None},\n",
       " {'capacity': 7, 'actors': None},\n",
       " {'capacity': 6, 'actors': [b'0e7e1a26']},\n",
       " {'capacity': 2, 'actors': None},\n",
       " {'capacity': 2, 'actors': None}]"
      ]
     },
     "execution_count": 169,
     "metadata": {},
     "output_type": "execute_result"
    }
   ],
   "source": [
    "[v for k,v in g.graph.nodes(data=True)]"
   ]
  },
  {
   "cell_type": "code",
   "execution_count": 176,
   "metadata": {},
   "outputs": [
    {
     "data": {
      "text/plain": [
       "[nan, nan, 17.0, 16.0, 12.0, 12.0, nan]"
      ]
     },
     "execution_count": 176,
     "metadata": {},
     "output_type": "execute_result"
    }
   ],
   "source": [
    "list(df.capacity)"
   ]
  },
  {
   "cell_type": "code",
   "execution_count": 140,
   "metadata": {},
   "outputs": [],
   "source": [
    "for step in range(100):\n",
    "    g.action()\n",
    "\n",
    "\n",
    "    plot = figure(title=\"Simple graph\",\n",
    "                 tools=\"\",\n",
    "                  x_range=(-1,1.5),\n",
    "                  y_range=(-.4,.4),\n",
    "                 toolbar_location=None)\n",
    "    graph = from_networkx(g.graph, nx.kamada_kawai_layout,\n",
    "                         scale=2)\n",
    "\n",
    "    # size and colors\n",
    "    df = pd.DataFrame.from_dict({k:v for k,v in g.graph.nodes(data=True)},\n",
    "                               orient='index')\n",
    "    df.capacity = 10 + df.capacity\n",
    "    l = []\n",
    "    for k,v in g.graph.nodes(data=True):\n",
    "        if v['actors']:\n",
    "            l.append(len(v['actors']))\n",
    "        else:\n",
    "            l.append(0)\n",
    "    df['color'] = l\n",
    "\n",
    "    # data source\n",
    "    source = ColumnDataSource(df)\n",
    "    graph.node_renderer.data_source = source\n",
    "\n",
    "    # plot\n",
    "    graph.edge_renderer.glyph = MultiLine(line_color=\"#CCCCCC\", \n",
    "                                          line_width=3)\n",
    "    graph.node_renderer.glyph = Circle(size='capacity',\n",
    "                                       fill_color={'field':'color',\n",
    "                                                  'transform': mapper})\n",
    "\n",
    "    plot.renderers.append(graph)\n",
    "    plot.xgrid.visible =False\n",
    "    plot.ygrid.visible = False\n",
    "    plot.axis.visible = False\n",
    "    show(plot)"
   ]
  },
  {
   "cell_type": "code",
   "execution_count": 192,
   "metadata": {},
   "outputs": [],
   "source": [
    "def update():\n",
    "    g.action()\n",
    "    # size and colors\n",
    "    df = pd.DataFrame.from_dict({k:v for k,v in g.graph.nodes(data=True)},\n",
    "                               orient='index')\n",
    "    df.capacity = 10 + df.capacity\n",
    "    l = []\n",
    "    for k,v in g.graph.nodes(data=True):\n",
    "        if v['actors']:\n",
    "            l.append(len(v['actors']))\n",
    "        else:\n",
    "            l.append(0)\n",
    "    df['color'] = l\n",
    "    new = {'capacity': list(df.capacity),\n",
    "          'color': list(df.color),\n",
    "          'actors': list(df.actors),\n",
    "          'index': list(df.index)}\n",
    "    source.stream(new)"
   ]
  },
  {
   "cell_type": "code",
   "execution_count": 199,
   "metadata": {},
   "outputs": [],
   "source": [
    "def make_doc(doc):\n",
    "    g = RandGraph(graph_type='simple')\n",
    "    plot = figure(title=\"Simple graph\",\n",
    "             tools=\"\",\n",
    "              x_range=(-1,1.5),\n",
    "              y_range=(-.4,.4),\n",
    "             toolbar_location=None)\n",
    "    graph = from_networkx(g.graph, nx.kamada_kawai_layout,\n",
    "                         scale=2)\n",
    "    # data source\n",
    "    source = ColumnDataSource({'capacity': [],\n",
    "          'color': [],\n",
    "          'actors': []})\n",
    "    graph.node_renderer.data_source = source\n",
    "\n",
    "    def update():\n",
    "        g.action()\n",
    "        # size and colors\n",
    "        df = pd.DataFrame.from_dict({k:v for k,v in g.graph.nodes(data=True)},\n",
    "                                   orient='index')\n",
    "        df.capacity = 10 + df.capacity\n",
    "        l = []\n",
    "        for k,v in g.graph.nodes(data=True):\n",
    "            if v['actors']:\n",
    "                l.append(len(v['actors']))\n",
    "            else:\n",
    "                l.append(0)\n",
    "        df['color'] = l\n",
    "        new = {'capacity': list(df.capacity),\n",
    "              'color': list(df.color),\n",
    "              'actors': list(df.actors),\n",
    "              'index': list(df.index)}\n",
    "        source.stream(new)\n",
    "    \n",
    "    # plot\n",
    "    graph.edge_renderer.glyph = MultiLine(line_color=\"#CCCCCC\", \n",
    "                                          line_width=3)\n",
    "    graph.node_renderer.glyph = Circle(size='capacity',\n",
    "                                       fill_color={'field':'color',\n",
    "                                                  'transform': mapper})\n",
    "\n",
    "    plot.renderers.append(graph)\n",
    "    plot.xgrid.visible =False\n",
    "    plot.ygrid.visible = False\n",
    "    plot.axis.visible = False\n",
    "    \n",
    "    doc.title = 'hello world!'\n",
    "    doc.add_periodic_callback(update, 100)\n",
    "    doc.add_root(plot)"
   ]
  },
  {
   "cell_type": "code",
   "execution_count": 200,
   "metadata": {},
   "outputs": [],
   "source": [
    "apps = {'/': Application(FunctionHandler(make_doc))}"
   ]
  },
  {
   "cell_type": "code",
   "execution_count": 201,
   "metadata": {},
   "outputs": [],
   "source": [
    "server.stop()"
   ]
  },
  {
   "cell_type": "code",
   "execution_count": 202,
   "metadata": {},
   "outputs": [],
   "source": [
    "\n",
    "server = Server(apps, port=5000)\n",
    "server.start()"
   ]
  },
  {
   "cell_type": "code",
   "execution_count": 203,
   "metadata": {},
   "outputs": [],
   "source": [
    "from bokeh.io import curdoc\n",
    "from bokeh.layouts import column\n",
    "from bokeh.models.widgets import TextInput, Button, Paragraph\n",
    "\n",
    "# create some widgets\n",
    "button = Button(label=\"Say HI\")\n",
    "input = TextInput(value=\"Bokeh\")\n",
    "output = Paragraph()\n",
    "\n",
    "# add a callback to a widget\n",
    "def update():\n",
    "    output.text = \"Hello, \" + input.value\n",
    "button.on_click(update)\n",
    "\n",
    "# create a layout for everything\n",
    "layout = column(button, input, output)\n",
    "\n",
    "# add the layout to curdoc\n",
    "curdoc().add_root(layout)"
   ]
  },
  {
   "cell_type": "code",
   "execution_count": null,
   "metadata": {},
   "outputs": [],
   "source": []
  }
 ],
 "metadata": {
  "kernelspec": {
   "display_name": "Python 3",
   "language": "python",
   "name": "python3"
  },
  "language_info": {
   "codemirror_mode": {
    "name": "ipython",
    "version": 3
   },
   "file_extension": ".py",
   "mimetype": "text/x-python",
   "name": "python",
   "nbconvert_exporter": "python",
   "pygments_lexer": "ipython3",
   "version": "3.6.5"
  }
 },
 "nbformat": 4,
 "nbformat_minor": 2
}
