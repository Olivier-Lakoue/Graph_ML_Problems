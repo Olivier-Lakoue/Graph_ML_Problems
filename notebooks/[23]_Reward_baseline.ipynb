{
 "cells": [
  {
   "cell_type": "code",
   "execution_count": 1,
   "metadata": {},
   "outputs": [],
   "source": [
    "%load_ext autoreload\n",
    "%autoreload 2"
   ]
  },
  {
   "cell_type": "code",
   "execution_count": 2,
   "metadata": {},
   "outputs": [],
   "source": [
    "import networkx as nx\n",
    "import sys\n",
    "import random\n",
    "sys.path.append('../src/')\n",
    "from random_graph import RandGraph\n",
    "import pandas as pd\n",
    "import numpy as np\n",
    "import seaborn as sns\n",
    "import matplotlib.pyplot as plt\n",
    "import random"
   ]
  },
  {
   "cell_type": "code",
   "execution_count": 25,
   "metadata": {},
   "outputs": [
    {
     "data": {
      "image/png": "[encoded data removed]",
      "text/plain": [
       "<Figure size 432x288 with 1 Axes>"
      ]
     },
     "metadata": {},
     "output_type": "display_data"
    }
   ],
   "source": [
    "g = RandGraph(actors=1000, graph_type='simple')\n",
    "g.plot()"
   ]
  },
  {
   "cell_type": "markdown",
   "metadata": {},
   "source": [
    "## Manual switching of nodes"
   ]
  },
  {
   "cell_type": "code",
   "execution_count": 26,
   "metadata": {},
   "outputs": [],
   "source": [
    "seq_reward = []"
   ]
  },
  {
   "cell_type": "code",
   "execution_count": 27,
   "metadata": {},
   "outputs": [
    {
     "name": "stdout",
     "output_type": "stream",
     "text": [
      "state: [[0.28571429 0.         0.         0.        ]]\n",
      "reward: 0.00\n"
     ]
    },
    {
     "data": {
      "text/plain": [
       "NodeDataView({1: {'actors': [b'1e3d28b6', b'9dea83ca']}, 2: {'actors': None}, 7: {'actors': None}, 3: {'capacity': 7, 'actors': [b'1e3d28b6', b'9dea83ca']}, 4: {'capacity': 6, 'actors': None}, 5: {'capacity': 2, 'actors': None}, 6: {'capacity': 2, 'actors': None}})"
      ]
     },
     "execution_count": 27,
     "metadata": {},
     "output_type": "execute_result"
    }
   ],
   "source": [
    "blocked_nodes = []\n",
    "state, reward = g.action(blocked_nodes)\n",
    "print('state: %s' % state)\n",
    "print('reward: %.2f' % reward)\n",
    "g.graph.nodes(data=True)"
   ]
  },
  {
   "cell_type": "code",
   "execution_count": 28,
   "metadata": {},
   "outputs": [],
   "source": [
    "seq_reward.append(reward)"
   ]
  },
  {
   "cell_type": "code",
   "execution_count": 29,
   "metadata": {},
   "outputs": [
    {
     "name": "stdout",
     "output_type": "stream",
     "text": [
      "state: [[0.         0.16666667 1.         0.        ]]\n",
      "reward: 0.00\n"
     ]
    },
    {
     "data": {
      "text/plain": [
       "NodeDataView({1: {'actors': [b'1e3d28b6', b'9dea83ca', b'15dd9ccd']}, 2: {'actors': [b'5790d499']}, 7: {'actors': None}, 3: {'capacity': 7, 'actors': []}, 4: {'capacity': 6, 'actors': [b'5790d499']}, 5: {'capacity': 2, 'actors': [b'1e3d28b6', b'9dea83ca']}, 6: {'capacity': 2, 'actors': None}})"
      ]
     },
     "execution_count": 29,
     "metadata": {},
     "output_type": "execute_result"
    }
   ],
   "source": [
    "blocked_nodes = [3]\n",
    "state, reward = g.action(blocked_nodes)\n",
    "print('state: %s' % state)\n",
    "print('reward: %.2f' % reward)\n",
    "seq_reward.append(reward)\n",
    "\n",
    "g.graph.nodes(data=True)"
   ]
  },
  {
   "cell_type": "code",
   "execution_count": 30,
   "metadata": {},
   "outputs": [
    {
     "name": "stdout",
     "output_type": "stream",
     "text": [
      "state: [[0.28571429 0.         0.5        1.        ]]\n",
      "reward: 0.00\n"
     ]
    },
    {
     "data": {
      "text/plain": [
       "NodeDataView({1: {'actors': [b'1e3d28b6', b'9dea83ca', b'15dd9ccd', b'349a803c']}, 2: {'actors': [b'5790d499', b'15f9030b', b'ea729e23']}, 7: {'actors': None}, 3: {'capacity': 7, 'actors': [b'15dd9ccd', b'349a803c']}, 4: {'capacity': 6, 'actors': []}, 5: {'capacity': 2, 'actors': [b'5790d499']}, 6: {'capacity': 2, 'actors': [b'1e3d28b6', b'9dea83ca']}})"
      ]
     },
     "execution_count": 30,
     "metadata": {},
     "output_type": "execute_result"
    }
   ],
   "source": [
    "blocked_nodes = [4]\n",
    "state, reward = g.action(blocked_nodes)\n",
    "print('state: %s' % state)\n",
    "print('reward: %.2f' % reward)\n",
    "seq_reward.append(reward)\n",
    "\n",
    "g.graph.nodes(data=True)"
   ]
  },
  {
   "cell_type": "code",
   "execution_count": 31,
   "metadata": {},
   "outputs": [
    {
     "name": "stdout",
     "output_type": "stream",
     "text": [
      "state: [[0.  0.  1.  0.5]]\n",
      "reward: 1.25\n"
     ]
    },
    {
     "data": {
      "text/plain": [
       "NodeDataView({1: {'actors': [b'1e3d28b6', b'9dea83ca', b'15dd9ccd', b'349a803c']}, 2: {'actors': [b'5790d499', b'15f9030b', b'ea729e23', b'aa5d0e95', b'58a18ea0', b'426e7e33']}, 7: {'actors': [b'1e3d28b6', b'9dea83ca']}, 3: {'capacity': 7, 'actors': []}, 4: {'capacity': 6, 'actors': []}, 5: {'capacity': 2, 'actors': [b'15dd9ccd', b'349a803c']}, 6: {'capacity': 2, 'actors': [b'5790d499']}})"
      ]
     },
     "execution_count": 31,
     "metadata": {},
     "output_type": "execute_result"
    }
   ],
   "source": [
    "blocked_nodes = [3,4]\n",
    "state, reward = g.action(blocked_nodes)\n",
    "print('state: %s' % state)\n",
    "print('reward: %.2f' % reward)\n",
    "seq_reward.append(reward)\n",
    "\n",
    "g.graph.nodes(data=True)"
   ]
  },
  {
   "cell_type": "code",
   "execution_count": 32,
   "metadata": {},
   "outputs": [
    {
     "name": "stdout",
     "output_type": "stream",
     "text": [
      "state: [[0.42857143 1.         0.         1.        ]]\n",
      "reward: 0.39\n"
     ]
    },
    {
     "data": {
      "text/plain": [
       "NodeDataView({1: {'actors': [b'1e3d28b6', b'9dea83ca', b'15dd9ccd', b'349a803c', b'23c0f44e', b'b30aaf98', b'87172466']}, 2: {'actors': [b'5790d499', b'15f9030b', b'ea729e23', b'aa5d0e95', b'58a18ea0', b'426e7e33', b'99695516']}, 7: {'actors': [b'1e3d28b6', b'9dea83ca', b'5790d499']}, 3: {'capacity': 7, 'actors': [b'23c0f44e', b'b30aaf98', b'87172466']}, 4: {'capacity': 6, 'actors': [b'15f9030b', b'ea729e23', b'aa5d0e95', b'58a18ea0', b'426e7e33', b'99695516']}, 5: {'capacity': 2, 'actors': []}, 6: {'capacity': 2, 'actors': [b'15dd9ccd', b'349a803c']}})"
      ]
     },
     "execution_count": 32,
     "metadata": {},
     "output_type": "execute_result"
    }
   ],
   "source": [
    "blocked_nodes = []\n",
    "state, reward = g.action(blocked_nodes)\n",
    "print('state: %s' % state)\n",
    "print('reward: %.2f' % reward)\n",
    "seq_reward.append(reward)\n",
    "\n",
    "g.graph.nodes(data=True)"
   ]
  },
  {
   "cell_type": "code",
   "execution_count": 33,
   "metadata": {},
   "outputs": [
    {
     "name": "stdout",
     "output_type": "stream",
     "text": [
      "state: [[0.42857143 0.66666667 1.         0.        ]]\n",
      "reward: 0.95\n"
     ]
    },
    {
     "data": {
      "text/plain": [
       "NodeDataView({1: {'actors': [b'1e3d28b6', b'9dea83ca', b'15dd9ccd', b'349a803c', b'23c0f44e', b'b30aaf98', b'87172466', b'29b4060b', b'0d550339', b'32e661a7']}, 2: {'actors': [b'5790d499', b'15f9030b', b'ea729e23', b'aa5d0e95', b'58a18ea0', b'426e7e33', b'99695516', b'2a362efc']}, 7: {'actors': [b'1e3d28b6', b'9dea83ca', b'5790d499', b'15dd9ccd', b'349a803c']}, 3: {'capacity': 7, 'actors': [b'23c0f44e', b'b30aaf98', b'87172466']}, 4: {'capacity': 6, 'actors': [b'aa5d0e95', b'58a18ea0', b'426e7e33', b'99695516']}, 5: {'capacity': 2, 'actors': [b'15f9030b', b'ea729e23']}, 6: {'capacity': 2, 'actors': []}})"
      ]
     },
     "execution_count": 33,
     "metadata": {},
     "output_type": "execute_result"
    }
   ],
   "source": [
    "blocked_nodes = [3,4]\n",
    "state, reward = g.action(blocked_nodes)\n",
    "print('state: %s' % state)\n",
    "print('reward: %.2f' % reward)\n",
    "seq_reward.append(reward)\n",
    "\n",
    "g.graph.nodes(data=True)"
   ]
  },
  {
   "cell_type": "code",
   "execution_count": 34,
   "metadata": {},
   "outputs": [
    {
     "data": {
      "text/plain": [
       "[0.0, 0.0, 0.0, 1.25, 0.3928571428571428, 0.9523809523809526]"
      ]
     },
     "execution_count": 34,
     "metadata": {},
     "output_type": "execute_result"
    }
   ],
   "source": [
    "seq_reward"
   ]
  },
  {
   "cell_type": "code",
   "execution_count": 35,
   "metadata": {},
   "outputs": [
    {
     "name": "stdout",
     "output_type": "stream",
     "text": [
      "state: [[0.42857143 0.66666667 0.         1.        ]]\n",
      "reward: 0.00\n"
     ]
    },
    {
     "data": {
      "text/plain": [
       "NodeDataView({1: {'actors': [b'1e3d28b6', b'9dea83ca', b'15dd9ccd', b'349a803c', b'23c0f44e', b'b30aaf98', b'87172466', b'29b4060b', b'0d550339', b'32e661a7', b'6e1d5d9a', b'9295402a', b'ba8f6c67', b'0504d213']}, 2: {'actors': [b'5790d499', b'15f9030b', b'ea729e23', b'aa5d0e95', b'58a18ea0', b'426e7e33', b'99695516', b'2a362efc', b'79fac425']}, 7: {'actors': [b'1e3d28b6', b'9dea83ca', b'5790d499', b'15dd9ccd', b'349a803c']}, 3: {'capacity': 7, 'actors': [b'23c0f44e', b'b30aaf98', b'87172466']}, 4: {'capacity': 6, 'actors': [b'aa5d0e95', b'58a18ea0', b'426e7e33', b'99695516']}, 5: {'capacity': 2, 'actors': []}, 6: {'capacity': 2, 'actors': [b'15f9030b', b'ea729e23']}})"
      ]
     },
     "execution_count": 35,
     "metadata": {},
     "output_type": "execute_result"
    }
   ],
   "source": [
    "blocked_nodes = [3,4,5]\n",
    "state, reward = g.action(blocked_nodes)\n",
    "print('state: %s' % state)\n",
    "print('reward: %.2f' % reward)\n",
    "seq_reward.append(reward)\n",
    "\n",
    "g.graph.nodes(data=True)"
   ]
  },
  {
   "cell_type": "code",
   "execution_count": 36,
   "metadata": {},
   "outputs": [
    {
     "name": "stdout",
     "output_type": "stream",
     "text": [
      "state: [[0.42857143 0.33333333 1.         0.        ]]\n",
      "reward: 1.12\n"
     ]
    },
    {
     "data": {
      "text/plain": [
       "NodeDataView({1: {'actors': [b'1e3d28b6', b'9dea83ca', b'15dd9ccd', b'349a803c', b'23c0f44e', b'b30aaf98', b'87172466', b'29b4060b', b'0d550339', b'32e661a7', b'6e1d5d9a', b'9295402a', b'ba8f6c67', b'0504d213', b'f42f615b', b'0cc7427d', b'4050dcfc']}, 2: {'actors': [b'5790d499', b'15f9030b', b'ea729e23', b'aa5d0e95', b'58a18ea0', b'426e7e33', b'99695516', b'2a362efc', b'79fac425', b'19eecad3', b'22b864af']}, 7: {'actors': [b'1e3d28b6', b'9dea83ca', b'5790d499', b'15dd9ccd', b'349a803c', b'15f9030b', b'ea729e23']}, 3: {'capacity': 7, 'actors': [b'23c0f44e', b'b30aaf98', b'87172466']}, 4: {'capacity': 6, 'actors': [b'426e7e33', b'99695516']}, 5: {'capacity': 2, 'actors': [b'aa5d0e95', b'58a18ea0']}, 6: {'capacity': 2, 'actors': []}})"
      ]
     },
     "execution_count": 36,
     "metadata": {},
     "output_type": "execute_result"
    }
   ],
   "source": [
    "blocked_nodes = [3,4]\n",
    "state, reward = g.action(blocked_nodes)\n",
    "print('state: %s' % state)\n",
    "print('reward: %.2f' % reward)\n",
    "seq_reward.append(reward)\n",
    "\n",
    "g.graph.nodes(data=True)"
   ]
  },
  {
   "cell_type": "code",
   "execution_count": 37,
   "metadata": {},
   "outputs": [
    {
     "name": "stdout",
     "output_type": "stream",
     "text": [
      "state: [[1.         0.16666667 1.         1.        ]]\n",
      "reward: 0.00\n"
     ]
    },
    {
     "data": {
      "text/plain": [
       "NodeDataView({1: {'actors': [b'1e3d28b6', b'9dea83ca', b'15dd9ccd', b'349a803c', b'23c0f44e', b'b30aaf98', b'87172466', b'29b4060b', b'0d550339', b'32e661a7', b'6e1d5d9a', b'9295402a', b'ba8f6c67', b'0504d213', b'f42f615b', b'0cc7427d', b'4050dcfc', b'fb3bacc9', b'4ad083c1']}, 2: {'actors': [b'5790d499', b'15f9030b', b'ea729e23', b'aa5d0e95', b'58a18ea0', b'426e7e33', b'99695516', b'2a362efc', b'79fac425', b'19eecad3', b'22b864af', b'0644675f', b'65ee1233', b'53a3cdb0']}, 7: {'actors': [b'1e3d28b6', b'9dea83ca', b'5790d499', b'15dd9ccd', b'349a803c', b'15f9030b', b'ea729e23']}, 3: {'capacity': 7, 'actors': [b'b30aaf98', b'87172466', b'29b4060b', b'0d550339', b'32e661a7', b'6e1d5d9a', b'9295402a']}, 4: {'capacity': 6, 'actors': [b'99695516']}, 5: {'capacity': 2, 'actors': [b'426e7e33', b'23c0f44e']}, 6: {'capacity': 2, 'actors': [b'aa5d0e95', b'58a18ea0']}})"
      ]
     },
     "execution_count": 37,
     "metadata": {},
     "output_type": "execute_result"
    }
   ],
   "source": [
    "blocked_nodes = [4]\n",
    "state, reward = g.action(blocked_nodes)\n",
    "print('state: %s' % state)\n",
    "print('reward: %.2f' % reward)\n",
    "seq_reward.append(reward)\n",
    "\n",
    "g.graph.nodes(data=True)"
   ]
  },
  {
   "cell_type": "markdown",
   "metadata": {},
   "source": [
    "## No action"
   ]
  },
  {
   "cell_type": "code",
   "execution_count": 39,
   "metadata": {},
   "outputs": [],
   "source": [
    "no_action = []\n",
    "for i in range(len(seq_reward)):\n",
    "    state, reward = g.action()\n",
    "    no_action.append(reward)"
   ]
  },
  {
   "cell_type": "markdown",
   "metadata": {},
   "source": [
    "## Random action"
   ]
  },
  {
   "cell_type": "code",
   "execution_count": 43,
   "metadata": {},
   "outputs": [],
   "source": [
    "rdm_action = []\n",
    "for i in range(len(seq_reward)):\n",
    "    sample = random.sample(g.core_nodes, random.randint(0,len(g.core_nodes)))\n",
    "    state, reward = g.action(sample)\n",
    "    rdm_action.append(reward)"
   ]
  },
  {
   "cell_type": "code",
   "execution_count": 44,
   "metadata": {},
   "outputs": [
    {
     "data": {
      "image/png": "[encoded data removed]",
      "text/plain": [
       "<Figure size 432x288 with 1 Axes>"
      ]
     },
     "metadata": {},
     "output_type": "display_data"
    }
   ],
   "source": [
    "pd.DataFrame({'human': seq_reward, 'no_action': no_action, 'random': rdm_action}).plot()\n",
    "plt.show()"
   ]
  },
  {
   "cell_type": "code",
   "execution_count": 57,
   "metadata": {},
   "outputs": [],
   "source": [
    "df = pd.DataFrame({'mean_reward':[\n",
    "                      np.mean(seq_reward),\n",
    "                      np.mean(rdm_action),\n",
    "                      np.mean(no_action)\n",
    "                  ],\n",
    "                 'sum_reward':[\n",
    "                     np.sum(seq_reward),\n",
    "                     np.sum(rdm_action),\n",
    "                     np.sum(no_action)\n",
    "                 ]},\n",
    "index=['human','random','no_action'])"
   ]
  },
  {
   "cell_type": "code",
   "execution_count": 58,
   "metadata": {},
   "outputs": [
    {
     "data": {
      "text/html": [
       "<div>\n",
       "<style scoped>\n",
       "    .dataframe tbody tr th:only-of-type {\n",
       "        vertical-align: middle;\n",
       "    }\n",
       "\n",
       "    .dataframe tbody tr th {\n",
       "        vertical-align: top;\n",
       "    }\n",
       "\n",
       "    .dataframe thead th {\n",
       "        text-align: right;\n",
       "    }\n",
       "</style>\n",
       "<table border=\"1\" class=\"dataframe\">\n",
       "  <thead>\n",
       "    <tr style=\"text-align: right;\">\n",
       "      <th></th>\n",
       "      <th>mean_reward</th>\n",
       "      <th>sum_reward</th>\n",
       "    </tr>\n",
       "  </thead>\n",
       "  <tbody>\n",
       "    <tr>\n",
       "      <th>human</th>\n",
       "      <td>0.412698</td>\n",
       "      <td>3.714286</td>\n",
       "    </tr>\n",
       "    <tr>\n",
       "      <th>random</th>\n",
       "      <td>0.222222</td>\n",
       "      <td>2.000000</td>\n",
       "    </tr>\n",
       "    <tr>\n",
       "      <th>no_action</th>\n",
       "      <td>0.000000</td>\n",
       "      <td>0.000000</td>\n",
       "    </tr>\n",
       "  </tbody>\n",
       "</table>\n",
       "</div>"
      ],
      "text/plain": [
       "           mean_reward  sum_reward\n",
       "human         0.412698    3.714286\n",
       "random        0.222222    2.000000\n",
       "no_action     0.000000    0.000000"
      ]
     },
     "execution_count": 58,
     "metadata": {},
     "output_type": "execute_result"
    }
   ],
   "source": [
    "df"
   ]
  },
  {
   "cell_type": "markdown",
   "metadata": {},
   "source": [
    "The current reward function encourage to take actions. It can distinguish a human actions from random actions."
   ]
  },
  {
   "cell_type": "code",
   "execution_count": null,
   "metadata": {},
   "outputs": [],
   "source": []
  }
 ],
 "metadata": {
  "kernelspec": {
   "display_name": "Python 3",
   "language": "python",
   "name": "python3"
  },
  "language_info": {
   "codemirror_mode": {
    "name": "ipython",
    "version": 3
   },
   "file_extension": ".py",
   "mimetype": "text/x-python",
   "name": "python",
   "nbconvert_exporter": "python",
   "pygments_lexer": "ipython3",
   "version": "3.5.4"
  }
 },
 "nbformat": 4,
 "nbformat_minor": 2
}
