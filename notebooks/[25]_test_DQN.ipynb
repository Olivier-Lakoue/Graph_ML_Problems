{
 "cells": [
  {
   "cell_type": "code",
   "execution_count": 1,
   "metadata": {},
   "outputs": [],
   "source": [
    "% load_ext autoreload\n",
    "% autoreload 2"
   ]
  },
  {
   "cell_type": "code",
   "execution_count": 2,
   "metadata": {},
   "outputs": [],
   "source": [
    "import networkx as nx\n",
    "import sys\n",
    "import random\n",
    "sys.path.append('../src/')\n",
    "from random_graph import RandGraph\n",
    "import pandas as pd\n",
    "import numpy as np\n",
    "import seaborn as sns\n",
    "import matplotlib.pyplot as plt\n",
    "import random"
   ]
  },
  {
   "cell_type": "code",
   "execution_count": 13,
   "metadata": {},
   "outputs": [],
   "source": [
    "from deep_q_learning import DQN, ActionSpace"
   ]
  },
  {
   "cell_type": "code",
   "execution_count": 4,
   "metadata": {},
   "outputs": [],
   "source": [
    "g =RandGraph(graph_type='simple', actors=10000)"
   ]
  },
  {
   "cell_type": "code",
   "execution_count": 21,
   "metadata": {},
   "outputs": [],
   "source": [
    "dqn = DQN(g)"
   ]
  },
  {
   "cell_type": "code",
   "execution_count": 24,
   "metadata": {},
   "outputs": [],
   "source": [
    "dqn.train(10)"
   ]
  },
  {
   "cell_type": "code",
   "execution_count": 25,
   "metadata": {},
   "outputs": [
    {
     "data": {
      "text/plain": [
       "[0.0,\n",
       " 0.0,\n",
       " 0.0,\n",
       " 0.9166666666666665,\n",
       " 0.0,\n",
       " 0.0,\n",
       " 0.6428571428571428,\n",
       " 0.0,\n",
       " 0.0,\n",
       " 0.0]"
      ]
     },
     "execution_count": 25,
     "metadata": {},
     "output_type": "execute_result"
    }
   ],
   "source": [
    "dqn.total_rewards"
   ]
  },
  {
   "cell_type": "code",
   "execution_count": 26,
   "metadata": {},
   "outputs": [
    {
     "data": {
      "text/plain": [
       "NodeDataView({1: {'actors': [b'55e99127', b'0e2703a7', b'3cc16ea8', b'419b87d3', b'b74a2b3e', b'3996b92b', b'b73a5c71', b'1c1edaf1', b'2cf075f7', b'5cc0bc70', b'96750aee', b'f015b7aa', b'c44b8cbb', b'a3219b3b', b'4c1e7b7e', b'94332327', b'a475a3af', b'3c1590aa', b'79f909bd', b'c7f2057c', b'92a0e680', b'84074272']}, 2: {'actors': [b'f63b5320', b'7e527d7e', b'cb276777', b'40c48c98', b'4a318019', b'133c9fe7', b'30e876b9', b'036c8594', b'7d0d9853', b'a7f3529b', b'94eacafd', b'8d557915', b'd4a2f03d', b'100f6b61', b'e1e80c1c', b'781801ce', b'eced85a3', b'48779bc9', b'd1fd2990', b'70be922a', b'5b40814c']}, 7: {'actors': [b'f63b5320', b'7e527d7e', b'cb276777', b'40c48c98']}, 3: {'capacity': 7, 'actors': [b'3cc16ea8', b'419b87d3', b'b74a2b3e', b'3996b92b', b'b73a5c71']}, 4: {'capacity': 6, 'actors': [b'4a318019', b'133c9fe7', b'30e876b9', b'036c8594', b'7d0d9853', b'a7f3529b']}, 5: {'capacity': 2, 'actors': [b'55e99127', b'0e2703a7']}, 6: {'capacity': 2, 'actors': []}})"
      ]
     },
     "execution_count": 26,
     "metadata": {},
     "output_type": "execute_result"
    }
   ],
   "source": [
    "g.graph.nodes(data=True)"
   ]
  },
  {
   "cell_type": "code",
   "execution_count": 27,
   "metadata": {},
   "outputs": [
    {
     "data": {
      "image/png": "[encoded data removed]",
      "text/plain": [
       "<Figure size 432x288 with 1 Axes>"
      ]
     },
     "metadata": {},
     "output_type": "display_data"
    }
   ],
   "source": [
    "g.plot()"
   ]
  },
  {
   "cell_type": "code",
   "execution_count": null,
   "metadata": {},
   "outputs": [],
   "source": []
  }
 ],
 "metadata": {
  "kernelspec": {
   "display_name": "Python 3",
   "language": "python",
   "name": "python3"
  },
  "language_info": {
   "codemirror_mode": {
    "name": "ipython",
    "version": 3
   },
   "file_extension": ".py",
   "mimetype": "text/x-python",
   "name": "python",
   "nbconvert_exporter": "python",
   "pygments_lexer": "ipython3",
   "version": "3.6.5"
  }
 },
 "nbformat": 4,
 "nbformat_minor": 2
}
