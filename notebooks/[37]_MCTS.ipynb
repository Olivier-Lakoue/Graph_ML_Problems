{
 "cells": [
  {
   "cell_type": "code",
   "execution_count": 1,
   "metadata": {},
   "outputs": [],
   "source": [
    "%load_ext autoreload\n",
    "%autoreload 2"
   ]
  },
  {
   "cell_type": "code",
   "execution_count": 2,
   "metadata": {},
   "outputs": [],
   "source": [
    "import sys\n",
    "sys.path.append('../src/')"
   ]
  },
  {
   "cell_type": "code",
   "execution_count": 3,
   "metadata": {},
   "outputs": [],
   "source": [
    "import numpy as np\n",
    "import networkx as nx\n",
    "import matplotlib.pyplot as plt"
   ]
  },
  {
   "cell_type": "code",
   "execution_count": 4,
   "metadata": {},
   "outputs": [],
   "source": [
    "import random"
   ]
  },
  {
   "cell_type": "markdown",
   "metadata": {},
   "source": [
    "### Environment\n",
    "\n",
    "* define a grid with holes\n",
    "* start position in upper left corner and goal in the lower right corner\n",
    "* win: `position == goal; loss: position != goal`\n",
    "* `if grid[position] == 0 then position == start`\n",
    "* `steps == 20`\n",
    "* `if position == goal then done==True`"
   ]
  },
  {
   "cell_type": "code",
   "execution_count": 5,
   "metadata": {},
   "outputs": [],
   "source": [
    "grid = np.array([\n",
    "    [1, 1, 0, 1, 1, 1, 1],\n",
    "    [0, 1, 0, 1, 1, 0, 1],\n",
    "    [1, 1, 1, 0, 1, 0, 1],\n",
    "    [1, 0, 1, 1, 1, 0, 1],\n",
    "    [1, 1, 1, 1, 0, 0, 1],\n",
    "    [0, 0, 0, 1, 0, 1, 1],\n",
    "    [1, 1, 1, 1, 0, 1, 1]\n",
    "])"
   ]
  },
  {
   "cell_type": "code",
   "execution_count": 6,
   "metadata": {},
   "outputs": [
    {
     "data": {
      "image/png": "[encoded data removed]",
      "text/plain": [
       "<Figure size 432x288 with 1 Axes>"
      ]
     },
     "metadata": {},
     "output_type": "display_data"
    }
   ],
   "source": [
    "plt.imshow(grid, cmap='gray')\n",
    "plt.yticks([])\n",
    "plt.xticks([])\n",
    "plt.show()"
   ]
  },
  {
   "cell_type": "code",
   "execution_count": 7,
   "metadata": {},
   "outputs": [],
   "source": [
    "done = False\n",
    "start = (0,0)\n",
    "goal = (6,6)\n",
    "steps = 20\n",
    "win = False\n",
    "position = start"
   ]
  },
  {
   "cell_type": "code",
   "execution_count": 8,
   "metadata": {},
   "outputs": [],
   "source": [
    "moves = np.array([[-1, 0],\n",
    "                    [1, 0],\n",
    "                    [0, -1],\n",
    "                    [0, 1]])"
   ]
  },
  {
   "cell_type": "code",
   "execution_count": 9,
   "metadata": {},
   "outputs": [],
   "source": [
    "def observe(position):\n",
    "    idx = np.where((moves + position).min(axis=1) >= 0)[0]\n",
    "    return [(i,j) for i,j in moves[idx,:]+position if grid[i,j] >= 0]"
   ]
  },
  {
   "cell_type": "code",
   "execution_count": 10,
   "metadata": {},
   "outputs": [
    {
     "data": {
      "text/plain": [
       "[(1, 0), (0, 1)]"
      ]
     },
     "execution_count": 10,
     "metadata": {},
     "output_type": "execute_result"
    }
   ],
   "source": [
    "observe(start)"
   ]
  },
  {
   "cell_type": "code",
   "execution_count": 11,
   "metadata": {},
   "outputs": [],
   "source": [
    "def action(next_position):\n",
    "    if grid[next_position] == 0:\n",
    "        position = start\n",
    "    elif next_position == goal:\n",
    "        win = True\n",
    "    else:\n",
    "        position = next_position\n",
    "    return position"
   ]
  },
  {
   "cell_type": "code",
   "execution_count": 12,
   "metadata": {},
   "outputs": [],
   "source": [
    "possible_positions = observe(position)"
   ]
  },
  {
   "cell_type": "code",
   "execution_count": 13,
   "metadata": {},
   "outputs": [],
   "source": [
    "next_position = random.choice(possible_positions)"
   ]
  },
  {
   "cell_type": "code",
   "execution_count": 14,
   "metadata": {},
   "outputs": [],
   "source": [
    "position = action(next_position)"
   ]
  },
  {
   "cell_type": "code",
   "execution_count": 15,
   "metadata": {},
   "outputs": [
    {
     "data": {
      "text/plain": [
       "(0, 1)"
      ]
     },
     "execution_count": 15,
     "metadata": {},
     "output_type": "execute_result"
    }
   ],
   "source": [
    "position"
   ]
  },
  {
   "cell_type": "code",
   "execution_count": 16,
   "metadata": {},
   "outputs": [],
   "source": [
    "from mcts import GridEnv"
   ]
  },
  {
   "cell_type": "code",
   "execution_count": 17,
   "metadata": {},
   "outputs": [],
   "source": [
    "wins = 0\n",
    "for _ in range(1000):\n",
    "    env = GridEnv()\n",
    "    for i in range(22):\n",
    "        if not env.done:\n",
    "            possible_position = env.observe()\n",
    "            next_position = random.choice(possible_position)\n",
    "            env.action(next_position)\n",
    "            if env.win:\n",
    "                wins += 1\n"
   ]
  },
  {
   "cell_type": "code",
   "execution_count": 18,
   "metadata": {},
   "outputs": [
    {
     "data": {
      "text/plain": [
       "0"
      ]
     },
     "execution_count": 18,
     "metadata": {},
     "output_type": "execute_result"
    }
   ],
   "source": [
    "wins"
   ]
  },
  {
   "cell_type": "markdown",
   "metadata": {},
   "source": [
    "### Monte Carlo Tree Search\n",
    "\n",
    "* Analysis of the most promizing move toward a goal.\n",
    "* session are played until the end by selecting random moves\n",
    "* the session result is used to weight nodes of the actions tree"
   ]
  },
  {
   "cell_type": "markdown",
   "metadata": {},
   "source": [
    "#### Algorithm\n",
    "\n",
    "* _Selection_ : choose most promizing child nodes starting from the root _(R)_ of the tree until one of the leaf node _(L)_ of the tree.\n",
    "\n",
    "* _Expansion_ : if _L_ is not **terminal**, create child nodes from avaliable actions and choose one node _(C)_.\n",
    "\n",
    "* _Simulation_ : play a random **playout** from _C_\n",
    "\n",
    "* _Backpropagation_ : use the **result** of the simulation to update nodes' information on the **path** from _C_ to _R_."
   ]
  },
  {
   "cell_type": "markdown",
   "metadata": {},
   "source": [
    "### Simulation\n",
    "Each simulation is run at most **max_moves**\n",
    "\n",
    "From a given **position** select a **random** move or **UCB1** move from legal positions until the **environment** is **done**.\n",
    "\n",
    "Each positions are appended to a **path**.\n",
    "\n",
    "If the legal positions are not known we will **expand** the search tree to include these leaf nodes."
   ]
  },
  {
   "cell_type": "code",
   "execution_count": 19,
   "metadata": {},
   "outputs": [],
   "source": [
    "def expand(current, positions):\n",
    "    g.add_nodes_from(positions, wins=0, plays=0)\n",
    "    g.add_edges_from([(current, pos) for pos in positions])"
   ]
  },
  {
   "cell_type": "code",
   "execution_count": 53,
   "metadata": {},
   "outputs": [],
   "source": [
    "max_moves = 10000"
   ]
  },
  {
   "cell_type": "code",
   "execution_count": 54,
   "metadata": {},
   "outputs": [],
   "source": [
    "g = nx.DiGraph()\n",
    "g.add_node(start, wins=0, plays=0)\n",
    "path = []\n",
    "env = GridEnv()\n",
    "C = np.sqrt(2)\n",
    "\n",
    "for t in range(max_moves):\n",
    "    if env.done:\n",
    "        env = GridEnv()\n",
    "        path= []\n",
    "    current = env.position\n",
    "    possible_positions = env.observe()\n",
    "\n",
    "    # choose next move\n",
    "    if not (np.array([(p in g) for p in possible_positions])).all():\n",
    "#             print('random')\n",
    "        expand(current, possible_positions)\n",
    "        position = random.choice(possible_positions)\n",
    "    else:    \n",
    "#             print('utc')\n",
    "        log_nb_sims = np.log(t+1)\n",
    "        nb_plays = np.array([g.nodes(data=True)[pos]['plays'] for pos in possible_positions]) + 1\n",
    "        nb_wins = np.array([g.nodes(data=True)[pos]['wins'] for pos in possible_positions]) + 1\n",
    "        wi_ni = np.divide(nb_wins,nb_plays)\n",
    "        ln_ni = C * np.sqrt(np.divide(log_nb_sims, nb_plays))\n",
    "        utc = np.add(wi_ni, ln_ni)\n",
    "        position = possible_positions[np.argmax(utc)]\n",
    "        \n",
    "    # save path\n",
    "    path.append(position)\n",
    "\n",
    "    # update count\n",
    "    g.nodes(data=True)[position]['plays'] += 1\n",
    "\n",
    "    # move in the env\n",
    "    env.action(position)\n",
    "\n",
    "    # update wins\n",
    "    if env.win:\n",
    "        for node in path:\n",
    "            g.nodes(data=True)[node]['wins'] += 1"
   ]
  },
  {
   "cell_type": "code",
   "execution_count": 55,
   "metadata": {},
   "outputs": [
    {
     "data": {
      "text/plain": [
       "NodeDataView({(1, 3): {'wins': 1, 'plays': 3}, (6, 6): {'wins': 2, 'plays': 2}, (5, 6): {'wins': 2, 'plays': 2}, (3, 2): {'wins': 2, 'plays': 78}, (2, 1): {'wins': 2, 'plays': 445}, (0, 0): {'wins': 0, 'plays': 847}, (1, 6): {'wins': 3, 'plays': 4}, (5, 1): {'wins': 0, 'plays': 43}, (2, 5): {'wins': 0, 'plays': 6}, (0, 3): {'wins': 1, 'plays': 3}, (4, 0): {'wins': 0, 'plays': 140}, (1, 2): {'wins': 0, 'plays': 426}, (3, 3): {'wins': 2, 'plays': 48}, (2, 0): {'wins': 0, 'plays': 143}, (4, 4): {'wins': 0, 'plays': 13}, (3, 0): {'wins': 0, 'plays': 143}, (6, 3): {'wins': 0, 'plays': 7}, (1, 5): {'wins': 0, 'plays': 3}, (3, 6): {'wins': 3, 'plays': 2}, (2, 2): {'wins': 2, 'plays': 154}, (3, 4): {'wins': 2, 'plays': 32}, (3, 5): {'wins': 0, 'plays': 12}, (4, 1): {'wins': 0, 'plays': 71}, (1, 1): {'wins': 2, 'plays': 874}, (6, 4): {'wins': 0, 'plays': 4}, (5, 4): {'wins': 0, 'plays': 6}, (2, 6): {'wins': 3, 'plays': 3}, (5, 0): {'wins': 0, 'plays': 71}, (4, 5): {'wins': 0, 'plays': 1}, (0, 4): {'wins': 2, 'plays': 4}, (6, 0): {'wins': 0, 'plays': 5}, (1, 4): {'wins': 2, 'plays': 7}, (2, 3): {'wins': 0, 'plays': 71}, (4, 2): {'wins': 0, 'plays': 42}, (1, 0): {'wins': 0, 'plays': 2520}, (6, 5): {'wins': 1, 'plays': 1}, (5, 3): {'wins': 0, 'plays': 14}, (0, 1): {'wins': 2, 'plays': 2567}, (4, 6): {'wins': 2, 'plays': 3}, (5, 5): {'wins': 1, 'plays': 1}, (6, 1): {'wins': 0, 'plays': 9}, (3, 1): {'wins': 0, 'plays': 144}, (2, 4): {'wins': 2, 'plays': 14}, (0, 6): {'wins': 3, 'plays': 4}, (6, 2): {'wins': 0, 'plays': 5}, (4, 3): {'wins': 0, 'plays': 27}, (0, 5): {'wins': 2, 'plays': 3}, (5, 2): {'wins': 0, 'plays': 27}, (0, 2): {'wins': 0, 'plays': 847}})"
      ]
     },
     "execution_count": 55,
     "metadata": {},
     "output_type": "execute_result"
    }
   ],
   "source": [
    "g.nodes(data=True)"
   ]
  },
  {
   "cell_type": "code",
   "execution_count": 56,
   "metadata": {},
   "outputs": [
    {
     "data": {
      "image/png": "[encoded data removed]",
      "text/plain": [
       "<Figure size 432x288 with 1 Axes>"
      ]
     },
     "metadata": {},
     "output_type": "display_data"
    }
   ],
   "source": [
    "pos = nx.kamada_kawai_layout(g)\n",
    "nx.draw_networkx_nodes(g,pos)\n",
    "nx.draw_networkx_labels(g, pos)\n",
    "nx.draw_networkx_edges(g,pos)\n",
    "plt.axis('off')\n",
    "plt.show()"
   ]
  },
  {
   "cell_type": "code",
   "execution_count": null,
   "metadata": {
    "collapsed": true
   },
   "outputs": [],
   "source": []
  }
 ],
 "metadata": {
  "kernelspec": {
   "display_name": "Python 3",
   "language": "python",
   "name": "python3"
  },
  "language_info": {
   "codemirror_mode": {
    "name": "ipython",
    "version": 3
   },
   "file_extension": ".py",
   "mimetype": "text/x-python",
   "name": "python",
   "nbconvert_exporter": "python",
   "pygments_lexer": "ipython3",
   "version": "3.5.4"
  }
 },
 "nbformat": 4,
 "nbformat_minor": 2
}
