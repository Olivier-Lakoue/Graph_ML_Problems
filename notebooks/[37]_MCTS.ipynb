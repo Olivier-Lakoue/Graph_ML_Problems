{
 "cells": [
  {
   "cell_type": "code",
   "execution_count": 112,
   "metadata": {
    "collapsed": true
   },
   "outputs": [],
   "source": [
    "%load_ext autoreload\n",
    "%autoreload 2"
   ]
  },
  {
   "cell_type": "code",
   "execution_count": 111,
   "metadata": {
    "collapsed": true
   },
   "outputs": [],
   "source": [
    "import sys\n",
    "sys.path.append('../src/')"
   ]
  },
  {
   "cell_type": "code",
   "execution_count": 1,
   "metadata": {
    "collapsed": true
   },
   "outputs": [],
   "source": [
    "import numpy as np\n",
    "import networkx as nx\n",
    "import matplotlib.pyplot as plt"
   ]
  },
  {
   "cell_type": "code",
   "execution_count": 2,
   "metadata": {
    "collapsed": true
   },
   "outputs": [],
   "source": [
    "import random"
   ]
  },
  {
   "cell_type": "markdown",
   "metadata": {},
   "source": [
    "### Environment\n",
    "\n",
    "* define a grid with holes\n",
    "* start position in upper left corner and goal in the lower right corner\n",
    "* win: `position == goal; loss: position != goal`\n",
    "* `if grid[position] == 0 then position == start`\n",
    "* `steps == 20`\n",
    "* `if position == goal then done==True`"
   ]
  },
  {
   "cell_type": "code",
   "execution_count": 3,
   "metadata": {
    "collapsed": true
   },
   "outputs": [],
   "source": [
    "grid = np.array([\n",
    "    [1, 1, 0, 1, 1, 1, 1],\n",
    "    [0, 1, 0, 1, 1, 0, 1],\n",
    "    [1, 1, 1, 0, 1, 0, 1],\n",
    "    [1, 0, 1, 1, 1, 0, 1],\n",
    "    [1, 1, 1, 1, 0, 0, 1],\n",
    "    [0, 0, 0, 1, 0, 1, 1],\n",
    "    [1, 1, 1, 1, 0, 1, 1]\n",
    "])"
   ]
  },
  {
   "cell_type": "code",
   "execution_count": 13,
   "metadata": {},
   "outputs": [
    {
     "data": {
      "image/png": "[encoded data removed]",
      "text/plain": [
       "<Figure size 432x288 with 1 Axes>"
      ]
     },
     "metadata": {},
     "output_type": "display_data"
    }
   ],
   "source": [
    "plt.imshow(grid, cmap='gray')\n",
    "plt.yticks([])\n",
    "plt.xticks([])\n",
    "plt.show()"
   ]
  },
  {
   "cell_type": "code",
   "execution_count": 32,
   "metadata": {
    "collapsed": true
   },
   "outputs": [],
   "source": [
    "done = False\n",
    "start = (0,0)\n",
    "goal = (6,6)\n",
    "steps = 20\n",
    "win = False\n",
    "position = start"
   ]
  },
  {
   "cell_type": "code",
   "execution_count": 33,
   "metadata": {
    "collapsed": true
   },
   "outputs": [],
   "source": [
    "moves = np.array([[-1, 0],\n",
    "                    [1, 0],\n",
    "                    [0, -1],\n",
    "                    [0, 1]])"
   ]
  },
  {
   "cell_type": "code",
   "execution_count": 34,
   "metadata": {
    "collapsed": true
   },
   "outputs": [],
   "source": [
    "def observe(position):\n",
    "    idx = np.where((moves + position).min(axis=1) >= 0)[0]\n",
    "    return [(i,j) for i,j in moves[idx,:]+position if grid[i,j] >= 0]"
   ]
  },
  {
   "cell_type": "code",
   "execution_count": 35,
   "metadata": {},
   "outputs": [
    {
     "data": {
      "text/plain": [
       "[(1, 0), (0, 1)]"
      ]
     },
     "execution_count": 35,
     "metadata": {},
     "output_type": "execute_result"
    }
   ],
   "source": [
    "observe(start)"
   ]
  },
  {
   "cell_type": "code",
   "execution_count": 67,
   "metadata": {
    "collapsed": true
   },
   "outputs": [],
   "source": [
    "def action(next_position):\n",
    "    if grid[next_position] == 0:\n",
    "        position = start\n",
    "    elif next_position == goal:\n",
    "        win = True\n",
    "    else:\n",
    "        position = next_position\n",
    "    return position"
   ]
  },
  {
   "cell_type": "code",
   "execution_count": 107,
   "metadata": {
    "collapsed": true
   },
   "outputs": [],
   "source": [
    "possible_positions = observe(position)"
   ]
  },
  {
   "cell_type": "code",
   "execution_count": 108,
   "metadata": {
    "collapsed": true
   },
   "outputs": [],
   "source": [
    "next_position = random.choice(possible_positions)"
   ]
  },
  {
   "cell_type": "code",
   "execution_count": 109,
   "metadata": {
    "collapsed": true
   },
   "outputs": [],
   "source": [
    "position = action(next_position)"
   ]
  },
  {
   "cell_type": "code",
   "execution_count": 110,
   "metadata": {},
   "outputs": [
    {
     "data": {
      "text/plain": [
       "(0, 1)"
      ]
     },
     "execution_count": 110,
     "metadata": {},
     "output_type": "execute_result"
    }
   ],
   "source": [
    "position"
   ]
  },
  {
   "cell_type": "code",
   "execution_count": 113,
   "metadata": {
    "collapsed": true
   },
   "outputs": [],
   "source": [
    "from mcts import GridEnv"
   ]
  },
  {
   "cell_type": "code",
   "execution_count": 191,
   "metadata": {},
   "outputs": [],
   "source": [
    "wins = 0\n",
    "for _ in range(10000):\n",
    "    env = GridEnv()\n",
    "    for i in range(22):\n",
    "        if not env.done:\n",
    "            possible_position = env.observe()\n",
    "            next_position = random.choice(possible_position)\n",
    "            env.action(next_position)\n",
    "            if env.win:\n",
    "                wins += 1\n"
   ]
  },
  {
   "cell_type": "code",
   "execution_count": 192,
   "metadata": {},
   "outputs": [
    {
     "data": {
      "text/plain": [
       "0"
      ]
     },
     "execution_count": 192,
     "metadata": {},
     "output_type": "execute_result"
    }
   ],
   "source": [
    "wins"
   ]
  },
  {
   "cell_type": "markdown",
   "metadata": {},
   "source": [
    "### Monte Carlo Tree Search\n",
    "\n",
    "* Analysis of the most promizing move toward a goal.\n",
    "* session are played until the end by selecting random moves\n",
    "* the session result is used to weight nodes of the actions tree"
   ]
  },
  {
   "cell_type": "markdown",
   "metadata": {},
   "source": [
    "#### Algorithm\n",
    "\n",
    "* _Selection_ : choose most promizing child nodes starting from the root _(R)_ of the tree until one of the leaf node _(L)_ of the tree.\n",
    "\n",
    "* _Expansion_ : if _L_ is not **terminal**, create child nodes from avaliable actions and choose one node _(C)_.\n",
    "\n",
    "* _Simulation_ : play a random **playout** from _C_\n",
    "\n",
    "* _Backpropagation_ : use the **result** of the simulation to update nodes' information on the **path** from _C_ to _R_."
   ]
  },
  {
   "cell_type": "markdown",
   "metadata": {},
   "source": [
    "### Simulation\n",
    "Each simulation is run at most **max_moves**\n",
    "\n",
    "From a given **position** select a **random** move or **UCB1** move from legal positions until the **environment** is **done**.\n",
    "\n",
    "Each positions are appended to a **path**.\n",
    "\n",
    "If the legal positions are not known we will **expand** the search tree to include these leaf nodes."
   ]
  },
  {
   "cell_type": "code",
   "execution_count": 275,
   "metadata": {
    "collapsed": true
   },
   "outputs": [],
   "source": [
    "def expand(current, positions):\n",
    "    g.add_nodes_from(positions, wins=0, plays=0)\n",
    "    g.add_edges_from([(current, pos) for pos in positions])"
   ]
  },
  {
   "cell_type": "code",
   "execution_count": 276,
   "metadata": {
    "collapsed": true
   },
   "outputs": [],
   "source": [
    "env = GridEnv()"
   ]
  },
  {
   "cell_type": "code",
   "execution_count": 277,
   "metadata": {},
   "outputs": [],
   "source": [
    "start = (0,0)\n",
    "positions = env.observe()"
   ]
  },
  {
   "cell_type": "code",
   "execution_count": 278,
   "metadata": {},
   "outputs": [],
   "source": [
    "expand(start, positions)"
   ]
  },
  {
   "cell_type": "code",
   "execution_count": 279,
   "metadata": {},
   "outputs": [
    {
     "data": {
      "text/plain": [
       "NodeDataView({(0, 0): {'wins': 0, 'plays': 0}, (1, 0): {'wins': 0, 'plays': 0}, (0, 1): {'wins': 0, 'plays': 0}})"
      ]
     },
     "execution_count": 279,
     "metadata": {},
     "output_type": "execute_result"
    }
   ],
   "source": [
    "g.nodes(data=True)"
   ]
  },
  {
   "cell_type": "code",
   "execution_count": 352,
   "metadata": {
    "collapsed": true
   },
   "outputs": [],
   "source": [
    "max_moves = 1000"
   ]
  },
  {
   "cell_type": "code",
   "execution_count": 353,
   "metadata": {},
   "outputs": [],
   "source": [
    "g = nx.DiGraph()\n",
    "g.add_node(start, wins=0, plays=0)\n",
    "path = []\n",
    "env = GridEnv()\n",
    "C = np.sqrt(2)\n",
    "while not env.done:\n",
    "    for t in range(max_moves):\n",
    "        current = env.position\n",
    "        possible_positions = env.observe()\n",
    "        \n",
    "        # choose next move\n",
    "        if (np.array([(p in g) for p in possible_positions])).all():\n",
    "            log_nb_sims = np.log(t+1)\n",
    "            nb_plays = np.array([g.nodes(data=True)[pos]['plays'] for pos in possible_positions]) + 1\n",
    "            nb_wins = np.array([g.nodes(data=True)[pos]['wins'] for pos in possible_positions]) + 1\n",
    "            wi_ni = np.divide(nb_wins,nb_plays)\n",
    "            ln_ni = C * np.sqrt(np.divide(log_nb_sims, nb_plays))\n",
    "            utc = np.add(wi_ni, ln_ni)\n",
    "            position = possible_positions[np.argmax(utc)]\n",
    "            \n",
    "        else:\n",
    "            position = random.choice(possible_positions)\n",
    "        # save path\n",
    "        path.append(position)\n",
    "        # expand tree if needed\n",
    "        if position not in g:\n",
    "            expand(current, possible_positions)\n",
    "        # update count\n",
    "        g.nodes(data=True)[position]['plays'] += 1\n",
    "\n",
    "        # move in the env\n",
    "        env.action(position)\n",
    "\n",
    "        # update wins\n",
    "        if env.win:\n",
    "            for node in path:\n",
    "                g.nodes(data=True)[node]['wins'] += 1"
   ]
  },
  {
   "cell_type": "code",
   "execution_count": 354,
   "metadata": {},
   "outputs": [
    {
     "data": {
      "text/plain": [
       "NodeDataView({(0, 0): {'wins': 0, 'plays': 2}, (1, 0): {'wins': 0, 'plays': 492}, (0, 1): {'wins': 0, 'plays': 491}, (1, 1): {'wins': 0, 'plays': 2}, (0, 2): {'wins': 0, 'plays': 1}, (2, 1): {'wins': 0, 'plays': 0}, (1, 2): {'wins': 0, 'plays': 1}})"
      ]
     },
     "execution_count": 354,
     "metadata": {},
     "output_type": "execute_result"
    }
   ],
   "source": [
    "g.nodes(data=True)"
   ]
  },
  {
   "cell_type": "code",
   "execution_count": null,
   "metadata": {
    "collapsed": true
   },
   "outputs": [],
   "source": []
  }
 ],
 "metadata": {
  "kernelspec": {
   "display_name": "Python 3.6 (graph)",
   "language": "python",
   "name": "graph_ml_problems"
  },
  "language_info": {
   "codemirror_mode": {
    "name": "ipython",
    "version": 3
   },
   "file_extension": ".py",
   "mimetype": "text/x-python",
   "name": "python",
   "nbconvert_exporter": "python",
   "pygments_lexer": "ipython3",
   "version": "3.6.5"
  }
 },
 "nbformat": 4,
 "nbformat_minor": 2
}
