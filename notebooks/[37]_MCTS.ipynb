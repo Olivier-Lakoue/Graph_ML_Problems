{
 "cells": [
  {
   "cell_type": "code",
   "execution_count": 426,
   "metadata": {},
   "outputs": [
    {
     "name": "stdout",
     "output_type": "stream",
     "text": [
      "The autoreload extension is already loaded. To reload it, use:\n",
      "  %reload_ext autoreload\n"
     ]
    }
   ],
   "source": [
    "%load_ext autoreload\n",
    "%autoreload 2"
   ]
  },
  {
   "cell_type": "code",
   "execution_count": 427,
   "metadata": {
    "collapsed": true
   },
   "outputs": [],
   "source": [
    "import sys\n",
    "sys.path.append('../src/')"
   ]
  },
  {
   "cell_type": "code",
   "execution_count": 428,
   "metadata": {
    "collapsed": true
   },
   "outputs": [],
   "source": [
    "import numpy as np\n",
    "import networkx as nx\n",
    "import matplotlib.pyplot as plt"
   ]
  },
  {
   "cell_type": "code",
   "execution_count": 429,
   "metadata": {
    "collapsed": true
   },
   "outputs": [],
   "source": [
    "import random"
   ]
  },
  {
   "cell_type": "markdown",
   "metadata": {},
   "source": [
    "### Environment\n",
    "\n",
    "* define a grid with holes\n",
    "* start position in upper left corner and goal in the lower right corner\n",
    "* win: `position == goal; loss: position != goal`\n",
    "* `if grid[position] == 0 then position == start`\n",
    "* `steps == 20`\n",
    "* `if position == goal then done==True`"
   ]
  },
  {
   "cell_type": "code",
   "execution_count": 430,
   "metadata": {
    "collapsed": true
   },
   "outputs": [],
   "source": [
    "grid = np.array([\n",
    "    [1, 1, 0, 1, 1, 1, 1],\n",
    "    [0, 1, 0, 1, 1, 0, 1],\n",
    "    [1, 1, 1, 0, 1, 0, 1],\n",
    "    [1, 0, 1, 1, 1, 0, 1],\n",
    "    [1, 1, 1, 1, 0, 0, 1],\n",
    "    [0, 0, 0, 1, 0, 1, 1],\n",
    "    [1, 1, 1, 1, 0, 1, 1]\n",
    "])"
   ]
  },
  {
   "cell_type": "code",
   "execution_count": 431,
   "metadata": {},
   "outputs": [
    {
     "data": {
      "image/png": "[encoded data removed]",
      "text/plain": [
       "<Figure size 432x288 with 1 Axes>"
      ]
     },
     "metadata": {},
     "output_type": "display_data"
    }
   ],
   "source": [
    "plt.imshow(grid, cmap='gray')\n",
    "plt.yticks([])\n",
    "plt.xticks([])\n",
    "plt.show()"
   ]
  },
  {
   "cell_type": "code",
   "execution_count": 432,
   "metadata": {
    "collapsed": true
   },
   "outputs": [],
   "source": [
    "done = False\n",
    "start = (0,0)\n",
    "goal = (6,6)\n",
    "steps = 20\n",
    "win = False\n",
    "position = start"
   ]
  },
  {
   "cell_type": "code",
   "execution_count": 433,
   "metadata": {
    "collapsed": true
   },
   "outputs": [],
   "source": [
    "moves = np.array([[-1, 0],\n",
    "                    [1, 0],\n",
    "                    [0, -1],\n",
    "                    [0, 1]])"
   ]
  },
  {
   "cell_type": "code",
   "execution_count": 434,
   "metadata": {
    "collapsed": true
   },
   "outputs": [],
   "source": [
    "def observe(position):\n",
    "    idx = np.where((moves + position).min(axis=1) >= 0)[0]\n",
    "    return [(i,j) for i,j in moves[idx,:]+position if grid[i,j] >= 0]"
   ]
  },
  {
   "cell_type": "code",
   "execution_count": 435,
   "metadata": {},
   "outputs": [
    {
     "data": {
      "text/plain": [
       "[(1, 0), (0, 1)]"
      ]
     },
     "execution_count": 435,
     "metadata": {},
     "output_type": "execute_result"
    }
   ],
   "source": [
    "observe(start)"
   ]
  },
  {
   "cell_type": "code",
   "execution_count": 436,
   "metadata": {
    "collapsed": true
   },
   "outputs": [],
   "source": [
    "def action(next_position):\n",
    "    if grid[next_position] == 0:\n",
    "        position = start\n",
    "    elif next_position == goal:\n",
    "        win = True\n",
    "    else:\n",
    "        position = next_position\n",
    "    return position"
   ]
  },
  {
   "cell_type": "code",
   "execution_count": 437,
   "metadata": {
    "collapsed": true
   },
   "outputs": [],
   "source": [
    "possible_positions = observe(position)"
   ]
  },
  {
   "cell_type": "code",
   "execution_count": 438,
   "metadata": {
    "collapsed": true
   },
   "outputs": [],
   "source": [
    "next_position = random.choice(possible_positions)"
   ]
  },
  {
   "cell_type": "code",
   "execution_count": 439,
   "metadata": {
    "collapsed": true
   },
   "outputs": [],
   "source": [
    "position = action(next_position)"
   ]
  },
  {
   "cell_type": "code",
   "execution_count": 440,
   "metadata": {},
   "outputs": [
    {
     "data": {
      "text/plain": [
       "(0, 1)"
      ]
     },
     "execution_count": 440,
     "metadata": {},
     "output_type": "execute_result"
    }
   ],
   "source": [
    "position"
   ]
  },
  {
   "cell_type": "code",
   "execution_count": 441,
   "metadata": {
    "collapsed": true
   },
   "outputs": [],
   "source": [
    "from mcts import GridEnv"
   ]
  },
  {
   "cell_type": "code",
   "execution_count": 442,
   "metadata": {},
   "outputs": [],
   "source": [
    "wins = 0\n",
    "for _ in range(1000):\n",
    "    env = GridEnv()\n",
    "    for i in range(22):\n",
    "        if not env.done:\n",
    "            possible_position = env.observe()\n",
    "            next_position = random.choice(possible_position)\n",
    "            env.action(next_position)\n",
    "            if env.win:\n",
    "                wins += 1\n"
   ]
  },
  {
   "cell_type": "code",
   "execution_count": 443,
   "metadata": {},
   "outputs": [
    {
     "data": {
      "text/plain": [
       "0"
      ]
     },
     "execution_count": 443,
     "metadata": {},
     "output_type": "execute_result"
    }
   ],
   "source": [
    "wins"
   ]
  },
  {
   "cell_type": "markdown",
   "metadata": {},
   "source": [
    "### Monte Carlo Tree Search\n",
    "\n",
    "* Analysis of the most promizing move toward a goal.\n",
    "* session are played until the end by selecting random moves\n",
    "* the session result is used to weight nodes of the actions tree"
   ]
  },
  {
   "cell_type": "markdown",
   "metadata": {},
   "source": [
    "#### Algorithm\n",
    "\n",
    "* _Selection_ : choose most promizing child nodes starting from the root _(R)_ of the tree until one of the leaf node _(L)_ of the tree.\n",
    "\n",
    "* _Expansion_ : if _L_ is not **terminal**, create child nodes from avaliable actions and choose one node _(C)_.\n",
    "\n",
    "* _Simulation_ : play a random **playout** from _C_\n",
    "\n",
    "* _Backpropagation_ : use the **result** of the simulation to update nodes' information on the **path** from _C_ to _R_."
   ]
  },
  {
   "cell_type": "markdown",
   "metadata": {},
   "source": [
    "### Simulation\n",
    "Each simulation is run at most **max_moves**\n",
    "\n",
    "From a given **position** select a **random** move or **UCB1** move from legal positions until the **environment** is **done**.\n",
    "\n",
    "Each positions are appended to a **path**.\n",
    "\n",
    "If the legal positions are not known we will **expand** the search tree to include these leaf nodes."
   ]
  },
  {
   "cell_type": "code",
   "execution_count": 444,
   "metadata": {
    "collapsed": true
   },
   "outputs": [],
   "source": [
    "def expand(current, positions):\n",
    "    g.add_nodes_from(positions, wins=0, plays=0)\n",
    "    g.add_edges_from([(current, pos) for pos in positions])"
   ]
  },
  {
   "cell_type": "code",
   "execution_count": 445,
   "metadata": {
    "collapsed": true
   },
   "outputs": [],
   "source": [
    "max_moves = 10000"
   ]
  },
  {
   "cell_type": "code",
   "execution_count": 450,
   "metadata": {},
   "outputs": [],
   "source": [
    "g = nx.DiGraph()\n",
    "g.add_node(start, wins=0, plays=0)\n",
    "path = []\n",
    "env = GridEnv()\n",
    "C = np.sqrt(2)\n",
    "\n",
    "for t in range(max_moves):\n",
    "    current = env.position\n",
    "    possible_positions = env.observe()\n",
    "    if env.done:\n",
    "        env = GridEnv()\n",
    "        path = []\n",
    "        \n",
    "    # choose next move\n",
    "    if not (np.array([(p in g) for p in possible_positions])).all():\n",
    "#             print('random')\n",
    "        expand(current, possible_positions)\n",
    "        position = random.choice(possible_positions)\n",
    "    else:    \n",
    "#             print('utc')\n",
    "        log_nb_sims = np.log(t+1)\n",
    "        nb_plays = np.array([g.nodes(data=True)[pos]['plays'] for pos in possible_positions]) + 1\n",
    "        nb_wins = np.array([g.nodes(data=True)[pos]['wins'] for pos in possible_positions]) + 1\n",
    "        wi_ni = np.divide(nb_wins,nb_plays)\n",
    "        ln_ni = C * np.sqrt(np.divide(log_nb_sims, nb_plays))\n",
    "        utc = np.add(wi_ni, ln_ni)\n",
    "        position = possible_positions[np.argmax(utc)]\n",
    "\n",
    "\n",
    "    # save path\n",
    "    path.append(position)\n",
    "\n",
    "    # update count\n",
    "    g.nodes(data=True)[position]['plays'] += 1\n",
    "\n",
    "    # move in the env\n",
    "    env.action(position)\n",
    "\n",
    "    # update wins\n",
    "    if env.win:\n",
    "        for node in path:\n",
    "            g.nodes(data=True)[node]['wins'] += 1"
   ]
  },
  {
   "cell_type": "code",
   "execution_count": 451,
   "metadata": {},
   "outputs": [
    {
     "data": {
      "text/plain": [
       "NodeDataView({(0, 0): {'wins': 0, 'plays': 27}, (1, 0): {'wins': 0, 'plays': 55}, (0, 1): {'wins': 204, 'plays': 294}, (1, 1): {'wins': 205, 'plays': 268}, (0, 2): {'wins': 0, 'plays': 27}, (2, 1): {'wins': 206, 'plays': 267}, (1, 2): {'wins': 0, 'plays': 25}, (3, 1): {'wins': 0, 'plays': 17}, (2, 0): {'wins': 0, 'plays': 17}, (2, 2): {'wins': 206, 'plays': 252}, (3, 0): {'wins': 0, 'plays': 17}, (4, 0): {'wins': 0, 'plays': 17}, (3, 2): {'wins': 209, 'plays': 255}, (2, 3): {'wins': 0, 'plays': 17}, (4, 2): {'wins': 1, 'plays': 18}, (3, 3): {'wins': 209, 'plays': 251}, (4, 3): {'wins': 0, 'plays': 16}, (3, 4): {'wins': 209, 'plays': 249}, (5, 3): {'wins': 0, 'plays': 16}, (4, 4): {'wins': 0, 'plays': 16}, (5, 0): {'wins': 0, 'plays': 20}, (4, 1): {'wins': 0, 'plays': 17}, (5, 1): {'wins': 0, 'plays': 16}, (5, 2): {'wins': 0, 'plays': 16}, (6, 3): {'wins': 0, 'plays': 16}, (5, 4): {'wins': 0, 'plays': 16}, (6, 2): {'wins': 0, 'plays': 15}, (6, 4): {'wins': 0, 'plays': 16}, (6, 1): {'wins': 0, 'plays': 20}, (6, 0): {'wins': 0, 'plays': 15}, (2, 4): {'wins': 232, 'plays': 270}, (3, 5): {'wins': 0, 'plays': 16}, (1, 4): {'wins': 286, 'plays': 325}, (2, 5): {'wins': 0, 'plays': 16}, (0, 4): {'wins': 303, 'plays': 340}, (1, 3): {'wins': 297, 'plays': 334}, (1, 5): {'wins': 0, 'plays': 16}, (0, 3): {'wins': 301, 'plays': 337}, (0, 5): {'wins': 286, 'plays': 322}, (0, 6): {'wins': 301, 'plays': 338}, (1, 6): {'wins': 295, 'plays': 331}, (2, 6): {'wins': 376, 'plays': 414}, (3, 6): {'wins': 364, 'plays': 398}, (4, 6): {'wins': 521, 'plays': 556}, (5, 6): {'wins': 557, 'plays': 582}, (4, 5): {'wins': 0, 'plays': 16}, (6, 6): {'wins': 1282, 'plays': 1282}, (5, 5): {'wins': 874, 'plays': 896}, (6, 5): {'wins': 841, 'plays': 847}})"
      ]
     },
     "execution_count": 451,
     "metadata": {},
     "output_type": "execute_result"
    }
   ],
   "source": [
    "g.nodes(data=True)"
   ]
  },
  {
   "cell_type": "code",
   "execution_count": 452,
   "metadata": {},
   "outputs": [
    {
     "data": {
      "image/png": "[encoded data removed]",
      "text/plain": [
       "<Figure size 432x288 with 1 Axes>"
      ]
     },
     "metadata": {},
     "output_type": "display_data"
    }
   ],
   "source": [
    "pos = nx.kamada_kawai_layout(g)\n",
    "nx.draw_networkx_nodes(g,pos)\n",
    "nx.draw_networkx_labels(g, pos)\n",
    "nx.draw_networkx_edges(g,pos)\n",
    "plt.axis('off')\n",
    "plt.show()"
   ]
  },
  {
   "cell_type": "code",
   "execution_count": 504,
   "metadata": {},
   "outputs": [],
   "source": [
    "pos = {node: np.array([node[1], node[0]]) for node in g.nodes()}"
   ]
  },
  {
   "cell_type": "code",
   "execution_count": 508,
   "metadata": {},
   "outputs": [],
   "source": [
    "sizes = [attr['plays'] for node,attr in g.nodes(data=True)]"
   ]
  },
  {
   "cell_type": "code",
   "execution_count": 526,
   "metadata": {
    "collapsed": true
   },
   "outputs": [],
   "source": [
    "import matplotlib.cm as cm\n",
    "from matplotlib.colors import Normalize"
   ]
  },
  {
   "cell_type": "code",
   "execution_count": 523,
   "metadata": {
    "collapsed": true
   },
   "outputs": [],
   "source": [
    "wins = [attr['wins'] for node, attr in g.nodes(data=True)]"
   ]
  },
  {
   "cell_type": "code",
   "execution_count": 533,
   "metadata": {},
   "outputs": [],
   "source": [
    "norm = Normalize(vmin=min(wins), vmax=max(wins), clip=True)\n",
    "mapper = cm.ScalarMappable(norm=norm, cmap=cm.gist_heat_r)\n",
    "cols = [mapper.to_rgba(v) for v in wins]"
   ]
  },
  {
   "cell_type": "code",
   "execution_count": 535,
   "metadata": {},
   "outputs": [
    {
     "data": {
      "image/png": "[encoded data removed]",
      "text/plain": [
       "<Figure size 2000x1600 with 1 Axes>"
      ]
     },
     "metadata": {},
     "output_type": "display_data"
    }
   ],
   "source": [
    "plt.figure(figsize=(10, 8), dpi=200)\n",
    "plt.subplot(211)\n",
    "\n",
    "nx.draw_networkx_nodes(g, pos, node_size=sizes, alpha=0.7, linewidths=0, node_color=cols)\n",
    "# nx.draw_networkx_labels(g, pos)\n",
    "# nx.draw_networkx_edges(g, pos)\n",
    "plt.imshow(grid, cmap='gray')\n",
    "plt.yticks([])\n",
    "plt.xticks([])\n",
    "plt.axis('off')\n",
    "plt.show()"
   ]
  }
 ],
 "metadata": {
  "kernelspec": {
   "display_name": "Python 3.6 (graph)",
   "language": "python",
   "name": "graph_ml_problems"
  },
  "language_info": {
   "codemirror_mode": {
    "name": "ipython",
    "version": 3
   },
   "file_extension": ".py",
   "mimetype": "text/x-python",
   "name": "python",
   "nbconvert_exporter": "python",
   "pygments_lexer": "ipython3",
   "version": "3.6.5"
  }
 },
 "nbformat": 4,
 "nbformat_minor": 2
}
