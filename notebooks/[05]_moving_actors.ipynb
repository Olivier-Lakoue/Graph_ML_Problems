{
 "cells": [
  {
   "cell_type": "code",
   "execution_count": 1,
   "metadata": {
    "collapsed": true
   },
   "outputs": [],
   "source": [
    "%load_ext autoreload\n",
    "%autoreload 2"
   ]
  },
  {
   "cell_type": "code",
   "execution_count": 2,
   "metadata": {
    "collapsed": true
   },
   "outputs": [],
   "source": [
    "import networkx as nx\n",
    "import sys\n",
    "import random\n",
    "sys.path.append('../src/')\n",
    "from random_graph import RandGraph\n"
   ]
  },
  {
   "cell_type": "code",
   "execution_count": 58,
   "metadata": {},
   "outputs": [],
   "source": [
    "def show_nodes(g):\n",
    "    for node in g.graph.nodes(data=True):\n",
    "        print(node[0], node[1])"
   ]
  },
  {
   "cell_type": "code",
   "execution_count": 124,
   "metadata": {},
   "outputs": [],
   "source": [
    "g = RandGraph(actors=30, moving=5)"
   ]
  },
  {
   "cell_type": "code",
   "execution_count": 125,
   "metadata": {},
   "outputs": [
    {
     "data": {
      "text/plain": [
       "{450: <random_graph.Actor at 0x61ef358>,\n",
       " 32: <random_graph.Actor at 0x61ef668>,\n",
       " 471: <random_graph.Actor at 0x61ef2b0>,\n",
       " 46: <random_graph.Actor at 0x61ef400>,\n",
       " 163: <random_graph.Actor at 0x61efac8>,\n",
       " 44: <random_graph.Actor at 0x61ef9b0>,\n",
       " 976: <random_graph.Actor at 0x61ef9e8>,\n",
       " 182: <random_graph.Actor at 0x61efc88>,\n",
       " 756: <random_graph.Actor at 0x61ef1d0>,\n",
       " 811: <random_graph.Actor at 0x61ef278>,\n",
       " 955: <random_graph.Actor at 0x61efb00>,\n",
       " 897: <random_graph.Actor at 0x61efb38>,\n",
       " 121: <random_graph.Actor at 0x61ef4a8>,\n",
       " 125: <random_graph.Actor at 0x61efd30>,\n",
       " 81: <random_graph.Actor at 0x61ef518>,\n",
       " 389: <random_graph.Actor at 0x61efc18>,\n",
       " 9: <random_graph.Actor at 0x61efdd8>,\n",
       " 435: <random_graph.Actor at 0x61efc50>,\n",
       " 665: <random_graph.Actor at 0x61efa90>,\n",
       " 53: <random_graph.Actor at 0x61efe10>,\n",
       " 228: <random_graph.Actor at 0x61ef240>,\n",
       " 377: <random_graph.Actor at 0x61ef630>,\n",
       " 588: <random_graph.Actor at 0x61ef780>,\n",
       " 77: <random_graph.Actor at 0x61ef7f0>,\n",
       " 765: <random_graph.Actor at 0x61efda0>,\n",
       " 809: <random_graph.Actor at 0x61efa58>,\n",
       " 850: <random_graph.Actor at 0x61efa20>,\n",
       " 227: <random_graph.Actor at 0x61efd68>,\n",
       " 109: <random_graph.Actor at 0x61efcf8>}"
      ]
     },
     "execution_count": 125,
     "metadata": {},
     "output_type": "execute_result"
    }
   ],
   "source": [
    "g.actors"
   ]
  },
  {
   "cell_type": "code",
   "execution_count": 126,
   "metadata": {},
   "outputs": [
    {
     "name": "stdout",
     "output_type": "stream",
     "text": [
      "0 {'actors': None}\n",
      "1 {'actors': None}\n",
      "2 {'actors': None}\n",
      "3 {'actors': None}\n",
      "4 {'actors': None}\n",
      "5 {'actors': None}\n",
      "6 {'actors': None}\n",
      "7 {'capacity': 7, 'actors': None}\n",
      "8 {'capacity': 6, 'actors': None}\n",
      "9 {'capacity': 8, 'actors': None}\n",
      "10 {'capacity': 6, 'actors': None}\n",
      "11 {'capacity': 7, 'actors': None}\n",
      "12 {'capacity': 10, 'actors': None}\n",
      "13 {'capacity': 2, 'actors': None}\n",
      "14 {'capacity': 1, 'actors': None}\n",
      "15 {'capacity': 5, 'actors': None}\n",
      "16 {'capacity': 9, 'actors': None}\n",
      "17 {'capacity': 6, 'actors': None}\n"
     ]
    }
   ],
   "source": [
    "show_nodes(g)"
   ]
  },
  {
   "cell_type": "code",
   "execution_count": 127,
   "metadata": {},
   "outputs": [],
   "source": [
    "g.init_actors()"
   ]
  },
  {
   "cell_type": "code",
   "execution_count": 128,
   "metadata": {},
   "outputs": [
    {
     "name": "stdout",
     "output_type": "stream",
     "text": [
      "0 {'actors': None}\n",
      "1 {'actors': None}\n",
      "2 {'actors': None}\n",
      "3 {'actors': [897, 955]}\n",
      "4 {'actors': [77]}\n",
      "5 {'actors': None}\n",
      "6 {'actors': None}\n",
      "7 {'capacity': 7, 'actors': None}\n",
      "8 {'capacity': 6, 'actors': None}\n",
      "9 {'capacity': 8, 'actors': None}\n",
      "10 {'capacity': 6, 'actors': None}\n",
      "11 {'capacity': 7, 'actors': None}\n",
      "12 {'capacity': 10, 'actors': None}\n",
      "13 {'capacity': 2, 'actors': None}\n",
      "14 {'capacity': 1, 'actors': None}\n",
      "15 {'capacity': 5, 'actors': None}\n",
      "16 {'capacity': 9, 'actors': None}\n",
      "17 {'capacity': 6, 'actors': None}\n"
     ]
    }
   ],
   "source": [
    "show_nodes(g)"
   ]
  },
  {
   "cell_type": "code",
   "execution_count": 129,
   "metadata": {},
   "outputs": [
    {
     "data": {
      "text/plain": [
       "{77: <random_graph.Actor at 0x61ef7f0>,\n",
       " 897: <random_graph.Actor at 0x61efb38>,\n",
       " 955: <random_graph.Actor at 0x61efb00>}"
      ]
     },
     "execution_count": 129,
     "metadata": {},
     "output_type": "execute_result"
    }
   ],
   "source": [
    "g.moving_actors"
   ]
  },
  {
   "cell_type": "markdown",
   "metadata": {},
   "source": [
    "moving actor from one node to another. We need moving actor id, head of actor path, current actor node"
   ]
  },
  {
   "cell_type": "code",
   "execution_count": 154,
   "metadata": {},
   "outputs": [
    {
     "name": "stdout",
     "output_type": "stream",
     "text": [
      "None\n",
      "None\n",
      "None\n"
     ]
    }
   ],
   "source": [
    "actors = g.moving_actors.copy()\n",
    "for actor in actors:\n",
    "    # find current node\n",
    "    prev_node = g.actor_position(actor)\n",
    "#     print(prev_node)\n",
    "    possible_node = g.moving_actors[actor].fetch_next()\n",
    "    print(possible_node)\n",
    "    if possible_node:\n",
    "        if g.get_node_capa(possible_node):\n",
    "            # remove id from current node\n",
    "            g.remove_from_node(prev_node, actor)\n",
    "        #     l = g.graph.node[prev_node]['actors']\n",
    "        #     print(l)\n",
    "        #     nx.set_node_attributes(g.graph,{prev_node: {'actors': l.remove(actor)}})\n",
    "            # find next node from the path\n",
    "            g.moving_actors[actor].move()\n",
    "            next_node = g.moving_actors[actor].get_position()\n",
    "            # add actor to the next node\n",
    "            if next_node:\n",
    "                g.update_node( next_node, actor)\n",
    "            else:\n",
    "                g.moving_actors.pop(actor)"
   ]
  },
  {
   "cell_type": "code",
   "execution_count": 155,
   "metadata": {},
   "outputs": [
    {
     "name": "stdout",
     "output_type": "stream",
     "text": [
      "0 {'actors': None}\n",
      "1 {'actors': None}\n",
      "2 {'actors': None}\n",
      "3 {'actors': []}\n",
      "4 {'actors': []}\n",
      "5 {'actors': [77]}\n",
      "6 {'actors': None}\n",
      "7 {'capacity': 7, 'actors': [897, 955]}\n",
      "8 {'capacity': 6, 'actors': []}\n",
      "9 {'capacity': 8, 'actors': None}\n",
      "10 {'capacity': 6, 'actors': None}\n",
      "11 {'capacity': 7, 'actors': []}\n",
      "12 {'capacity': 10, 'actors': []}\n",
      "13 {'capacity': 2, 'actors': None}\n",
      "14 {'capacity': 1, 'actors': None}\n",
      "15 {'capacity': 5, 'actors': []}\n",
      "16 {'capacity': 9, 'actors': []}\n",
      "17 {'capacity': 6, 'actors': None}\n"
     ]
    }
   ],
   "source": [
    "show_nodes(g)"
   ]
  },
  {
   "cell_type": "code",
   "execution_count": 86,
   "metadata": {
    "collapsed": true
   },
   "outputs": [],
   "source": [
    "def actor_position(key):\n",
    "    for n in g.graph.nodes(data=True):\n",
    "        if (n[1]['actors']) and key in n[1]['actors']:\n",
    "            return n[0]"
   ]
  },
  {
   "cell_type": "code",
   "execution_count": 155,
   "metadata": {},
   "outputs": [],
   "source": [
    "def update_node(g, node, actor):\n",
    "    if g.graph.nodes[node]['actors']:\n",
    "        g.graph.nodes[node]['actors'].append(actor)\n",
    "    else:\n",
    "        g.graph.nodes[node]['actors'] = [actor]"
   ]
  },
  {
   "cell_type": "code",
   "execution_count": 163,
   "metadata": {
    "collapsed": true
   },
   "outputs": [],
   "source": [
    "def init_actors(g):\n",
    "    for actor in [g.actors.pop(n) for n in random.sample(g.actors.keys(),2) ]:\n",
    "        k = actor.id\n",
    "        print(k)\n",
    "        g.moving_actors[k] = actor\n",
    "        g.moving_actors[k].set_path()\n",
    "        print(g.moving_actors[k].path)\n",
    "        node = g.moving_actors[k].get_position()\n",
    "        if node:\n",
    "            update_node(g, node, k)\n",
    "            print('updated %d' % k)"
   ]
  },
  {
   "cell_type": "code",
   "execution_count": null,
   "metadata": {
    "collapsed": true
   },
   "outputs": [],
   "source": []
  }
 ],
 "metadata": {
  "kernelspec": {
   "display_name": "Python 3.6 (graph)",
   "language": "python",
   "name": "graph_ml_problems"
  },
  "language_info": {
   "codemirror_mode": {
    "name": "ipython",
    "version": 3
   },
   "file_extension": ".py",
   "mimetype": "text/x-python",
   "name": "python",
   "nbconvert_exporter": "python",
   "pygments_lexer": "ipython3",
   "version": "3.6.5"
  }
 },
 "nbformat": 4,
 "nbformat_minor": 2
}
