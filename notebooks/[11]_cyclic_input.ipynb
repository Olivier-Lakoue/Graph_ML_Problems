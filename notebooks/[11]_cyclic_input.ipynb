{
 "cells": [
  {
   "cell_type": "markdown",
   "metadata": {},
   "source": [
    "Change the number of moving actors entering into the network based on a cycle of 24 steps."
   ]
  },
  {
   "cell_type": "code",
   "execution_count": 16,
   "metadata": {
    "collapsed": true
   },
   "outputs": [],
   "source": [
    "import random\n",
    "import numpy as np\n",
    "import matplotlib.pyplot as plt\n",
    "import pandas as pd"
   ]
  },
  {
   "cell_type": "code",
   "execution_count": 2,
   "metadata": {
    "collapsed": true
   },
   "outputs": [],
   "source": [
    "nb_moving_actors = 20"
   ]
  },
  {
   "cell_type": "code",
   "execution_count": 6,
   "metadata": {
    "collapsed": true
   },
   "outputs": [],
   "source": [
    "def step(n=100):\n",
    "    min_moving = 0\n",
    "    max_moving = nb_moving_actors\n",
    "    for i in range(n):\n",
    "        print('step %d' % i)\n",
    "        \n",
    "        # add a fraction of actors\n",
    "        \n",
    "        print(nb_moving_actors)"
   ]
  },
  {
   "cell_type": "code",
   "execution_count": 7,
   "metadata": {
    "collapsed": false
   },
   "outputs": [
    {
     "name": "stdout",
     "output_type": "stream",
     "text": [
      "step 0\n",
      "20\n",
      "step 1\n",
      "20\n",
      "step 2\n",
      "20\n",
      "step 3\n",
      "20\n",
      "step 4\n",
      "20\n",
      "step 5\n",
      "20\n",
      "step 6\n",
      "20\n",
      "step 7\n",
      "20\n",
      "step 8\n",
      "20\n",
      "step 9\n",
      "20\n",
      "step 10\n",
      "20\n",
      "step 11\n",
      "20\n",
      "step 12\n",
      "20\n",
      "step 13\n",
      "20\n",
      "step 14\n",
      "20\n",
      "step 15\n",
      "20\n",
      "step 16\n",
      "20\n",
      "step 17\n",
      "20\n",
      "step 18\n",
      "20\n",
      "step 19\n",
      "20\n",
      "step 20\n",
      "20\n",
      "step 21\n",
      "20\n",
      "step 22\n",
      "20\n",
      "step 23\n",
      "20\n",
      "step 24\n",
      "20\n",
      "step 25\n",
      "20\n",
      "step 26\n",
      "20\n",
      "step 27\n",
      "20\n",
      "step 28\n",
      "20\n",
      "step 29\n",
      "20\n",
      "step 30\n",
      "20\n",
      "step 31\n",
      "20\n",
      "step 32\n",
      "20\n",
      "step 33\n",
      "20\n",
      "step 34\n",
      "20\n",
      "step 35\n",
      "20\n",
      "step 36\n",
      "20\n",
      "step 37\n",
      "20\n",
      "step 38\n",
      "20\n",
      "step 39\n",
      "20\n",
      "step 40\n",
      "20\n",
      "step 41\n",
      "20\n",
      "step 42\n",
      "20\n",
      "step 43\n",
      "20\n",
      "step 44\n",
      "20\n",
      "step 45\n",
      "20\n",
      "step 46\n",
      "20\n",
      "step 47\n",
      "20\n",
      "step 48\n",
      "20\n",
      "step 49\n",
      "20\n",
      "step 50\n",
      "20\n",
      "step 51\n",
      "20\n",
      "step 52\n",
      "20\n",
      "step 53\n",
      "20\n",
      "step 54\n",
      "20\n",
      "step 55\n",
      "20\n",
      "step 56\n",
      "20\n",
      "step 57\n",
      "20\n",
      "step 58\n",
      "20\n",
      "step 59\n",
      "20\n",
      "step 60\n",
      "20\n",
      "step 61\n",
      "20\n",
      "step 62\n",
      "20\n",
      "step 63\n",
      "20\n",
      "step 64\n",
      "20\n",
      "step 65\n",
      "20\n",
      "step 66\n",
      "20\n",
      "step 67\n",
      "20\n",
      "step 68\n",
      "20\n",
      "step 69\n",
      "20\n",
      "step 70\n",
      "20\n",
      "step 71\n",
      "20\n",
      "step 72\n",
      "20\n",
      "step 73\n",
      "20\n",
      "step 74\n",
      "20\n",
      "step 75\n",
      "20\n",
      "step 76\n",
      "20\n",
      "step 77\n",
      "20\n",
      "step 78\n",
      "20\n",
      "step 79\n",
      "20\n",
      "step 80\n",
      "20\n",
      "step 81\n",
      "20\n",
      "step 82\n",
      "20\n",
      "step 83\n",
      "20\n",
      "step 84\n",
      "20\n",
      "step 85\n",
      "20\n",
      "step 86\n",
      "20\n",
      "step 87\n",
      "20\n",
      "step 88\n",
      "20\n",
      "step 89\n",
      "20\n",
      "step 90\n",
      "20\n",
      "step 91\n",
      "20\n",
      "step 92\n",
      "20\n",
      "step 93\n",
      "20\n",
      "step 94\n",
      "20\n",
      "step 95\n",
      "20\n",
      "step 96\n",
      "20\n",
      "step 97\n",
      "20\n",
      "step 98\n",
      "20\n",
      "step 99\n",
      "20\n"
     ]
    }
   ],
   "source": [
    "step()"
   ]
  },
  {
   "cell_type": "code",
   "execution_count": 48,
   "metadata": {
    "collapsed": true
   },
   "outputs": [],
   "source": [
    "# periodic function: fractonal part of a real\n",
    "from math import pi\n",
    "\n",
    "def f(x):\n",
    "    return int((x+pi) % (8*pi)) #- 4*pi"
   ]
  },
  {
   "cell_type": "code",
   "execution_count": 72,
   "metadata": {
    "collapsed": false
   },
   "outputs": [
    {
     "data": {
      "image/png": "[encoded data removed]",
      "text/plain": [
       "<matplotlib.figure.Figure at 0xceabbe0>"
      ]
     },
     "metadata": {},
     "output_type": "display_data"
    }
   ],
   "source": [
    "max_val = 24\n",
    "arr = np.array([f(i) for i in range(100)])\n",
    "arr = (arr )/(4 * np.std(arr))\n",
    "arr = max_val * arr\n",
    "arr = np.round(arr)\n",
    "arr = np.random.normal(arr, scale=max_val/10)\n",
    "arr = np.round(np.maximum(arr,0))\n",
    "df = pd.DataFrame(arr)\n",
    "df.plot(kind='line')\n",
    "\n",
    "plt.show()"
   ]
  },
  {
   "cell_type": "code",
   "execution_count": null,
   "metadata": {
    "collapsed": true
   },
   "outputs": [],
   "source": []
  }
 ],
 "metadata": {
  "kernelspec": {
   "display_name": "Python [default]",
   "language": "python",
   "name": "python2"
  },
  "language_info": {
   "codemirror_mode": {
    "name": "ipython",
    "version": 2
   },
   "file_extension": ".py",
   "mimetype": "text/x-python",
   "name": "python",
   "nbconvert_exporter": "python",
   "pygments_lexer": "ipython2",
   "version": "2.7.13"
  }
 },
 "nbformat": 4,
 "nbformat_minor": 2
}
