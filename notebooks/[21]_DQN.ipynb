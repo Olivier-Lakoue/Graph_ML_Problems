{
 "cells": [
  {
   "cell_type": "code",
   "execution_count": 1,
   "metadata": {},
   "outputs": [],
   "source": [
    "%load_ext autoreload\n",
    "%autoreload 2"
   ]
  },
  {
   "cell_type": "code",
   "execution_count": 2,
   "metadata": {},
   "outputs": [],
   "source": [
    "import networkx as nx\n",
    "import sys\n",
    "import random\n",
    "sys.path.append('../src/')\n",
    "from random_graph import RandGraph\n",
    "import pandas as pd\n",
    "import numpy as np\n",
    "import seaborn as sns\n",
    "import matplotlib.pyplot as plt\n",
    "import random"
   ]
  },
  {
   "cell_type": "markdown",
   "metadata": {},
   "source": [
    "## Model"
   ]
  },
  {
   "cell_type": "code",
   "execution_count": 3,
   "metadata": {},
   "outputs": [
    {
     "name": "stderr",
     "output_type": "stream",
     "text": [
      "c:\\users\\girardotm\\appdata\\local\\continuum\\anaconda2\\envs\\graph_ml_problems\\lib\\site-packages\\h5py\\__init__.py:36: FutureWarning: Conversion of the second argument of issubdtype from `float` to `np.floating` is deprecated. In future, it will be treated as `np.float64 == np.dtype(float).type`.\n",
      "  from ._conv import register_converters as _register_converters\n",
      "Using TensorFlow backend.\n"
     ]
    }
   ],
   "source": [
    "from keras.models import Sequential\n",
    "from keras.layers import Dense\n",
    "from keras.optimizers import Adam"
   ]
  },
  {
   "cell_type": "markdown",
   "metadata": {},
   "source": [
    "Input is a vector of nodes' congestion  in the current state. Output is the action vector."
   ]
  },
  {
   "cell_type": "code",
   "execution_count": 4,
   "metadata": {},
   "outputs": [],
   "source": [
    "state_size = 10\n",
    "action_size = 10"
   ]
  },
  {
   "cell_type": "code",
   "execution_count": 294,
   "metadata": {},
   "outputs": [],
   "source": [
    "model = Sequential()\n",
    "model.add(Dense(32, input_dim=state_size, activation='relu'))\n",
    "model.add(Dense(32, activation='relu'))\n",
    "model.add(Dense(action_size, activation='softmax'))"
   ]
  },
  {
   "cell_type": "code",
   "execution_count": 295,
   "metadata": {},
   "outputs": [],
   "source": [
    "model.compile(loss='mse', optimizer='adam')"
   ]
  },
  {
   "cell_type": "code",
   "execution_count": 296,
   "metadata": {},
   "outputs": [
    {
     "name": "stdout",
     "output_type": "stream",
     "text": [
      "_________________________________________________________________\n",
      "Layer (type)                 Output Shape              Param #   \n",
      "=================================================================\n",
      "dense_4 (Dense)              (None, 32)                352       \n",
      "_________________________________________________________________\n",
      "dense_5 (Dense)              (None, 32)                1056      \n",
      "_________________________________________________________________\n",
      "dense_6 (Dense)              (None, 10)                330       \n",
      "=================================================================\n",
      "Total params: 1,738\n",
      "Trainable params: 1,738\n",
      "Non-trainable params: 0\n",
      "_________________________________________________________________\n"
     ]
    }
   ],
   "source": [
    "model.summary()"
   ]
  },
  {
   "cell_type": "markdown",
   "metadata": {},
   "source": [
    "## Network"
   ]
  },
  {
   "cell_type": "code",
   "execution_count": 7,
   "metadata": {
    "collapsed": true
   },
   "outputs": [],
   "source": [
    "g = RandGraph(actors=100, moving=5, n_core_nodes=10)"
   ]
  },
  {
   "cell_type": "code",
   "execution_count": 8,
   "metadata": {},
   "outputs": [
    {
     "data": {
      "image/png": "[encoded data removed]",
      "text/plain": [
       "<matplotlib.figure.Figure at 0x7fe1739be908>"
      ]
     },
     "metadata": {},
     "output_type": "display_data"
    }
   ],
   "source": [
    "g.plot()"
   ]
  },
  {
   "cell_type": "code",
   "execution_count": 44,
   "metadata": {
    "collapsed": true
   },
   "outputs": [],
   "source": [
    "state, reward = g.action()"
   ]
  },
  {
   "cell_type": "code",
   "execution_count": 45,
   "metadata": {},
   "outputs": [
    {
     "data": {
      "text/plain": [
       "array([[0.5, 0. , 0. , 0. , 0. , 0. , 0. , 0. , 0. , 0. ]])"
      ]
     },
     "execution_count": 45,
     "metadata": {},
     "output_type": "execute_result"
    }
   ],
   "source": [
    "# nodes congestion\n",
    "state"
   ]
  },
  {
   "cell_type": "code",
   "execution_count": 46,
   "metadata": {},
   "outputs": [
    {
     "data": {
      "text/plain": [
       "20.0"
      ]
     },
     "execution_count": 46,
     "metadata": {},
     "output_type": "execute_result"
    }
   ],
   "source": [
    "reward"
   ]
  },
  {
   "cell_type": "markdown",
   "metadata": {},
   "source": [
    "## Action vector"
   ]
  },
  {
   "cell_type": "code",
   "execution_count": 66,
   "metadata": {},
   "outputs": [
    {
     "data": {
      "text/plain": [
       "array([[ True,  True,  True,  True, False, False,  True, False,  True,\n",
       "        False]])"
      ]
     },
     "execution_count": 66,
     "metadata": {},
     "output_type": "execute_result"
    }
   ],
   "source": [
    "model.predict(state) > 0.1"
   ]
  },
  {
   "cell_type": "code",
   "execution_count": 70,
   "metadata": {
    "collapsed": true
   },
   "outputs": [],
   "source": [
    "action_vector = model.predict(state) > 0.1"
   ]
  },
  {
   "cell_type": "code",
   "execution_count": 74,
   "metadata": {},
   "outputs": [],
   "source": [
    "next_act = np.where(action_vector==True)[1] + min(g.core_nodes)"
   ]
  },
  {
   "cell_type": "code",
   "execution_count": 77,
   "metadata": {},
   "outputs": [
    {
     "data": {
      "text/plain": [
       "[9, 10, 11, 12, 15, 17]"
      ]
     },
     "execution_count": 77,
     "metadata": {},
     "output_type": "execute_result"
    }
   ],
   "source": [
    "list(next_act)"
   ]
  },
  {
   "cell_type": "code",
   "execution_count": 179,
   "metadata": {
    "collapsed": true
   },
   "outputs": [],
   "source": [
    "epsilon = 0.5\n",
    "def act(state):\n",
    "    if np.random.rand() <= epsilon:\n",
    "        # random action\n",
    "#         print('random')\n",
    "        k = random.randrange(0,len(g.core_nodes))\n",
    "        return random.sample(g.core_nodes, k)\n",
    "    else:\n",
    "        # predicted action\n",
    "#         print('predicted')\n",
    "        action_vector = model.predict(state) > 0.5\n",
    "        next_act = np.where(action_vector == True)[1] + min(g.core_nodes)\n",
    "        return list(next_act)"
   ]
  },
  {
   "cell_type": "code",
   "execution_count": 188,
   "metadata": {},
   "outputs": [
    {
     "name": "stdout",
     "output_type": "stream",
     "text": [
      "random\n"
     ]
    },
    {
     "data": {
      "text/plain": [
       "[10, 16, 18, 15, 17]"
      ]
     },
     "execution_count": 188,
     "metadata": {},
     "output_type": "execute_result"
    }
   ],
   "source": [
    "act(state)"
   ]
  },
  {
   "cell_type": "markdown",
   "metadata": {},
   "source": [
    "## get next state and reward"
   ]
  },
  {
   "cell_type": "code",
   "execution_count": 78,
   "metadata": {},
   "outputs": [],
   "source": [
    "next_state, reward = g.action(list(next_act))"
   ]
  },
  {
   "cell_type": "code",
   "execution_count": 79,
   "metadata": {},
   "outputs": [
    {
     "data": {
      "text/plain": [
       "array([[0.25, 0.  , 0.  , 0.  , 0.5 , 0.  , 0.  , 0.  , 0.  , 0.  ]])"
      ]
     },
     "execution_count": 79,
     "metadata": {},
     "output_type": "execute_result"
    }
   ],
   "source": [
    "next_state"
   ]
  },
  {
   "cell_type": "code",
   "execution_count": 80,
   "metadata": {},
   "outputs": [
    {
     "data": {
      "text/plain": [
       "-6.666666666666666"
      ]
     },
     "execution_count": 80,
     "metadata": {},
     "output_type": "execute_result"
    }
   ],
   "source": [
    "reward"
   ]
  },
  {
   "cell_type": "markdown",
   "metadata": {},
   "source": [
    "## Deep Q-learning with experience replay"
   ]
  },
  {
   "cell_type": "markdown",
   "metadata": {},
   "source": [
    "Initialize replay memory $ \\mathcal D $ to capacity $\\mathrm N $\n",
    "Initialize action-value function $\\mathcal Q$ with random weights\n",
    "\n",
    "$\\quad$ **for** $episode = 1, M $ **do**   \n",
    "$\\quad$ Initialize sequence $ s_1 = \\{x_1\\}$ and preprocessed sequenced $ \\phi_1 = \\phi(s_1)$  \n",
    "$\\quad$ $\\quad$ **for** $ t = 1, T $ **do**  \n",
    "$\\quad$ $\\quad$ $\\quad$ With probability $\\epsilon$ to select a random action $ a_t $ or predicted action $ a_t = max_a Q^*(\\phi(s_t),a; \\theta) $  \n",
    "$\\quad$ $\\quad$ $\\quad$ Execute action $a_t$ and observe reward $r_t$ and state $x_{t+1}$  \n",
    "$\\quad$ $\\quad$ $\\quad$ Set $s_{t+1} = s_t, a_t, x_{t+1}$  and preprocess $\\phi_{t+1} = \\phi(s_{t+1})$  \n",
    "$\\quad$ $\\quad$ $\\quad$ Store transition $(\\phi_t, a_t, r_t, \\phi_{t+1}) \\,\\, in \\,\\, \\mathcal D $  \n",
    "$\\quad$ $\\quad$ $\\quad$ Sample random minibatch transitions $(\\phi_j, a_j, r_j, \\phi_{j+1}$ from $\\mathcal D$  \n",
    "$\\quad$ $\\quad$ $\\quad$ Set $ y_i = \\bigg\\{^{r_j}_{r_j + \\gamma max_{a'}Q(\\phi_{j+1}, a'; \\theta)} $ for terminal or non terminal $\\phi_{j+1}$, respectively  \n",
    "$\\quad$ $\\quad$ $\\quad$ Perform gradient descent step on $(y_i - Q(\\phi_j, a_j; \\theta))^2 $  \n",
    "$\\quad$ $\\quad$ **end for**  \n",
    "$\\quad$ **end for**  "
   ]
  },
  {
   "cell_type": "markdown",
   "metadata": {},
   "source": [
    "$\\phi$ is a function producing a fixed length representation of histories.  \n",
    "$s_t$ is the finite sequence of observation and actions $ x_1, a_1, x_2, \\ldots , a_{t-1}, x_t $ at time $t$  \n",
    "$Q^*(s,a)$ is the maximum expected return achievable by following any strategy after some sequence $s$ and action $a$\n",
    "$$ Q^*(s,a) = max_\\pi \\mathbb E \\left[R_t \\,\\rvert\\, s_t = s, a_t = a, \\pi \\right] $$  \n",
    "where $\\pi$ is the policy mapping sequences to actions.  \n"
   ]
  },
  {
   "cell_type": "markdown",
   "metadata": {
    "collapsed": true
   },
   "source": [
    "## Model $Q(\\theta)$"
   ]
  },
  {
   "cell_type": "markdown",
   "metadata": {},
   "source": [
    "`input` = $s_t$  \n",
    "`output` = $a_t$  \n"
   ]
  },
  {
   "cell_type": "markdown",
   "metadata": {},
   "source": [
    "## Define action space"
   ]
  },
  {
   "cell_type": "code",
   "execution_count": 152,
   "metadata": {},
   "outputs": [
    {
     "data": {
      "text/plain": [
       "90"
      ]
     },
     "execution_count": 152,
     "metadata": {},
     "output_type": "execute_result"
    }
   ],
   "source": [
    "# for 10 nodes\n",
    "core_nodes = 10\n",
    "# how many combinations ?\n",
    "action_space = core_nodes*(core_nodes - 1)\n"
   ]
  },
  {
   "cell_type": "code",
   "execution_count": 167,
   "metadata": {},
   "outputs": [],
   "source": [
    "from itertools import product"
   ]
  },
  {
   "cell_type": "code",
   "execution_count": 171,
   "metadata": {},
   "outputs": [
    {
     "data": {
      "text/plain": [
       "1024"
      ]
     },
     "execution_count": 171,
     "metadata": {},
     "output_type": "execute_result"
    }
   ],
   "source": [
    "action_space = list(product([0,1], repeat=10))\n",
    "len(action_space)"
   ]
  },
  {
   "cell_type": "code",
   "execution_count": 179,
   "metadata": {},
   "outputs": [
    {
     "data": {
      "image/png": "[encoded data removed]",
      "text/plain": [
       "<Figure size 432x288 with 1 Axes>"
      ]
     },
     "metadata": {},
     "output_type": "display_data"
    }
   ],
   "source": [
    "pd.DataFrame([len(list(product([0,1], repeat=n))) for n in range(1,20)]).plot()\n",
    "plt.show()"
   ]
  },
  {
   "cell_type": "markdown",
   "metadata": {},
   "source": [
    "The action space is too large when we increase the number of controllable nodes. We will limit ourself to one node per action."
   ]
  },
  {
   "cell_type": "code",
   "execution_count": 193,
   "metadata": {},
   "outputs": [],
   "source": [
    "# If we choose to block one node at a time\n",
    "output_val = np.array([0.1,0.2,0.3,0.4,0.5,0.6,0.7,0.2,0.1,0.3])"
   ]
  },
  {
   "cell_type": "code",
   "execution_count": 194,
   "metadata": {},
   "outputs": [
    {
     "data": {
      "text/plain": [
       "6"
      ]
     },
     "execution_count": 194,
     "metadata": {},
     "output_type": "execute_result"
    }
   ],
   "source": [
    "# We choose the node with the max Q value\n",
    "np.argmax(output_val)"
   ]
  },
  {
   "cell_type": "code",
   "execution_count": 74,
   "metadata": {},
   "outputs": [
    {
     "data": {
      "text/plain": [
       "array([4, 5, 6], dtype=int64)"
      ]
     },
     "execution_count": 74,
     "metadata": {},
     "output_type": "execute_result"
    }
   ],
   "source": [
    "# Choose k nodes with max proba\n",
    "k = 3\n",
    "np.argpartition(output_val, -k)[-k:]"
   ]
  },
  {
   "cell_type": "code",
   "execution_count": 75,
   "metadata": {},
   "outputs": [
    {
     "data": {
      "text/plain": [
       "array([5, 6], dtype=int64)"
      ]
     },
     "execution_count": 75,
     "metadata": {},
     "output_type": "execute_result"
    }
   ],
   "source": [
    "# Choose threshold for action\n",
    "threshold = 0.5\n",
    "np.where(output_val > threshold)[0]"
   ]
  },
  {
   "cell_type": "code",
   "execution_count": 76,
   "metadata": {},
   "outputs": [],
   "source": [
    "epsilon = 0.5"
   ]
  },
  {
   "cell_type": "code",
   "execution_count": 300,
   "metadata": {},
   "outputs": [],
   "source": [
    "def act(state, action_size):\n",
    "    if np.random.rand() <= epsilon:\n",
    "#         print('random')\n",
    "        return np.array([[np.random.rand() for _ in range(action_size)]])\n",
    "    else:\n",
    "#         print('model')\n",
    "        return model.predict(state)"
   ]
  },
  {
   "cell_type": "code",
   "execution_count": 301,
   "metadata": {},
   "outputs": [
    {
     "data": {
      "text/plain": [
       "array([[0.1, 0.1, 0.1, 0.1, 0.1, 0.1, 0.1, 0.1, 0.1, 0.1]], dtype=float32)"
      ]
     },
     "execution_count": 301,
     "metadata": {},
     "output_type": "execute_result"
    }
   ],
   "source": [
    "act(np.zeros((1,10)), core_nodes)"
   ]
  },
  {
   "cell_type": "markdown",
   "metadata": {},
   "source": [
    "## Env interaction"
   ]
  },
  {
   "cell_type": "code",
   "execution_count": 114,
   "metadata": {},
   "outputs": [],
   "source": [
    "g = RandGraph(actors=100, moving=5, n_core_nodes=10)"
   ]
  },
  {
   "cell_type": "code",
   "execution_count": 128,
   "metadata": {},
   "outputs": [],
   "source": [
    "next_state, reward = g.action(act_val)"
   ]
  },
  {
   "cell_type": "code",
   "execution_count": 129,
   "metadata": {},
   "outputs": [
    {
     "data": {
      "text/plain": [
       "array([[0.        , 0.        , 0.        , 0.        , 0.        ,\n",
       "        0.16666667, 0.        , 0.2       , 0.        , 0.        ]])"
      ]
     },
     "execution_count": 129,
     "metadata": {},
     "output_type": "execute_result"
    }
   ],
   "source": [
    "next_state"
   ]
  },
  {
   "cell_type": "code",
   "execution_count": 130,
   "metadata": {},
   "outputs": [
    {
     "data": {
      "text/plain": [
       "27.27272727272727"
      ]
     },
     "execution_count": 130,
     "metadata": {},
     "output_type": "execute_result"
    }
   ],
   "source": [
    "reward"
   ]
  },
  {
   "cell_type": "markdown",
   "metadata": {},
   "source": [
    "## Memory $\\mathcal D$"
   ]
  },
  {
   "cell_type": "code",
   "execution_count": 227,
   "metadata": {},
   "outputs": [],
   "source": [
    "state = np.array([[0.,0.,0.0,0.,0.0,.0,.0,0.,0.,0.]])"
   ]
  },
  {
   "cell_type": "code",
   "execution_count": 228,
   "metadata": {},
   "outputs": [],
   "source": [
    "# each transition is stored in D\n",
    "\n",
    "D = []\n",
    "D.append({'state':state, 'action':act_val, 'reward':reward, 'next_state':next_state})"
   ]
  },
  {
   "cell_type": "code",
   "execution_count": 229,
   "metadata": {},
   "outputs": [
    {
     "data": {
      "text/plain": [
       "[{'state': array([[0., 0., 0., 0., 0., 0., 0., 0., 0., 0.]]),\n",
       "  'action': [8],\n",
       "  'reward': 27.27272727272727,\n",
       "  'next_state': array([[0.        , 0.        , 0.        , 0.        , 0.        ,\n",
       "          0.16666667, 0.        , 0.2       , 0.        , 0.        ]])}]"
      ]
     },
     "execution_count": 229,
     "metadata": {},
     "output_type": "execute_result"
    }
   ],
   "source": [
    "D"
   ]
  },
  {
   "cell_type": "code",
   "execution_count": 230,
   "metadata": {},
   "outputs": [
    {
     "data": {
      "text/plain": [
       "27.27272727272727"
      ]
     },
     "execution_count": 230,
     "metadata": {},
     "output_type": "execute_result"
    }
   ],
   "source": [
    "D[0]['reward']"
   ]
  },
  {
   "cell_type": "code",
   "execution_count": 231,
   "metadata": {},
   "outputs": [
    {
     "data": {
      "text/plain": [
       "[{'state': array([[0., 0., 0., 0., 0., 0., 0., 0., 0., 0.]]),\n",
       "  'action': [8],\n",
       "  'reward': 27.27272727272727,\n",
       "  'next_state': array([[0.        , 0.        , 0.        , 0.        , 0.        ,\n",
       "          0.16666667, 0.        , 0.2       , 0.        , 0.        ]])}]"
      ]
     },
     "execution_count": 231,
     "metadata": {},
     "output_type": "execute_result"
    }
   ],
   "source": [
    "# replay\n",
    "batch_size = 1\n",
    "batch = random.sample(D, batch_size)\n",
    "batch"
   ]
  },
  {
   "cell_type": "markdown",
   "metadata": {},
   "source": [
    "## Set target"
   ]
  },
  {
   "cell_type": "code",
   "execution_count": 232,
   "metadata": {},
   "outputs": [],
   "source": [
    "# discount\n",
    "gamma = 0.95"
   ]
  },
  {
   "cell_type": "code",
   "execution_count": 234,
   "metadata": {},
   "outputs": [],
   "source": [
    "for b in batch:\n",
    "    target = b['reward'] + gamma * np.amax(model.predict(b['next_state']))\n",
    "    target_f = model.predict(b['state'].reshape((1,10)))\n",
    "    target_f[0][b['action']] = target\n",
    "    model.fit(b['state'], target_f, epochs=1, verbose=0)"
   ]
  },
  {
   "cell_type": "code",
   "execution_count": 235,
   "metadata": {},
   "outputs": [
    {
     "data": {
      "text/plain": [
       "array([[ 0.1     ,  0.1     ,  0.1     ,  0.1     ,  0.1     ,  0.1     ,\n",
       "         0.1     ,  0.1     , 27.371435,  0.1     ]], dtype=float32)"
      ]
     },
     "execution_count": 235,
     "metadata": {},
     "output_type": "execute_result"
    }
   ],
   "source": [
    "target_f"
   ]
  },
  {
   "cell_type": "markdown",
   "metadata": {},
   "source": [
    "## Training"
   ]
  },
  {
   "cell_type": "code",
   "execution_count": 406,
   "metadata": {},
   "outputs": [],
   "source": [
    "# initial state 0.0\n",
    "state = np.array([0.,0.,0.,0.,0.,0.,0.,0.,0.,0.]).reshape((1,10))\n",
    "# memory\n",
    "D = []"
   ]
  },
  {
   "cell_type": "code",
   "execution_count": 407,
   "metadata": {},
   "outputs": [],
   "source": [
    "g = RandGraph(actors=10000, moving=5, n_core_nodes=10)"
   ]
  },
  {
   "cell_type": "code",
   "execution_count": 426,
   "metadata": {},
   "outputs": [],
   "source": [
    "for time_t in range(100):\n",
    "    act_val  = act(state, core_nodes)\n",
    "    blocked_node = [g.core_nodes[np.argmax(act_val)]]\n",
    "    # env interaction\n",
    "    next_state, reward = g.action(blocked_node)\n",
    "    next_state = np.reshape(next_state, (1,core_nodes))\n",
    "    # stop condition\n",
    "    if np.isinf(reward) and not np.isnan(reward):\n",
    "        break\n",
    "    # remember\n",
    "    D.append({'state':state, 'action':act_val, 'reward':reward, 'next_state':next_state})\n",
    "    # move to next step\n",
    "    state = next_state"
   ]
  },
  {
   "cell_type": "code",
   "execution_count": 427,
   "metadata": {},
   "outputs": [
    {
     "data": {
      "text/plain": [
       "100"
      ]
     },
     "execution_count": 427,
     "metadata": {},
     "output_type": "execute_result"
    }
   ],
   "source": [
    "len(D)"
   ]
  },
  {
   "cell_type": "code",
   "execution_count": 428,
   "metadata": {},
   "outputs": [
    {
     "data": {
      "image/png": "[encoded data removed]",
      "text/plain": [
       "<Figure size 432x288 with 1 Axes>"
      ]
     },
     "metadata": {},
     "output_type": "display_data"
    }
   ],
   "source": [
    "pd.DataFrame([n['reward'] for n in D]).plot()\n",
    "plt.show()"
   ]
  },
  {
   "cell_type": "code",
   "execution_count": 429,
   "metadata": {},
   "outputs": [
    {
     "data": {
      "text/plain": [
       "0.0"
      ]
     },
     "execution_count": 429,
     "metadata": {},
     "output_type": "execute_result"
    }
   ],
   "source": [
    "sum([n['reward'] for n in D])"
   ]
  },
  {
   "cell_type": "markdown",
   "metadata": {},
   "source": [
    "## Replay"
   ]
  },
  {
   "cell_type": "code",
   "execution_count": 430,
   "metadata": {},
   "outputs": [],
   "source": [
    "batch_size = 8\n",
    "minibatch = random.sample(D, batch_size)"
   ]
  },
  {
   "cell_type": "code",
   "execution_count": 431,
   "metadata": {},
   "outputs": [],
   "source": [
    "for b in minibatch:\n",
    "    target = reward + gamma * np.amax(model.predict(b['next_state']))\n",
    "    target_f = model.predict(b['state'].reshape((1,10)))\n",
    "    target_f[0][np.argmax(b['action'])] = target\n",
    "    model.fit(b['state'], target_f, epochs=1, verbose=0)"
   ]
  },
  {
   "cell_type": "code",
   "execution_count": 432,
   "metadata": {},
   "outputs": [
    {
     "data": {
      "text/plain": [
       "array([[0.70267147, 0.07556163, 0.0972218 , 0.09671499, 0.12835136,\n",
       "        0.17825064, 0.12823045, 0.0917884 , 0.08032601, 0.07278293]],\n",
       "      dtype=float32)"
      ]
     },
     "execution_count": 432,
     "metadata": {},
     "output_type": "execute_result"
    }
   ],
   "source": [
    "target_f"
   ]
  },
  {
   "cell_type": "code",
   "execution_count": 433,
   "metadata": {},
   "outputs": [
    {
     "data": {
      "text/plain": [
       "array([[0., 0., 0., 0., 0., 0., 1., 1., 1., 0.]])"
      ]
     },
     "execution_count": 433,
     "metadata": {},
     "output_type": "execute_result"
    }
   ],
   "source": [
    "state"
   ]
  },
  {
   "cell_type": "code",
   "execution_count": 425,
   "metadata": {},
   "outputs": [
    {
     "data": {
      "image/png": "[encoded data removed]",
      "text/plain": [
       "<Figure size 432x288 with 1 Axes>"
      ]
     },
     "metadata": {},
     "output_type": "display_data"
    }
   ],
   "source": [
    "g.plot()"
   ]
  },
  {
   "cell_type": "markdown",
   "metadata": {},
   "source": [
    "## Setup simple graph"
   ]
  },
  {
   "cell_type": "code",
   "execution_count": 236,
   "metadata": {},
   "outputs": [],
   "source": [
    "g = RandGraph(actors=1000,graph_type='simple')"
   ]
  },
  {
   "cell_type": "code",
   "execution_count": 237,
   "metadata": {},
   "outputs": [
    {
     "data": {
      "image/png": "[encoded data removed]",
      "text/plain": [
       "<Figure size 432x288 with 1 Axes>"
      ]
     },
     "metadata": {},
     "output_type": "display_data"
    }
   ],
   "source": [
    "g.plot()"
   ]
  },
  {
   "cell_type": "code",
   "execution_count": 238,
   "metadata": {},
   "outputs": [
    {
     "data": {
      "text/plain": [
       "NodeDataView({1: {'actors': None}, 2: {'actors': None}, 7: {'actors': None}, 3: {'capacity': 7, 'actors': None}, 4: {'capacity': 6, 'actors': None}, 5: {'capacity': 2, 'actors': None}, 6: {'capacity': 2, 'actors': None}})"
      ]
     },
     "execution_count": 238,
     "metadata": {},
     "output_type": "execute_result"
    }
   ],
   "source": [
    "g.graph.nodes(data=True)"
   ]
  },
  {
   "cell_type": "code",
   "execution_count": 192,
   "metadata": {},
   "outputs": [],
   "source": [
    "state_size = len(g.core_nodes)\n",
    "action_size = len(g.core_nodes)\n",
    "epsilon = 0.5\n",
    "gamma = 0.95"
   ]
  },
  {
   "cell_type": "code",
   "execution_count": 193,
   "metadata": {},
   "outputs": [],
   "source": [
    "model = Sequential()\n",
    "model.add(Dense(32, input_dim=state_size, activation='relu'))\n",
    "model.add(Dense(32, activation='relu'))\n",
    "model.add(Dense(action_size, activation='softmax'))\n",
    "model.compile(loss='mse', optimizer='adam')"
   ]
  },
  {
   "cell_type": "code",
   "execution_count": 194,
   "metadata": {},
   "outputs": [],
   "source": [
    "# initial state 0.0\n",
    "state = np.array([0.,0.,0.,0.]).reshape((1,4))\n",
    "# memory\n",
    "D = []"
   ]
  },
  {
   "cell_type": "code",
   "execution_count": 195,
   "metadata": {},
   "outputs": [],
   "source": [
    "def act(state, action_size):\n",
    "    if np.random.rand() <= epsilon:\n",
    "        return np.array([[np.random.rand() for _ in range(action_size)]])\n",
    "    else:\n",
    "        return model.predict(state)"
   ]
  },
  {
   "cell_type": "code",
   "execution_count": 196,
   "metadata": {},
   "outputs": [],
   "source": [
    "for time_t in range(100):\n",
    "    act_val  = act(state, state_size)\n",
    "    blocked_node = [g.core_nodes[n] for n in np.where(act_val > 0.5)[0]]\n",
    "    # env interaction\n",
    "    next_state, reward = g.action(blocked_node)\n",
    "    next_state = np.reshape(next_state, (1,state_size))\n",
    "    # stop condition\n",
    "    if np.isinf(reward) and not np.isnan(reward):\n",
    "        break\n",
    "    # remember\n",
    "    D.append({'state':state, 'action':act_val, 'reward':reward, 'next_state':next_state})\n",
    "    # move to next step\n",
    "    state = next_state"
   ]
  },
  {
   "cell_type": "code",
   "execution_count": 197,
   "metadata": {},
   "outputs": [
    {
     "data": {
      "image/png": "[encoded data removed]",
      "text/plain": [
       "<Figure size 432x288 with 1 Axes>"
      ]
     },
     "metadata": {},
     "output_type": "display_data"
    }
   ],
   "source": [
    "pd.DataFrame([n['reward'] for n in D]).plot()\n",
    "plt.show()"
   ]
  },
  {
   "cell_type": "code",
   "execution_count": 198,
   "metadata": {},
   "outputs": [],
   "source": [
    "batch_size = 8\n",
    "minibatch = random.sample(D, batch_size)"
   ]
  },
  {
   "cell_type": "code",
   "execution_count": 199,
   "metadata": {},
   "outputs": [],
   "source": [
    "for b in minibatch:\n",
    "    target = reward + gamma * np.amax(model.predict(b['next_state']))\n",
    "    target_f = model.predict(b['state'].reshape((1,state_size)))\n",
    "    target_f[0][np.argmax(b['action'])] = target\n",
    "    model.fit(b['state'], target_f, epochs=1, verbose=0)"
   ]
  },
  {
   "cell_type": "code",
   "execution_count": 200,
   "metadata": {},
   "outputs": [
    {
     "data": {
      "text/plain": [
       "0.5"
      ]
     },
     "execution_count": 200,
     "metadata": {},
     "output_type": "execute_result"
    }
   ],
   "source": [
    "sum([n['reward'] for n in D])"
   ]
  },
  {
   "cell_type": "code",
   "execution_count": 201,
   "metadata": {},
   "outputs": [
    {
     "data": {
      "text/plain": [
       "[{'state': array([[1., 1., 1., 1.]]),\n",
       "  'action': array([[0.23123978, 0.35251465, 0.25076485, 0.16548066]], dtype=float32),\n",
       "  'reward': 0.0,\n",
       "  'next_state': array([[1., 1., 1., 1.]])},\n",
       " {'state': array([[1., 1., 1., 1.]]),\n",
       "  'action': array([[0.74790238, 0.41739594, 0.13907554, 0.04349214]]),\n",
       "  'reward': 0.0,\n",
       "  'next_state': array([[1., 1., 1., 1.]])},\n",
       " {'state': array([[1., 1., 1., 1.]]),\n",
       "  'action': array([[0.23123978, 0.35251465, 0.25076485, 0.16548066]], dtype=float32),\n",
       "  'reward': 0.0,\n",
       "  'next_state': array([[1., 1., 1., 1.]])},\n",
       " {'state': array([[1., 1., 1., 1.]]),\n",
       "  'action': array([[0.23123978, 0.35251465, 0.25076485, 0.16548066]], dtype=float32),\n",
       "  'reward': 0.0,\n",
       "  'next_state': array([[1., 1., 1., 1.]])},\n",
       " {'state': array([[1., 1., 1., 1.]]),\n",
       "  'action': array([[0.23123978, 0.35251465, 0.25076485, 0.16548066]], dtype=float32),\n",
       "  'reward': 0.0,\n",
       "  'next_state': array([[1., 1., 1., 1.]])},\n",
       " {'state': array([[1., 1., 1., 1.]]),\n",
       "  'action': array([[0.07357617, 0.15692529, 0.18969682, 0.76251067]]),\n",
       "  'reward': 0.0,\n",
       "  'next_state': array([[1., 1., 1., 1.]])}]"
      ]
     },
     "execution_count": 201,
     "metadata": {},
     "output_type": "execute_result"
    }
   ],
   "source": [
    "D[-6:]"
   ]
  },
  {
   "cell_type": "code",
   "execution_count": 182,
   "metadata": {},
   "outputs": [
    {
     "data": {
      "text/plain": [
       "array([[0.22611351, 0.23594446, 0.22232471, 0.28225005]], dtype=float32)"
      ]
     },
     "execution_count": 182,
     "metadata": {},
     "output_type": "execute_result"
    }
   ],
   "source": [
    "target_f"
   ]
  },
  {
   "cell_type": "markdown",
   "metadata": {},
   "source": [
    "## Bloking a combination of nodes"
   ]
  },
  {
   "cell_type": "code",
   "execution_count": 202,
   "metadata": {},
   "outputs": [],
   "source": [
    "from itertools import combinations"
   ]
  },
  {
   "cell_type": "code",
   "execution_count": 232,
   "metadata": {},
   "outputs": [],
   "source": [
    "comb = []\n",
    "for i in range(1,len(g.core_nodes)+1):\n",
    "    comb.extend(list(combinations(g.core_nodes,i)))"
   ]
  },
  {
   "cell_type": "code",
   "execution_count": 233,
   "metadata": {},
   "outputs": [
    {
     "data": {
      "text/plain": [
       "[(3,),\n",
       " (4,),\n",
       " (5,),\n",
       " (6,),\n",
       " (3, 4),\n",
       " (3, 5),\n",
       " (3, 6),\n",
       " (4, 5),\n",
       " (4, 6),\n",
       " (5, 6),\n",
       " (3, 4, 5),\n",
       " (3, 4, 6),\n",
       " (3, 5, 6),\n",
       " (4, 5, 6),\n",
       " (3, 4, 5, 6)]"
      ]
     },
     "execution_count": 233,
     "metadata": {},
     "output_type": "execute_result"
    }
   ],
   "source": [
    "comb"
   ]
  },
  {
   "cell_type": "code",
   "execution_count": 234,
   "metadata": {},
   "outputs": [],
   "source": [
    "state_size = len(g.core_nodes)\n",
    "action_size = len(comb)\n",
    "epsilon = 0.5\n",
    "gamma = 0.95"
   ]
  },
  {
   "cell_type": "code",
   "execution_count": 235,
   "metadata": {},
   "outputs": [],
   "source": [
    "model = Sequential()\n",
    "model.add(Dense(32, input_dim=state_size, activation='relu'))\n",
    "model.add(Dense(32, activation='relu'))\n",
    "model.add(Dense(action_size, activation='softmax'))\n",
    "model.compile(loss='mse', optimizer='adam')"
   ]
  },
  {
   "cell_type": "code",
   "execution_count": 239,
   "metadata": {},
   "outputs": [],
   "source": [
    "# initial state 0.0\n",
    "state = np.array([0.,0.,0.,0.]).reshape((1,4))\n",
    "# memory\n",
    "D = []"
   ]
  },
  {
   "cell_type": "code",
   "execution_count": 247,
   "metadata": {},
   "outputs": [],
   "source": [
    "for time_t in range(100):\n",
    "    act_val  = act(state, action_size)\n",
    "    comb_nb = np.argmax(act_val)\n",
    "    blocked_node = comb[comb_nb]\n",
    "    # env interaction\n",
    "    next_state, reward = g.action(list(blocked_node))\n",
    "    next_state = np.reshape(next_state, (1,state_size))\n",
    "    # stop condition\n",
    "    if np.isinf(reward) and not np.isnan(reward):\n",
    "        break\n",
    "    # remember\n",
    "    D.append({'state':state, 'action':act_val, 'reward':reward, 'next_state':next_state})\n",
    "    # move to next step\n",
    "    state = next_state"
   ]
  },
  {
   "cell_type": "code",
   "execution_count": 248,
   "metadata": {},
   "outputs": [
    {
     "data": {
      "image/png": "[encoded data removed]",
      "text/plain": [
       "<Figure size 432x288 with 1 Axes>"
      ]
     },
     "metadata": {},
     "output_type": "display_data"
    }
   ],
   "source": [
    "pd.DataFrame([n['reward'] for n in D]).plot()\n",
    "plt.show()"
   ]
  },
  {
   "cell_type": "code",
   "execution_count": 249,
   "metadata": {},
   "outputs": [],
   "source": [
    "batch_size = 8\n",
    "minibatch = random.sample(D, batch_size)\n",
    "for b in minibatch:\n",
    "    target = reward + gamma * np.amax(model.predict(b['next_state']))\n",
    "    target_f = model.predict(b['state'].reshape((1,state_size)))\n",
    "    target_f[0][np.argmax(b['action'])] = target\n",
    "    model.fit(b['state'], target_f, epochs=1, verbose=0)"
   ]
  },
  {
   "cell_type": "code",
   "execution_count": 250,
   "metadata": {},
   "outputs": [
    {
     "data": {
      "text/plain": [
       "{'state': array([[1.        , 0.83333333, 1.        , 0.        ]]),\n",
       " 'action': array([[0.65037094, 0.70401949, 0.34387382, 0.68786397, 0.33967549,\n",
       "         0.25485296, 0.33396321, 0.53842843, 0.73766485, 0.20506263,\n",
       "         0.36185844, 0.99320726, 0.19670876, 0.1567678 , 0.36863486]]),\n",
       " 'reward': 0.0,\n",
       " 'next_state': array([[1.        , 0.83333333, 1.        , 0.        ]])}"
      ]
     },
     "execution_count": 250,
     "metadata": {},
     "output_type": "execute_result"
    }
   ],
   "source": [
    "D[-1]"
   ]
  },
  {
   "cell_type": "code",
   "execution_count": 252,
   "metadata": {},
   "outputs": [
    {
     "data": {
      "text/plain": [
       "(3, 4, 6)"
      ]
     },
     "execution_count": 252,
     "metadata": {},
     "output_type": "execute_result"
    }
   ],
   "source": [
    "comb[np.argmax(D[-1]['action'])]"
   ]
  },
  {
   "cell_type": "markdown",
   "metadata": {},
   "source": [
    "## Manual experimentation"
   ]
  },
  {
   "cell_type": "code",
   "execution_count": 340,
   "metadata": {},
   "outputs": [],
   "source": [
    "g = RandGraph(actors=1000,graph_type='simple', moving=1)"
   ]
  },
  {
   "cell_type": "code",
   "execution_count": 341,
   "metadata": {},
   "outputs": [
    {
     "data": {
      "text/plain": [
       "NodeDataView({1: {'actors': None}, 2: {'actors': None}, 7: {'actors': None}, 3: {'capacity': 7, 'actors': None}, 4: {'capacity': 6, 'actors': None}, 5: {'capacity': 2, 'actors': None}, 6: {'capacity': 2, 'actors': None}})"
      ]
     },
     "execution_count": 341,
     "metadata": {},
     "output_type": "execute_result"
    }
   ],
   "source": [
    "g.graph.nodes(data=True)"
   ]
  },
  {
   "cell_type": "code",
   "execution_count": 342,
   "metadata": {},
   "outputs": [
    {
     "data": {
      "image/png": "[encoded data removed]",
      "text/plain": [
       "<Figure size 432x288 with 1 Axes>"
      ]
     },
     "metadata": {},
     "output_type": "display_data"
    }
   ],
   "source": [
    "g.plot()"
   ]
  },
  {
   "cell_type": "code",
   "execution_count": 343,
   "metadata": {},
   "outputs": [],
   "source": [
    "prev_output = 0\n",
    "def get_reward(g, state, prev_output):\n",
    "    out = sum([len(g.graph.node[n]['actors']) for n in g.exit_nodes if g.graph.node[n]['actors']])\n",
    "    congestion = 1 - np.mean(state)\n",
    "    reward = (out - prev_output) * congestion\n",
    "    prev_output = out\n",
    "    return reward, prev_output"
   ]
  },
  {
   "cell_type": "code",
   "execution_count": 344,
   "metadata": {},
   "outputs": [
    {
     "name": "stdout",
     "output_type": "stream",
     "text": [
      "[[0.         0.16666667 0.         0.        ]]\n",
      "0.0\n"
     ]
    },
    {
     "data": {
      "text/plain": [
       "NodeDataView({1: {'actors': None}, 2: {'actors': [b'196e6734']}, 7: {'actors': None}, 3: {'capacity': 7, 'actors': None}, 4: {'capacity': 6, 'actors': [b'196e6734']}, 5: {'capacity': 2, 'actors': None}, 6: {'capacity': 2, 'actors': None}})"
      ]
     },
     "execution_count": 344,
     "metadata": {},
     "output_type": "execute_result"
    }
   ],
   "source": [
    "blocked_nodes = []\n",
    "state, reward = g.action(blocked_nodes)\n",
    "print(state)\n",
    "reward, prev_output = get_reward(g,state, prev_output)\n",
    "print(reward)\n",
    "g.graph.nodes(data=True)"
   ]
  },
  {
   "cell_type": "code",
   "execution_count": 345,
   "metadata": {},
   "outputs": [
    {
     "name": "stdout",
     "output_type": "stream",
     "text": [
      "[[0.14285714 0.         0.5        0.        ]]\n",
      "0.0\n"
     ]
    },
    {
     "data": {
      "text/plain": [
       "NodeDataView({1: {'actors': [b'fb8838b5']}, 2: {'actors': [b'196e6734', b'fc382ce3']}, 7: {'actors': None}, 3: {'capacity': 7, 'actors': [b'fb8838b5']}, 4: {'capacity': 6, 'actors': []}, 5: {'capacity': 2, 'actors': [b'196e6734']}, 6: {'capacity': 2, 'actors': None}})"
      ]
     },
     "execution_count": 345,
     "metadata": {},
     "output_type": "execute_result"
    }
   ],
   "source": [
    "blocked_nodes = [4]\n",
    "state, reward = g.action(blocked_nodes)\n",
    "print(state)\n",
    "reward, prev_output = get_reward(g,state, prev_output)\n",
    "print(reward)\n",
    "g.graph.nodes(data=True)"
   ]
  },
  {
   "cell_type": "markdown",
   "metadata": {},
   "source": [
    "The next step, node 5 will recieve another actor, thus we need to block it to avoid saturation"
   ]
  },
  {
   "cell_type": "code",
   "execution_count": 346,
   "metadata": {},
   "outputs": [
    {
     "name": "stdout",
     "output_type": "stream",
     "text": [
      "[[0.         0.16666667 0.5        0.5       ]]\n",
      "0.0\n"
     ]
    },
    {
     "data": {
      "text/plain": [
       "NodeDataView({1: {'actors': [b'fb8838b5', b'2309d8f8', b'b7a54e95']}, 2: {'actors': [b'196e6734', b'fc382ce3']}, 7: {'actors': None}, 3: {'capacity': 7, 'actors': []}, 4: {'capacity': 6, 'actors': [b'fc382ce3']}, 5: {'capacity': 2, 'actors': [b'fb8838b5']}, 6: {'capacity': 2, 'actors': [b'196e6734']}})"
      ]
     },
     "execution_count": 346,
     "metadata": {},
     "output_type": "execute_result"
    }
   ],
   "source": [
    "blocked_nodes = [3]\n",
    "state, reward = g.action(blocked_nodes)\n",
    "print(state)\n",
    "reward, prev_output = get_reward(g,state, prev_output)\n",
    "print(reward)\n",
    "g.graph.nodes(data=True)"
   ]
  },
  {
   "cell_type": "code",
   "execution_count": 347,
   "metadata": {},
   "outputs": [
    {
     "name": "stdout",
     "output_type": "stream",
     "text": [
      "[[0.42857143 0.         0.5        0.5       ]]\n",
      "0.6428571428571428\n"
     ]
    },
    {
     "data": {
      "text/plain": [
       "NodeDataView({1: {'actors': [b'fb8838b5', b'2309d8f8', b'b7a54e95', b'223a802a']}, 2: {'actors': [b'196e6734', b'fc382ce3', b'825f4ce9', b'1fd0317b']}, 7: {'actors': [b'196e6734']}, 3: {'capacity': 7, 'actors': [b'2309d8f8', b'b7a54e95', b'223a802a']}, 4: {'capacity': 6, 'actors': []}, 5: {'capacity': 2, 'actors': [b'fc382ce3']}, 6: {'capacity': 2, 'actors': [b'fb8838b5']}})"
      ]
     },
     "execution_count": 347,
     "metadata": {},
     "output_type": "execute_result"
    }
   ],
   "source": [
    "blocked_nodes = [4]\n",
    "state, reward = g.action(blocked_nodes)\n",
    "print(state)\n",
    "reward, prev_output = get_reward(g,state, prev_output)\n",
    "print(reward)\n",
    "g.graph.nodes(data=True)"
   ]
  },
  {
   "cell_type": "code",
   "execution_count": 348,
   "metadata": {},
   "outputs": [
    {
     "name": "stdout",
     "output_type": "stream",
     "text": [
      "[[0.14285714 0.         1.         0.5       ]]\n",
      "0.5892857142857143\n"
     ]
    },
    {
     "data": {
      "text/plain": [
       "NodeDataView({1: {'actors': [b'fb8838b5', b'2309d8f8', b'b7a54e95', b'223a802a', b'3f3bdd50']}, 2: {'actors': [b'196e6734', b'fc382ce3', b'825f4ce9', b'1fd0317b', b'50ae9600', b'23e4109d', b'9e0292cb']}, 7: {'actors': [b'196e6734', b'fb8838b5']}, 3: {'capacity': 7, 'actors': [b'223a802a']}, 4: {'capacity': 6, 'actors': []}, 5: {'capacity': 2, 'actors': [b'2309d8f8', b'b7a54e95']}, 6: {'capacity': 2, 'actors': [b'fc382ce3']}})"
      ]
     },
     "execution_count": 348,
     "metadata": {},
     "output_type": "execute_result"
    }
   ],
   "source": [
    "blocked_nodes = [3,4]\n",
    "state, reward = g.action(blocked_nodes)\n",
    "print(state)\n",
    "reward, prev_output = get_reward(g,state, prev_output)\n",
    "print(reward)\n",
    "g.graph.nodes(data=True)"
   ]
  },
  {
   "cell_type": "markdown",
   "metadata": {},
   "source": [
    "The reward should reflect the increase in actors in the output nodes and the low congestion of the core nodes."
   ]
  },
  {
   "cell_type": "code",
   "execution_count": 349,
   "metadata": {},
   "outputs": [
    {
     "name": "stdout",
     "output_type": "stream",
     "text": [
      "[[0.  1.  0.5 1. ]]\n",
      "0.375\n"
     ]
    },
    {
     "data": {
      "text/plain": [
       "NodeDataView({1: {'actors': [b'fb8838b5', b'2309d8f8', b'b7a54e95', b'223a802a', b'3f3bdd50', b'4127117d', b'7096243a']}, 2: {'actors': [b'196e6734', b'fc382ce3', b'825f4ce9', b'1fd0317b', b'50ae9600', b'23e4109d', b'9e0292cb', b'e6d92883', b'8541fc6c']}, 7: {'actors': [b'196e6734', b'fb8838b5', b'fc382ce3']}, 3: {'capacity': 7, 'actors': []}, 4: {'capacity': 6, 'actors': [b'825f4ce9', b'1fd0317b', b'50ae9600', b'23e4109d', b'9e0292cb', b'e6d92883']}, 5: {'capacity': 2, 'actors': [b'223a802a']}, 6: {'capacity': 2, 'actors': [b'2309d8f8', b'b7a54e95']}})"
      ]
     },
     "execution_count": 349,
     "metadata": {},
     "output_type": "execute_result"
    }
   ],
   "source": [
    "blocked_nodes = [3]\n",
    "state, reward = g.action(blocked_nodes)\n",
    "print(state)\n",
    "reward, prev_output = get_reward(g,state, prev_output)\n",
    "print(reward)\n",
    "g.graph.nodes(data=True)"
   ]
  },
  {
   "cell_type": "code",
   "execution_count": 350,
   "metadata": {},
   "outputs": [
    {
     "name": "stdout",
     "output_type": "stream",
     "text": [
      "[[0.         0.66666667 1.         0.5       ]]\n",
      "0.9166666666666667\n"
     ]
    },
    {
     "data": {
      "text/plain": [
       "NodeDataView({1: {'actors': [b'fb8838b5', b'2309d8f8', b'b7a54e95', b'223a802a', b'3f3bdd50', b'4127117d', b'7096243a', b'7f8acf3f']}, 2: {'actors': [b'196e6734', b'fc382ce3', b'825f4ce9', b'1fd0317b', b'50ae9600', b'23e4109d', b'9e0292cb', b'e6d92883', b'8541fc6c', b'1b9c0dbb', b'57596b91', b'3a831165']}, 7: {'actors': [b'196e6734', b'fb8838b5', b'fc382ce3', b'2309d8f8', b'b7a54e95']}, 3: {'capacity': 7, 'actors': []}, 4: {'capacity': 6, 'actors': [b'50ae9600', b'23e4109d', b'9e0292cb', b'e6d92883']}, 5: {'capacity': 2, 'actors': [b'825f4ce9', b'1fd0317b']}, 6: {'capacity': 2, 'actors': [b'223a802a']}})"
      ]
     },
     "execution_count": 350,
     "metadata": {},
     "output_type": "execute_result"
    }
   ],
   "source": [
    "blocked_nodes = [3,4]\n",
    "state, reward = g.action(blocked_nodes)\n",
    "print(state)\n",
    "reward, prev_output = get_reward(g,state, prev_output)\n",
    "print(reward)\n",
    "g.graph.nodes(data=True)"
   ]
  },
  {
   "cell_type": "code",
   "execution_count": 353,
   "metadata": {},
   "outputs": [],
   "source": [
    "manual_collection = [0.0, 0.0, 0.0, 0.6428571428571428, 0.5892857142857143, 0.375, 0.9166666666666667]"
   ]
  },
  {
   "cell_type": "code",
   "execution_count": 351,
   "metadata": {},
   "outputs": [],
   "source": [
    "# compare to no action\n",
    "g = RandGraph(actors=1000,graph_type='simple', moving=1)\n",
    "prev_output = 0\n",
    "total_rewards = []\n",
    "for i in range(7):\n",
    "    state, _ = g.action()\n",
    "    reward, prev_output = get_reward(g,state, prev_output)\n",
    "    total_rewards.append(reward)"
   ]
  },
  {
   "cell_type": "code",
   "execution_count": 352,
   "metadata": {},
   "outputs": [
    {
     "data": {
      "text/plain": [
       "[0.0,\n",
       " 0.0,\n",
       " 0.0,\n",
       " 0.3392857142857143,\n",
       " 0.6309523809523809,\n",
       " 0.48809523809523814,\n",
       " 0.3333333333333335]"
      ]
     },
     "execution_count": 352,
     "metadata": {},
     "output_type": "execute_result"
    }
   ],
   "source": [
    "total_rewards"
   ]
  },
  {
   "cell_type": "code",
   "execution_count": 354,
   "metadata": {},
   "outputs": [
    {
     "data": {
      "image/png": "[encoded data removed]",
      "text/plain": [
       "<Figure size 432x288 with 1 Axes>"
      ]
     },
     "metadata": {},
     "output_type": "display_data"
    }
   ],
   "source": [
    "pd.DataFrame({'no_action':total_rewards, 'man_col': manual_collection}).plot()\n",
    "plt.show()"
   ]
  },
  {
   "cell_type": "code",
   "execution_count": 355,
   "metadata": {},
   "outputs": [
    {
     "data": {
      "text/plain": [
       "1.791666666666667"
      ]
     },
     "execution_count": 355,
     "metadata": {},
     "output_type": "execute_result"
    }
   ],
   "source": [
    "sum(total_rewards)"
   ]
  },
  {
   "cell_type": "code",
   "execution_count": 356,
   "metadata": {},
   "outputs": [
    {
     "data": {
      "text/plain": [
       "2.5238095238095237"
      ]
     },
     "execution_count": 356,
     "metadata": {},
     "output_type": "execute_result"
    }
   ],
   "source": [
    "sum(manual_collection)"
   ]
  },
  {
   "cell_type": "code",
   "execution_count": null,
   "metadata": {},
   "outputs": [],
   "source": []
  }
 ],
 "metadata": {
  "kernelspec": {
   "display_name": "Python 3",
   "language": "python",
   "name": "python3"
  },
  "language_info": {
   "codemirror_mode": {
    "name": "ipython",
    "version": 3
   },
   "file_extension": ".py",
   "mimetype": "text/x-python",
   "name": "python",
   "nbconvert_exporter": "python",
   "pygments_lexer": "ipython3",
   "version": "3.6.5"
  }
 },
 "nbformat": 4,
 "nbformat_minor": 2
}
