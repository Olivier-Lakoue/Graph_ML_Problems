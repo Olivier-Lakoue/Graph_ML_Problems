{
 "cells": [
  {
   "cell_type": "code",
   "execution_count": 1,
   "metadata": {
    "collapsed": true
   },
   "outputs": [],
   "source": [
    "%load_ext autoreload\n",
    "%autoreload 2"
   ]
  },
  {
   "cell_type": "code",
   "execution_count": 2,
   "metadata": {},
   "outputs": [],
   "source": [
    "import networkx as nx\n",
    "import sys\n",
    "import random\n",
    "sys.path.append('../src/')\n",
    "from random_graph import RandGraph\n",
    "import pandas as pd\n",
    "import numpy as np\n",
    "import seaborn as sns\n",
    "import matplotlib.pyplot as plt\n",
    "import random"
   ]
  },
  {
   "cell_type": "markdown",
   "metadata": {},
   "source": [
    "## Model"
   ]
  },
  {
   "cell_type": "code",
   "execution_count": 3,
   "metadata": {
    "collapsed": true
   },
   "outputs": [],
   "source": [
    "from keras.models import Sequential\n",
    "from keras.layers import Dense\n",
    "from keras.optimizers import Adam"
   ]
  },
  {
   "cell_type": "markdown",
   "metadata": {},
   "source": [
    "Input is a vector of nodes' congestion  in the current state. Output is the action vector."
   ]
  },
  {
   "cell_type": "code",
   "execution_count": 47,
   "metadata": {
    "collapsed": true
   },
   "outputs": [],
   "source": [
    "state_size = 10\n",
    "action_size = 10"
   ]
  },
  {
   "cell_type": "code",
   "execution_count": 59,
   "metadata": {
    "collapsed": true
   },
   "outputs": [],
   "source": [
    "model = Sequential()\n",
    "model.add(Dense(32, input_dim=state_size, activation='relu'))\n",
    "model.add(Dense(32, activation='relu'))\n",
    "model.add(Dense(action_size, activation='softmax'))"
   ]
  },
  {
   "cell_type": "code",
   "execution_count": 60,
   "metadata": {
    "collapsed": true
   },
   "outputs": [],
   "source": [
    "model.compile(loss='mse', optimizer='adam')"
   ]
  },
  {
   "cell_type": "code",
   "execution_count": 61,
   "metadata": {},
   "outputs": [
    {
     "name": "stdout",
     "output_type": "stream",
     "text": [
      "_________________________________________________________________\n",
      "Layer (type)                 Output Shape              Param #   \n",
      "=================================================================\n",
      "dense_16 (Dense)             (None, 32)                352       \n",
      "_________________________________________________________________\n",
      "dense_17 (Dense)             (None, 32)                1056      \n",
      "_________________________________________________________________\n",
      "dense_18 (Dense)             (None, 10)                330       \n",
      "=================================================================\n",
      "Total params: 1,738\n",
      "Trainable params: 1,738\n",
      "Non-trainable params: 0\n",
      "_________________________________________________________________\n"
     ]
    }
   ],
   "source": [
    "model.summary()"
   ]
  },
  {
   "cell_type": "markdown",
   "metadata": {},
   "source": [
    "## Network"
   ]
  },
  {
   "cell_type": "code",
   "execution_count": 7,
   "metadata": {
    "collapsed": true
   },
   "outputs": [],
   "source": [
    "g = RandGraph(actors=100, moving=5, n_core_nodes=10)"
   ]
  },
  {
   "cell_type": "code",
   "execution_count": 8,
   "metadata": {},
   "outputs": [
    {
     "data": {
      "image/png": "[encoded data removed]",
      "text/plain": [
       "<matplotlib.figure.Figure at 0x7fe1739be908>"
      ]
     },
     "metadata": {},
     "output_type": "display_data"
    }
   ],
   "source": [
    "g.plot()"
   ]
  },
  {
   "cell_type": "code",
   "execution_count": 44,
   "metadata": {
    "collapsed": true
   },
   "outputs": [],
   "source": [
    "state, reward = g.action()"
   ]
  },
  {
   "cell_type": "code",
   "execution_count": 45,
   "metadata": {},
   "outputs": [
    {
     "data": {
      "text/plain": [
       "array([[0.5, 0. , 0. , 0. , 0. , 0. , 0. , 0. , 0. , 0. ]])"
      ]
     },
     "execution_count": 45,
     "metadata": {},
     "output_type": "execute_result"
    }
   ],
   "source": [
    "# nodes congestion\n",
    "state"
   ]
  },
  {
   "cell_type": "code",
   "execution_count": 46,
   "metadata": {},
   "outputs": [
    {
     "data": {
      "text/plain": [
       "20.0"
      ]
     },
     "execution_count": 46,
     "metadata": {},
     "output_type": "execute_result"
    }
   ],
   "source": [
    "reward"
   ]
  },
  {
   "cell_type": "markdown",
   "metadata": {},
   "source": [
    "## Action vector"
   ]
  },
  {
   "cell_type": "code",
   "execution_count": 66,
   "metadata": {},
   "outputs": [
    {
     "data": {
      "text/plain": [
       "array([[ True,  True,  True,  True, False, False,  True, False,  True,\n",
       "        False]])"
      ]
     },
     "execution_count": 66,
     "metadata": {},
     "output_type": "execute_result"
    }
   ],
   "source": [
    "model.predict(state) > 0.1"
   ]
  },
  {
   "cell_type": "code",
   "execution_count": 70,
   "metadata": {
    "collapsed": true
   },
   "outputs": [],
   "source": [
    "action_vector = model.predict(state) > 0.1"
   ]
  },
  {
   "cell_type": "code",
   "execution_count": 74,
   "metadata": {},
   "outputs": [],
   "source": [
    "next_act = np.where(action_vector==True)[1] + min(g.core_nodes)"
   ]
  },
  {
   "cell_type": "code",
   "execution_count": 77,
   "metadata": {},
   "outputs": [
    {
     "data": {
      "text/plain": [
       "[9, 10, 11, 12, 15, 17]"
      ]
     },
     "execution_count": 77,
     "metadata": {},
     "output_type": "execute_result"
    }
   ],
   "source": [
    "list(next_act)"
   ]
  },
  {
   "cell_type": "code",
   "execution_count": 179,
   "metadata": {
    "collapsed": true
   },
   "outputs": [],
   "source": [
    "epsilon = 0.5\n",
    "def act(state):\n",
    "    if np.random.rand() <= epsilon:\n",
    "        # random action\n",
    "#         print('random')\n",
    "        k = random.randrange(0,len(g.core_nodes))\n",
    "        return random.sample(g.core_nodes, k)\n",
    "    else:\n",
    "        # predicted action\n",
    "#         print('predicted')\n",
    "        action_vector = model.predict(state) > 0.5\n",
    "        next_act = np.where(action_vector == True)[1] + min(g.core_nodes)\n",
    "        return list(next_act)"
   ]
  },
  {
   "cell_type": "code",
   "execution_count": 188,
   "metadata": {},
   "outputs": [
    {
     "name": "stdout",
     "output_type": "stream",
     "text": [
      "random\n"
     ]
    },
    {
     "data": {
      "text/plain": [
       "[10, 16, 18, 15, 17]"
      ]
     },
     "execution_count": 188,
     "metadata": {},
     "output_type": "execute_result"
    }
   ],
   "source": [
    "act(state)"
   ]
  },
  {
   "cell_type": "markdown",
   "metadata": {},
   "source": [
    "## get next state and reward"
   ]
  },
  {
   "cell_type": "code",
   "execution_count": 78,
   "metadata": {},
   "outputs": [],
   "source": [
    "next_state, reward = g.action(list(next_act))"
   ]
  },
  {
   "cell_type": "code",
   "execution_count": 79,
   "metadata": {},
   "outputs": [
    {
     "data": {
      "text/plain": [
       "array([[0.25, 0.  , 0.  , 0.  , 0.5 , 0.  , 0.  , 0.  , 0.  , 0.  ]])"
      ]
     },
     "execution_count": 79,
     "metadata": {},
     "output_type": "execute_result"
    }
   ],
   "source": [
    "next_state"
   ]
  },
  {
   "cell_type": "code",
   "execution_count": 80,
   "metadata": {},
   "outputs": [
    {
     "data": {
      "text/plain": [
       "-6.666666666666666"
      ]
     },
     "execution_count": 80,
     "metadata": {},
     "output_type": "execute_result"
    }
   ],
   "source": [
    "reward"
   ]
  },
  {
   "cell_type": "markdown",
   "metadata": {},
   "source": [
    "## Deep Q-learning with experience replay"
   ]
  },
  {
   "cell_type": "markdown",
   "metadata": {},
   "source": [
    "Initialize replay memory $ \\mathcal D $ to capacity $\\mathrm N $\n",
    "Initialize action-value function $\\mathcal Q$ with random weights\n",
    "\n",
    "$\\quad$ **for** $episode = 1, M $ **do**   \n",
    "$\\quad$ Initialize sequence $ s_1 = \\{x_1\\}$ and preprocessed sequenced $ \\phi_1 = \\phi(s_1)$  \n",
    "$\\quad$ $\\quad$ **for** $ t = 1, T $ **do**  \n",
    "$\\quad$ $\\quad$ $\\quad$ With probability $\\epsilon$ to select a random action $ a_t $ or predicted action $ a_t = max_a Q^*(\\phi(s_t),a; \\theta) $  \n",
    "$\\quad$ $\\quad$ $\\quad$ Execute action $a_t$ and observe reward $r_t$ and state $x_{t+1}$  \n",
    "$\\quad$ $\\quad$ $\\quad$ Set $s_{t+1} = s_t, a_t, x_{t+1}$  and preprocess $\\phi_{t+1} = \\phi(s_{t+1})$  \n",
    "$\\quad$ $\\quad$ $\\quad$ Store transition $(\\phi_t, a_t, r_t, \\phi_{t+1}) \\,\\, in \\,\\, \\mathcal D $  \n",
    "$\\quad$ $\\quad$ $\\quad$ Sample random minibatch transitions $(\\phi_j, a_j, r_j, \\phi_{j+1}$ from $\\mathcal D$  \n",
    "$\\quad$ $\\quad$ $\\quad$ Set $ y_i = \\bigg\\{^{r_j}_{r_j + \\gamma max_{a'}Q(\\phi_{j+1}, a'; \\theta)} $ for terminal or non terminal $\\phi_{j+1}$, respectively  \n",
    "$\\quad$ $\\quad$ $\\quad$ Perform gradient descent step on $(y_i - Q(\\phi_j, a_j; \\theta))^2 $  \n",
    "$\\quad$ $\\quad$ **end for**  \n",
    "$\\quad$ **end for**  "
   ]
  },
  {
   "cell_type": "markdown",
   "metadata": {},
   "source": [
    "$\\phi$ is a function producing a fixed length representation of histories.  \n",
    "$s_t$ is the finite sequence of observation and actions $ x_1, a_1, x_2, \\ldots , a_{t-1}, x_t $ at time $t$  \n",
    "$Q^*(s,a)$ is the maximum expected return achievable by following any strategy after some sequence $s$ and action $a$\n",
    "$$ Q^*(s,a) = max_\\pi \\mathbb E \\left[R_t \\,\\rvert\\, s_t = s, a_t = a, \\pi \\right] $$  \n",
    "where $\\pi$ is the policy mapping sequences to actions.  \n"
   ]
  },
  {
   "cell_type": "code",
   "execution_count": null,
   "metadata": {
    "collapsed": true
   },
   "outputs": [],
   "source": []
  }
 ],
 "metadata": {
  "kernelspec": {
   "display_name": "Python 3",
   "language": "python",
   "name": "python3"
  },
  "language_info": {
   "codemirror_mode": {
    "name": "ipython",
    "version": 3
   },
   "file_extension": ".py",
   "mimetype": "text/x-python",
   "name": "python",
   "nbconvert_exporter": "python",
   "pygments_lexer": "ipython3",
   "version": "3.5.2"
  }
 },
 "nbformat": 4,
 "nbformat_minor": 2
}
