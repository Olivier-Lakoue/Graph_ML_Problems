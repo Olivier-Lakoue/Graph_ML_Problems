{
 "cells": [
  {
   "cell_type": "code",
   "execution_count": 1,
   "metadata": {
    "collapsed": true
   },
   "outputs": [],
   "source": [
    "%load_ext autoreload\n",
    "%autoreload 2"
   ]
  },
  {
   "cell_type": "code",
   "execution_count": 53,
   "metadata": {},
   "outputs": [],
   "source": [
    "import networkx as nx\n",
    "import sys\n",
    "import random\n",
    "sys.path.append('../src/')\n",
    "from random_graph import RandGraph\n",
    "import pandas as pd\n",
    "import numpy as np\n",
    "import seaborn as sns\n",
    "import matplotlib.pyplot as plt\n",
    "import random"
   ]
  },
  {
   "cell_type": "markdown",
   "metadata": {},
   "source": [
    "## Model"
   ]
  },
  {
   "cell_type": "code",
   "execution_count": 200,
   "metadata": {},
   "outputs": [
    {
     "name": "stderr",
     "output_type": "stream",
     "text": [
      "c:\\users\\girardotm\\appdata\\local\\continuum\\anaconda2\\envs\\graph_ml_problems\\lib\\site-packages\\h5py\\__init__.py:36: FutureWarning: Conversion of the second argument of issubdtype from `float` to `np.floating` is deprecated. In future, it will be treated as `np.float64 == np.dtype(float).type`.\n",
      "  from ._conv import register_converters as _register_converters\n",
      "Using TensorFlow backend.\n"
     ]
    }
   ],
   "source": [
    "from keras.models import Sequential\n",
    "from keras.layers import Dense\n",
    "from keras.optimizers import Adam"
   ]
  },
  {
   "cell_type": "markdown",
   "metadata": {},
   "source": [
    "Input is a vector of nodes' congestion  in the current state. Output is the action vector."
   ]
  },
  {
   "cell_type": "code",
   "execution_count": 201,
   "metadata": {},
   "outputs": [],
   "source": [
    "state_size = 10\n",
    "action_size = 10"
   ]
  },
  {
   "cell_type": "code",
   "execution_count": 202,
   "metadata": {},
   "outputs": [],
   "source": [
    "model = Sequential()\n",
    "model.add(Dense(32, input_dim=state_size, activation='relu'))\n",
    "model.add(Dense(32, activation='relu'))\n",
    "model.add(Dense(action_size, activation='softmax'))"
   ]
  },
  {
   "cell_type": "code",
   "execution_count": 203,
   "metadata": {},
   "outputs": [],
   "source": [
    "model.compile(loss='mse', optimizer='adam')"
   ]
  },
  {
   "cell_type": "code",
   "execution_count": 204,
   "metadata": {},
   "outputs": [
    {
     "name": "stdout",
     "output_type": "stream",
     "text": [
      "_________________________________________________________________\n",
      "Layer (type)                 Output Shape              Param #   \n",
      "=================================================================\n",
      "dense_1 (Dense)              (None, 32)                352       \n",
      "_________________________________________________________________\n",
      "dense_2 (Dense)              (None, 32)                1056      \n",
      "_________________________________________________________________\n",
      "dense_3 (Dense)              (None, 10)                330       \n",
      "=================================================================\n",
      "Total params: 1,738\n",
      "Trainable params: 1,738\n",
      "Non-trainable params: 0\n",
      "_________________________________________________________________\n"
     ]
    }
   ],
   "source": [
    "model.summary()"
   ]
  },
  {
   "cell_type": "markdown",
   "metadata": {},
   "source": [
    "## Network"
   ]
  },
  {
   "cell_type": "code",
   "execution_count": 7,
   "metadata": {
    "collapsed": true
   },
   "outputs": [],
   "source": [
    "g = RandGraph(actors=100, moving=5, n_core_nodes=10)"
   ]
  },
  {
   "cell_type": "code",
   "execution_count": 8,
   "metadata": {},
   "outputs": [
    {
     "data": {
      "image/png": "[encoded data removed]",
      "text/plain": [
       "<matplotlib.figure.Figure at 0x7fe1739be908>"
      ]
     },
     "metadata": {},
     "output_type": "display_data"
    }
   ],
   "source": [
    "g.plot()"
   ]
  },
  {
   "cell_type": "code",
   "execution_count": 44,
   "metadata": {
    "collapsed": true
   },
   "outputs": [],
   "source": [
    "state, reward = g.action()"
   ]
  },
  {
   "cell_type": "code",
   "execution_count": 45,
   "metadata": {},
   "outputs": [
    {
     "data": {
      "text/plain": [
       "array([[0.5, 0. , 0. , 0. , 0. , 0. , 0. , 0. , 0. , 0. ]])"
      ]
     },
     "execution_count": 45,
     "metadata": {},
     "output_type": "execute_result"
    }
   ],
   "source": [
    "# nodes congestion\n",
    "state"
   ]
  },
  {
   "cell_type": "code",
   "execution_count": 46,
   "metadata": {},
   "outputs": [
    {
     "data": {
      "text/plain": [
       "20.0"
      ]
     },
     "execution_count": 46,
     "metadata": {},
     "output_type": "execute_result"
    }
   ],
   "source": [
    "reward"
   ]
  },
  {
   "cell_type": "markdown",
   "metadata": {},
   "source": [
    "## Action vector"
   ]
  },
  {
   "cell_type": "code",
   "execution_count": 66,
   "metadata": {},
   "outputs": [
    {
     "data": {
      "text/plain": [
       "array([[ True,  True,  True,  True, False, False,  True, False,  True,\n",
       "        False]])"
      ]
     },
     "execution_count": 66,
     "metadata": {},
     "output_type": "execute_result"
    }
   ],
   "source": [
    "model.predict(state) > 0.1"
   ]
  },
  {
   "cell_type": "code",
   "execution_count": 70,
   "metadata": {
    "collapsed": true
   },
   "outputs": [],
   "source": [
    "action_vector = model.predict(state) > 0.1"
   ]
  },
  {
   "cell_type": "code",
   "execution_count": 74,
   "metadata": {},
   "outputs": [],
   "source": [
    "next_act = np.where(action_vector==True)[1] + min(g.core_nodes)"
   ]
  },
  {
   "cell_type": "code",
   "execution_count": 77,
   "metadata": {},
   "outputs": [
    {
     "data": {
      "text/plain": [
       "[9, 10, 11, 12, 15, 17]"
      ]
     },
     "execution_count": 77,
     "metadata": {},
     "output_type": "execute_result"
    }
   ],
   "source": [
    "list(next_act)"
   ]
  },
  {
   "cell_type": "code",
   "execution_count": 179,
   "metadata": {
    "collapsed": true
   },
   "outputs": [],
   "source": [
    "epsilon = 0.5\n",
    "def act(state):\n",
    "    if np.random.rand() <= epsilon:\n",
    "        # random action\n",
    "#         print('random')\n",
    "        k = random.randrange(0,len(g.core_nodes))\n",
    "        return random.sample(g.core_nodes, k)\n",
    "    else:\n",
    "        # predicted action\n",
    "#         print('predicted')\n",
    "        action_vector = model.predict(state) > 0.5\n",
    "        next_act = np.where(action_vector == True)[1] + min(g.core_nodes)\n",
    "        return list(next_act)"
   ]
  },
  {
   "cell_type": "code",
   "execution_count": 188,
   "metadata": {},
   "outputs": [
    {
     "name": "stdout",
     "output_type": "stream",
     "text": [
      "random\n"
     ]
    },
    {
     "data": {
      "text/plain": [
       "[10, 16, 18, 15, 17]"
      ]
     },
     "execution_count": 188,
     "metadata": {},
     "output_type": "execute_result"
    }
   ],
   "source": [
    "act(state)"
   ]
  },
  {
   "cell_type": "markdown",
   "metadata": {},
   "source": [
    "## get next state and reward"
   ]
  },
  {
   "cell_type": "code",
   "execution_count": 78,
   "metadata": {},
   "outputs": [],
   "source": [
    "next_state, reward = g.action(list(next_act))"
   ]
  },
  {
   "cell_type": "code",
   "execution_count": 79,
   "metadata": {},
   "outputs": [
    {
     "data": {
      "text/plain": [
       "array([[0.25, 0.  , 0.  , 0.  , 0.5 , 0.  , 0.  , 0.  , 0.  , 0.  ]])"
      ]
     },
     "execution_count": 79,
     "metadata": {},
     "output_type": "execute_result"
    }
   ],
   "source": [
    "next_state"
   ]
  },
  {
   "cell_type": "code",
   "execution_count": 80,
   "metadata": {},
   "outputs": [
    {
     "data": {
      "text/plain": [
       "-6.666666666666666"
      ]
     },
     "execution_count": 80,
     "metadata": {},
     "output_type": "execute_result"
    }
   ],
   "source": [
    "reward"
   ]
  },
  {
   "cell_type": "markdown",
   "metadata": {},
   "source": [
    "## Deep Q-learning with experience replay"
   ]
  },
  {
   "cell_type": "markdown",
   "metadata": {},
   "source": [
    "Initialize replay memory $ \\mathcal D $ to capacity $\\mathrm N $\n",
    "Initialize action-value function $\\mathcal Q$ with random weights\n",
    "\n",
    "$\\quad$ **for** $episode = 1, M $ **do**   \n",
    "$\\quad$ Initialize sequence $ s_1 = \\{x_1\\}$ and preprocessed sequenced $ \\phi_1 = \\phi(s_1)$  \n",
    "$\\quad$ $\\quad$ **for** $ t = 1, T $ **do**  \n",
    "$\\quad$ $\\quad$ $\\quad$ With probability $\\epsilon$ to select a random action $ a_t $ or predicted action $ a_t = max_a Q^*(\\phi(s_t),a; \\theta) $  \n",
    "$\\quad$ $\\quad$ $\\quad$ Execute action $a_t$ and observe reward $r_t$ and state $x_{t+1}$  \n",
    "$\\quad$ $\\quad$ $\\quad$ Set $s_{t+1} = s_t, a_t, x_{t+1}$  and preprocess $\\phi_{t+1} = \\phi(s_{t+1})$  \n",
    "$\\quad$ $\\quad$ $\\quad$ Store transition $(\\phi_t, a_t, r_t, \\phi_{t+1}) \\,\\, in \\,\\, \\mathcal D $  \n",
    "$\\quad$ $\\quad$ $\\quad$ Sample random minibatch transitions $(\\phi_j, a_j, r_j, \\phi_{j+1}$ from $\\mathcal D$  \n",
    "$\\quad$ $\\quad$ $\\quad$ Set $ y_i = \\bigg\\{^{r_j}_{r_j + \\gamma max_{a'}Q(\\phi_{j+1}, a'; \\theta)} $ for terminal or non terminal $\\phi_{j+1}$, respectively  \n",
    "$\\quad$ $\\quad$ $\\quad$ Perform gradient descent step on $(y_i - Q(\\phi_j, a_j; \\theta))^2 $  \n",
    "$\\quad$ $\\quad$ **end for**  \n",
    "$\\quad$ **end for**  "
   ]
  },
  {
   "cell_type": "markdown",
   "metadata": {},
   "source": [
    "$\\phi$ is a function producing a fixed length representation of histories.  \n",
    "$s_t$ is the finite sequence of observation and actions $ x_1, a_1, x_2, \\ldots , a_{t-1}, x_t $ at time $t$  \n",
    "$Q^*(s,a)$ is the maximum expected return achievable by following any strategy after some sequence $s$ and action $a$\n",
    "$$ Q^*(s,a) = max_\\pi \\mathbb E \\left[R_t \\,\\rvert\\, s_t = s, a_t = a, \\pi \\right] $$  \n",
    "where $\\pi$ is the policy mapping sequences to actions.  \n"
   ]
  },
  {
   "cell_type": "markdown",
   "metadata": {
    "collapsed": true
   },
   "source": [
    "## Model $Q(\\theta)$"
   ]
  },
  {
   "cell_type": "markdown",
   "metadata": {},
   "source": [
    "`input` = $s_t$  \n",
    "`output` = $a_t$  \n"
   ]
  },
  {
   "cell_type": "markdown",
   "metadata": {},
   "source": [
    "## Define action space"
   ]
  },
  {
   "cell_type": "code",
   "execution_count": 152,
   "metadata": {},
   "outputs": [
    {
     "data": {
      "text/plain": [
       "90"
      ]
     },
     "execution_count": 152,
     "metadata": {},
     "output_type": "execute_result"
    }
   ],
   "source": [
    "# for 10 nodes\n",
    "core_nodes = 10\n",
    "# how many combinations ?\n",
    "action_space = core_nodes*(core_nodes - 1)\n"
   ]
  },
  {
   "cell_type": "code",
   "execution_count": 167,
   "metadata": {},
   "outputs": [],
   "source": [
    "from itertools import product"
   ]
  },
  {
   "cell_type": "code",
   "execution_count": 171,
   "metadata": {},
   "outputs": [
    {
     "data": {
      "text/plain": [
       "1024"
      ]
     },
     "execution_count": 171,
     "metadata": {},
     "output_type": "execute_result"
    }
   ],
   "source": [
    "action_space = list(product([0,1], repeat=10))\n",
    "len(action_space)"
   ]
  },
  {
   "cell_type": "code",
   "execution_count": 179,
   "metadata": {},
   "outputs": [
    {
     "data": {
      "image/png": "[encoded data removed]",
      "text/plain": [
       "<Figure size 432x288 with 1 Axes>"
      ]
     },
     "metadata": {},
     "output_type": "display_data"
    }
   ],
   "source": [
    "pd.DataFrame([len(list(product([0,1], repeat=n))) for n in range(1,20)]).plot()\n",
    "plt.show()"
   ]
  },
  {
   "cell_type": "markdown",
   "metadata": {},
   "source": [
    "The action space is too large when we increase the number of controllable nodes. We will limit ourself to one node per action."
   ]
  },
  {
   "cell_type": "code",
   "execution_count": 193,
   "metadata": {},
   "outputs": [],
   "source": [
    "# If we choose to block one node at a time\n",
    "output_val = np.array([0.1,0.2,0.3,0.4,0.5,0.6,0.7,0.2,0.1,0.3])"
   ]
  },
  {
   "cell_type": "code",
   "execution_count": 194,
   "metadata": {},
   "outputs": [
    {
     "data": {
      "text/plain": [
       "6"
      ]
     },
     "execution_count": 194,
     "metadata": {},
     "output_type": "execute_result"
    }
   ],
   "source": [
    "# We choose the node with the max Q value\n",
    "np.argmax(output_val)"
   ]
  },
  {
   "cell_type": "code",
   "execution_count": 74,
   "metadata": {},
   "outputs": [
    {
     "data": {
      "text/plain": [
       "array([4, 5, 6], dtype=int64)"
      ]
     },
     "execution_count": 74,
     "metadata": {},
     "output_type": "execute_result"
    }
   ],
   "source": [
    "# Choose k nodes with max proba\n",
    "k = 3\n",
    "np.argpartition(output_val, -k)[-k:]"
   ]
  },
  {
   "cell_type": "code",
   "execution_count": 75,
   "metadata": {},
   "outputs": [
    {
     "data": {
      "text/plain": [
       "array([5, 6], dtype=int64)"
      ]
     },
     "execution_count": 75,
     "metadata": {},
     "output_type": "execute_result"
    }
   ],
   "source": [
    "# Choose threshold for action\n",
    "threshold = 0.5\n",
    "np.where(output_val > threshold)[0]"
   ]
  },
  {
   "cell_type": "code",
   "execution_count": 76,
   "metadata": {},
   "outputs": [],
   "source": [
    "epsilon = 0.5"
   ]
  },
  {
   "cell_type": "code",
   "execution_count": 205,
   "metadata": {},
   "outputs": [],
   "source": [
    "def act(state, action_size):\n",
    "    if np.random.rand() <= epsilon:\n",
    "#         print('random')\n",
    "        return [random.randrange(action_size)]\n",
    "    else:\n",
    "#         print('model')\n",
    "        return model.predict(state)"
   ]
  },
  {
   "cell_type": "code",
   "execution_count": 218,
   "metadata": {},
   "outputs": [
    {
     "data": {
      "text/plain": [
       "array([[0.1, 0.1, 0.1, 0.1, 0.1, 0.1, 0.1, 0.1, 0.1, 0.1]], dtype=float32)"
      ]
     },
     "execution_count": 218,
     "metadata": {},
     "output_type": "execute_result"
    }
   ],
   "source": [
    "act(np.zeros((1,10)), core_nodes)"
   ]
  },
  {
   "cell_type": "markdown",
   "metadata": {},
   "source": [
    "## Env interaction"
   ]
  },
  {
   "cell_type": "code",
   "execution_count": 114,
   "metadata": {},
   "outputs": [],
   "source": [
    "g = RandGraph(actors=100, moving=5, n_core_nodes=10)"
   ]
  },
  {
   "cell_type": "code",
   "execution_count": 128,
   "metadata": {},
   "outputs": [],
   "source": [
    "next_state, reward = g.action(act_val)"
   ]
  },
  {
   "cell_type": "code",
   "execution_count": 129,
   "metadata": {},
   "outputs": [
    {
     "data": {
      "text/plain": [
       "array([[0.        , 0.        , 0.        , 0.        , 0.        ,\n",
       "        0.16666667, 0.        , 0.2       , 0.        , 0.        ]])"
      ]
     },
     "execution_count": 129,
     "metadata": {},
     "output_type": "execute_result"
    }
   ],
   "source": [
    "next_state"
   ]
  },
  {
   "cell_type": "code",
   "execution_count": 130,
   "metadata": {},
   "outputs": [
    {
     "data": {
      "text/plain": [
       "27.27272727272727"
      ]
     },
     "execution_count": 130,
     "metadata": {},
     "output_type": "execute_result"
    }
   ],
   "source": [
    "reward"
   ]
  },
  {
   "cell_type": "markdown",
   "metadata": {},
   "source": [
    "## Memory $\\mathcal D$"
   ]
  },
  {
   "cell_type": "code",
   "execution_count": 227,
   "metadata": {},
   "outputs": [],
   "source": [
    "state = np.array([[0.,0.,0.0,0.,0.0,.0,.0,0.,0.,0.]])"
   ]
  },
  {
   "cell_type": "code",
   "execution_count": 228,
   "metadata": {},
   "outputs": [],
   "source": [
    "# each transition is stored in D\n",
    "\n",
    "D = []\n",
    "D.append({'state':state, 'action':act_val, 'reward':reward, 'next_state':next_state})"
   ]
  },
  {
   "cell_type": "code",
   "execution_count": 229,
   "metadata": {},
   "outputs": [
    {
     "data": {
      "text/plain": [
       "[{'state': array([[0., 0., 0., 0., 0., 0., 0., 0., 0., 0.]]),\n",
       "  'action': [8],\n",
       "  'reward': 27.27272727272727,\n",
       "  'next_state': array([[0.        , 0.        , 0.        , 0.        , 0.        ,\n",
       "          0.16666667, 0.        , 0.2       , 0.        , 0.        ]])}]"
      ]
     },
     "execution_count": 229,
     "metadata": {},
     "output_type": "execute_result"
    }
   ],
   "source": [
    "D"
   ]
  },
  {
   "cell_type": "code",
   "execution_count": 230,
   "metadata": {},
   "outputs": [
    {
     "data": {
      "text/plain": [
       "27.27272727272727"
      ]
     },
     "execution_count": 230,
     "metadata": {},
     "output_type": "execute_result"
    }
   ],
   "source": [
    "D[0]['reward']"
   ]
  },
  {
   "cell_type": "code",
   "execution_count": 231,
   "metadata": {},
   "outputs": [
    {
     "data": {
      "text/plain": [
       "[{'state': array([[0., 0., 0., 0., 0., 0., 0., 0., 0., 0.]]),\n",
       "  'action': [8],\n",
       "  'reward': 27.27272727272727,\n",
       "  'next_state': array([[0.        , 0.        , 0.        , 0.        , 0.        ,\n",
       "          0.16666667, 0.        , 0.2       , 0.        , 0.        ]])}]"
      ]
     },
     "execution_count": 231,
     "metadata": {},
     "output_type": "execute_result"
    }
   ],
   "source": [
    "# replay\n",
    "batch_size = 1\n",
    "batch = random.sample(D, batch_size)\n",
    "batch"
   ]
  },
  {
   "cell_type": "markdown",
   "metadata": {},
   "source": [
    "## Set target"
   ]
  },
  {
   "cell_type": "code",
   "execution_count": 232,
   "metadata": {},
   "outputs": [],
   "source": [
    "# discount\n",
    "gamma = 0.95"
   ]
  },
  {
   "cell_type": "code",
   "execution_count": 234,
   "metadata": {},
   "outputs": [],
   "source": [
    "for b in batch:\n",
    "    target = b['reward'] + gamma * np.amax(model.predict(b['next_state']))\n",
    "    target_f = model.predict(b['state'].reshape((1,10)))\n",
    "    target_f[0][b['action']] = target\n",
    "    model.fit(b['state'], target_f, epochs=1, verbose=0)"
   ]
  },
  {
   "cell_type": "code",
   "execution_count": 235,
   "metadata": {},
   "outputs": [
    {
     "data": {
      "text/plain": [
       "array([[ 0.1     ,  0.1     ,  0.1     ,  0.1     ,  0.1     ,  0.1     ,\n",
       "         0.1     ,  0.1     , 27.371435,  0.1     ]], dtype=float32)"
      ]
     },
     "execution_count": 235,
     "metadata": {},
     "output_type": "execute_result"
    }
   ],
   "source": [
    "target_f"
   ]
  },
  {
   "cell_type": "markdown",
   "metadata": {},
   "source": [
    "## Training"
   ]
  },
  {
   "cell_type": "code",
   "execution_count": 239,
   "metadata": {},
   "outputs": [
    {
     "name": "stderr",
     "output_type": "stream",
     "text": [
      "../src\\random_graph.py:295: RuntimeWarning: divide by zero encountered in double_scalars\n",
      "  reward = len(self.core_nodes) / np.sum(values)\n",
      "../src\\random_graph.py:276: RuntimeWarning: invalid value encountered in double_scalars\n",
      "  return values, reward - cur_rwd\n"
     ]
    }
   ],
   "source": [
    "# initial state 0.0\n",
    "state = np.array([0.,0.,0.,0.,0.,0.,0.,0.,0.,0.]).reshape((1,10))\n",
    "# memory\n",
    "D = []\n",
    "\n",
    "for time_t in range(100):\n",
    "    act_val  = act(state, core_nodes)\n",
    "    blocked_node = [np.argmax(act_val)]\n",
    "    # env interaction\n",
    "    next_state, reward = g.action(blocked_node)\n",
    "    next_state = np.reshape(next_state, (1,core_nodes))\n",
    "    # remember\n",
    "    D.append({'state':state, 'action':act_val, 'reward':reward, 'next_state':next_state})\n",
    "    # move to next step\n",
    "    state = next_state"
   ]
  },
  {
   "cell_type": "code",
   "execution_count": 240,
   "metadata": {},
   "outputs": [
    {
     "data": {
      "text/plain": [
       "100"
      ]
     },
     "execution_count": 240,
     "metadata": {},
     "output_type": "execute_result"
    }
   ],
   "source": [
    "len(D)"
   ]
  },
  {
   "cell_type": "code",
   "execution_count": 241,
   "metadata": {},
   "outputs": [
    {
     "data": {
      "text/plain": [
       "[{'state': array([[0., 0., 0., 0., 0., 0., 0., 0., 0., 0.]]),\n",
       "  'action': array([[0.09997999, 0.09997999, 0.09997999, 0.09997999, 0.09997999,\n",
       "          0.09997999, 0.09997999, 0.09997999, 0.10018014, 0.09997999]],\n",
       "        dtype=float32),\n",
       "  'reward': -0.23356401384083014,\n",
       "  'next_state': array([[0.66666667, 0.        , 0.        , 0.14285714, 0.2       ,\n",
       "          0.16666667, 0.        , 0.2       , 0.        , 0.        ]])},\n",
       " {'state': array([[0.66666667, 0.        , 0.        , 0.14285714, 0.2       ,\n",
       "          0.16666667, 0.        , 0.2       , 0.        , 0.        ]]),\n",
       "  'action': [2],\n",
       "  'reward': 2.9941503330590713,\n",
       "  'next_state': array([[0.        , 0.        , 0.        , 0.28571429, 0.        ,\n",
       "          0.16666667, 0.        , 0.2       , 0.22222222, 0.1       ]])},\n",
       " {'state': array([[0.        , 0.        , 0.        , 0.28571429, 0.        ,\n",
       "          0.16666667, 0.        , 0.2       , 0.22222222, 0.1       ]]),\n",
       "  'action': [4],\n",
       "  'reward': -5.715131773763696,\n",
       "  'next_state': array([[0.33333333, 0.5       , 0.        , 0.        , 0.4       ,\n",
       "          0.16666667, 0.5       , 0.3       , 0.        , 0.        ]])},\n",
       " {'state': array([[0.33333333, 0.5       , 0.        , 0.        , 0.4       ,\n",
       "          0.16666667, 0.5       , 0.3       , 0.        , 0.        ]]),\n",
       "  'action': [4],\n",
       "  'reward': -0.97200020625999,\n",
       "  'next_state': array([[0.66666667, 0.        , 0.        , 0.14285714, 0.2       ,\n",
       "          0.16666667, 1.        , 0.1       , 0.22222222, 0.3       ]])},\n",
       " {'state': array([[0.66666667, 0.        , 0.        , 0.14285714, 0.2       ,\n",
       "          0.16666667, 1.        , 0.1       , 0.22222222, 0.3       ]]),\n",
       "  'action': [6],\n",
       "  'reward': 0.01628925054903485,\n",
       "  'next_state': array([[1.        , 0.5       , 0.        , 0.28571429, 0.        ,\n",
       "          0.        , 0.5       , 0.4       , 0.        , 0.1       ]])},\n",
       " {'state': array([[1.        , 0.5       , 0.        , 0.28571429, 0.        ,\n",
       "          0.        , 0.5       , 0.4       , 0.        , 0.1       ]]),\n",
       "  'action': [7],\n",
       "  'reward': -0.18985152282507967,\n",
       "  'next_state': array([[0.66666667, 0.        , 0.        , 0.28571429, 0.2       ,\n",
       "          0.66666667, 0.5       , 0.2       , 0.22222222, 0.2       ]])},\n",
       " {'state': array([[0.66666667, 0.        , 0.        , 0.28571429, 0.2       ,\n",
       "          0.66666667, 0.5       , 0.2       , 0.22222222, 0.2       ]]),\n",
       "  'action': [8],\n",
       "  'reward': -0.5492133338868359,\n",
       "  'next_state': array([[0.33333333, 0.5       , 0.        , 0.28571429, 0.8       ,\n",
       "          0.16666667, 1.        , 0.2       , 0.22222222, 0.        ]])},\n",
       " {'state': array([[0.33333333, 0.5       , 0.        , 0.28571429, 0.8       ,\n",
       "          0.16666667, 1.        , 0.2       , 0.22222222, 0.        ]]),\n",
       "  'action': [0],\n",
       "  'reward': -0.21027638600736553,\n",
       "  'next_state': array([[1.        , 0.5       , 0.        , 0.14285714, 0.        ,\n",
       "          0.33333333, 1.        , 0.4       , 0.11111111, 0.3       ]])},\n",
       " {'state': array([[1.        , 0.5       , 0.        , 0.14285714, 0.        ,\n",
       "          0.33333333, 1.        , 0.4       , 0.11111111, 0.3       ]]),\n",
       "  'action': array([[0.10555191, 0.11931323, 0.10711812, 0.09706461, 0.09445488,\n",
       "          0.05791057, 0.08191667, 0.14214353, 0.12185357, 0.07267287]],\n",
       "        dtype=float32),\n",
       "  'reward': 0.0874608268228445,\n",
       "  'next_state': array([[1.        , 0.25      , 0.        , 0.57142857, 0.4       ,\n",
       "          0.33333333, 0.5       , 0.2       , 0.11111111, 0.3       ]])},\n",
       " {'state': array([[1.        , 0.25      , 0.        , 0.57142857, 0.4       ,\n",
       "          0.33333333, 0.5       , 0.2       , 0.11111111, 0.3       ]]),\n",
       "  'action': [8],\n",
       "  'reward': 0.5440142605854619,\n",
       "  'next_state': array([[1.        , 0.25      , 0.        , 0.42857143, 0.        ,\n",
       "          0.16666667, 0.5       , 0.3       , 0.11111111, 0.3       ]])},\n",
       " {'state': array([[1.        , 0.25      , 0.        , 0.42857143, 0.        ,\n",
       "          0.16666667, 0.5       , 0.3       , 0.11111111, 0.3       ]]),\n",
       "  'action': array([[0.10464657, 0.1206634 , 0.10890155, 0.09124703, 0.10817412,\n",
       "          0.06938615, 0.08736109, 0.12071525, 0.11620151, 0.07270332]],\n",
       "        dtype=float32),\n",
       "  'reward': -0.5755367539275862,\n",
       "  'next_state': array([[0.66666667, 0.25      , 0.        , 0.71428571, 0.2       ,\n",
       "          0.16666667, 1.        , 0.4       , 0.11111111, 0.2       ]])},\n",
       " {'state': array([[0.66666667, 0.25      , 0.        , 0.71428571, 0.2       ,\n",
       "          0.16666667, 1.        , 0.4       , 0.11111111, 0.2       ]]),\n",
       "  'action': [5],\n",
       "  'reward': 1.1276350402840452,\n",
       "  'next_state': array([[0.66666667, 0.25      , 0.        , 0.14285714, 0.6       ,\n",
       "          0.33333333, 0.        , 0.3       , 0.22222222, 0.1       ]])},\n",
       " {'state': array([[0.66666667, 0.25      , 0.        , 0.14285714, 0.6       ,\n",
       "          0.33333333, 0.        , 0.3       , 0.22222222, 0.1       ]]),\n",
       "  'action': [8],\n",
       "  'reward': -0.14836311868872398,\n",
       "  'next_state': array([[0.66666667, 0.5       , 0.        , 0.14285714, 0.2       ,\n",
       "          0.5       , 0.        , 0.4       , 0.11111111, 0.2       ]])},\n",
       " {'state': array([[0.66666667, 0.5       , 0.        , 0.14285714, 0.2       ,\n",
       "          0.5       , 0.        , 0.4       , 0.11111111, 0.2       ]]),\n",
       "  'action': array([[0.10641922, 0.1213392 , 0.10008322, 0.09229177, 0.08817445,\n",
       "          0.08019462, 0.10373856, 0.12413941, 0.10989516, 0.07372428]],\n",
       "        dtype=float32),\n",
       "  'reward': -1.0368691466029683,\n",
       "  'next_state': array([[0.66666667, 0.25      , 0.        , 0.42857143, 0.4       ,\n",
       "          0.33333333, 1.        , 0.1       , 0.11111111, 0.5       ]])},\n",
       " {'state': array([[0.66666667, 0.25      , 0.        , 0.42857143, 0.4       ,\n",
       "          0.33333333, 1.        , 0.1       , 0.11111111, 0.5       ]]),\n",
       "  'action': array([[0.09896646, 0.11499684, 0.1053553 , 0.09525936, 0.09763698,\n",
       "          0.06316638, 0.09705769, 0.13851853, 0.11912505, 0.06991732]],\n",
       "        dtype=float32),\n",
       "  'reward': 1.1461769410180884,\n",
       "  'next_state': array([[0.66666667, 0.25      , 0.        , 0.71428571, 0.2       ,\n",
       "          0.        , 0.5       , 0.        , 0.11111111, 0.2       ]])},\n",
       " {'state': array([[0.66666667, 0.25      , 0.        , 0.71428571, 0.2       ,\n",
       "          0.        , 0.5       , 0.        , 0.11111111, 0.2       ]]),\n",
       "  'action': array([[0.09432057, 0.12483708, 0.10168788, 0.08907522, 0.10970832,\n",
       "          0.0717163 , 0.10062502, 0.11253325, 0.12071449, 0.07478186]],\n",
       "        dtype=float32),\n",
       "  'reward': 3.8933245760622257,\n",
       "  'next_state': array([[0.66666667, 0.25      , 0.        , 0.28571429, 0.        ,\n",
       "          0.        , 0.        , 0.        , 0.        , 0.1       ]])},\n",
       " {'state': array([[0.66666667, 0.25      , 0.        , 0.28571429, 0.        ,\n",
       "          0.        , 0.        , 0.        , 0.        , 0.1       ]]),\n",
       "  'action': array([[0.09871653, 0.11843876, 0.09948253, 0.0939666 , 0.10247417,\n",
       "          0.08837439, 0.09780364, 0.10583875, 0.11363459, 0.08127014]],\n",
       "        dtype=float32),\n",
       "  'reward': 16.740359678585094,\n",
       "  'next_state': array([[0.        , 0.        , 0.        , 0.14285714, 0.        ,\n",
       "          0.16666667, 0.        , 0.        , 0.        , 0.1       ]])},\n",
       " {'state': array([[0.        , 0.        , 0.        , 0.14285714, 0.        ,\n",
       "          0.16666667, 0.        , 0.        , 0.        , 0.1       ]]),\n",
       "  'action': array([[0.09882727, 0.10068099, 0.10180103, 0.09852834, 0.09740229,\n",
       "          0.09638648, 0.10330993, 0.10511054, 0.10089388, 0.09705931]],\n",
       "        dtype=float32),\n",
       "  'reward': 16.757865937072506,\n",
       "  'next_state': array([[0.        , 0.        , 0.        , 0.14285714, 0.        ,\n",
       "          0.        , 0.        , 0.        , 0.        , 0.1       ]])},\n",
       " {'state': array([[0.        , 0.        , 0.        , 0.14285714, 0.        ,\n",
       "          0.        , 0.        , 0.        , 0.        , 0.1       ]]),\n",
       "  'action': [8],\n",
       "  'reward': inf,\n",
       "  'next_state': array([[0., 0., 0., 0., 0., 0., 0., 0., 0., 0.]])},\n",
       " {'state': array([[0., 0., 0., 0., 0., 0., 0., 0., 0., 0.]]),\n",
       "  'action': [5],\n",
       "  'reward': nan,\n",
       "  'next_state': array([[0., 0., 0., 0., 0., 0., 0., 0., 0., 0.]])},\n",
       " {'state': array([[0., 0., 0., 0., 0., 0., 0., 0., 0., 0.]]),\n",
       "  'action': [2],\n",
       "  'reward': nan,\n",
       "  'next_state': array([[0., 0., 0., 0., 0., 0., 0., 0., 0., 0.]])},\n",
       " {'state': array([[0., 0., 0., 0., 0., 0., 0., 0., 0., 0.]]),\n",
       "  'action': array([[0.09997999, 0.09997999, 0.09997999, 0.09997999, 0.09997999,\n",
       "          0.09997999, 0.09997999, 0.09997999, 0.10018014, 0.09997999]],\n",
       "        dtype=float32),\n",
       "  'reward': nan,\n",
       "  'next_state': array([[0., 0., 0., 0., 0., 0., 0., 0., 0., 0.]])},\n",
       " {'state': array([[0., 0., 0., 0., 0., 0., 0., 0., 0., 0.]]),\n",
       "  'action': array([[0.09997999, 0.09997999, 0.09997999, 0.09997999, 0.09997999,\n",
       "          0.09997999, 0.09997999, 0.09997999, 0.10018014, 0.09997999]],\n",
       "        dtype=float32),\n",
       "  'reward': nan,\n",
       "  'next_state': array([[0., 0., 0., 0., 0., 0., 0., 0., 0., 0.]])},\n",
       " {'state': array([[0., 0., 0., 0., 0., 0., 0., 0., 0., 0.]]),\n",
       "  'action': array([[0.09997999, 0.09997999, 0.09997999, 0.09997999, 0.09997999,\n",
       "          0.09997999, 0.09997999, 0.09997999, 0.10018014, 0.09997999]],\n",
       "        dtype=float32),\n",
       "  'reward': nan,\n",
       "  'next_state': array([[0., 0., 0., 0., 0., 0., 0., 0., 0., 0.]])},\n",
       " {'state': array([[0., 0., 0., 0., 0., 0., 0., 0., 0., 0.]]),\n",
       "  'action': [9],\n",
       "  'reward': nan,\n",
       "  'next_state': array([[0., 0., 0., 0., 0., 0., 0., 0., 0., 0.]])},\n",
       " {'state': array([[0., 0., 0., 0., 0., 0., 0., 0., 0., 0.]]),\n",
       "  'action': array([[0.09997999, 0.09997999, 0.09997999, 0.09997999, 0.09997999,\n",
       "          0.09997999, 0.09997999, 0.09997999, 0.10018014, 0.09997999]],\n",
       "        dtype=float32),\n",
       "  'reward': nan,\n",
       "  'next_state': array([[0., 0., 0., 0., 0., 0., 0., 0., 0., 0.]])},\n",
       " {'state': array([[0., 0., 0., 0., 0., 0., 0., 0., 0., 0.]]),\n",
       "  'action': array([[0.09997999, 0.09997999, 0.09997999, 0.09997999, 0.09997999,\n",
       "          0.09997999, 0.09997999, 0.09997999, 0.10018014, 0.09997999]],\n",
       "        dtype=float32),\n",
       "  'reward': nan,\n",
       "  'next_state': array([[0., 0., 0., 0., 0., 0., 0., 0., 0., 0.]])},\n",
       " {'state': array([[0., 0., 0., 0., 0., 0., 0., 0., 0., 0.]]),\n",
       "  'action': array([[0.09997999, 0.09997999, 0.09997999, 0.09997999, 0.09997999,\n",
       "          0.09997999, 0.09997999, 0.09997999, 0.10018014, 0.09997999]],\n",
       "        dtype=float32),\n",
       "  'reward': nan,\n",
       "  'next_state': array([[0., 0., 0., 0., 0., 0., 0., 0., 0., 0.]])},\n",
       " {'state': array([[0., 0., 0., 0., 0., 0., 0., 0., 0., 0.]]),\n",
       "  'action': array([[0.09997999, 0.09997999, 0.09997999, 0.09997999, 0.09997999,\n",
       "          0.09997999, 0.09997999, 0.09997999, 0.10018014, 0.09997999]],\n",
       "        dtype=float32),\n",
       "  'reward': nan,\n",
       "  'next_state': array([[0., 0., 0., 0., 0., 0., 0., 0., 0., 0.]])},\n",
       " {'state': array([[0., 0., 0., 0., 0., 0., 0., 0., 0., 0.]]),\n",
       "  'action': [6],\n",
       "  'reward': nan,\n",
       "  'next_state': array([[0., 0., 0., 0., 0., 0., 0., 0., 0., 0.]])},\n",
       " {'state': array([[0., 0., 0., 0., 0., 0., 0., 0., 0., 0.]]),\n",
       "  'action': [3],\n",
       "  'reward': nan,\n",
       "  'next_state': array([[0., 0., 0., 0., 0., 0., 0., 0., 0., 0.]])},\n",
       " {'state': array([[0., 0., 0., 0., 0., 0., 0., 0., 0., 0.]]),\n",
       "  'action': array([[0.09997999, 0.09997999, 0.09997999, 0.09997999, 0.09997999,\n",
       "          0.09997999, 0.09997999, 0.09997999, 0.10018014, 0.09997999]],\n",
       "        dtype=float32),\n",
       "  'reward': nan,\n",
       "  'next_state': array([[0., 0., 0., 0., 0., 0., 0., 0., 0., 0.]])},\n",
       " {'state': array([[0., 0., 0., 0., 0., 0., 0., 0., 0., 0.]]),\n",
       "  'action': array([[0.09997999, 0.09997999, 0.09997999, 0.09997999, 0.09997999,\n",
       "          0.09997999, 0.09997999, 0.09997999, 0.10018014, 0.09997999]],\n",
       "        dtype=float32),\n",
       "  'reward': nan,\n",
       "  'next_state': array([[0., 0., 0., 0., 0., 0., 0., 0., 0., 0.]])},\n",
       " {'state': array([[0., 0., 0., 0., 0., 0., 0., 0., 0., 0.]]),\n",
       "  'action': [1],\n",
       "  'reward': nan,\n",
       "  'next_state': array([[0., 0., 0., 0., 0., 0., 0., 0., 0., 0.]])},\n",
       " {'state': array([[0., 0., 0., 0., 0., 0., 0., 0., 0., 0.]]),\n",
       "  'action': [0],\n",
       "  'reward': nan,\n",
       "  'next_state': array([[0., 0., 0., 0., 0., 0., 0., 0., 0., 0.]])},\n",
       " {'state': array([[0., 0., 0., 0., 0., 0., 0., 0., 0., 0.]]),\n",
       "  'action': [1],\n",
       "  'reward': nan,\n",
       "  'next_state': array([[0., 0., 0., 0., 0., 0., 0., 0., 0., 0.]])},\n",
       " {'state': array([[0., 0., 0., 0., 0., 0., 0., 0., 0., 0.]]),\n",
       "  'action': array([[0.09997999, 0.09997999, 0.09997999, 0.09997999, 0.09997999,\n",
       "          0.09997999, 0.09997999, 0.09997999, 0.10018014, 0.09997999]],\n",
       "        dtype=float32),\n",
       "  'reward': nan,\n",
       "  'next_state': array([[0., 0., 0., 0., 0., 0., 0., 0., 0., 0.]])},\n",
       " {'state': array([[0., 0., 0., 0., 0., 0., 0., 0., 0., 0.]]),\n",
       "  'action': array([[0.09997999, 0.09997999, 0.09997999, 0.09997999, 0.09997999,\n",
       "          0.09997999, 0.09997999, 0.09997999, 0.10018014, 0.09997999]],\n",
       "        dtype=float32),\n",
       "  'reward': nan,\n",
       "  'next_state': array([[0., 0., 0., 0., 0., 0., 0., 0., 0., 0.]])},\n",
       " {'state': array([[0., 0., 0., 0., 0., 0., 0., 0., 0., 0.]]),\n",
       "  'action': [1],\n",
       "  'reward': nan,\n",
       "  'next_state': array([[0., 0., 0., 0., 0., 0., 0., 0., 0., 0.]])},\n",
       " {'state': array([[0., 0., 0., 0., 0., 0., 0., 0., 0., 0.]]),\n",
       "  'action': [8],\n",
       "  'reward': nan,\n",
       "  'next_state': array([[0., 0., 0., 0., 0., 0., 0., 0., 0., 0.]])},\n",
       " {'state': array([[0., 0., 0., 0., 0., 0., 0., 0., 0., 0.]]),\n",
       "  'action': array([[0.09997999, 0.09997999, 0.09997999, 0.09997999, 0.09997999,\n",
       "          0.09997999, 0.09997999, 0.09997999, 0.10018014, 0.09997999]],\n",
       "        dtype=float32),\n",
       "  'reward': nan,\n",
       "  'next_state': array([[0., 0., 0., 0., 0., 0., 0., 0., 0., 0.]])},\n",
       " {'state': array([[0., 0., 0., 0., 0., 0., 0., 0., 0., 0.]]),\n",
       "  'action': [8],\n",
       "  'reward': nan,\n",
       "  'next_state': array([[0., 0., 0., 0., 0., 0., 0., 0., 0., 0.]])},\n",
       " {'state': array([[0., 0., 0., 0., 0., 0., 0., 0., 0., 0.]]),\n",
       "  'action': array([[0.09997999, 0.09997999, 0.09997999, 0.09997999, 0.09997999,\n",
       "          0.09997999, 0.09997999, 0.09997999, 0.10018014, 0.09997999]],\n",
       "        dtype=float32),\n",
       "  'reward': nan,\n",
       "  'next_state': array([[0., 0., 0., 0., 0., 0., 0., 0., 0., 0.]])},\n",
       " {'state': array([[0., 0., 0., 0., 0., 0., 0., 0., 0., 0.]]),\n",
       "  'action': array([[0.09997999, 0.09997999, 0.09997999, 0.09997999, 0.09997999,\n",
       "          0.09997999, 0.09997999, 0.09997999, 0.10018014, 0.09997999]],\n",
       "        dtype=float32),\n",
       "  'reward': nan,\n",
       "  'next_state': array([[0., 0., 0., 0., 0., 0., 0., 0., 0., 0.]])},\n",
       " {'state': array([[0., 0., 0., 0., 0., 0., 0., 0., 0., 0.]]),\n",
       "  'action': [9],\n",
       "  'reward': nan,\n",
       "  'next_state': array([[0., 0., 0., 0., 0., 0., 0., 0., 0., 0.]])},\n",
       " {'state': array([[0., 0., 0., 0., 0., 0., 0., 0., 0., 0.]]),\n",
       "  'action': [1],\n",
       "  'reward': nan,\n",
       "  'next_state': array([[0., 0., 0., 0., 0., 0., 0., 0., 0., 0.]])},\n",
       " {'state': array([[0., 0., 0., 0., 0., 0., 0., 0., 0., 0.]]),\n",
       "  'action': array([[0.09997999, 0.09997999, 0.09997999, 0.09997999, 0.09997999,\n",
       "          0.09997999, 0.09997999, 0.09997999, 0.10018014, 0.09997999]],\n",
       "        dtype=float32),\n",
       "  'reward': nan,\n",
       "  'next_state': array([[0., 0., 0., 0., 0., 0., 0., 0., 0., 0.]])},\n",
       " {'state': array([[0., 0., 0., 0., 0., 0., 0., 0., 0., 0.]]),\n",
       "  'action': array([[0.09997999, 0.09997999, 0.09997999, 0.09997999, 0.09997999,\n",
       "          0.09997999, 0.09997999, 0.09997999, 0.10018014, 0.09997999]],\n",
       "        dtype=float32),\n",
       "  'reward': nan,\n",
       "  'next_state': array([[0., 0., 0., 0., 0., 0., 0., 0., 0., 0.]])},\n",
       " {'state': array([[0., 0., 0., 0., 0., 0., 0., 0., 0., 0.]]),\n",
       "  'action': array([[0.09997999, 0.09997999, 0.09997999, 0.09997999, 0.09997999,\n",
       "          0.09997999, 0.09997999, 0.09997999, 0.10018014, 0.09997999]],\n",
       "        dtype=float32),\n",
       "  'reward': nan,\n",
       "  'next_state': array([[0., 0., 0., 0., 0., 0., 0., 0., 0., 0.]])},\n",
       " {'state': array([[0., 0., 0., 0., 0., 0., 0., 0., 0., 0.]]),\n",
       "  'action': array([[0.09997999, 0.09997999, 0.09997999, 0.09997999, 0.09997999,\n",
       "          0.09997999, 0.09997999, 0.09997999, 0.10018014, 0.09997999]],\n",
       "        dtype=float32),\n",
       "  'reward': nan,\n",
       "  'next_state': array([[0., 0., 0., 0., 0., 0., 0., 0., 0., 0.]])},\n",
       " {'state': array([[0., 0., 0., 0., 0., 0., 0., 0., 0., 0.]]),\n",
       "  'action': array([[0.09997999, 0.09997999, 0.09997999, 0.09997999, 0.09997999,\n",
       "          0.09997999, 0.09997999, 0.09997999, 0.10018014, 0.09997999]],\n",
       "        dtype=float32),\n",
       "  'reward': nan,\n",
       "  'next_state': array([[0., 0., 0., 0., 0., 0., 0., 0., 0., 0.]])},\n",
       " {'state': array([[0., 0., 0., 0., 0., 0., 0., 0., 0., 0.]]),\n",
       "  'action': array([[0.09997999, 0.09997999, 0.09997999, 0.09997999, 0.09997999,\n",
       "          0.09997999, 0.09997999, 0.09997999, 0.10018014, 0.09997999]],\n",
       "        dtype=float32),\n",
       "  'reward': nan,\n",
       "  'next_state': array([[0., 0., 0., 0., 0., 0., 0., 0., 0., 0.]])},\n",
       " {'state': array([[0., 0., 0., 0., 0., 0., 0., 0., 0., 0.]]),\n",
       "  'action': [9],\n",
       "  'reward': nan,\n",
       "  'next_state': array([[0., 0., 0., 0., 0., 0., 0., 0., 0., 0.]])},\n",
       " {'state': array([[0., 0., 0., 0., 0., 0., 0., 0., 0., 0.]]),\n",
       "  'action': [1],\n",
       "  'reward': nan,\n",
       "  'next_state': array([[0., 0., 0., 0., 0., 0., 0., 0., 0., 0.]])},\n",
       " {'state': array([[0., 0., 0., 0., 0., 0., 0., 0., 0., 0.]]),\n",
       "  'action': [4],\n",
       "  'reward': nan,\n",
       "  'next_state': array([[0., 0., 0., 0., 0., 0., 0., 0., 0., 0.]])},\n",
       " {'state': array([[0., 0., 0., 0., 0., 0., 0., 0., 0., 0.]]),\n",
       "  'action': array([[0.09997999, 0.09997999, 0.09997999, 0.09997999, 0.09997999,\n",
       "          0.09997999, 0.09997999, 0.09997999, 0.10018014, 0.09997999]],\n",
       "        dtype=float32),\n",
       "  'reward': nan,\n",
       "  'next_state': array([[0., 0., 0., 0., 0., 0., 0., 0., 0., 0.]])},\n",
       " {'state': array([[0., 0., 0., 0., 0., 0., 0., 0., 0., 0.]]),\n",
       "  'action': [4],\n",
       "  'reward': nan,\n",
       "  'next_state': array([[0., 0., 0., 0., 0., 0., 0., 0., 0., 0.]])},\n",
       " {'state': array([[0., 0., 0., 0., 0., 0., 0., 0., 0., 0.]]),\n",
       "  'action': array([[0.09997999, 0.09997999, 0.09997999, 0.09997999, 0.09997999,\n",
       "          0.09997999, 0.09997999, 0.09997999, 0.10018014, 0.09997999]],\n",
       "        dtype=float32),\n",
       "  'reward': nan,\n",
       "  'next_state': array([[0., 0., 0., 0., 0., 0., 0., 0., 0., 0.]])},\n",
       " {'state': array([[0., 0., 0., 0., 0., 0., 0., 0., 0., 0.]]),\n",
       "  'action': [8],\n",
       "  'reward': nan,\n",
       "  'next_state': array([[0., 0., 0., 0., 0., 0., 0., 0., 0., 0.]])},\n",
       " {'state': array([[0., 0., 0., 0., 0., 0., 0., 0., 0., 0.]]),\n",
       "  'action': [8],\n",
       "  'reward': nan,\n",
       "  'next_state': array([[0., 0., 0., 0., 0., 0., 0., 0., 0., 0.]])},\n",
       " {'state': array([[0., 0., 0., 0., 0., 0., 0., 0., 0., 0.]]),\n",
       "  'action': array([[0.09997999, 0.09997999, 0.09997999, 0.09997999, 0.09997999,\n",
       "          0.09997999, 0.09997999, 0.09997999, 0.10018014, 0.09997999]],\n",
       "        dtype=float32),\n",
       "  'reward': nan,\n",
       "  'next_state': array([[0., 0., 0., 0., 0., 0., 0., 0., 0., 0.]])},\n",
       " {'state': array([[0., 0., 0., 0., 0., 0., 0., 0., 0., 0.]]),\n",
       "  'action': array([[0.09997999, 0.09997999, 0.09997999, 0.09997999, 0.09997999,\n",
       "          0.09997999, 0.09997999, 0.09997999, 0.10018014, 0.09997999]],\n",
       "        dtype=float32),\n",
       "  'reward': nan,\n",
       "  'next_state': array([[0., 0., 0., 0., 0., 0., 0., 0., 0., 0.]])},\n",
       " {'state': array([[0., 0., 0., 0., 0., 0., 0., 0., 0., 0.]]),\n",
       "  'action': array([[0.09997999, 0.09997999, 0.09997999, 0.09997999, 0.09997999,\n",
       "          0.09997999, 0.09997999, 0.09997999, 0.10018014, 0.09997999]],\n",
       "        dtype=float32),\n",
       "  'reward': nan,\n",
       "  'next_state': array([[0., 0., 0., 0., 0., 0., 0., 0., 0., 0.]])},\n",
       " {'state': array([[0., 0., 0., 0., 0., 0., 0., 0., 0., 0.]]),\n",
       "  'action': [1],\n",
       "  'reward': nan,\n",
       "  'next_state': array([[0., 0., 0., 0., 0., 0., 0., 0., 0., 0.]])},\n",
       " {'state': array([[0., 0., 0., 0., 0., 0., 0., 0., 0., 0.]]),\n",
       "  'action': [4],\n",
       "  'reward': nan,\n",
       "  'next_state': array([[0., 0., 0., 0., 0., 0., 0., 0., 0., 0.]])},\n",
       " {'state': array([[0., 0., 0., 0., 0., 0., 0., 0., 0., 0.]]),\n",
       "  'action': [3],\n",
       "  'reward': nan,\n",
       "  'next_state': array([[0., 0., 0., 0., 0., 0., 0., 0., 0., 0.]])},\n",
       " {'state': array([[0., 0., 0., 0., 0., 0., 0., 0., 0., 0.]]),\n",
       "  'action': [7],\n",
       "  'reward': nan,\n",
       "  'next_state': array([[0., 0., 0., 0., 0., 0., 0., 0., 0., 0.]])},\n",
       " {'state': array([[0., 0., 0., 0., 0., 0., 0., 0., 0., 0.]]),\n",
       "  'action': array([[0.09997999, 0.09997999, 0.09997999, 0.09997999, 0.09997999,\n",
       "          0.09997999, 0.09997999, 0.09997999, 0.10018014, 0.09997999]],\n",
       "        dtype=float32),\n",
       "  'reward': nan,\n",
       "  'next_state': array([[0., 0., 0., 0., 0., 0., 0., 0., 0., 0.]])},\n",
       " {'state': array([[0., 0., 0., 0., 0., 0., 0., 0., 0., 0.]]),\n",
       "  'action': [1],\n",
       "  'reward': nan,\n",
       "  'next_state': array([[0., 0., 0., 0., 0., 0., 0., 0., 0., 0.]])},\n",
       " {'state': array([[0., 0., 0., 0., 0., 0., 0., 0., 0., 0.]]),\n",
       "  'action': array([[0.09997999, 0.09997999, 0.09997999, 0.09997999, 0.09997999,\n",
       "          0.09997999, 0.09997999, 0.09997999, 0.10018014, 0.09997999]],\n",
       "        dtype=float32),\n",
       "  'reward': nan,\n",
       "  'next_state': array([[0., 0., 0., 0., 0., 0., 0., 0., 0., 0.]])},\n",
       " {'state': array([[0., 0., 0., 0., 0., 0., 0., 0., 0., 0.]]),\n",
       "  'action': [3],\n",
       "  'reward': nan,\n",
       "  'next_state': array([[0., 0., 0., 0., 0., 0., 0., 0., 0., 0.]])},\n",
       " {'state': array([[0., 0., 0., 0., 0., 0., 0., 0., 0., 0.]]),\n",
       "  'action': [2],\n",
       "  'reward': nan,\n",
       "  'next_state': array([[0., 0., 0., 0., 0., 0., 0., 0., 0., 0.]])},\n",
       " {'state': array([[0., 0., 0., 0., 0., 0., 0., 0., 0., 0.]]),\n",
       "  'action': array([[0.09997999, 0.09997999, 0.09997999, 0.09997999, 0.09997999,\n",
       "          0.09997999, 0.09997999, 0.09997999, 0.10018014, 0.09997999]],\n",
       "        dtype=float32),\n",
       "  'reward': nan,\n",
       "  'next_state': array([[0., 0., 0., 0., 0., 0., 0., 0., 0., 0.]])},\n",
       " {'state': array([[0., 0., 0., 0., 0., 0., 0., 0., 0., 0.]]),\n",
       "  'action': [6],\n",
       "  'reward': nan,\n",
       "  'next_state': array([[0., 0., 0., 0., 0., 0., 0., 0., 0., 0.]])},\n",
       " {'state': array([[0., 0., 0., 0., 0., 0., 0., 0., 0., 0.]]),\n",
       "  'action': array([[0.09997999, 0.09997999, 0.09997999, 0.09997999, 0.09997999,\n",
       "          0.09997999, 0.09997999, 0.09997999, 0.10018014, 0.09997999]],\n",
       "        dtype=float32),\n",
       "  'reward': nan,\n",
       "  'next_state': array([[0., 0., 0., 0., 0., 0., 0., 0., 0., 0.]])},\n",
       " {'state': array([[0., 0., 0., 0., 0., 0., 0., 0., 0., 0.]]),\n",
       "  'action': array([[0.09997999, 0.09997999, 0.09997999, 0.09997999, 0.09997999,\n",
       "          0.09997999, 0.09997999, 0.09997999, 0.10018014, 0.09997999]],\n",
       "        dtype=float32),\n",
       "  'reward': nan,\n",
       "  'next_state': array([[0., 0., 0., 0., 0., 0., 0., 0., 0., 0.]])},\n",
       " {'state': array([[0., 0., 0., 0., 0., 0., 0., 0., 0., 0.]]),\n",
       "  'action': [0],\n",
       "  'reward': nan,\n",
       "  'next_state': array([[0., 0., 0., 0., 0., 0., 0., 0., 0., 0.]])},\n",
       " {'state': array([[0., 0., 0., 0., 0., 0., 0., 0., 0., 0.]]),\n",
       "  'action': array([[0.09997999, 0.09997999, 0.09997999, 0.09997999, 0.09997999,\n",
       "          0.09997999, 0.09997999, 0.09997999, 0.10018014, 0.09997999]],\n",
       "        dtype=float32),\n",
       "  'reward': nan,\n",
       "  'next_state': array([[0., 0., 0., 0., 0., 0., 0., 0., 0., 0.]])},\n",
       " {'state': array([[0., 0., 0., 0., 0., 0., 0., 0., 0., 0.]]),\n",
       "  'action': [7],\n",
       "  'reward': nan,\n",
       "  'next_state': array([[0., 0., 0., 0., 0., 0., 0., 0., 0., 0.]])},\n",
       " {'state': array([[0., 0., 0., 0., 0., 0., 0., 0., 0., 0.]]),\n",
       "  'action': array([[0.09997999, 0.09997999, 0.09997999, 0.09997999, 0.09997999,\n",
       "          0.09997999, 0.09997999, 0.09997999, 0.10018014, 0.09997999]],\n",
       "        dtype=float32),\n",
       "  'reward': nan,\n",
       "  'next_state': array([[0., 0., 0., 0., 0., 0., 0., 0., 0., 0.]])},\n",
       " {'state': array([[0., 0., 0., 0., 0., 0., 0., 0., 0., 0.]]),\n",
       "  'action': array([[0.09997999, 0.09997999, 0.09997999, 0.09997999, 0.09997999,\n",
       "          0.09997999, 0.09997999, 0.09997999, 0.10018014, 0.09997999]],\n",
       "        dtype=float32),\n",
       "  'reward': nan,\n",
       "  'next_state': array([[0., 0., 0., 0., 0., 0., 0., 0., 0., 0.]])},\n",
       " {'state': array([[0., 0., 0., 0., 0., 0., 0., 0., 0., 0.]]),\n",
       "  'action': [0],\n",
       "  'reward': nan,\n",
       "  'next_state': array([[0., 0., 0., 0., 0., 0., 0., 0., 0., 0.]])},\n",
       " {'state': array([[0., 0., 0., 0., 0., 0., 0., 0., 0., 0.]]),\n",
       "  'action': array([[0.09997999, 0.09997999, 0.09997999, 0.09997999, 0.09997999,\n",
       "          0.09997999, 0.09997999, 0.09997999, 0.10018014, 0.09997999]],\n",
       "        dtype=float32),\n",
       "  'reward': nan,\n",
       "  'next_state': array([[0., 0., 0., 0., 0., 0., 0., 0., 0., 0.]])},\n",
       " {'state': array([[0., 0., 0., 0., 0., 0., 0., 0., 0., 0.]]),\n",
       "  'action': array([[0.09997999, 0.09997999, 0.09997999, 0.09997999, 0.09997999,\n",
       "          0.09997999, 0.09997999, 0.09997999, 0.10018014, 0.09997999]],\n",
       "        dtype=float32),\n",
       "  'reward': nan,\n",
       "  'next_state': array([[0., 0., 0., 0., 0., 0., 0., 0., 0., 0.]])},\n",
       " {'state': array([[0., 0., 0., 0., 0., 0., 0., 0., 0., 0.]]),\n",
       "  'action': [4],\n",
       "  'reward': nan,\n",
       "  'next_state': array([[0., 0., 0., 0., 0., 0., 0., 0., 0., 0.]])},\n",
       " {'state': array([[0., 0., 0., 0., 0., 0., 0., 0., 0., 0.]]),\n",
       "  'action': array([[0.09997999, 0.09997999, 0.09997999, 0.09997999, 0.09997999,\n",
       "          0.09997999, 0.09997999, 0.09997999, 0.10018014, 0.09997999]],\n",
       "        dtype=float32),\n",
       "  'reward': nan,\n",
       "  'next_state': array([[0., 0., 0., 0., 0., 0., 0., 0., 0., 0.]])},\n",
       " {'state': array([[0., 0., 0., 0., 0., 0., 0., 0., 0., 0.]]),\n",
       "  'action': [1],\n",
       "  'reward': nan,\n",
       "  'next_state': array([[0., 0., 0., 0., 0., 0., 0., 0., 0., 0.]])},\n",
       " {'state': array([[0., 0., 0., 0., 0., 0., 0., 0., 0., 0.]]),\n",
       "  'action': [6],\n",
       "  'reward': nan,\n",
       "  'next_state': array([[0., 0., 0., 0., 0., 0., 0., 0., 0., 0.]])},\n",
       " {'state': array([[0., 0., 0., 0., 0., 0., 0., 0., 0., 0.]]),\n",
       "  'action': [3],\n",
       "  'reward': nan,\n",
       "  'next_state': array([[0., 0., 0., 0., 0., 0., 0., 0., 0., 0.]])},\n",
       " {'state': array([[0., 0., 0., 0., 0., 0., 0., 0., 0., 0.]]),\n",
       "  'action': [4],\n",
       "  'reward': nan,\n",
       "  'next_state': array([[0., 0., 0., 0., 0., 0., 0., 0., 0., 0.]])},\n",
       " {'state': array([[0., 0., 0., 0., 0., 0., 0., 0., 0., 0.]]),\n",
       "  'action': array([[0.09997999, 0.09997999, 0.09997999, 0.09997999, 0.09997999,\n",
       "          0.09997999, 0.09997999, 0.09997999, 0.10018014, 0.09997999]],\n",
       "        dtype=float32),\n",
       "  'reward': nan,\n",
       "  'next_state': array([[0., 0., 0., 0., 0., 0., 0., 0., 0., 0.]])},\n",
       " {'state': array([[0., 0., 0., 0., 0., 0., 0., 0., 0., 0.]]),\n",
       "  'action': array([[0.09997999, 0.09997999, 0.09997999, 0.09997999, 0.09997999,\n",
       "          0.09997999, 0.09997999, 0.09997999, 0.10018014, 0.09997999]],\n",
       "        dtype=float32),\n",
       "  'reward': nan,\n",
       "  'next_state': array([[0., 0., 0., 0., 0., 0., 0., 0., 0., 0.]])},\n",
       " {'state': array([[0., 0., 0., 0., 0., 0., 0., 0., 0., 0.]]),\n",
       "  'action': array([[0.09997999, 0.09997999, 0.09997999, 0.09997999, 0.09997999,\n",
       "          0.09997999, 0.09997999, 0.09997999, 0.10018014, 0.09997999]],\n",
       "        dtype=float32),\n",
       "  'reward': nan,\n",
       "  'next_state': array([[0., 0., 0., 0., 0., 0., 0., 0., 0., 0.]])},\n",
       " {'state': array([[0., 0., 0., 0., 0., 0., 0., 0., 0., 0.]]),\n",
       "  'action': array([[0.09997999, 0.09997999, 0.09997999, 0.09997999, 0.09997999,\n",
       "          0.09997999, 0.09997999, 0.09997999, 0.10018014, 0.09997999]],\n",
       "        dtype=float32),\n",
       "  'reward': nan,\n",
       "  'next_state': array([[0., 0., 0., 0., 0., 0., 0., 0., 0., 0.]])},\n",
       " {'state': array([[0., 0., 0., 0., 0., 0., 0., 0., 0., 0.]]),\n",
       "  'action': [8],\n",
       "  'reward': nan,\n",
       "  'next_state': array([[0., 0., 0., 0., 0., 0., 0., 0., 0., 0.]])},\n",
       " {'state': array([[0., 0., 0., 0., 0., 0., 0., 0., 0., 0.]]),\n",
       "  'action': array([[0.09997999, 0.09997999, 0.09997999, 0.09997999, 0.09997999,\n",
       "          0.09997999, 0.09997999, 0.09997999, 0.10018014, 0.09997999]],\n",
       "        dtype=float32),\n",
       "  'reward': nan,\n",
       "  'next_state': array([[0., 0., 0., 0., 0., 0., 0., 0., 0., 0.]])},\n",
       " {'state': array([[0., 0., 0., 0., 0., 0., 0., 0., 0., 0.]]),\n",
       "  'action': [7],\n",
       "  'reward': nan,\n",
       "  'next_state': array([[0., 0., 0., 0., 0., 0., 0., 0., 0., 0.]])},\n",
       " {'state': array([[0., 0., 0., 0., 0., 0., 0., 0., 0., 0.]]),\n",
       "  'action': [0],\n",
       "  'reward': nan,\n",
       "  'next_state': array([[0., 0., 0., 0., 0., 0., 0., 0., 0., 0.]])},\n",
       " {'state': array([[0., 0., 0., 0., 0., 0., 0., 0., 0., 0.]]),\n",
       "  'action': array([[0.09997999, 0.09997999, 0.09997999, 0.09997999, 0.09997999,\n",
       "          0.09997999, 0.09997999, 0.09997999, 0.10018014, 0.09997999]],\n",
       "        dtype=float32),\n",
       "  'reward': nan,\n",
       "  'next_state': array([[0., 0., 0., 0., 0., 0., 0., 0., 0., 0.]])},\n",
       " {'state': array([[0., 0., 0., 0., 0., 0., 0., 0., 0., 0.]]),\n",
       "  'action': array([[0.09997999, 0.09997999, 0.09997999, 0.09997999, 0.09997999,\n",
       "          0.09997999, 0.09997999, 0.09997999, 0.10018014, 0.09997999]],\n",
       "        dtype=float32),\n",
       "  'reward': nan,\n",
       "  'next_state': array([[0., 0., 0., 0., 0., 0., 0., 0., 0., 0.]])}]"
      ]
     },
     "execution_count": 241,
     "metadata": {},
     "output_type": "execute_result"
    }
   ],
   "source": [
    "D"
   ]
  },
  {
   "cell_type": "code",
   "execution_count": 242,
   "metadata": {},
   "outputs": [
    {
     "data": {
      "image/png": "[encoded data removed]",
      "text/plain": [
       "<Figure size 432x288 with 1 Axes>"
      ]
     },
     "metadata": {},
     "output_type": "display_data"
    }
   ],
   "source": [
    "pd.DataFrame([n['reward'] for n in D]).plot()\n",
    "plt.show()"
   ]
  },
  {
   "cell_type": "code",
   "execution_count": null,
   "metadata": {},
   "outputs": [],
   "source": []
  }
 ],
 "metadata": {
  "kernelspec": {
   "display_name": "Python 3",
   "language": "python",
   "name": "python3"
  },
  "language_info": {
   "codemirror_mode": {
    "name": "ipython",
    "version": 3
   },
   "file_extension": ".py",
   "mimetype": "text/x-python",
   "name": "python",
   "nbconvert_exporter": "python",
   "pygments_lexer": "ipython3",
   "version": "3.6.5"
  }
 },
 "nbformat": 4,
 "nbformat_minor": 2
}
