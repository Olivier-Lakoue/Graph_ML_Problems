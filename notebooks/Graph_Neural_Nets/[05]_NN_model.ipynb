{
 "cells": [
  {
   "cell_type": "code",
   "execution_count": 1,
   "metadata": {},
   "outputs": [],
   "source": [
    "import numpy as np"
   ]
  },
  {
   "cell_type": "code",
   "execution_count": 4,
   "metadata": {},
   "outputs": [],
   "source": [
    "from keras.layers import Dense, Conv1D, MaxPooling1D, GlobalAveragePooling1D\n",
    "from keras.models import Sequential"
   ]
  },
  {
   "cell_type": "code",
   "execution_count": 3,
   "metadata": {},
   "outputs": [],
   "source": [
    "# data\n",
    "y_train = np.load('../../data/paletteWL/y_train.npy')\n",
    "y_test = np.load('../../data/paletteWL/y_test.npy')\n",
    "x_train = np.load('../../data/paletteWL/x_train.npy')\n",
    "x_test = np.load('../../data/paletteWL/x_test.npy')"
   ]
  },
  {
   "cell_type": "code",
   "execution_count": 6,
   "metadata": {},
   "outputs": [
    {
     "data": {
      "text/plain": [
       "(35, 15)"
      ]
     },
     "execution_count": 6,
     "metadata": {},
     "output_type": "execute_result"
    }
   ],
   "source": [
    "x_train.shape"
   ]
  },
  {
   "cell_type": "code",
   "execution_count": 8,
   "metadata": {},
   "outputs": [],
   "source": [
    "# model\n",
    "model = Sequential()\n",
    "model.add(Dense(15, activation='relu', input_shape=(15,)))\n",
    "model.add(Dense(1, activation='sigmoid'))"
   ]
  },
  {
   "cell_type": "code",
   "execution_count": 9,
   "metadata": {},
   "outputs": [],
   "source": [
    "model.compile(loss='binary_crossentropy',\n",
    "             optimizer = 'rmsprop',\n",
    "             metrics=['accuracy'])"
   ]
  },
  {
   "cell_type": "code",
   "execution_count": 10,
   "metadata": {},
   "outputs": [
    {
     "name": "stdout",
     "output_type": "stream",
     "text": [
      "_________________________________________________________________\n",
      "Layer (type)                 Output Shape              Param #   \n",
      "=================================================================\n",
      "dense_3 (Dense)              (None, 15)                240       \n",
      "_________________________________________________________________\n",
      "dense_4 (Dense)              (None, 1)                 16        \n",
      "=================================================================\n",
      "Total params: 256\n",
      "Trainable params: 256\n",
      "Non-trainable params: 0\n",
      "_________________________________________________________________\n"
     ]
    }
   ],
   "source": [
    "model.summary()"
   ]
  },
  {
   "cell_type": "code",
   "execution_count": 14,
   "metadata": {
    "scrolled": true
   },
   "outputs": [
    {
     "name": "stdout",
     "output_type": "stream",
     "text": [
      "Epoch 1/30\n",
      "35/35 [==============================] - 0s 228us/step - loss: 0.6172 - acc: 0.6857\n",
      "Epoch 2/30\n",
      "35/35 [==============================] - 0s 171us/step - loss: 0.6102 - acc: 0.6857\n",
      "Epoch 3/30\n",
      "35/35 [==============================] - 0s 200us/step - loss: 0.6034 - acc: 0.6857\n",
      "Epoch 4/30\n",
      "35/35 [==============================] - 0s 200us/step - loss: 0.5977 - acc: 0.6857\n",
      "Epoch 5/30\n",
      "35/35 [==============================] - 0s 200us/step - loss: 0.5901 - acc: 0.6857\n",
      "Epoch 6/30\n",
      "35/35 [==============================] - 0s 172us/step - loss: 0.5820 - acc: 0.7143\n",
      "Epoch 7/30\n",
      "35/35 [==============================] - 0s 171us/step - loss: 0.5775 - acc: 0.7714\n",
      "Epoch 8/30\n",
      "35/35 [==============================] - 0s 171us/step - loss: 0.5708 - acc: 0.8000\n",
      "Epoch 9/30\n",
      "35/35 [==============================] - 0s 172us/step - loss: 0.5623 - acc: 0.8000\n",
      "Epoch 10/30\n",
      "35/35 [==============================] - 0s 143us/step - loss: 0.5582 - acc: 0.8000\n",
      "Epoch 11/30\n",
      "35/35 [==============================] - 0s 143us/step - loss: 0.5519 - acc: 0.8286\n",
      "Epoch 12/30\n",
      "35/35 [==============================] - 0s 143us/step - loss: 0.5450 - acc: 0.8286\n",
      "Epoch 13/30\n",
      "35/35 [==============================] - 0s 143us/step - loss: 0.5402 - acc: 0.8000\n",
      "Epoch 14/30\n",
      "35/35 [==============================] - 0s 171us/step - loss: 0.5330 - acc: 0.8286\n",
      "Epoch 15/30\n",
      "35/35 [==============================] - 0s 143us/step - loss: 0.5265 - acc: 0.8000\n",
      "Epoch 16/30\n",
      "35/35 [==============================] - 0s 143us/step - loss: 0.5213 - acc: 0.8000\n",
      "Epoch 17/30\n",
      "35/35 [==============================] - 0s 142us/step - loss: 0.5148 - acc: 0.8286\n",
      "Epoch 18/30\n",
      "35/35 [==============================] - 0s 142us/step - loss: 0.5092 - acc: 0.8000\n",
      "Epoch 19/30\n",
      "35/35 [==============================] - 0s 172us/step - loss: 0.5043 - acc: 0.8000\n",
      "Epoch 20/30\n",
      "35/35 [==============================] - 0s 171us/step - loss: 0.4993 - acc: 0.8000\n",
      "Epoch 21/30\n",
      "35/35 [==============================] - 0s 200us/step - loss: 0.4941 - acc: 0.8286\n",
      "Epoch 22/30\n",
      "35/35 [==============================] - 0s 200us/step - loss: 0.4886 - acc: 0.8286\n",
      "Epoch 23/30\n",
      "35/35 [==============================] - 0s 171us/step - loss: 0.4848 - acc: 0.8286\n",
      "Epoch 24/30\n",
      "35/35 [==============================] - 0s 200us/step - loss: 0.4810 - acc: 0.8286\n",
      "Epoch 25/30\n",
      "35/35 [==============================] - 0s 171us/step - loss: 0.4762 - acc: 0.8286\n",
      "Epoch 26/30\n",
      "35/35 [==============================] - 0s 200us/step - loss: 0.4715 - acc: 0.8571\n",
      "Epoch 27/30\n",
      "35/35 [==============================] - 0s 171us/step - loss: 0.4681 - acc: 0.8286\n",
      "Epoch 28/30\n",
      "35/35 [==============================] - 0s 171us/step - loss: 0.4641 - acc: 0.8571\n",
      "Epoch 29/30\n",
      "35/35 [==============================] - 0s 143us/step - loss: 0.4612 - acc: 0.8571\n",
      "Epoch 30/30\n",
      "35/35 [==============================] - 0s 143us/step - loss: 0.4544 - acc: 0.8571\n",
      "15/15 [==============================] - 0s 133us/step\n"
     ]
    }
   ],
   "source": [
    "model.fit(x_train, y_train, batch_size=8, epochs=30)\n",
    "score = model.evaluate(x_test, y_test, batch_size=8)"
   ]
  },
  {
   "cell_type": "code",
   "execution_count": 12,
   "metadata": {},
   "outputs": [
    {
     "data": {
      "text/plain": [
       "[0.74094041585922243, 0.46666667262713113]"
      ]
     },
     "execution_count": 12,
     "metadata": {},
     "output_type": "execute_result"
    }
   ],
   "source": [
    "score"
   ]
  },
  {
   "cell_type": "code",
   "execution_count": null,
   "metadata": {},
   "outputs": [],
   "source": []
  }
 ],
 "metadata": {
  "kernelspec": {
   "display_name": "Python 3",
   "language": "python",
   "name": "python3"
  },
  "language_info": {
   "codemirror_mode": {
    "name": "ipython",
    "version": 3
   },
   "file_extension": ".py",
   "mimetype": "text/x-python",
   "name": "python",
   "nbconvert_exporter": "python",
   "pygments_lexer": "ipython3",
   "version": "3.5.4"
  }
 },
 "nbformat": 4,
 "nbformat_minor": 2
}
