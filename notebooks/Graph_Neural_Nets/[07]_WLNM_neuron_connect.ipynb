{
 "cells": [
  {
   "cell_type": "code",
   "execution_count": 1,
   "metadata": {},
   "outputs": [],
   "source": [
    "%load_ext autoreload\n",
    "%autoreload 2"
   ]
  },
  {
   "cell_type": "code",
   "execution_count": 2,
   "metadata": {},
   "outputs": [],
   "source": [
    "import sys\n",
    "sys.path.append('../../src/')\n",
    "from WLNM import PaletteWL\n",
    "import networkx as nx\n",
    "import numpy as np\n",
    "import matplotlib.pyplot as plt"
   ]
  },
  {
   "cell_type": "code",
   "execution_count": 3,
   "metadata": {},
   "outputs": [],
   "source": [
    "import pandas as pd"
   ]
  },
  {
   "cell_type": "markdown",
   "metadata": {},
   "source": [
    "## _C.elegans_ neuron connections network"
   ]
  },
  {
   "cell_type": "code",
   "execution_count": 4,
   "metadata": {},
   "outputs": [],
   "source": [
    "data = pd.read_csv('../../data/NeuronConnect.tsv', sep='\\t')"
   ]
  },
  {
   "cell_type": "code",
   "execution_count": 5,
   "metadata": {},
   "outputs": [
    {
     "data": {
      "text/html": [
       "<div>\n",
       "<style scoped>\n",
       "    .dataframe tbody tr th:only-of-type {\n",
       "        vertical-align: middle;\n",
       "    }\n",
       "\n",
       "    .dataframe tbody tr th {\n",
       "        vertical-align: top;\n",
       "    }\n",
       "\n",
       "    .dataframe thead th {\n",
       "        text-align: right;\n",
       "    }\n",
       "</style>\n",
       "<table border=\"1\" class=\"dataframe\">\n",
       "  <thead>\n",
       "    <tr style=\"text-align: right;\">\n",
       "      <th></th>\n",
       "      <th>Neuron 1</th>\n",
       "      <th>Neuron 2</th>\n",
       "      <th>Type</th>\n",
       "      <th>Nbr</th>\n",
       "    </tr>\n",
       "  </thead>\n",
       "  <tbody>\n",
       "    <tr>\n",
       "      <th>0</th>\n",
       "      <td>ADAR</td>\n",
       "      <td>ADAL</td>\n",
       "      <td>EJ</td>\n",
       "      <td>1</td>\n",
       "    </tr>\n",
       "    <tr>\n",
       "      <th>1</th>\n",
       "      <td>ADFL</td>\n",
       "      <td>ADAL</td>\n",
       "      <td>EJ</td>\n",
       "      <td>1</td>\n",
       "    </tr>\n",
       "    <tr>\n",
       "      <th>2</th>\n",
       "      <td>ASHL</td>\n",
       "      <td>ADAL</td>\n",
       "      <td>EJ</td>\n",
       "      <td>1</td>\n",
       "    </tr>\n",
       "    <tr>\n",
       "      <th>3</th>\n",
       "      <td>AVDR</td>\n",
       "      <td>ADAL</td>\n",
       "      <td>EJ</td>\n",
       "      <td>2</td>\n",
       "    </tr>\n",
       "    <tr>\n",
       "      <th>4</th>\n",
       "      <td>PVQL</td>\n",
       "      <td>ADAL</td>\n",
       "      <td>EJ</td>\n",
       "      <td>1</td>\n",
       "    </tr>\n",
       "  </tbody>\n",
       "</table>\n",
       "</div>"
      ],
      "text/plain": [
       "  Neuron 1 Neuron 2 Type  Nbr\n",
       "0     ADAR     ADAL   EJ    1\n",
       "1     ADFL     ADAL   EJ    1\n",
       "2     ASHL     ADAL   EJ    1\n",
       "3     AVDR     ADAL   EJ    2\n",
       "4     PVQL     ADAL   EJ    1"
      ]
     },
     "execution_count": 5,
     "metadata": {},
     "output_type": "execute_result"
    }
   ],
   "source": [
    "data.head()"
   ]
  },
  {
   "cell_type": "code",
   "execution_count": 12,
   "metadata": {},
   "outputs": [],
   "source": [
    "# convert node labels to integers\n",
    "labels = set(data['Neuron 1'].values)"
   ]
  },
  {
   "cell_type": "code",
   "execution_count": 15,
   "metadata": {},
   "outputs": [],
   "source": [
    "labels.update(set(data['Neuron 2'].values))"
   ]
  },
  {
   "cell_type": "code",
   "execution_count": 16,
   "metadata": {},
   "outputs": [],
   "source": [
    "labels = sorted(list(labels))"
   ]
  },
  {
   "cell_type": "code",
   "execution_count": 17,
   "metadata": {},
   "outputs": [],
   "source": [
    "# dict\n",
    "d_labels = {lab:n for n,lab in enumerate(labels)}"
   ]
  },
  {
   "cell_type": "code",
   "execution_count": 21,
   "metadata": {},
   "outputs": [],
   "source": [
    "data['Neuron_1_lab'] = [d_labels[n] for n in data['Neuron 1']]"
   ]
  },
  {
   "cell_type": "code",
   "execution_count": 22,
   "metadata": {},
   "outputs": [],
   "source": [
    "data['Neuron_2_lab'] = [d_labels[n] for n in data['Neuron 2']]"
   ]
  },
  {
   "cell_type": "code",
   "execution_count": 23,
   "metadata": {},
   "outputs": [],
   "source": [
    "g = nx.from_pandas_edgelist(data, source='Neuron_1_lab', target='Neuron_2_lab', edge_attr=['Type','Nbr'])"
   ]
  },
  {
   "cell_type": "code",
   "execution_count": 24,
   "metadata": {},
   "outputs": [
    {
     "data": {
      "image/png": "[encoded data removed]",
      "text/plain": [
       "<Figure size 432x288 with 1 Axes>"
      ]
     },
     "metadata": {},
     "output_type": "display_data"
    }
   ],
   "source": [
    "pos = nx.kamada_kawai_layout(g)\n",
    "nx.draw_networkx(g, pos=pos, node_color='royalblue', font_color='w', font_size=7)\n",
    "plt.axis('off')\n",
    "plt.show()"
   ]
  },
  {
   "cell_type": "code",
   "execution_count": 25,
   "metadata": {},
   "outputs": [
    {
     "data": {
      "text/plain": [
       "283"
      ]
     },
     "execution_count": 25,
     "metadata": {},
     "output_type": "execute_result"
    }
   ],
   "source": [
    "len(g)"
   ]
  },
  {
   "cell_type": "markdown",
   "metadata": {},
   "source": [
    "## WLNM dataset"
   ]
  },
  {
   "cell_type": "code",
   "execution_count": 32,
   "metadata": {},
   "outputs": [],
   "source": [
    "wl = PaletteWL(g)"
   ]
  },
  {
   "cell_type": "code",
   "execution_count": 33,
   "metadata": {},
   "outputs": [],
   "source": [
    "train, test, val = wl.dataset(val_ratio=0.2)"
   ]
  },
  {
   "cell_type": "code",
   "execution_count": 34,
   "metadata": {},
   "outputs": [],
   "source": [
    "y_train, x_train = train\n",
    "y_test, x_test = test\n",
    "y_val, x_val = val"
   ]
  },
  {
   "cell_type": "code",
   "execution_count": 35,
   "metadata": {},
   "outputs": [
    {
     "data": {
      "text/plain": [
       "(2888, 80)"
      ]
     },
     "execution_count": 35,
     "metadata": {},
     "output_type": "execute_result"
    }
   ],
   "source": [
    "x_train.shape"
   ]
  },
  {
   "cell_type": "markdown",
   "metadata": {},
   "source": [
    "## Neural net model"
   ]
  },
  {
   "cell_type": "code",
   "execution_count": 49,
   "metadata": {},
   "outputs": [],
   "source": [
    "from keras.models import Model, Sequential\n",
    "from keras.layers import Dense, Dropout"
   ]
  },
  {
   "cell_type": "code",
   "execution_count": 45,
   "metadata": {},
   "outputs": [],
   "source": [
    "model = Sequential()\n",
    "model.add(Dense(64, activation='relu', input_dim=80))\n",
    "model.add(Dense(1, activation='sigmoid'))\n",
    "model.compile(optimizer='rmsprop',\n",
    "              loss='binary_crossentropy',\n",
    "              metrics=['accuracy'])"
   ]
  },
  {
   "cell_type": "code",
   "execution_count": 46,
   "metadata": {},
   "outputs": [
    {
     "name": "stdout",
     "output_type": "stream",
     "text": [
      "_________________________________________________________________\n",
      "Layer (type)                 Output Shape              Param #   \n",
      "=================================================================\n",
      "dense_5 (Dense)              (None, 64)                5184      \n",
      "_________________________________________________________________\n",
      "dense_6 (Dense)              (None, 1)                 65        \n",
      "=================================================================\n",
      "Total params: 5,249\n",
      "Trainable params: 5,249\n",
      "Non-trainable params: 0\n",
      "_________________________________________________________________\n"
     ]
    }
   ],
   "source": [
    "model.summary()"
   ]
  },
  {
   "cell_type": "code",
   "execution_count": 47,
   "metadata": {
    "scrolled": true
   },
   "outputs": [
    {
     "name": "stdout",
     "output_type": "stream",
     "text": [
      "Train on 2888 samples, validate on 962 samples\n",
      "Epoch 1/50\n",
      "2888/2888 [==============================] - 0s 88us/step - loss: 0.6546 - acc: 0.6233 - val_loss: 0.6201 - val_acc: 0.6778\n",
      "Epoch 2/50\n",
      "2888/2888 [==============================] - 0s 35us/step - loss: 0.6089 - acc: 0.6797 - val_loss: 0.5953 - val_acc: 0.6830\n",
      "Epoch 3/50\n",
      "2888/2888 [==============================] - 0s 37us/step - loss: 0.5854 - acc: 0.7008 - val_loss: 0.5820 - val_acc: 0.7079\n",
      "Epoch 4/50\n",
      "2888/2888 [==============================] - 0s 34us/step - loss: 0.5639 - acc: 0.7261 - val_loss: 0.5664 - val_acc: 0.7027\n",
      "Epoch 5/50\n",
      "2888/2888 [==============================] - 0s 35us/step - loss: 0.5436 - acc: 0.7358 - val_loss: 0.5489 - val_acc: 0.7089\n",
      "Epoch 6/50\n",
      "2888/2888 [==============================] - 0s 33us/step - loss: 0.5249 - acc: 0.7524 - val_loss: 0.5399 - val_acc: 0.7162\n",
      "Epoch 7/50\n",
      "2888/2888 [==============================] - 0s 32us/step - loss: 0.5074 - acc: 0.7618 - val_loss: 0.5249 - val_acc: 0.7339\n",
      "Epoch 8/50\n",
      "2888/2888 [==============================] - 0s 33us/step - loss: 0.4899 - acc: 0.7794 - val_loss: 0.5190 - val_acc: 0.7245\n",
      "Epoch 9/50\n",
      "2888/2888 [==============================] - 0s 32us/step - loss: 0.4769 - acc: 0.7815 - val_loss: 0.5049 - val_acc: 0.7505\n",
      "Epoch 10/50\n",
      "2888/2888 [==============================] - 0s 37us/step - loss: 0.4632 - acc: 0.7898 - val_loss: 0.4949 - val_acc: 0.7713\n",
      "Epoch 11/50\n",
      "2888/2888 [==============================] - 0s 30us/step - loss: 0.4518 - acc: 0.8047 - val_loss: 0.4922 - val_acc: 0.7557\n",
      "Epoch 12/50\n",
      "2888/2888 [==============================] - 0s 35us/step - loss: 0.4411 - acc: 0.8082 - val_loss: 0.4820 - val_acc: 0.7692\n",
      "Epoch 13/50\n",
      "2888/2888 [==============================] - 0s 31us/step - loss: 0.4309 - acc: 0.8134 - val_loss: 0.4779 - val_acc: 0.7713\n",
      "Epoch 14/50\n",
      "2888/2888 [==============================] - 0s 31us/step - loss: 0.4205 - acc: 0.8168 - val_loss: 0.4822 - val_acc: 0.7692\n",
      "Epoch 15/50\n",
      "2888/2888 [==============================] - 0s 33us/step - loss: 0.4115 - acc: 0.8251 - val_loss: 0.4672 - val_acc: 0.7775\n",
      "Epoch 16/50\n",
      "2888/2888 [==============================] - 0s 33us/step - loss: 0.4019 - acc: 0.8317 - val_loss: 0.4571 - val_acc: 0.7859\n",
      "Epoch 17/50\n",
      "2888/2888 [==============================] - 0s 34us/step - loss: 0.3950 - acc: 0.8348 - val_loss: 0.4557 - val_acc: 0.7848\n",
      "Epoch 18/50\n",
      "2888/2888 [==============================] - 0s 35us/step - loss: 0.3861 - acc: 0.8380 - val_loss: 0.4471 - val_acc: 0.7952\n",
      "Epoch 19/50\n",
      "2888/2888 [==============================] - 0s 33us/step - loss: 0.3781 - acc: 0.8473 - val_loss: 0.4446 - val_acc: 0.7921\n",
      "Epoch 20/50\n",
      "2888/2888 [==============================] - 0s 32us/step - loss: 0.3707 - acc: 0.8501 - val_loss: 0.4470 - val_acc: 0.7900\n",
      "Epoch 21/50\n",
      "2888/2888 [==============================] - 0s 35us/step - loss: 0.3622 - acc: 0.8525 - val_loss: 0.4365 - val_acc: 0.8015\n",
      "Epoch 22/50\n",
      "2888/2888 [==============================] - 0s 34us/step - loss: 0.3546 - acc: 0.8594 - val_loss: 0.4766 - val_acc: 0.7692\n",
      "Epoch 23/50\n",
      "2888/2888 [==============================] - 0s 32us/step - loss: 0.3493 - acc: 0.8643 - val_loss: 0.4419 - val_acc: 0.7879\n",
      "Epoch 24/50\n",
      "2888/2888 [==============================] - 0s 31us/step - loss: 0.3431 - acc: 0.8622 - val_loss: 0.4228 - val_acc: 0.8181\n",
      "Epoch 25/50\n",
      "2888/2888 [==============================] - 0s 33us/step - loss: 0.3359 - acc: 0.8681 - val_loss: 0.4238 - val_acc: 0.8004\n",
      "Epoch 26/50\n",
      "2888/2888 [==============================] - 0s 34us/step - loss: 0.3299 - acc: 0.8715 - val_loss: 0.4195 - val_acc: 0.8046\n",
      "Epoch 27/50\n",
      "2888/2888 [==============================] - 0s 33us/step - loss: 0.3239 - acc: 0.8760 - val_loss: 0.4168 - val_acc: 0.8098\n",
      "Epoch 28/50\n",
      "2888/2888 [==============================] - 0s 31us/step - loss: 0.3169 - acc: 0.8798 - val_loss: 0.4326 - val_acc: 0.8015\n",
      "Epoch 29/50\n",
      "2888/2888 [==============================] - 0s 34us/step - loss: 0.3132 - acc: 0.8847 - val_loss: 0.4182 - val_acc: 0.7994\n",
      "Epoch 30/50\n",
      "2888/2888 [==============================] - 0s 38us/step - loss: 0.3062 - acc: 0.8843 - val_loss: 0.4148 - val_acc: 0.8160\n",
      "Epoch 31/50\n",
      "2888/2888 [==============================] - 0s 32us/step - loss: 0.2999 - acc: 0.8906 - val_loss: 0.4160 - val_acc: 0.8056\n",
      "Epoch 32/50\n",
      "2888/2888 [==============================] - 0s 35us/step - loss: 0.2941 - acc: 0.8920 - val_loss: 0.4076 - val_acc: 0.8191\n",
      "Epoch 33/50\n",
      "2888/2888 [==============================] - 0s 36us/step - loss: 0.2896 - acc: 0.8937 - val_loss: 0.4156 - val_acc: 0.8098\n",
      "Epoch 34/50\n",
      "2888/2888 [==============================] - 0s 31us/step - loss: 0.2859 - acc: 0.8951 - val_loss: 0.4006 - val_acc: 0.8222\n",
      "Epoch 35/50\n",
      "2888/2888 [==============================] - 0s 31us/step - loss: 0.2772 - acc: 0.9041 - val_loss: 0.4155 - val_acc: 0.8067\n",
      "Epoch 36/50\n",
      "2888/2888 [==============================] - 0s 33us/step - loss: 0.2735 - acc: 0.9072 - val_loss: 0.3964 - val_acc: 0.8150\n",
      "Epoch 37/50\n",
      "2888/2888 [==============================] - 0s 33us/step - loss: 0.2687 - acc: 0.9075 - val_loss: 0.3946 - val_acc: 0.8316\n",
      "Epoch 38/50\n",
      "2888/2888 [==============================] - 0s 32us/step - loss: 0.2637 - acc: 0.9079 - val_loss: 0.4011 - val_acc: 0.8285\n",
      "Epoch 39/50\n",
      "2888/2888 [==============================] - 0s 32us/step - loss: 0.2589 - acc: 0.9124 - val_loss: 0.4035 - val_acc: 0.8160\n",
      "Epoch 40/50\n",
      "2888/2888 [==============================] - 0s 33us/step - loss: 0.2542 - acc: 0.9166 - val_loss: 0.3879 - val_acc: 0.8326\n",
      "Epoch 41/50\n",
      "2888/2888 [==============================] - 0s 33us/step - loss: 0.2488 - acc: 0.9169 - val_loss: 0.3813 - val_acc: 0.8368\n",
      "Epoch 42/50\n",
      "2888/2888 [==============================] - 0s 30us/step - loss: 0.2449 - acc: 0.9217 - val_loss: 0.3798 - val_acc: 0.8306\n",
      "Epoch 43/50\n",
      "2888/2888 [==============================] - 0s 33us/step - loss: 0.2412 - acc: 0.9242 - val_loss: 0.3919 - val_acc: 0.8254\n",
      "Epoch 44/50\n",
      "2888/2888 [==============================] - 0s 32us/step - loss: 0.2359 - acc: 0.9224 - val_loss: 0.4093 - val_acc: 0.8108\n",
      "Epoch 45/50\n",
      "2888/2888 [==============================] - 0s 32us/step - loss: 0.2305 - acc: 0.9301 - val_loss: 0.3798 - val_acc: 0.8316\n",
      "Epoch 46/50\n",
      "2888/2888 [==============================] - 0s 32us/step - loss: 0.2268 - acc: 0.9321 - val_loss: 0.3751 - val_acc: 0.8368\n",
      "Epoch 47/50\n",
      "2888/2888 [==============================] - 0s 33us/step - loss: 0.2211 - acc: 0.9314 - val_loss: 0.3783 - val_acc: 0.8420\n",
      "Epoch 48/50\n",
      "2888/2888 [==============================] - 0s 32us/step - loss: 0.2193 - acc: 0.9280 - val_loss: 0.3729 - val_acc: 0.8378\n",
      "Epoch 49/50\n",
      "2888/2888 [==============================] - 0s 35us/step - loss: 0.2145 - acc: 0.9356 - val_loss: 0.3743 - val_acc: 0.8462\n",
      "Epoch 50/50\n",
      "2888/2888 [==============================] - 0s 34us/step - loss: 0.2110 - acc: 0.9349 - val_loss: 0.3761 - val_acc: 0.8358\n"
     ]
    }
   ],
   "source": [
    "history = model.fit(x_train, y_train,batch_size=32, validation_data=(x_val, y_val), epochs=50)"
   ]
  },
  {
   "cell_type": "code",
   "execution_count": 48,
   "metadata": {},
   "outputs": [
    {
     "data": {
      "image/png": "[encoded data removed]",
      "text/plain": [
       "<Figure size 432x288 with 1 Axes>"
      ]
     },
     "metadata": {},
     "output_type": "display_data"
    }
   ],
   "source": [
    "pd.DataFrame(history.history).plot()\n",
    "plt.show()"
   ]
  },
  {
   "cell_type": "markdown",
   "metadata": {},
   "source": [
    "We start to see some overfitting around step 5. Let's add dropout."
   ]
  },
  {
   "cell_type": "code",
   "execution_count": 61,
   "metadata": {},
   "outputs": [],
   "source": [
    "model = Sequential()\n",
    "model.add(Dense(64, activation='relu', input_dim=80))\n",
    "model.add(Dropout(0.5))\n",
    "model.add(Dense(1, activation='sigmoid'))\n",
    "model.compile(optimizer='rmsprop',\n",
    "              loss='binary_crossentropy',\n",
    "              metrics=['accuracy'])"
   ]
  },
  {
   "cell_type": "code",
   "execution_count": 62,
   "metadata": {},
   "outputs": [],
   "source": [
    "model.add(Dense(1, activation='sigmoid'))\n",
    "model.compile(optimizer='rmsprop',\n",
    "              loss='binary_crossentropy',\n",
    "              metrics=['accuracy'])"
   ]
  },
  {
   "cell_type": "code",
   "execution_count": 63,
   "metadata": {},
   "outputs": [
    {
     "name": "stdout",
     "output_type": "stream",
     "text": [
      "_________________________________________________________________\n",
      "Layer (type)                 Output Shape              Param #   \n",
      "=================================================================\n",
      "dense_14 (Dense)             (None, 64)                5184      \n",
      "_________________________________________________________________\n",
      "dropout_3 (Dropout)          (None, 64)                0         \n",
      "_________________________________________________________________\n",
      "dense_15 (Dense)             (None, 1)                 65        \n",
      "_________________________________________________________________\n",
      "dense_16 (Dense)             (None, 1)                 2         \n",
      "=================================================================\n",
      "Total params: 5,251\n",
      "Trainable params: 5,251\n",
      "Non-trainable params: 0\n",
      "_________________________________________________________________\n"
     ]
    }
   ],
   "source": [
    "model.summary()"
   ]
  },
  {
   "cell_type": "code",
   "execution_count": 64,
   "metadata": {
    "scrolled": true
   },
   "outputs": [
    {
     "name": "stdout",
     "output_type": "stream",
     "text": [
      "Train on 2888 samples, validate on 962 samples\n",
      "Epoch 1/200\n",
      "2888/2888 [==============================] - 0s 126us/step - loss: 0.6929 - acc: 0.4986 - val_loss: 0.6918 - val_acc: 0.5021\n",
      "Epoch 2/200\n",
      "2888/2888 [==============================] - 0s 36us/step - loss: 0.6909 - acc: 0.5332 - val_loss: 0.6884 - val_acc: 0.6320\n",
      "Epoch 3/200\n",
      "2888/2888 [==============================] - 0s 40us/step - loss: 0.6868 - acc: 0.6046 - val_loss: 0.6831 - val_acc: 0.6445\n",
      "Epoch 4/200\n",
      "2888/2888 [==============================] - 0s 43us/step - loss: 0.6817 - acc: 0.6513 - val_loss: 0.6781 - val_acc: 0.6476\n",
      "Epoch 5/200\n",
      "2888/2888 [==============================] - 0s 38us/step - loss: 0.6774 - acc: 0.6402 - val_loss: 0.6733 - val_acc: 0.6726\n",
      "Epoch 6/200\n",
      "2888/2888 [==============================] - 0s 39us/step - loss: 0.6718 - acc: 0.6596 - val_loss: 0.6683 - val_acc: 0.6684\n",
      "Epoch 7/200\n",
      "2888/2888 [==============================] - 0s 36us/step - loss: 0.6668 - acc: 0.6700 - val_loss: 0.6629 - val_acc: 0.6674\n",
      "Epoch 8/200\n",
      "2888/2888 [==============================] - 0s 44us/step - loss: 0.6617 - acc: 0.6679 - val_loss: 0.6584 - val_acc: 0.6726\n",
      "Epoch 9/200\n",
      "2888/2888 [==============================] - 0s 37us/step - loss: 0.6551 - acc: 0.6859 - val_loss: 0.6538 - val_acc: 0.6726\n",
      "Epoch 10/200\n",
      "2888/2888 [==============================] - 0s 40us/step - loss: 0.6512 - acc: 0.6811 - val_loss: 0.6504 - val_acc: 0.6840\n",
      "Epoch 11/200\n",
      "2888/2888 [==============================] - 0s 44us/step - loss: 0.6454 - acc: 0.6929 - val_loss: 0.6448 - val_acc: 0.6830\n",
      "Epoch 12/200\n",
      "2888/2888 [==============================] - 0s 38us/step - loss: 0.6400 - acc: 0.6974 - val_loss: 0.6401 - val_acc: 0.6944\n",
      "Epoch 13/200\n",
      "2888/2888 [==============================] - 0s 34us/step - loss: 0.6356 - acc: 0.6974 - val_loss: 0.6353 - val_acc: 0.6923\n",
      "Epoch 14/200\n",
      "2888/2888 [==============================] - 0s 40us/step - loss: 0.6321 - acc: 0.6977 - val_loss: 0.6309 - val_acc: 0.6965\n",
      "Epoch 15/200\n",
      "2888/2888 [==============================] - 0s 41us/step - loss: 0.6259 - acc: 0.7015 - val_loss: 0.6276 - val_acc: 0.6933\n",
      "Epoch 16/200\n",
      "2888/2888 [==============================] - 0s 35us/step - loss: 0.6191 - acc: 0.7116 - val_loss: 0.6220 - val_acc: 0.7017\n",
      "Epoch 17/200\n",
      "2888/2888 [==============================] - 0s 42us/step - loss: 0.6149 - acc: 0.7175 - val_loss: 0.6169 - val_acc: 0.7100\n",
      "Epoch 18/200\n",
      "2888/2888 [==============================] - 0s 35us/step - loss: 0.6083 - acc: 0.7240 - val_loss: 0.6117 - val_acc: 0.7048\n",
      "Epoch 19/200\n",
      "2888/2888 [==============================] - 0s 46us/step - loss: 0.6030 - acc: 0.7299 - val_loss: 0.6070 - val_acc: 0.7110\n",
      "Epoch 20/200\n",
      "2888/2888 [==============================] - 0s 37us/step - loss: 0.5991 - acc: 0.7285 - val_loss: 0.6024 - val_acc: 0.7152\n",
      "Epoch 21/200\n",
      "2888/2888 [==============================] - 0s 42us/step - loss: 0.5923 - acc: 0.7327 - val_loss: 0.5989 - val_acc: 0.7079\n",
      "Epoch 22/200\n",
      "2888/2888 [==============================] - 0s 40us/step - loss: 0.5873 - acc: 0.7386 - val_loss: 0.5935 - val_acc: 0.7235\n",
      "Epoch 23/200\n",
      "2888/2888 [==============================] - 0s 38us/step - loss: 0.5843 - acc: 0.7396 - val_loss: 0.5894 - val_acc: 0.7256\n",
      "Epoch 24/200\n",
      "2888/2888 [==============================] - 0s 38us/step - loss: 0.5791 - acc: 0.7361 - val_loss: 0.5860 - val_acc: 0.7214\n",
      "Epoch 25/200\n",
      "2888/2888 [==============================] - 0s 38us/step - loss: 0.5710 - acc: 0.7514 - val_loss: 0.5810 - val_acc: 0.7308\n",
      "Epoch 26/200\n",
      "2888/2888 [==============================] - 0s 37us/step - loss: 0.5625 - acc: 0.7583 - val_loss: 0.5758 - val_acc: 0.7318\n",
      "Epoch 27/200\n",
      "2888/2888 [==============================] - 0s 39us/step - loss: 0.5603 - acc: 0.7524 - val_loss: 0.5725 - val_acc: 0.7256\n",
      "Epoch 28/200\n",
      "2888/2888 [==============================] - 0s 44us/step - loss: 0.5546 - acc: 0.7607 - val_loss: 0.5681 - val_acc: 0.7277\n",
      "Epoch 29/200\n",
      "2888/2888 [==============================] - 0s 35us/step - loss: 0.5478 - acc: 0.7663 - val_loss: 0.5630 - val_acc: 0.7266\n",
      "Epoch 30/200\n",
      "2888/2888 [==============================] - 0s 45us/step - loss: 0.5449 - acc: 0.7659 - val_loss: 0.5589 - val_acc: 0.7308\n",
      "Epoch 31/200\n",
      "2888/2888 [==============================] - 0s 36us/step - loss: 0.5411 - acc: 0.7722 - val_loss: 0.5552 - val_acc: 0.7360\n",
      "Epoch 32/200\n",
      "2888/2888 [==============================] - 0s 39us/step - loss: 0.5332 - acc: 0.7722 - val_loss: 0.5514 - val_acc: 0.7370\n",
      "Epoch 33/200\n",
      "2888/2888 [==============================] - 0s 40us/step - loss: 0.5252 - acc: 0.7808 - val_loss: 0.5485 - val_acc: 0.7391\n",
      "Epoch 34/200\n",
      "2888/2888 [==============================] - 0s 38us/step - loss: 0.5245 - acc: 0.7732 - val_loss: 0.5440 - val_acc: 0.7380\n",
      "Epoch 35/200\n",
      "2888/2888 [==============================] - 0s 38us/step - loss: 0.5207 - acc: 0.7746 - val_loss: 0.5403 - val_acc: 0.7422\n",
      "Epoch 36/200\n",
      "2888/2888 [==============================] - 0s 40us/step - loss: 0.5190 - acc: 0.7774 - val_loss: 0.5375 - val_acc: 0.7526\n",
      "Epoch 37/200\n",
      "2888/2888 [==============================] - 0s 42us/step - loss: 0.5160 - acc: 0.7777 - val_loss: 0.5347 - val_acc: 0.7401\n",
      "Epoch 38/200\n",
      "2888/2888 [==============================] - 0s 40us/step - loss: 0.5104 - acc: 0.7891 - val_loss: 0.5293 - val_acc: 0.7609\n",
      "Epoch 39/200\n",
      "2888/2888 [==============================] - 0s 39us/step - loss: 0.5067 - acc: 0.7822 - val_loss: 0.5251 - val_acc: 0.7568\n",
      "Epoch 40/200\n",
      "2888/2888 [==============================] - 0s 38us/step - loss: 0.5040 - acc: 0.7846 - val_loss: 0.5237 - val_acc: 0.7568\n",
      "Epoch 41/200\n",
      "2888/2888 [==============================] - 0s 40us/step - loss: 0.5006 - acc: 0.7867 - val_loss: 0.5201 - val_acc: 0.7536\n",
      "Epoch 42/200\n",
      "2888/2888 [==============================] - 0s 44us/step - loss: 0.4938 - acc: 0.7985 - val_loss: 0.5189 - val_acc: 0.7557\n",
      "Epoch 43/200\n",
      "2888/2888 [==============================] - 0s 38us/step - loss: 0.4962 - acc: 0.7895 - val_loss: 0.5161 - val_acc: 0.7568\n",
      "Epoch 44/200\n",
      "2888/2888 [==============================] - 0s 38us/step - loss: 0.4891 - acc: 0.7860 - val_loss: 0.5151 - val_acc: 0.7609\n",
      "Epoch 45/200\n",
      "2888/2888 [==============================] - 0s 40us/step - loss: 0.4878 - acc: 0.7926 - val_loss: 0.5123 - val_acc: 0.7620\n",
      "Epoch 46/200\n",
      "2888/2888 [==============================] - 0s 38us/step - loss: 0.4888 - acc: 0.7936 - val_loss: 0.5080 - val_acc: 0.7651\n",
      "Epoch 47/200\n",
      "2888/2888 [==============================] - 0s 34us/step - loss: 0.4763 - acc: 0.8054 - val_loss: 0.5065 - val_acc: 0.7651\n",
      "Epoch 48/200\n",
      "2888/2888 [==============================] - 0s 40us/step - loss: 0.4746 - acc: 0.8016 - val_loss: 0.5037 - val_acc: 0.7682\n",
      "Epoch 49/200\n",
      "2888/2888 [==============================] - 0s 42us/step - loss: 0.4712 - acc: 0.8047 - val_loss: 0.4979 - val_acc: 0.7734\n",
      "Epoch 50/200\n",
      "2888/2888 [==============================] - 0s 38us/step - loss: 0.4724 - acc: 0.8030 - val_loss: 0.4954 - val_acc: 0.7744\n",
      "Epoch 51/200\n",
      "2888/2888 [==============================] - 0s 42us/step - loss: 0.4662 - acc: 0.8019 - val_loss: 0.4931 - val_acc: 0.7786\n",
      "Epoch 52/200\n",
      "2888/2888 [==============================] - 0s 40us/step - loss: 0.4585 - acc: 0.8172 - val_loss: 0.4935 - val_acc: 0.7775\n",
      "Epoch 53/200\n",
      "2888/2888 [==============================] - 0s 39us/step - loss: 0.4638 - acc: 0.8102 - val_loss: 0.4905 - val_acc: 0.7827\n",
      "Epoch 54/200\n",
      "2888/2888 [==============================] - 0s 46us/step - loss: 0.4586 - acc: 0.8099 - val_loss: 0.4908 - val_acc: 0.7723\n",
      "Epoch 55/200\n",
      "2888/2888 [==============================] - 0s 36us/step - loss: 0.4552 - acc: 0.8120 - val_loss: 0.4873 - val_acc: 0.7775\n",
      "Epoch 56/200\n",
      "2888/2888 [==============================] - 0s 39us/step - loss: 0.4536 - acc: 0.8130 - val_loss: 0.4837 - val_acc: 0.7807\n",
      "Epoch 57/200\n",
      "2888/2888 [==============================] - 0s 39us/step - loss: 0.4509 - acc: 0.8151 - val_loss: 0.4847 - val_acc: 0.7817\n",
      "Epoch 58/200\n",
      "2888/2888 [==============================] - 0s 37us/step - loss: 0.4457 - acc: 0.8179 - val_loss: 0.4841 - val_acc: 0.7838\n",
      "Epoch 59/200\n",
      "2888/2888 [==============================] - 0s 39us/step - loss: 0.4448 - acc: 0.8199 - val_loss: 0.4833 - val_acc: 0.7827\n",
      "Epoch 60/200\n"
     ]
    },
    {
     "name": "stdout",
     "output_type": "stream",
     "text": [
      "2888/2888 [==============================] - 0s 38us/step - loss: 0.4380 - acc: 0.8220 - val_loss: 0.4793 - val_acc: 0.7827\n",
      "Epoch 61/200\n",
      "2888/2888 [==============================] - 0s 37us/step - loss: 0.4424 - acc: 0.8186 - val_loss: 0.4769 - val_acc: 0.7879\n",
      "Epoch 62/200\n",
      "2888/2888 [==============================] - 0s 35us/step - loss: 0.4399 - acc: 0.8172 - val_loss: 0.4728 - val_acc: 0.7838\n",
      "Epoch 63/200\n",
      "2888/2888 [==============================] - 0s 47us/step - loss: 0.4444 - acc: 0.8116 - val_loss: 0.4711 - val_acc: 0.7890\n",
      "Epoch 64/200\n",
      "2888/2888 [==============================] - 0s 34us/step - loss: 0.4348 - acc: 0.8272 - val_loss: 0.4707 - val_acc: 0.7827\n",
      "Epoch 65/200\n",
      "2888/2888 [==============================] - 0s 41us/step - loss: 0.4255 - acc: 0.8352 - val_loss: 0.4710 - val_acc: 0.7900\n",
      "Epoch 66/200\n",
      "2888/2888 [==============================] - 0s 37us/step - loss: 0.4237 - acc: 0.8293 - val_loss: 0.4662 - val_acc: 0.7942\n",
      "Epoch 67/200\n",
      "2888/2888 [==============================] - 0s 37us/step - loss: 0.4255 - acc: 0.8269 - val_loss: 0.4607 - val_acc: 0.7952\n",
      "Epoch 68/200\n",
      "2888/2888 [==============================] - 0s 42us/step - loss: 0.4250 - acc: 0.8310 - val_loss: 0.4611 - val_acc: 0.7973\n",
      "Epoch 69/200\n",
      "2888/2888 [==============================] - 0s 34us/step - loss: 0.4229 - acc: 0.8369 - val_loss: 0.4585 - val_acc: 0.7952\n",
      "Epoch 70/200\n",
      "2888/2888 [==============================] - 0s 40us/step - loss: 0.4204 - acc: 0.8355 - val_loss: 0.4641 - val_acc: 0.7869\n",
      "Epoch 71/200\n",
      "2888/2888 [==============================] - 0s 34us/step - loss: 0.4107 - acc: 0.8386 - val_loss: 0.4569 - val_acc: 0.7942\n",
      "Epoch 72/200\n",
      "2888/2888 [==============================] - 0s 47us/step - loss: 0.4133 - acc: 0.8373 - val_loss: 0.4569 - val_acc: 0.7869\n",
      "Epoch 73/200\n",
      "2888/2888 [==============================] - 0s 39us/step - loss: 0.4129 - acc: 0.8317 - val_loss: 0.4540 - val_acc: 0.7942\n",
      "Epoch 74/200\n",
      "2888/2888 [==============================] - 0s 34us/step - loss: 0.4033 - acc: 0.8397 - val_loss: 0.4484 - val_acc: 0.7963\n",
      "Epoch 75/200\n",
      "2888/2888 [==============================] - 0s 39us/step - loss: 0.4062 - acc: 0.8393 - val_loss: 0.4472 - val_acc: 0.7942\n",
      "Epoch 76/200\n",
      "2888/2888 [==============================] - 0s 36us/step - loss: 0.4034 - acc: 0.8355 - val_loss: 0.4490 - val_acc: 0.7973\n",
      "Epoch 77/200\n",
      "2888/2888 [==============================] - 0s 35us/step - loss: 0.4000 - acc: 0.8400 - val_loss: 0.4413 - val_acc: 0.7983\n",
      "Epoch 78/200\n",
      "2888/2888 [==============================] - 0s 40us/step - loss: 0.3978 - acc: 0.8386 - val_loss: 0.4425 - val_acc: 0.8025\n",
      "Epoch 79/200\n",
      "2888/2888 [==============================] - 0s 36us/step - loss: 0.3927 - acc: 0.8508 - val_loss: 0.4406 - val_acc: 0.8004\n",
      "Epoch 80/200\n",
      "2888/2888 [==============================] - 0s 40us/step - loss: 0.4025 - acc: 0.8404 - val_loss: 0.4367 - val_acc: 0.8056\n",
      "Epoch 81/200\n",
      "2888/2888 [==============================] - 0s 40us/step - loss: 0.3943 - acc: 0.8525 - val_loss: 0.4382 - val_acc: 0.7994\n",
      "Epoch 82/200\n",
      "2888/2888 [==============================] - 0s 35us/step - loss: 0.3913 - acc: 0.8501 - val_loss: 0.4364 - val_acc: 0.8067\n",
      "Epoch 83/200\n",
      "2888/2888 [==============================] - 0s 44us/step - loss: 0.3895 - acc: 0.8459 - val_loss: 0.4345 - val_acc: 0.8067\n",
      "Epoch 84/200\n",
      "2888/2888 [==============================] - 0s 37us/step - loss: 0.3844 - acc: 0.8452 - val_loss: 0.4332 - val_acc: 0.8015\n",
      "Epoch 85/200\n",
      "2888/2888 [==============================] - 0s 39us/step - loss: 0.3813 - acc: 0.8539 - val_loss: 0.4331 - val_acc: 0.8098\n",
      "Epoch 86/200\n",
      "2888/2888 [==============================] - 0s 35us/step - loss: 0.3803 - acc: 0.8542 - val_loss: 0.4293 - val_acc: 0.8139\n",
      "Epoch 87/200\n",
      "2888/2888 [==============================] - 0s 40us/step - loss: 0.3749 - acc: 0.8535 - val_loss: 0.4271 - val_acc: 0.8129\n",
      "Epoch 88/200\n",
      "2888/2888 [==============================] - 0s 35us/step - loss: 0.3754 - acc: 0.8587 - val_loss: 0.4279 - val_acc: 0.8119\n",
      "Epoch 89/200\n",
      "2888/2888 [==============================] - 0s 40us/step - loss: 0.3710 - acc: 0.8611 - val_loss: 0.4276 - val_acc: 0.8098\n",
      "Epoch 90/200\n",
      "2888/2888 [==============================] - 0s 40us/step - loss: 0.3915 - acc: 0.8445 - val_loss: 0.4252 - val_acc: 0.8119\n",
      "Epoch 91/200\n",
      "2888/2888 [==============================] - 0s 36us/step - loss: 0.3799 - acc: 0.8466 - val_loss: 0.4262 - val_acc: 0.8087\n",
      "Epoch 92/200\n",
      "2888/2888 [==============================] - 0s 36us/step - loss: 0.3755 - acc: 0.8566 - val_loss: 0.4265 - val_acc: 0.8098\n",
      "Epoch 93/200\n",
      "2888/2888 [==============================] - 0s 38us/step - loss: 0.3672 - acc: 0.8650 - val_loss: 0.4188 - val_acc: 0.8139\n",
      "Epoch 94/200\n",
      "2888/2888 [==============================] - 0s 35us/step - loss: 0.3706 - acc: 0.8525 - val_loss: 0.4196 - val_acc: 0.8150\n",
      "Epoch 95/200\n",
      "2888/2888 [==============================] - 0s 40us/step - loss: 0.3577 - acc: 0.8670 - val_loss: 0.4149 - val_acc: 0.8254\n",
      "Epoch 96/200\n",
      "2888/2888 [==============================] - 0s 40us/step - loss: 0.3742 - acc: 0.8563 - val_loss: 0.4173 - val_acc: 0.8212\n",
      "Epoch 97/200\n",
      "2888/2888 [==============================] - 0s 40us/step - loss: 0.3663 - acc: 0.8594 - val_loss: 0.4153 - val_acc: 0.8202\n",
      "Epoch 98/200\n",
      "2888/2888 [==============================] - 0s 35us/step - loss: 0.3645 - acc: 0.8591 - val_loss: 0.4171 - val_acc: 0.8160\n",
      "Epoch 99/200\n",
      "2888/2888 [==============================] - 0s 48us/step - loss: 0.3497 - acc: 0.8670 - val_loss: 0.4123 - val_acc: 0.8139\n",
      "Epoch 100/200\n",
      "2888/2888 [==============================] - 0s 37us/step - loss: 0.3572 - acc: 0.8660 - val_loss: 0.4112 - val_acc: 0.8129\n",
      "Epoch 101/200\n",
      "2888/2888 [==============================] - 0s 30us/step - loss: 0.3545 - acc: 0.8681 - val_loss: 0.4142 - val_acc: 0.8119\n",
      "Epoch 102/200\n",
      "2888/2888 [==============================] - 0s 40us/step - loss: 0.3637 - acc: 0.8611 - val_loss: 0.4130 - val_acc: 0.8150\n",
      "Epoch 103/200\n",
      "2888/2888 [==============================] - 0s 44us/step - loss: 0.3543 - acc: 0.8650 - val_loss: 0.4154 - val_acc: 0.8170\n",
      "Epoch 104/200\n",
      "2888/2888 [==============================] - 0s 38us/step - loss: 0.3462 - acc: 0.8688 - val_loss: 0.4095 - val_acc: 0.8254\n",
      "Epoch 105/200\n",
      "2888/2888 [==============================] - 0s 34us/step - loss: 0.3508 - acc: 0.8650 - val_loss: 0.4079 - val_acc: 0.8264\n",
      "Epoch 106/200\n",
      "2888/2888 [==============================] - 0s 34us/step - loss: 0.3469 - acc: 0.8722 - val_loss: 0.4050 - val_acc: 0.8160\n",
      "Epoch 107/200\n",
      "2888/2888 [==============================] - 0s 40us/step - loss: 0.3417 - acc: 0.8653 - val_loss: 0.4027 - val_acc: 0.8222\n",
      "Epoch 108/200\n",
      "2888/2888 [==============================] - 0s 40us/step - loss: 0.3531 - acc: 0.8594 - val_loss: 0.4075 - val_acc: 0.8264\n",
      "Epoch 109/200\n",
      "2888/2888 [==============================] - 0s 44us/step - loss: 0.3529 - acc: 0.8584 - val_loss: 0.4036 - val_acc: 0.8285\n",
      "Epoch 110/200\n",
      "2888/2888 [==============================] - 0s 32us/step - loss: 0.3482 - acc: 0.8705 - val_loss: 0.4048 - val_acc: 0.8191\n",
      "Epoch 111/200\n",
      "2888/2888 [==============================] - 0s 44us/step - loss: 0.3382 - acc: 0.8778 - val_loss: 0.4011 - val_acc: 0.8212\n",
      "Epoch 112/200\n",
      "2888/2888 [==============================] - 0s 37us/step - loss: 0.3374 - acc: 0.8691 - val_loss: 0.4043 - val_acc: 0.8191\n",
      "Epoch 113/200\n",
      "2888/2888 [==============================] - 0s 40us/step - loss: 0.3390 - acc: 0.8719 - val_loss: 0.3968 - val_acc: 0.8285\n",
      "Epoch 114/200\n",
      "2888/2888 [==============================] - 0s 40us/step - loss: 0.3486 - acc: 0.8618 - val_loss: 0.3943 - val_acc: 0.8295\n",
      "Epoch 115/200\n",
      "2888/2888 [==============================] - 0s 39us/step - loss: 0.3465 - acc: 0.8663 - val_loss: 0.3943 - val_acc: 0.8285\n",
      "Epoch 116/200\n",
      "2888/2888 [==============================] - 0s 36us/step - loss: 0.3338 - acc: 0.8747 - val_loss: 0.3941 - val_acc: 0.8212\n",
      "Epoch 117/200\n",
      "2888/2888 [==============================] - 0s 41us/step - loss: 0.3295 - acc: 0.8778 - val_loss: 0.3956 - val_acc: 0.8285\n",
      "Epoch 118/200\n",
      "2888/2888 [==============================] - 0s 39us/step - loss: 0.3345 - acc: 0.8729 - val_loss: 0.3907 - val_acc: 0.8347\n",
      "Epoch 119/200\n",
      "2888/2888 [==============================] - 0s 35us/step - loss: 0.3246 - acc: 0.8812 - val_loss: 0.3920 - val_acc: 0.8285\n"
     ]
    },
    {
     "name": "stdout",
     "output_type": "stream",
     "text": [
      "Epoch 120/200\n",
      "2888/2888 [==============================] - 0s 40us/step - loss: 0.3194 - acc: 0.8826 - val_loss: 0.3916 - val_acc: 0.8254\n",
      "Epoch 121/200\n",
      "2888/2888 [==============================] - 0s 38us/step - loss: 0.3276 - acc: 0.8857 - val_loss: 0.3932 - val_acc: 0.8306\n",
      "Epoch 122/200\n",
      "2888/2888 [==============================] - 0s 36us/step - loss: 0.3269 - acc: 0.8729 - val_loss: 0.3922 - val_acc: 0.8337\n",
      "Epoch 123/200\n",
      "2888/2888 [==============================] - 0s 42us/step - loss: 0.3305 - acc: 0.8788 - val_loss: 0.3909 - val_acc: 0.8306\n",
      "Epoch 124/200\n",
      "2888/2888 [==============================] - 0s 37us/step - loss: 0.3306 - acc: 0.8726 - val_loss: 0.3888 - val_acc: 0.8326\n",
      "Epoch 125/200\n",
      "2888/2888 [==============================] - 0s 36us/step - loss: 0.3291 - acc: 0.8722 - val_loss: 0.3938 - val_acc: 0.8326\n",
      "Epoch 126/200\n",
      "2888/2888 [==============================] - 0s 40us/step - loss: 0.3284 - acc: 0.8729 - val_loss: 0.3941 - val_acc: 0.8316\n",
      "Epoch 127/200\n",
      "2888/2888 [==============================] - 0s 40us/step - loss: 0.3186 - acc: 0.8830 - val_loss: 0.3904 - val_acc: 0.8316\n",
      "Epoch 128/200\n",
      "2888/2888 [==============================] - 0s 41us/step - loss: 0.3179 - acc: 0.8788 - val_loss: 0.3843 - val_acc: 0.8337\n",
      "Epoch 129/200\n",
      "2888/2888 [==============================] - 0s 40us/step - loss: 0.3121 - acc: 0.8833 - val_loss: 0.3839 - val_acc: 0.8306\n",
      "Epoch 130/200\n",
      "2888/2888 [==============================] - 0s 36us/step - loss: 0.3220 - acc: 0.8788 - val_loss: 0.3862 - val_acc: 0.8337\n",
      "Epoch 131/200\n",
      "2888/2888 [==============================] - 0s 35us/step - loss: 0.3190 - acc: 0.8788 - val_loss: 0.3836 - val_acc: 0.8285\n",
      "Epoch 132/200\n",
      "2888/2888 [==============================] - 0s 43us/step - loss: 0.3146 - acc: 0.8857 - val_loss: 0.3831 - val_acc: 0.8274\n",
      "Epoch 133/200\n",
      "2888/2888 [==============================] - 0s 30us/step - loss: 0.3257 - acc: 0.8753 - val_loss: 0.3788 - val_acc: 0.8326\n",
      "Epoch 134/200\n",
      "2888/2888 [==============================] - 0s 40us/step - loss: 0.3235 - acc: 0.8733 - val_loss: 0.3823 - val_acc: 0.8337\n",
      "Epoch 135/200\n",
      "2888/2888 [==============================] - 0s 40us/step - loss: 0.3134 - acc: 0.8805 - val_loss: 0.3819 - val_acc: 0.8306\n",
      "Epoch 136/200\n",
      "2888/2888 [==============================] - 0s 35us/step - loss: 0.3084 - acc: 0.8843 - val_loss: 0.3831 - val_acc: 0.8316\n",
      "Epoch 137/200\n",
      "2888/2888 [==============================] - 0s 40us/step - loss: 0.3114 - acc: 0.8843 - val_loss: 0.3752 - val_acc: 0.8316\n",
      "Epoch 138/200\n",
      "2888/2888 [==============================] - 0s 40us/step - loss: 0.3237 - acc: 0.8753 - val_loss: 0.3723 - val_acc: 0.8378\n",
      "Epoch 139/200\n",
      "2888/2888 [==============================] - 0s 57us/step - loss: 0.3158 - acc: 0.8802 - val_loss: 0.3773 - val_acc: 0.8368\n",
      "Epoch 140/200\n",
      "2888/2888 [==============================] - 0s 42us/step - loss: 0.3152 - acc: 0.8837 - val_loss: 0.3750 - val_acc: 0.8326\n",
      "Epoch 141/200\n",
      "2888/2888 [==============================] - 0s 47us/step - loss: 0.2992 - acc: 0.8871 - val_loss: 0.3683 - val_acc: 0.8347\n",
      "Epoch 142/200\n",
      "2888/2888 [==============================] - 0s 52us/step - loss: 0.3002 - acc: 0.8892 - val_loss: 0.3741 - val_acc: 0.8368\n",
      "Epoch 143/200\n",
      "2888/2888 [==============================] - 0s 47us/step - loss: 0.2967 - acc: 0.8954 - val_loss: 0.3753 - val_acc: 0.8368\n",
      "Epoch 144/200\n",
      "2888/2888 [==============================] - 0s 40us/step - loss: 0.3065 - acc: 0.8833 - val_loss: 0.3739 - val_acc: 0.8368\n",
      "Epoch 145/200\n",
      "2888/2888 [==============================] - 0s 44us/step - loss: 0.3102 - acc: 0.8798 - val_loss: 0.3754 - val_acc: 0.8285\n",
      "Epoch 146/200\n",
      "2888/2888 [==============================] - 0s 34us/step - loss: 0.2991 - acc: 0.8885 - val_loss: 0.3750 - val_acc: 0.8358\n",
      "Epoch 147/200\n",
      "2888/2888 [==============================] - 0s 38us/step - loss: 0.2990 - acc: 0.8878 - val_loss: 0.3704 - val_acc: 0.8368\n",
      "Epoch 148/200\n",
      "2888/2888 [==============================] - 0s 38us/step - loss: 0.2936 - acc: 0.8923 - val_loss: 0.3733 - val_acc: 0.8358\n",
      "Epoch 149/200\n",
      "2888/2888 [==============================] - 0s 38us/step - loss: 0.3044 - acc: 0.8847 - val_loss: 0.3711 - val_acc: 0.8306\n",
      "Epoch 150/200\n",
      "2888/2888 [==============================] - 0s 40us/step - loss: 0.2895 - acc: 0.8920 - val_loss: 0.3721 - val_acc: 0.8306\n",
      "Epoch 151/200\n",
      "2888/2888 [==============================] - 0s 37us/step - loss: 0.3028 - acc: 0.8875 - val_loss: 0.3711 - val_acc: 0.8347\n",
      "Epoch 152/200\n",
      "2888/2888 [==============================] - 0s 35us/step - loss: 0.3028 - acc: 0.8868 - val_loss: 0.3649 - val_acc: 0.8347\n",
      "Epoch 153/200\n",
      "2888/2888 [==============================] - 0s 40us/step - loss: 0.2979 - acc: 0.8861 - val_loss: 0.3667 - val_acc: 0.8368\n",
      "Epoch 154/200\n",
      "2888/2888 [==============================] - 0s 40us/step - loss: 0.3014 - acc: 0.8833 - val_loss: 0.3709 - val_acc: 0.8410\n",
      "Epoch 155/200\n",
      "2888/2888 [==============================] - 0s 42us/step - loss: 0.2928 - acc: 0.8944 - val_loss: 0.3675 - val_acc: 0.8316\n",
      "Epoch 156/200\n",
      "2888/2888 [==============================] - 0s 39us/step - loss: 0.2943 - acc: 0.8913 - val_loss: 0.3636 - val_acc: 0.8389\n",
      "Epoch 157/200\n",
      "2888/2888 [==============================] - 0s 34us/step - loss: 0.2883 - acc: 0.8930 - val_loss: 0.3633 - val_acc: 0.8441\n",
      "Epoch 158/200\n",
      "2888/2888 [==============================] - 0s 40us/step - loss: 0.2949 - acc: 0.8920 - val_loss: 0.3627 - val_acc: 0.8410\n",
      "Epoch 159/200\n",
      "2888/2888 [==============================] - 0s 43us/step - loss: 0.2905 - acc: 0.8961 - val_loss: 0.3626 - val_acc: 0.8368\n",
      "Epoch 160/200\n",
      "2888/2888 [==============================] - 0s 43us/step - loss: 0.2862 - acc: 0.8920 - val_loss: 0.3631 - val_acc: 0.8389\n",
      "Epoch 161/200\n",
      "2888/2888 [==============================] - 0s 36us/step - loss: 0.2865 - acc: 0.8940 - val_loss: 0.3624 - val_acc: 0.8274\n",
      "Epoch 162/200\n",
      "2888/2888 [==============================] - 0s 42us/step - loss: 0.2962 - acc: 0.8882 - val_loss: 0.3631 - val_acc: 0.8378\n",
      "Epoch 163/200\n",
      "2888/2888 [==============================] - 0s 38us/step - loss: 0.2989 - acc: 0.8906 - val_loss: 0.3579 - val_acc: 0.8347\n",
      "Epoch 164/200\n",
      "2888/2888 [==============================] - 0s 35us/step - loss: 0.2852 - acc: 0.8940 - val_loss: 0.3614 - val_acc: 0.8295\n",
      "Epoch 165/200\n",
      "2888/2888 [==============================] - 0s 40us/step - loss: 0.2900 - acc: 0.8934 - val_loss: 0.3571 - val_acc: 0.8306\n",
      "Epoch 166/200\n",
      "2888/2888 [==============================] - 0s 40us/step - loss: 0.2901 - acc: 0.8937 - val_loss: 0.3596 - val_acc: 0.8347\n",
      "Epoch 167/200\n",
      "2888/2888 [==============================] - 0s 35us/step - loss: 0.2854 - acc: 0.8934 - val_loss: 0.3649 - val_acc: 0.8389\n",
      "Epoch 168/200\n",
      "2888/2888 [==============================] - 0s 44us/step - loss: 0.2845 - acc: 0.8937 - val_loss: 0.3609 - val_acc: 0.8306\n",
      "Epoch 169/200\n",
      "2888/2888 [==============================] - 0s 38us/step - loss: 0.2837 - acc: 0.8944 - val_loss: 0.3672 - val_acc: 0.8306\n",
      "Epoch 170/200\n",
      "2888/2888 [==============================] - 0s 45us/step - loss: 0.2832 - acc: 0.8961 - val_loss: 0.3615 - val_acc: 0.8378\n",
      "Epoch 171/200\n",
      "2888/2888 [==============================] - 0s 36us/step - loss: 0.2811 - acc: 0.8947 - val_loss: 0.3557 - val_acc: 0.8482\n",
      "Epoch 172/200\n",
      "2888/2888 [==============================] - 0s 43us/step - loss: 0.2815 - acc: 0.8972 - val_loss: 0.3625 - val_acc: 0.8389\n",
      "Epoch 173/200\n",
      "2888/2888 [==============================] - 0s 38us/step - loss: 0.2826 - acc: 0.8968 - val_loss: 0.3590 - val_acc: 0.8451\n",
      "Epoch 174/200\n",
      "2888/2888 [==============================] - 0s 44us/step - loss: 0.2779 - acc: 0.8913 - val_loss: 0.3584 - val_acc: 0.8378\n",
      "Epoch 175/200\n",
      "2888/2888 [==============================] - 0s 36us/step - loss: 0.2711 - acc: 0.9037 - val_loss: 0.3561 - val_acc: 0.8451\n",
      "Epoch 176/200\n",
      "2888/2888 [==============================] - 0s 43us/step - loss: 0.2664 - acc: 0.8985 - val_loss: 0.3572 - val_acc: 0.8472\n",
      "Epoch 177/200\n",
      "2888/2888 [==============================] - 0s 38us/step - loss: 0.2748 - acc: 0.9006 - val_loss: 0.3529 - val_acc: 0.8482\n",
      "Epoch 178/200\n",
      "2888/2888 [==============================] - 0s 43us/step - loss: 0.2807 - acc: 0.8944 - val_loss: 0.3562 - val_acc: 0.8493\n",
      "Epoch 179/200\n"
     ]
    },
    {
     "name": "stdout",
     "output_type": "stream",
     "text": [
      "2888/2888 [==============================] - 0s 37us/step - loss: 0.2777 - acc: 0.8940 - val_loss: 0.3606 - val_acc: 0.8410\n",
      "Epoch 180/200\n",
      "2888/2888 [==============================] - 0s 34us/step - loss: 0.2776 - acc: 0.8895 - val_loss: 0.3522 - val_acc: 0.8462\n",
      "Epoch 181/200\n",
      "2888/2888 [==============================] - 0s 40us/step - loss: 0.2619 - acc: 0.9041 - val_loss: 0.3580 - val_acc: 0.8378\n",
      "Epoch 182/200\n",
      "2888/2888 [==============================] - 0s 38us/step - loss: 0.2670 - acc: 0.9010 - val_loss: 0.3596 - val_acc: 0.8441\n",
      "Epoch 183/200\n",
      "2888/2888 [==============================] - 0s 41us/step - loss: 0.2858 - acc: 0.8937 - val_loss: 0.3554 - val_acc: 0.8430\n",
      "Epoch 184/200\n",
      "2888/2888 [==============================] - 0s 37us/step - loss: 0.2677 - acc: 0.9017 - val_loss: 0.3535 - val_acc: 0.8472\n",
      "Epoch 185/200\n",
      "2888/2888 [==============================] - 0s 36us/step - loss: 0.2699 - acc: 0.9027 - val_loss: 0.3555 - val_acc: 0.8420\n",
      "Epoch 186/200\n",
      "2888/2888 [==============================] - 0s 40us/step - loss: 0.2726 - acc: 0.9010 - val_loss: 0.3566 - val_acc: 0.8430\n",
      "Epoch 187/200\n",
      "2888/2888 [==============================] - 0s 40us/step - loss: 0.2714 - acc: 0.8944 - val_loss: 0.3576 - val_acc: 0.8389\n",
      "Epoch 188/200\n",
      "2888/2888 [==============================] - 0s 43us/step - loss: 0.2807 - acc: 0.8885 - val_loss: 0.3601 - val_acc: 0.8441\n",
      "Epoch 189/200\n",
      "2888/2888 [==============================] - 0s 35us/step - loss: 0.2561 - acc: 0.9072 - val_loss: 0.3545 - val_acc: 0.8482\n",
      "Epoch 190/200\n",
      "2888/2888 [==============================] - 0s 38us/step - loss: 0.2612 - acc: 0.9062 - val_loss: 0.3539 - val_acc: 0.8420\n",
      "Epoch 191/200\n",
      "2888/2888 [==============================] - 0s 35us/step - loss: 0.2814 - acc: 0.8965 - val_loss: 0.3568 - val_acc: 0.8441\n",
      "Epoch 192/200\n",
      "2888/2888 [==============================] - 0s 40us/step - loss: 0.2788 - acc: 0.8934 - val_loss: 0.3604 - val_acc: 0.8399\n",
      "Epoch 193/200\n",
      "2888/2888 [==============================] - 0s 41us/step - loss: 0.2565 - acc: 0.9107 - val_loss: 0.3541 - val_acc: 0.8441\n",
      "Epoch 194/200\n",
      "2888/2888 [==============================] - 0s 40us/step - loss: 0.2697 - acc: 0.9024 - val_loss: 0.3546 - val_acc: 0.8410\n",
      "Epoch 195/200\n",
      "2888/2888 [==============================] - 0s 40us/step - loss: 0.2642 - acc: 0.8996 - val_loss: 0.3532 - val_acc: 0.8430\n",
      "Epoch 196/200\n",
      "2888/2888 [==============================] - 0s 45us/step - loss: 0.2639 - acc: 0.9020 - val_loss: 0.3503 - val_acc: 0.8472\n",
      "Epoch 197/200\n",
      "2888/2888 [==============================] - 0s 37us/step - loss: 0.2634 - acc: 0.9013 - val_loss: 0.3530 - val_acc: 0.8514\n",
      "Epoch 198/200\n",
      "2888/2888 [==============================] - 0s 40us/step - loss: 0.2563 - acc: 0.9051 - val_loss: 0.3539 - val_acc: 0.8534\n",
      "Epoch 199/200\n",
      "2888/2888 [==============================] - 0s 39us/step - loss: 0.2629 - acc: 0.8992 - val_loss: 0.3452 - val_acc: 0.8514\n",
      "Epoch 200/200\n",
      "2888/2888 [==============================] - 0s 35us/step - loss: 0.2693 - acc: 0.8992 - val_loss: 0.3485 - val_acc: 0.8555\n"
     ]
    }
   ],
   "source": [
    "history = model.fit(x_train, y_train,batch_size=32, validation_data=(x_val, y_val), epochs=200)"
   ]
  },
  {
   "cell_type": "code",
   "execution_count": 65,
   "metadata": {},
   "outputs": [
    {
     "data": {
      "image/png": "[encoded data removed]",
      "text/plain": [
       "<Figure size 432x288 with 1 Axes>"
      ]
     },
     "metadata": {},
     "output_type": "display_data"
    }
   ],
   "source": [
    "pd.DataFrame(history.history).plot()\n",
    "plt.show()"
   ]
  },
  {
   "cell_type": "code",
   "execution_count": 66,
   "metadata": {},
   "outputs": [
    {
     "name": "stdout",
     "output_type": "stream",
     "text": [
      "962/962 [==============================] - 0s 38us/step\n"
     ]
    }
   ],
   "source": [
    "# test set\n",
    "score = model.evaluate(x_test, y_test, batch_size=32)"
   ]
  },
  {
   "cell_type": "code",
   "execution_count": 67,
   "metadata": {},
   "outputs": [
    {
     "data": {
      "text/plain": [
       "[0.39146486460666896, 0.8503118503118503]"
      ]
     },
     "execution_count": 67,
     "metadata": {},
     "output_type": "execute_result"
    }
   ],
   "source": [
    "score"
   ]
  },
  {
   "cell_type": "markdown",
   "metadata": {},
   "source": [
    "Accuracy on the test set is 85% with this baseline model."
   ]
  },
  {
   "cell_type": "markdown",
   "metadata": {},
   "source": [
    "## Convolutional net"
   ]
  },
  {
   "cell_type": "code",
   "execution_count": 68,
   "metadata": {},
   "outputs": [],
   "source": [
    "from keras.layers import Conv1D, GlobalAveragePooling1D, MaxPooling1D"
   ]
  },
  {
   "cell_type": "code",
   "execution_count": 126,
   "metadata": {},
   "outputs": [],
   "source": [
    "from keras.optimizers import RMSprop\n",
    "from keras.regularizers import l2"
   ]
  },
  {
   "cell_type": "code",
   "execution_count": 102,
   "metadata": {},
   "outputs": [],
   "source": [
    "mod_x_train = np.expand_dims(x_train, axis=2)"
   ]
  },
  {
   "cell_type": "code",
   "execution_count": 103,
   "metadata": {},
   "outputs": [
    {
     "data": {
      "text/plain": [
       "(2888, 80, 1)"
      ]
     },
     "execution_count": 103,
     "metadata": {},
     "output_type": "execute_result"
    }
   ],
   "source": [
    "mod_x_train.shape"
   ]
  },
  {
   "cell_type": "code",
   "execution_count": 106,
   "metadata": {},
   "outputs": [],
   "source": [
    "mod_x_val = np.expand_dims(x_val, axis=2)"
   ]
  },
  {
   "cell_type": "code",
   "execution_count": 139,
   "metadata": {},
   "outputs": [],
   "source": [
    "model = Sequential()\n",
    "model.add(Conv1D(64,3, activation='relu', input_shape=(80,1)))\n",
    "model.add(Conv1D(64, 3, activation='relu'))\n",
    "model.add(MaxPooling1D(3))\n",
    "model.add(Conv1D(128, 3, activation='relu'))\n",
    "model.add(Conv1D(128, 3, activation='relu'))\n",
    "model.add(GlobalAveragePooling1D())\n",
    "model.add(Dropout(0.5))\n",
    "model.add(Dense(1, activation='sigmoid'))\n",
    "\n",
    "model.compile(loss='binary_crossentropy',\n",
    "              optimizer=RMSprop(lr=5e-4),\n",
    "              metrics=['accuracy'])"
   ]
  },
  {
   "cell_type": "code",
   "execution_count": 140,
   "metadata": {},
   "outputs": [
    {
     "name": "stdout",
     "output_type": "stream",
     "text": [
      "_________________________________________________________________\n",
      "Layer (type)                 Output Shape              Param #   \n",
      "=================================================================\n",
      "conv1d_76 (Conv1D)           (None, 78, 64)            256       \n",
      "_________________________________________________________________\n",
      "conv1d_77 (Conv1D)           (None, 76, 64)            12352     \n",
      "_________________________________________________________________\n",
      "max_pooling1d_18 (MaxPooling (None, 25, 64)            0         \n",
      "_________________________________________________________________\n",
      "conv1d_78 (Conv1D)           (None, 23, 128)           24704     \n",
      "_________________________________________________________________\n",
      "conv1d_79 (Conv1D)           (None, 21, 128)           49280     \n",
      "_________________________________________________________________\n",
      "global_average_pooling1d_17  (None, 128)               0         \n",
      "_________________________________________________________________\n",
      "dropout_20 (Dropout)         (None, 128)               0         \n",
      "_________________________________________________________________\n",
      "dense_33 (Dense)             (None, 1)                 129       \n",
      "=================================================================\n",
      "Total params: 86,721\n",
      "Trainable params: 86,721\n",
      "Non-trainable params: 0\n",
      "_________________________________________________________________\n"
     ]
    }
   ],
   "source": [
    "model.summary()"
   ]
  },
  {
   "cell_type": "code",
   "execution_count": 141,
   "metadata": {
    "scrolled": true
   },
   "outputs": [
    {
     "name": "stdout",
     "output_type": "stream",
     "text": [
      "Train on 2888 samples, validate on 962 samples\n",
      "Epoch 1/100\n",
      "2888/2888 [==============================] - 2s 692us/step - loss: 0.6815 - acc: 0.5682 - val_loss: 0.6564 - val_acc: 0.6008\n",
      "Epoch 2/100\n",
      "2888/2888 [==============================] - 1s 457us/step - loss: 0.6404 - acc: 0.6395 - val_loss: 0.6435 - val_acc: 0.6299\n",
      "Epoch 3/100\n",
      "2888/2888 [==============================] - 1s 451us/step - loss: 0.6186 - acc: 0.6766 - val_loss: 0.5930 - val_acc: 0.6809\n",
      "Epoch 4/100\n",
      "2888/2888 [==============================] - 1s 454us/step - loss: 0.5984 - acc: 0.6925 - val_loss: 0.5804 - val_acc: 0.6944\n",
      "Epoch 5/100\n",
      "2888/2888 [==============================] - 1s 447us/step - loss: 0.5849 - acc: 0.7095 - val_loss: 0.5811 - val_acc: 0.7162\n",
      "Epoch 6/100\n",
      "2888/2888 [==============================] - 1s 446us/step - loss: 0.5680 - acc: 0.7268 - val_loss: 0.5516 - val_acc: 0.7568\n",
      "Epoch 7/100\n",
      "2888/2888 [==============================] - 1s 443us/step - loss: 0.5485 - acc: 0.7330 - val_loss: 0.5189 - val_acc: 0.7827\n",
      "Epoch 8/100\n",
      "2888/2888 [==============================] - 1s 451us/step - loss: 0.5331 - acc: 0.7469 - val_loss: 0.5554 - val_acc: 0.6809\n",
      "Epoch 9/100\n",
      "2888/2888 [==============================] - 1s 438us/step - loss: 0.5171 - acc: 0.7656 - val_loss: 0.5300 - val_acc: 0.7848\n",
      "Epoch 10/100\n",
      "2888/2888 [==============================] - 1s 434us/step - loss: 0.5026 - acc: 0.7704 - val_loss: 0.4607 - val_acc: 0.7942\n",
      "Epoch 11/100\n",
      "2888/2888 [==============================] - 1s 438us/step - loss: 0.4894 - acc: 0.7829 - val_loss: 0.4424 - val_acc: 0.7931\n",
      "Epoch 12/100\n",
      "2888/2888 [==============================] - 1s 445us/step - loss: 0.4782 - acc: 0.7909 - val_loss: 0.4488 - val_acc: 0.8046\n",
      "Epoch 13/100\n",
      "2888/2888 [==============================] - 1s 447us/step - loss: 0.4581 - acc: 0.7961 - val_loss: 0.4101 - val_acc: 0.8264\n",
      "Epoch 14/100\n",
      "2888/2888 [==============================] - 1s 448us/step - loss: 0.4502 - acc: 0.8057 - val_loss: 0.4015 - val_acc: 0.8243\n",
      "Epoch 15/100\n",
      "2888/2888 [==============================] - 1s 451us/step - loss: 0.4361 - acc: 0.8210 - val_loss: 0.4117 - val_acc: 0.8139\n",
      "Epoch 16/100\n",
      "2888/2888 [==============================] - 1s 446us/step - loss: 0.4163 - acc: 0.8251 - val_loss: 0.4194 - val_acc: 0.8306\n",
      "Epoch 17/100\n",
      "2888/2888 [==============================] - 1s 439us/step - loss: 0.4076 - acc: 0.8321 - val_loss: 0.3957 - val_acc: 0.8358\n",
      "Epoch 18/100\n",
      "2888/2888 [==============================] - 1s 437us/step - loss: 0.4022 - acc: 0.8352 - val_loss: 0.4353 - val_acc: 0.8285\n",
      "Epoch 19/100\n",
      "2888/2888 [==============================] - 1s 447us/step - loss: 0.3996 - acc: 0.8376 - val_loss: 0.4014 - val_acc: 0.8306\n",
      "Epoch 20/100\n",
      "2888/2888 [==============================] - 1s 439us/step - loss: 0.3817 - acc: 0.8407 - val_loss: 0.3609 - val_acc: 0.8607\n",
      "Epoch 21/100\n",
      "2888/2888 [==============================] - 1s 445us/step - loss: 0.3729 - acc: 0.8494 - val_loss: 0.4025 - val_acc: 0.8285\n",
      "Epoch 22/100\n",
      "2888/2888 [==============================] - 1s 432us/step - loss: 0.3725 - acc: 0.8470 - val_loss: 0.3682 - val_acc: 0.8482\n",
      "Epoch 23/100\n",
      "2888/2888 [==============================] - 1s 452us/step - loss: 0.3534 - acc: 0.8608 - val_loss: 0.4706 - val_acc: 0.8035\n",
      "Epoch 24/100\n",
      "2888/2888 [==============================] - 1s 438us/step - loss: 0.3490 - acc: 0.8584 - val_loss: 0.4033 - val_acc: 0.8399\n",
      "Epoch 25/100\n",
      "2888/2888 [==============================] - 1s 439us/step - loss: 0.3449 - acc: 0.8563 - val_loss: 0.4239 - val_acc: 0.8306\n",
      "Epoch 26/100\n",
      "2888/2888 [==============================] - 1s 440us/step - loss: 0.3458 - acc: 0.8615 - val_loss: 0.3319 - val_acc: 0.8669\n",
      "Epoch 27/100\n",
      "2888/2888 [==============================] - 1s 441us/step - loss: 0.3390 - acc: 0.8646 - val_loss: 0.3338 - val_acc: 0.8669\n",
      "Epoch 28/100\n",
      "2888/2888 [==============================] - 1s 440us/step - loss: 0.3283 - acc: 0.8681 - val_loss: 0.3269 - val_acc: 0.8690\n",
      "Epoch 29/100\n",
      "2888/2888 [==============================] - 1s 442us/step - loss: 0.3180 - acc: 0.8715 - val_loss: 0.3644 - val_acc: 0.8565\n",
      "Epoch 30/100\n",
      "2888/2888 [==============================] - 1s 443us/step - loss: 0.3175 - acc: 0.8798 - val_loss: 0.3997 - val_acc: 0.8202\n",
      "Epoch 31/100\n",
      "2888/2888 [==============================] - 1s 445us/step - loss: 0.3170 - acc: 0.8719 - val_loss: 0.3246 - val_acc: 0.8607\n",
      "Epoch 32/100\n",
      "2888/2888 [==============================] - 1s 446us/step - loss: 0.3096 - acc: 0.8764 - val_loss: 0.3159 - val_acc: 0.8649\n",
      "Epoch 33/100\n",
      "2888/2888 [==============================] - 1s 438us/step - loss: 0.3093 - acc: 0.8767 - val_loss: 0.3075 - val_acc: 0.8763\n",
      "Epoch 34/100\n",
      "2888/2888 [==============================] - 1s 447us/step - loss: 0.2914 - acc: 0.8868 - val_loss: 0.4669 - val_acc: 0.8067\n",
      "Epoch 35/100\n",
      "2888/2888 [==============================] - 1s 449us/step - loss: 0.2914 - acc: 0.8892 - val_loss: 0.3130 - val_acc: 0.8784\n",
      "Epoch 36/100\n",
      "2888/2888 [==============================] - 1s 443us/step - loss: 0.2950 - acc: 0.8854 - val_loss: 0.3007 - val_acc: 0.8805\n",
      "Epoch 37/100\n",
      "2888/2888 [==============================] - 1s 445us/step - loss: 0.2876 - acc: 0.8916 - val_loss: 0.3098 - val_acc: 0.8753\n",
      "Epoch 38/100\n",
      "2888/2888 [==============================] - 1s 444us/step - loss: 0.2811 - acc: 0.8954 - val_loss: 0.3378 - val_acc: 0.8659\n",
      "Epoch 39/100\n",
      "2888/2888 [==============================] - 1s 441us/step - loss: 0.2825 - acc: 0.8861 - val_loss: 0.2944 - val_acc: 0.8794\n",
      "Epoch 40/100\n",
      "2888/2888 [==============================] - 1s 439us/step - loss: 0.2730 - acc: 0.8882 - val_loss: 0.3052 - val_acc: 0.8815\n",
      "Epoch 41/100\n",
      "2888/2888 [==============================] - 1s 450us/step - loss: 0.2700 - acc: 0.8923 - val_loss: 0.3901 - val_acc: 0.8451\n",
      "Epoch 42/100\n",
      "2888/2888 [==============================] - 1s 449us/step - loss: 0.2676 - acc: 0.8895 - val_loss: 0.2930 - val_acc: 0.8877\n",
      "Epoch 43/100\n",
      "2888/2888 [==============================] - 1s 438us/step - loss: 0.2579 - acc: 0.8989 - val_loss: 0.2964 - val_acc: 0.8784\n",
      "Epoch 44/100\n",
      "2888/2888 [==============================] - 1s 446us/step - loss: 0.2663 - acc: 0.8979 - val_loss: 0.2956 - val_acc: 0.8877\n",
      "Epoch 45/100\n",
      "2888/2888 [==============================] - 1s 447us/step - loss: 0.2575 - acc: 0.9006 - val_loss: 0.3382 - val_acc: 0.8503\n",
      "Epoch 46/100\n",
      "2888/2888 [==============================] - 1s 443us/step - loss: 0.2512 - acc: 0.9037 - val_loss: 0.2961 - val_acc: 0.8742\n",
      "Epoch 47/100\n",
      "2888/2888 [==============================] - 1s 447us/step - loss: 0.2474 - acc: 0.9044 - val_loss: 0.3242 - val_acc: 0.8763\n",
      "Epoch 48/100\n",
      "2888/2888 [==============================] - 1s 445us/step - loss: 0.2576 - acc: 0.8934 - val_loss: 0.2923 - val_acc: 0.8898\n",
      "Epoch 49/100\n",
      "2888/2888 [==============================] - 1s 452us/step - loss: 0.2379 - acc: 0.9027 - val_loss: 0.4095 - val_acc: 0.8274\n",
      "Epoch 50/100\n",
      "2888/2888 [==============================] - 1s 440us/step - loss: 0.2357 - acc: 0.9055 - val_loss: 0.2990 - val_acc: 0.8763\n",
      "Epoch 51/100\n",
      "2888/2888 [==============================] - 1s 438us/step - loss: 0.2385 - acc: 0.9034 - val_loss: 0.2911 - val_acc: 0.8857\n",
      "Epoch 52/100\n",
      "2888/2888 [==============================] - 1s 446us/step - loss: 0.2366 - acc: 0.9079 - val_loss: 0.2712 - val_acc: 0.8919\n",
      "Epoch 53/100\n",
      "2888/2888 [==============================] - 1s 442us/step - loss: 0.2252 - acc: 0.9141 - val_loss: 0.3388 - val_acc: 0.8701\n",
      "Epoch 54/100\n",
      "2888/2888 [==============================] - 1s 451us/step - loss: 0.2365 - acc: 0.9096 - val_loss: 0.2744 - val_acc: 0.8836\n",
      "Epoch 55/100\n",
      "2888/2888 [==============================] - 1s 444us/step - loss: 0.2186 - acc: 0.9145 - val_loss: 0.3030 - val_acc: 0.8680\n",
      "Epoch 56/100\n",
      "2888/2888 [==============================] - 1s 452us/step - loss: 0.2284 - acc: 0.9131 - val_loss: 0.3888 - val_acc: 0.8347\n",
      "Epoch 57/100\n",
      "2888/2888 [==============================] - 1s 447us/step - loss: 0.2251 - acc: 0.9103 - val_loss: 0.2786 - val_acc: 0.8888\n",
      "Epoch 58/100\n",
      "2888/2888 [==============================] - 1s 441us/step - loss: 0.2148 - acc: 0.9155 - val_loss: 0.3574 - val_acc: 0.8669\n",
      "Epoch 59/100\n",
      "2888/2888 [==============================] - 1s 446us/step - loss: 0.2258 - acc: 0.9114 - val_loss: 0.2692 - val_acc: 0.8929\n",
      "Epoch 60/100\n"
     ]
    },
    {
     "name": "stdout",
     "output_type": "stream",
     "text": [
      "2888/2888 [==============================] - 1s 443us/step - loss: 0.2118 - acc: 0.9176 - val_loss: 0.2810 - val_acc: 0.8857\n",
      "Epoch 61/100\n",
      "2888/2888 [==============================] - 1s 429us/step - loss: 0.2111 - acc: 0.9172 - val_loss: 0.2669 - val_acc: 0.8919\n",
      "Epoch 62/100\n",
      "2888/2888 [==============================] - 1s 436us/step - loss: 0.2040 - acc: 0.9231 - val_loss: 0.3298 - val_acc: 0.8805\n",
      "Epoch 63/100\n",
      "2888/2888 [==============================] - 1s 440us/step - loss: 0.2061 - acc: 0.9207 - val_loss: 0.3109 - val_acc: 0.8753\n",
      "Epoch 64/100\n",
      "2888/2888 [==============================] - 1s 440us/step - loss: 0.2023 - acc: 0.9262 - val_loss: 0.2896 - val_acc: 0.8867\n",
      "Epoch 65/100\n",
      "2888/2888 [==============================] - 1s 434us/step - loss: 0.2036 - acc: 0.9211 - val_loss: 0.2667 - val_acc: 0.8794\n",
      "Epoch 66/100\n",
      "2888/2888 [==============================] - 1s 442us/step - loss: 0.1917 - acc: 0.9238 - val_loss: 0.2846 - val_acc: 0.8867\n",
      "Epoch 67/100\n",
      "2888/2888 [==============================] - 1s 447us/step - loss: 0.1970 - acc: 0.9235 - val_loss: 0.2640 - val_acc: 0.8950\n",
      "Epoch 68/100\n",
      "2888/2888 [==============================] - 1s 433us/step - loss: 0.1924 - acc: 0.9290 - val_loss: 0.3110 - val_acc: 0.8669\n",
      "Epoch 69/100\n",
      "2888/2888 [==============================] - 1s 434us/step - loss: 0.1862 - acc: 0.9297 - val_loss: 0.2568 - val_acc: 0.9033\n",
      "Epoch 70/100\n",
      "2888/2888 [==============================] - 1s 436us/step - loss: 0.1950 - acc: 0.9262 - val_loss: 0.2783 - val_acc: 0.8981\n",
      "Epoch 71/100\n",
      "2888/2888 [==============================] - 1s 435us/step - loss: 0.1859 - acc: 0.9294 - val_loss: 0.2733 - val_acc: 0.8888\n",
      "Epoch 72/100\n",
      "2888/2888 [==============================] - 1s 435us/step - loss: 0.1811 - acc: 0.9311 - val_loss: 0.3068 - val_acc: 0.8763\n",
      "Epoch 73/100\n",
      "2888/2888 [==============================] - 1s 432us/step - loss: 0.1777 - acc: 0.9304 - val_loss: 0.2561 - val_acc: 0.9023\n",
      "Epoch 74/100\n",
      "2888/2888 [==============================] - 1s 439us/step - loss: 0.1870 - acc: 0.9290 - val_loss: 0.3698 - val_acc: 0.8565\n",
      "Epoch 75/100\n",
      "2888/2888 [==============================] - 1s 452us/step - loss: 0.1716 - acc: 0.9373 - val_loss: 0.2584 - val_acc: 0.8898\n",
      "Epoch 76/100\n",
      "2888/2888 [==============================] - 1s 436us/step - loss: 0.1776 - acc: 0.9387 - val_loss: 0.2688 - val_acc: 0.8940\n",
      "Epoch 77/100\n",
      "2888/2888 [==============================] - 1s 448us/step - loss: 0.1698 - acc: 0.9328 - val_loss: 0.2590 - val_acc: 0.8950\n",
      "Epoch 78/100\n",
      "2888/2888 [==============================] - 1s 434us/step - loss: 0.1693 - acc: 0.9342 - val_loss: 0.2502 - val_acc: 0.9044\n",
      "Epoch 79/100\n",
      "2888/2888 [==============================] - 1s 441us/step - loss: 0.1696 - acc: 0.9380 - val_loss: 0.4388 - val_acc: 0.8617\n",
      "Epoch 80/100\n",
      "2888/2888 [==============================] - 1s 432us/step - loss: 0.1678 - acc: 0.9384 - val_loss: 0.5392 - val_acc: 0.8108\n",
      "Epoch 81/100\n",
      "2888/2888 [==============================] - 1s 438us/step - loss: 0.1606 - acc: 0.9404 - val_loss: 0.2642 - val_acc: 0.9044\n",
      "Epoch 82/100\n",
      "2888/2888 [==============================] - 1s 437us/step - loss: 0.1601 - acc: 0.9401 - val_loss: 0.3016 - val_acc: 0.8971\n",
      "Epoch 83/100\n",
      "2888/2888 [==============================] - 1s 433us/step - loss: 0.1601 - acc: 0.9411 - val_loss: 0.2639 - val_acc: 0.9054\n",
      "Epoch 84/100\n",
      "2888/2888 [==============================] - 1s 435us/step - loss: 0.1525 - acc: 0.9446 - val_loss: 0.3268 - val_acc: 0.8909\n",
      "Epoch 85/100\n",
      "2888/2888 [==============================] - 1s 440us/step - loss: 0.1645 - acc: 0.9408 - val_loss: 0.2599 - val_acc: 0.9106\n",
      "Epoch 86/100\n",
      "2888/2888 [==============================] - 1s 439us/step - loss: 0.1487 - acc: 0.9501 - val_loss: 0.2558 - val_acc: 0.9075\n",
      "Epoch 87/100\n",
      "2888/2888 [==============================] - 1s 439us/step - loss: 0.1551 - acc: 0.9446 - val_loss: 0.2535 - val_acc: 0.9023\n",
      "Epoch 88/100\n",
      "2888/2888 [==============================] - 1s 439us/step - loss: 0.1491 - acc: 0.9446 - val_loss: 0.2762 - val_acc: 0.9106\n",
      "Epoch 89/100\n",
      "2888/2888 [==============================] - 1s 439us/step - loss: 0.1528 - acc: 0.9467 - val_loss: 0.2786 - val_acc: 0.9116\n",
      "Epoch 90/100\n",
      "2888/2888 [==============================] - 1s 438us/step - loss: 0.1537 - acc: 0.9436 - val_loss: 0.2478 - val_acc: 0.9075\n",
      "Epoch 91/100\n",
      "2888/2888 [==============================] - 1s 446us/step - loss: 0.1456 - acc: 0.9467 - val_loss: 0.2636 - val_acc: 0.9085\n",
      "Epoch 92/100\n",
      "2888/2888 [==============================] - 1s 445us/step - loss: 0.1504 - acc: 0.9470 - val_loss: 0.2862 - val_acc: 0.8898\n",
      "Epoch 93/100\n",
      "2888/2888 [==============================] - 1s 438us/step - loss: 0.1445 - acc: 0.9474 - val_loss: 0.2812 - val_acc: 0.9075\n",
      "Epoch 94/100\n",
      "2888/2888 [==============================] - 1s 446us/step - loss: 0.1495 - acc: 0.9498 - val_loss: 0.2687 - val_acc: 0.8940\n",
      "Epoch 95/100\n",
      "2888/2888 [==============================] - 1s 438us/step - loss: 0.1483 - acc: 0.9484 - val_loss: 0.3111 - val_acc: 0.8971\n",
      "Epoch 96/100\n",
      "2888/2888 [==============================] - 1s 443us/step - loss: 0.1386 - acc: 0.9470 - val_loss: 0.3569 - val_acc: 0.8992\n",
      "Epoch 97/100\n",
      "2888/2888 [==============================] - 1s 440us/step - loss: 0.1407 - acc: 0.9508 - val_loss: 0.3371 - val_acc: 0.8825\n",
      "Epoch 98/100\n",
      "2888/2888 [==============================] - 1s 441us/step - loss: 0.1404 - acc: 0.9494 - val_loss: 0.2810 - val_acc: 0.8898\n",
      "Epoch 99/100\n",
      "2888/2888 [==============================] - 1s 439us/step - loss: 0.1368 - acc: 0.9533 - val_loss: 0.4019 - val_acc: 0.8753\n",
      "Epoch 100/100\n",
      "2888/2888 [==============================] - 1s 447us/step - loss: 0.1409 - acc: 0.9470 - val_loss: 0.2678 - val_acc: 0.9044\n"
     ]
    }
   ],
   "source": [
    "history = model.fit(mod_x_train, y_train,batch_size=16, validation_data=(mod_x_val, y_val), epochs=100)"
   ]
  },
  {
   "cell_type": "code",
   "execution_count": 142,
   "metadata": {},
   "outputs": [
    {
     "data": {
      "image/png": "[encoded data removed]",
      "text/plain": [
       "<Figure size 432x288 with 1 Axes>"
      ]
     },
     "metadata": {},
     "output_type": "display_data"
    }
   ],
   "source": [
    "pd.DataFrame(history.history).plot()\n",
    "plt.show()"
   ]
  },
  {
   "cell_type": "code",
   "execution_count": 143,
   "metadata": {},
   "outputs": [],
   "source": [
    "# test set\n",
    "mod_x_test = np.expand_dims(x_test, axis=2)"
   ]
  },
  {
   "cell_type": "code",
   "execution_count": 144,
   "metadata": {},
   "outputs": [
    {
     "name": "stdout",
     "output_type": "stream",
     "text": [
      "962/962 [==============================] - 0s 163us/step\n"
     ]
    }
   ],
   "source": [
    "score = model.evaluate(mod_x_test, y_test, batch_size=16)"
   ]
  },
  {
   "cell_type": "code",
   "execution_count": 145,
   "metadata": {},
   "outputs": [
    {
     "data": {
      "text/plain": [
       "[0.28392884313378663, 0.91683991683991684]"
      ]
     },
     "execution_count": 145,
     "metadata": {},
     "output_type": "execute_result"
    }
   ],
   "source": [
    "score"
   ]
  },
  {
   "cell_type": "markdown",
   "metadata": {},
   "source": [
    "91% of accuracy is better than the baseline model."
   ]
  },
  {
   "cell_type": "code",
   "execution_count": 175,
   "metadata": {},
   "outputs": [],
   "source": [
    "# Larger filter\n",
    "model = Sequential()\n",
    "model.add(Conv1D(64, 5, activation='relu', input_shape=(80,1)))\n",
    "model.add(Conv1D(64, 5, activation='relu'))\n",
    "model.add(MaxPooling1D(3))\n",
    "model.add(Dropout(0.5))\n",
    "model.add(Conv1D(128, 5, activation='relu'))\n",
    "model.add(Conv1D(128, 5, activation='relu'))\n",
    "model.add(GlobalAveragePooling1D())\n",
    "model.add(Dropout(0.5))\n",
    "model.add(Dense(1, activation='sigmoid'))\n",
    "\n",
    "model.compile(loss='binary_crossentropy',\n",
    "              optimizer=RMSprop(lr=5e-4),\n",
    "              metrics=['accuracy'])"
   ]
  },
  {
   "cell_type": "code",
   "execution_count": 176,
   "metadata": {},
   "outputs": [
    {
     "name": "stdout",
     "output_type": "stream",
     "text": [
      "_________________________________________________________________\n",
      "Layer (type)                 Output Shape              Param #   \n",
      "=================================================================\n",
      "conv1d_92 (Conv1D)           (None, 76, 64)            384       \n",
      "_________________________________________________________________\n",
      "conv1d_93 (Conv1D)           (None, 72, 64)            20544     \n",
      "_________________________________________________________________\n",
      "max_pooling1d_23 (MaxPooling (None, 24, 64)            0         \n",
      "_________________________________________________________________\n",
      "dropout_25 (Dropout)         (None, 24, 64)            0         \n",
      "_________________________________________________________________\n",
      "conv1d_94 (Conv1D)           (None, 20, 128)           41088     \n",
      "_________________________________________________________________\n",
      "conv1d_95 (Conv1D)           (None, 16, 128)           82048     \n",
      "_________________________________________________________________\n",
      "global_average_pooling1d_18  (None, 128)               0         \n",
      "_________________________________________________________________\n",
      "dropout_26 (Dropout)         (None, 128)               0         \n",
      "_________________________________________________________________\n",
      "dense_40 (Dense)             (None, 1)                 129       \n",
      "=================================================================\n",
      "Total params: 144,193\n",
      "Trainable params: 144,193\n",
      "Non-trainable params: 0\n",
      "_________________________________________________________________\n"
     ]
    }
   ],
   "source": [
    "model.summary()"
   ]
  },
  {
   "cell_type": "code",
   "execution_count": 177,
   "metadata": {},
   "outputs": [
    {
     "name": "stdout",
     "output_type": "stream",
     "text": [
      "Train on 2888 samples, validate on 962 samples\n",
      "Epoch 1/100\n",
      "2888/2888 [==============================] - 3s 1ms/step - loss: 0.6782 - acc: 0.5751 - val_loss: 0.6433 - val_acc: 0.6455\n",
      "Epoch 2/100\n",
      "2888/2888 [==============================] - 2s 571us/step - loss: 0.6476 - acc: 0.6260 - val_loss: 0.6218 - val_acc: 0.6559\n",
      "Epoch 3/100\n",
      "2888/2888 [==============================] - 2s 570us/step - loss: 0.6310 - acc: 0.6420 - val_loss: 0.6006 - val_acc: 0.6985\n",
      "Epoch 4/100\n",
      "2888/2888 [==============================] - 2s 557us/step - loss: 0.6173 - acc: 0.6572 - val_loss: 0.5900 - val_acc: 0.7079\n",
      "Epoch 5/100\n",
      "2888/2888 [==============================] - 2s 553us/step - loss: 0.6008 - acc: 0.6846 - val_loss: 0.5585 - val_acc: 0.7308\n",
      "Epoch 6/100\n",
      "2888/2888 [==============================] - 2s 556us/step - loss: 0.5844 - acc: 0.7053 - val_loss: 0.5429 - val_acc: 0.7380\n",
      "Epoch 7/100\n",
      "2888/2888 [==============================] - 2s 542us/step - loss: 0.5622 - acc: 0.7168 - val_loss: 0.5804 - val_acc: 0.6923\n",
      "Epoch 8/100\n",
      "2888/2888 [==============================] - 2s 539us/step - loss: 0.5471 - acc: 0.7226 - val_loss: 0.5030 - val_acc: 0.7775\n",
      "Epoch 9/100\n",
      "2888/2888 [==============================] - 2s 546us/step - loss: 0.5203 - acc: 0.7535 - val_loss: 0.4748 - val_acc: 0.7921\n",
      "Epoch 10/100\n",
      "2888/2888 [==============================] - 2s 537us/step - loss: 0.5094 - acc: 0.7580 - val_loss: 0.4610 - val_acc: 0.7963\n",
      "Epoch 11/100\n",
      "2888/2888 [==============================] - 2s 552us/step - loss: 0.4817 - acc: 0.7884 - val_loss: 0.4495 - val_acc: 0.8035\n",
      "Epoch 12/100\n",
      "2888/2888 [==============================] - 2s 576us/step - loss: 0.4822 - acc: 0.7843 - val_loss: 0.4291 - val_acc: 0.8306\n",
      "Epoch 13/100\n",
      "2888/2888 [==============================] - 2s 576us/step - loss: 0.4625 - acc: 0.7947 - val_loss: 0.4340 - val_acc: 0.8243\n",
      "Epoch 14/100\n",
      "2888/2888 [==============================] - 2s 579us/step - loss: 0.4438 - acc: 0.8096 - val_loss: 0.4041 - val_acc: 0.8316\n",
      "Epoch 15/100\n",
      "2888/2888 [==============================] - 2s 580us/step - loss: 0.4312 - acc: 0.8127 - val_loss: 0.4027 - val_acc: 0.8378\n",
      "Epoch 16/100\n",
      "2888/2888 [==============================] - 2s 564us/step - loss: 0.4294 - acc: 0.8120 - val_loss: 0.4037 - val_acc: 0.8254\n",
      "Epoch 17/100\n",
      "2888/2888 [==============================] - 2s 570us/step - loss: 0.4090 - acc: 0.8269 - val_loss: 0.3801 - val_acc: 0.8586\n",
      "Epoch 18/100\n",
      "2888/2888 [==============================] - 2s 583us/step - loss: 0.4099 - acc: 0.8366 - val_loss: 0.3853 - val_acc: 0.8378\n",
      "Epoch 19/100\n",
      "2888/2888 [==============================] - 2s 590us/step - loss: 0.3845 - acc: 0.8414 - val_loss: 0.3458 - val_acc: 0.8607\n",
      "Epoch 20/100\n",
      "2888/2888 [==============================] - 2s 583us/step - loss: 0.3874 - acc: 0.8366 - val_loss: 0.3428 - val_acc: 0.8669\n",
      "Epoch 21/100\n",
      "2888/2888 [==============================] - 2s 624us/step - loss: 0.3846 - acc: 0.8470 - val_loss: 0.3401 - val_acc: 0.8732\n",
      "Epoch 22/100\n",
      "2888/2888 [==============================] - 2s 633us/step - loss: 0.3781 - acc: 0.8476 - val_loss: 0.3594 - val_acc: 0.8503\n",
      "Epoch 23/100\n",
      "2888/2888 [==============================] - 2s 624us/step - loss: 0.3699 - acc: 0.8549 - val_loss: 0.3211 - val_acc: 0.8784\n",
      "Epoch 24/100\n",
      "2888/2888 [==============================] - 2s 616us/step - loss: 0.3603 - acc: 0.8463 - val_loss: 0.3308 - val_acc: 0.8701\n",
      "Epoch 25/100\n",
      "2888/2888 [==============================] - 2s 621us/step - loss: 0.3573 - acc: 0.8605 - val_loss: 0.3145 - val_acc: 0.8753\n",
      "Epoch 26/100\n",
      "2888/2888 [==============================] - 2s 628us/step - loss: 0.3404 - acc: 0.8601 - val_loss: 0.3113 - val_acc: 0.8753\n",
      "Epoch 27/100\n",
      "2888/2888 [==============================] - 2s 549us/step - loss: 0.3425 - acc: 0.8643 - val_loss: 0.3000 - val_acc: 0.8805\n",
      "Epoch 28/100\n",
      "2888/2888 [==============================] - 2s 537us/step - loss: 0.3385 - acc: 0.8618 - val_loss: 0.3060 - val_acc: 0.8805\n",
      "Epoch 29/100\n",
      "2888/2888 [==============================] - 2s 549us/step - loss: 0.3341 - acc: 0.8684 - val_loss: 0.2930 - val_acc: 0.8794\n",
      "Epoch 30/100\n",
      "2888/2888 [==============================] - 2s 539us/step - loss: 0.3290 - acc: 0.8688 - val_loss: 0.2914 - val_acc: 0.8857\n",
      "Epoch 31/100\n",
      "2888/2888 [==============================] - 2s 535us/step - loss: 0.3220 - acc: 0.8705 - val_loss: 0.2895 - val_acc: 0.8805\n",
      "Epoch 32/100\n",
      "2888/2888 [==============================] - 2s 542us/step - loss: 0.3282 - acc: 0.8677 - val_loss: 0.3195 - val_acc: 0.8773\n",
      "Epoch 33/100\n",
      "2888/2888 [==============================] - 2s 544us/step - loss: 0.3186 - acc: 0.8691 - val_loss: 0.2956 - val_acc: 0.8836\n",
      "Epoch 34/100\n",
      "2888/2888 [==============================] - 2s 537us/step - loss: 0.3047 - acc: 0.8764 - val_loss: 0.2823 - val_acc: 0.8898\n",
      "Epoch 35/100\n",
      "2888/2888 [==============================] - 2s 542us/step - loss: 0.3190 - acc: 0.8747 - val_loss: 0.2734 - val_acc: 0.8877\n",
      "Epoch 36/100\n",
      "2888/2888 [==============================] - 2s 549us/step - loss: 0.3055 - acc: 0.8795 - val_loss: 0.3046 - val_acc: 0.8877\n",
      "Epoch 37/100\n",
      "2888/2888 [==============================] - 2s 537us/step - loss: 0.2918 - acc: 0.8885 - val_loss: 0.2613 - val_acc: 0.8981\n",
      "Epoch 38/100\n",
      "2888/2888 [==============================] - 2s 539us/step - loss: 0.2925 - acc: 0.8805 - val_loss: 0.2695 - val_acc: 0.8877\n",
      "Epoch 39/100\n",
      "2888/2888 [==============================] - 2s 531us/step - loss: 0.3052 - acc: 0.8868 - val_loss: 0.2949 - val_acc: 0.8909\n",
      "Epoch 40/100\n",
      "2888/2888 [==============================] - 2s 545us/step - loss: 0.2919 - acc: 0.8861 - val_loss: 0.3476 - val_acc: 0.8763\n",
      "Epoch 41/100\n",
      "2888/2888 [==============================] - 2s 541us/step - loss: 0.3018 - acc: 0.8802 - val_loss: 0.2631 - val_acc: 0.8950\n",
      "Epoch 42/100\n",
      "2888/2888 [==============================] - 2s 555us/step - loss: 0.2860 - acc: 0.8878 - val_loss: 0.2783 - val_acc: 0.8960\n",
      "Epoch 43/100\n",
      "2888/2888 [==============================] - 2s 547us/step - loss: 0.2789 - acc: 0.8902 - val_loss: 0.2970 - val_acc: 0.8742\n",
      "Epoch 44/100\n",
      "2888/2888 [==============================] - 2s 536us/step - loss: 0.2932 - acc: 0.8830 - val_loss: 0.2570 - val_acc: 0.8940\n",
      "Epoch 45/100\n",
      "2888/2888 [==============================] - 2s 546us/step - loss: 0.2818 - acc: 0.8861 - val_loss: 0.2647 - val_acc: 0.9012\n",
      "Epoch 46/100\n",
      "2888/2888 [==============================] - 2s 547us/step - loss: 0.2726 - acc: 0.8958 - val_loss: 0.2389 - val_acc: 0.9033\n",
      "Epoch 47/100\n",
      "2888/2888 [==============================] - 2s 550us/step - loss: 0.2670 - acc: 0.9006 - val_loss: 0.2417 - val_acc: 0.9023\n",
      "Epoch 48/100\n",
      "2888/2888 [==============================] - 2s 538us/step - loss: 0.2843 - acc: 0.8899 - val_loss: 0.2533 - val_acc: 0.9033\n",
      "Epoch 49/100\n",
      "2888/2888 [==============================] - 2s 542us/step - loss: 0.2588 - acc: 0.8989 - val_loss: 0.2322 - val_acc: 0.9044\n",
      "Epoch 50/100\n",
      "2888/2888 [==============================] - 2s 543us/step - loss: 0.2602 - acc: 0.8989 - val_loss: 0.2490 - val_acc: 0.9106\n",
      "Epoch 51/100\n",
      "2888/2888 [==============================] - 2s 557us/step - loss: 0.2691 - acc: 0.9020 - val_loss: 0.2299 - val_acc: 0.9075\n",
      "Epoch 52/100\n",
      "2888/2888 [==============================] - 2s 541us/step - loss: 0.2612 - acc: 0.8930 - val_loss: 0.2334 - val_acc: 0.8981\n",
      "Epoch 53/100\n",
      "2888/2888 [==============================] - 2s 553us/step - loss: 0.2512 - acc: 0.9030 - val_loss: 0.2212 - val_acc: 0.9096\n",
      "Epoch 54/100\n",
      "2888/2888 [==============================] - 2s 558us/step - loss: 0.2548 - acc: 0.9065 - val_loss: 0.2403 - val_acc: 0.8960\n",
      "Epoch 55/100\n",
      "2888/2888 [==============================] - 2s 539us/step - loss: 0.2515 - acc: 0.9006 - val_loss: 0.2257 - val_acc: 0.9023\n",
      "Epoch 56/100\n",
      "2888/2888 [==============================] - 2s 549us/step - loss: 0.2445 - acc: 0.9058 - val_loss: 0.2555 - val_acc: 0.8940\n",
      "Epoch 57/100\n",
      "2888/2888 [==============================] - 2s 540us/step - loss: 0.2529 - acc: 0.9024 - val_loss: 0.2229 - val_acc: 0.9179\n",
      "Epoch 58/100\n",
      "2888/2888 [==============================] - 2s 543us/step - loss: 0.2481 - acc: 0.8930 - val_loss: 0.2587 - val_acc: 0.9137\n",
      "Epoch 59/100\n",
      "2888/2888 [==============================] - 2s 553us/step - loss: 0.2464 - acc: 0.9062 - val_loss: 0.2305 - val_acc: 0.9168\n",
      "Epoch 60/100\n"
     ]
    },
    {
     "name": "stdout",
     "output_type": "stream",
     "text": [
      "2888/2888 [==============================] - 2s 532us/step - loss: 0.2491 - acc: 0.9079 - val_loss: 0.2482 - val_acc: 0.8971\n",
      "Epoch 61/100\n",
      "2888/2888 [==============================] - 2s 544us/step - loss: 0.2466 - acc: 0.9065 - val_loss: 0.2098 - val_acc: 0.9179\n",
      "Epoch 62/100\n",
      "2888/2888 [==============================] - 2s 553us/step - loss: 0.2435 - acc: 0.9048 - val_loss: 0.3021 - val_acc: 0.8909\n",
      "Epoch 63/100\n",
      "2888/2888 [==============================] - 2s 565us/step - loss: 0.2308 - acc: 0.9127 - val_loss: 0.2799 - val_acc: 0.9106\n",
      "Epoch 64/100\n",
      "2888/2888 [==============================] - 2s 556us/step - loss: 0.2409 - acc: 0.9152 - val_loss: 0.2294 - val_acc: 0.9189\n",
      "Epoch 65/100\n",
      "2888/2888 [==============================] - 2s 555us/step - loss: 0.2330 - acc: 0.9127 - val_loss: 0.2100 - val_acc: 0.9189\n",
      "Epoch 66/100\n",
      "2888/2888 [==============================] - 2s 541us/step - loss: 0.2345 - acc: 0.9096 - val_loss: 0.2462 - val_acc: 0.9116\n",
      "Epoch 67/100\n",
      "2888/2888 [==============================] - 2s 537us/step - loss: 0.2295 - acc: 0.9103 - val_loss: 0.2935 - val_acc: 0.9002\n",
      "Epoch 68/100\n",
      "2888/2888 [==============================] - 2s 537us/step - loss: 0.2260 - acc: 0.9169 - val_loss: 0.2139 - val_acc: 0.9127\n",
      "Epoch 69/100\n",
      "2888/2888 [==============================] - 2s 543us/step - loss: 0.2353 - acc: 0.9145 - val_loss: 0.2328 - val_acc: 0.9158\n",
      "Epoch 70/100\n",
      "2888/2888 [==============================] - 2s 537us/step - loss: 0.2260 - acc: 0.9124 - val_loss: 0.2281 - val_acc: 0.9241\n",
      "Epoch 71/100\n",
      "2888/2888 [==============================] - 2s 536us/step - loss: 0.2227 - acc: 0.9082 - val_loss: 0.2091 - val_acc: 0.9200\n",
      "Epoch 72/100\n",
      "2888/2888 [==============================] - 2s 533us/step - loss: 0.2186 - acc: 0.9166 - val_loss: 0.2451 - val_acc: 0.9137\n",
      "Epoch 73/100\n",
      "2888/2888 [==============================] - 2s 549us/step - loss: 0.2096 - acc: 0.9190 - val_loss: 0.2252 - val_acc: 0.8981\n",
      "Epoch 74/100\n",
      "2888/2888 [==============================] - 2s 551us/step - loss: 0.2161 - acc: 0.9166 - val_loss: 0.2285 - val_acc: 0.9127\n",
      "Epoch 75/100\n",
      "2888/2888 [==============================] - 2s 543us/step - loss: 0.2217 - acc: 0.9190 - val_loss: 0.2119 - val_acc: 0.9179\n",
      "Epoch 76/100\n",
      "2888/2888 [==============================] - 2s 552us/step - loss: 0.2198 - acc: 0.9224 - val_loss: 0.2047 - val_acc: 0.9283\n",
      "Epoch 77/100\n",
      "2888/2888 [==============================] - 2s 545us/step - loss: 0.2094 - acc: 0.9183 - val_loss: 0.1952 - val_acc: 0.9148\n",
      "Epoch 78/100\n",
      "2888/2888 [==============================] - 2s 539us/step - loss: 0.2112 - acc: 0.9179 - val_loss: 0.2000 - val_acc: 0.9158\n",
      "Epoch 79/100\n",
      "2888/2888 [==============================] - 2s 545us/step - loss: 0.2110 - acc: 0.9221 - val_loss: 0.1965 - val_acc: 0.9210\n",
      "Epoch 80/100\n",
      "2888/2888 [==============================] - 2s 550us/step - loss: 0.2099 - acc: 0.9221 - val_loss: 0.2148 - val_acc: 0.9241\n",
      "Epoch 81/100\n",
      "2888/2888 [==============================] - 2s 535us/step - loss: 0.1962 - acc: 0.9256 - val_loss: 0.1974 - val_acc: 0.9262\n",
      "Epoch 82/100\n",
      "2888/2888 [==============================] - 2s 544us/step - loss: 0.2021 - acc: 0.9283 - val_loss: 0.2095 - val_acc: 0.9200\n",
      "Epoch 83/100\n",
      "2888/2888 [==============================] - 2s 539us/step - loss: 0.2089 - acc: 0.9249 - val_loss: 0.2018 - val_acc: 0.9252\n",
      "Epoch 84/100\n",
      "2888/2888 [==============================] - 2s 536us/step - loss: 0.1990 - acc: 0.9238 - val_loss: 0.1912 - val_acc: 0.9324\n",
      "Epoch 85/100\n",
      "2888/2888 [==============================] - 2s 537us/step - loss: 0.2030 - acc: 0.9200 - val_loss: 0.2569 - val_acc: 0.9137\n",
      "Epoch 86/100\n",
      "2888/2888 [==============================] - 2s 541us/step - loss: 0.1977 - acc: 0.9287 - val_loss: 0.1963 - val_acc: 0.9272\n",
      "Epoch 87/100\n",
      "2888/2888 [==============================] - 2s 533us/step - loss: 0.1980 - acc: 0.9269 - val_loss: 0.2030 - val_acc: 0.9293\n",
      "Epoch 88/100\n",
      "2888/2888 [==============================] - 2s 539us/step - loss: 0.1953 - acc: 0.9252 - val_loss: 0.2017 - val_acc: 0.9293\n",
      "Epoch 89/100\n",
      "2888/2888 [==============================] - 2s 564us/step - loss: 0.1988 - acc: 0.9256 - val_loss: 0.2031 - val_acc: 0.9376\n",
      "Epoch 90/100\n",
      "2888/2888 [==============================] - 2s 559us/step - loss: 0.2005 - acc: 0.9238 - val_loss: 0.1854 - val_acc: 0.9283\n",
      "Epoch 91/100\n",
      "2888/2888 [==============================] - 2s 597us/step - loss: 0.2022 - acc: 0.9269 - val_loss: 0.1922 - val_acc: 0.9376\n",
      "Epoch 92/100\n",
      "2888/2888 [==============================] - 2s 564us/step - loss: 0.1857 - acc: 0.9352 - val_loss: 0.1891 - val_acc: 0.9324\n",
      "Epoch 93/100\n",
      "2888/2888 [==============================] - 2s 561us/step - loss: 0.2017 - acc: 0.9290 - val_loss: 0.1792 - val_acc: 0.9376\n",
      "Epoch 94/100\n",
      "2888/2888 [==============================] - 2s 566us/step - loss: 0.1817 - acc: 0.9314 - val_loss: 0.1741 - val_acc: 0.9283\n",
      "Epoch 95/100\n",
      "2888/2888 [==============================] - 2s 544us/step - loss: 0.1937 - acc: 0.9297 - val_loss: 0.2063 - val_acc: 0.9293\n",
      "Epoch 96/100\n",
      "2888/2888 [==============================] - 2s 546us/step - loss: 0.1793 - acc: 0.9328 - val_loss: 0.1984 - val_acc: 0.9376\n",
      "Epoch 97/100\n",
      "2888/2888 [==============================] - 2s 544us/step - loss: 0.1940 - acc: 0.9266 - val_loss: 0.2228 - val_acc: 0.9293\n",
      "Epoch 98/100\n",
      "2888/2888 [==============================] - 2s 537us/step - loss: 0.1806 - acc: 0.9318 - val_loss: 0.1983 - val_acc: 0.9304\n",
      "Epoch 99/100\n",
      "2888/2888 [==============================] - 2s 558us/step - loss: 0.1862 - acc: 0.9269 - val_loss: 0.2030 - val_acc: 0.9283\n",
      "Epoch 100/100\n",
      "2888/2888 [==============================] - 2s 544us/step - loss: 0.1848 - acc: 0.9328 - val_loss: 0.1810 - val_acc: 0.9376\n"
     ]
    }
   ],
   "source": [
    "history = model.fit(mod_x_train, y_train,batch_size=16, validation_data=(mod_x_val, y_val), epochs=100)"
   ]
  },
  {
   "cell_type": "code",
   "execution_count": 178,
   "metadata": {},
   "outputs": [
    {
     "data": {
      "image/png": "[encoded data removed]",
      "text/plain": [
       "<Figure size 432x288 with 1 Axes>"
      ]
     },
     "metadata": {},
     "output_type": "display_data"
    }
   ],
   "source": [
    "pd.DataFrame(history.history).plot()\n",
    "plt.show()"
   ]
  },
  {
   "cell_type": "code",
   "execution_count": 179,
   "metadata": {},
   "outputs": [
    {
     "name": "stdout",
     "output_type": "stream",
     "text": [
      "962/962 [==============================] - 0s 200us/step\n"
     ]
    },
    {
     "data": {
      "text/plain": [
       "[0.2169726175602657, 0.93762993762993763]"
      ]
     },
     "execution_count": 179,
     "metadata": {},
     "output_type": "execute_result"
    }
   ],
   "source": [
    "score = model.evaluate(mod_x_test, y_test, batch_size=16)\n",
    "score"
   ]
  },
  {
   "cell_type": "code",
   "execution_count": 186,
   "metadata": {},
   "outputs": [],
   "source": [
    "# deeper model\n",
    "model = Sequential()\n",
    "model.add(Conv1D(8, 3, activation='relu', input_shape=(80,1)))\n",
    "model.add(Conv1D(8, 3, activation='relu'))\n",
    "model.add(MaxPooling1D(3))\n",
    "model.add(Dropout(0.5))\n",
    "model.add(Conv1D(16, 3, activation='relu'))\n",
    "model.add(Conv1D(16, 3, activation='relu'))\n",
    "model.add(MaxPooling1D(3))\n",
    "model.add(Dropout(0.5))\n",
    "model.add(Conv1D(32, 3, activation='relu'))\n",
    "model.add(Conv1D(32, 3, activation='relu'))\n",
    "model.add(GlobalAveragePooling1D())\n",
    "model.add(Dropout(0.5))\n",
    "model.add(Dense(1, activation='sigmoid'))\n",
    "\n",
    "model.compile(loss='binary_crossentropy',\n",
    "              optimizer=RMSprop(lr=5e-4),\n",
    "              metrics=['accuracy'])"
   ]
  },
  {
   "cell_type": "code",
   "execution_count": 187,
   "metadata": {},
   "outputs": [
    {
     "name": "stdout",
     "output_type": "stream",
     "text": [
      "_________________________________________________________________\n",
      "Layer (type)                 Output Shape              Param #   \n",
      "=================================================================\n",
      "conv1d_132 (Conv1D)          (None, 78, 8)             32        \n",
      "_________________________________________________________________\n",
      "conv1d_133 (Conv1D)          (None, 76, 8)             200       \n",
      "_________________________________________________________________\n",
      "max_pooling1d_36 (MaxPooling (None, 25, 8)             0         \n",
      "_________________________________________________________________\n",
      "dropout_39 (Dropout)         (None, 25, 8)             0         \n",
      "_________________________________________________________________\n",
      "conv1d_134 (Conv1D)          (None, 23, 16)            400       \n",
      "_________________________________________________________________\n",
      "conv1d_135 (Conv1D)          (None, 21, 16)            784       \n",
      "_________________________________________________________________\n",
      "max_pooling1d_37 (MaxPooling (None, 7, 16)             0         \n",
      "_________________________________________________________________\n",
      "dropout_40 (Dropout)         (None, 7, 16)             0         \n",
      "_________________________________________________________________\n",
      "conv1d_136 (Conv1D)          (None, 5, 32)             1568      \n",
      "_________________________________________________________________\n",
      "conv1d_137 (Conv1D)          (None, 3, 32)             3104      \n",
      "_________________________________________________________________\n",
      "global_average_pooling1d_19  (None, 32)                0         \n",
      "_________________________________________________________________\n",
      "dropout_41 (Dropout)         (None, 32)                0         \n",
      "_________________________________________________________________\n",
      "dense_41 (Dense)             (None, 1)                 33        \n",
      "=================================================================\n",
      "Total params: 6,121\n",
      "Trainable params: 6,121\n",
      "Non-trainable params: 0\n",
      "_________________________________________________________________\n"
     ]
    }
   ],
   "source": [
    "model.summary()"
   ]
  },
  {
   "cell_type": "code",
   "execution_count": 188,
   "metadata": {},
   "outputs": [
    {
     "name": "stdout",
     "output_type": "stream",
     "text": [
      "Train on 2888 samples, validate on 962 samples\n",
      "Epoch 1/100\n",
      "2888/2888 [==============================] - 3s 965us/step - loss: 0.6935 - acc: 0.5145 - val_loss: 0.6923 - val_acc: 0.5416\n",
      "Epoch 2/100\n",
      "2888/2888 [==============================] - 1s 299us/step - loss: 0.6914 - acc: 0.5242 - val_loss: 0.6900 - val_acc: 0.5832\n",
      "Epoch 3/100\n",
      "2888/2888 [==============================] - 1s 290us/step - loss: 0.6893 - acc: 0.5395 - val_loss: 0.6856 - val_acc: 0.6268\n",
      "Epoch 4/100\n",
      "2888/2888 [==============================] - 1s 291us/step - loss: 0.6837 - acc: 0.5689 - val_loss: 0.6814 - val_acc: 0.5104\n",
      "Epoch 5/100\n",
      "2888/2888 [==============================] - 1s 297us/step - loss: 0.6731 - acc: 0.5914 - val_loss: 0.6615 - val_acc: 0.6715\n",
      "Epoch 6/100\n",
      "2888/2888 [==============================] - 1s 289us/step - loss: 0.6698 - acc: 0.5938 - val_loss: 0.6567 - val_acc: 0.6455\n",
      "Epoch 7/100\n",
      "2888/2888 [==============================] - 1s 286us/step - loss: 0.6639 - acc: 0.6091 - val_loss: 0.6502 - val_acc: 0.6497\n",
      "Epoch 8/100\n",
      "2888/2888 [==============================] - 1s 273us/step - loss: 0.6615 - acc: 0.6160 - val_loss: 0.6473 - val_acc: 0.6518\n",
      "Epoch 9/100\n",
      "2888/2888 [==============================] - 1s 273us/step - loss: 0.6549 - acc: 0.6174 - val_loss: 0.6612 - val_acc: 0.5780\n",
      "Epoch 10/100\n",
      "2888/2888 [==============================] - 1s 289us/step - loss: 0.6481 - acc: 0.6257 - val_loss: 0.6434 - val_acc: 0.6279\n",
      "Epoch 11/100\n",
      "2888/2888 [==============================] - 1s 276us/step - loss: 0.6530 - acc: 0.6188 - val_loss: 0.6452 - val_acc: 0.6320\n",
      "Epoch 12/100\n",
      "2888/2888 [==============================] - 1s 278us/step - loss: 0.6508 - acc: 0.6406 - val_loss: 0.6558 - val_acc: 0.5946\n",
      "Epoch 13/100\n",
      "2888/2888 [==============================] - 1s 268us/step - loss: 0.6388 - acc: 0.6427 - val_loss: 0.6408 - val_acc: 0.6268\n",
      "Epoch 14/100\n",
      "2888/2888 [==============================] - 1s 279us/step - loss: 0.6394 - acc: 0.6485 - val_loss: 0.6344 - val_acc: 0.6362\n",
      "Epoch 15/100\n",
      "2888/2888 [==============================] - 1s 283us/step - loss: 0.6507 - acc: 0.6382 - val_loss: 0.6362 - val_acc: 0.6403\n",
      "Epoch 16/100\n",
      "2888/2888 [==============================] - 1s 280us/step - loss: 0.6394 - acc: 0.6461 - val_loss: 0.6401 - val_acc: 0.6320\n",
      "Epoch 17/100\n",
      "2888/2888 [==============================] - 1s 269us/step - loss: 0.6420 - acc: 0.6413 - val_loss: 0.6429 - val_acc: 0.6143\n",
      "Epoch 18/100\n",
      "2888/2888 [==============================] - 1s 285us/step - loss: 0.6363 - acc: 0.6451 - val_loss: 0.6331 - val_acc: 0.6403\n",
      "Epoch 19/100\n",
      "2888/2888 [==============================] - 1s 286us/step - loss: 0.6382 - acc: 0.6458 - val_loss: 0.6325 - val_acc: 0.6466\n",
      "Epoch 20/100\n",
      "2888/2888 [==============================] - 1s 287us/step - loss: 0.6293 - acc: 0.6638 - val_loss: 0.6299 - val_acc: 0.6424\n",
      "Epoch 21/100\n",
      "2888/2888 [==============================] - 1s 277us/step - loss: 0.6334 - acc: 0.6461 - val_loss: 0.6211 - val_acc: 0.6674\n",
      "Epoch 22/100\n",
      "2888/2888 [==============================] - 1s 277us/step - loss: 0.6386 - acc: 0.6513 - val_loss: 0.6288 - val_acc: 0.6435\n",
      "Epoch 23/100\n",
      "2888/2888 [==============================] - 1s 276us/step - loss: 0.6304 - acc: 0.6593 - val_loss: 0.6359 - val_acc: 0.6206\n",
      "Epoch 24/100\n",
      "2888/2888 [==============================] - 1s 295us/step - loss: 0.6253 - acc: 0.6589 - val_loss: 0.6584 - val_acc: 0.5904\n",
      "Epoch 25/100\n",
      "2888/2888 [==============================] - 1s 283us/step - loss: 0.6240 - acc: 0.6610 - val_loss: 0.6307 - val_acc: 0.6237\n",
      "Epoch 26/100\n",
      "2888/2888 [==============================] - 1s 275us/step - loss: 0.6272 - acc: 0.6600 - val_loss: 0.6309 - val_acc: 0.6258\n",
      "Epoch 27/100\n",
      "2888/2888 [==============================] - 1s 284us/step - loss: 0.6269 - acc: 0.6655 - val_loss: 0.6255 - val_acc: 0.6351\n",
      "Epoch 28/100\n",
      "2888/2888 [==============================] - 1s 275us/step - loss: 0.6286 - acc: 0.6596 - val_loss: 0.6094 - val_acc: 0.6715\n",
      "Epoch 29/100\n",
      "2888/2888 [==============================] - 1s 282us/step - loss: 0.6249 - acc: 0.6579 - val_loss: 0.6078 - val_acc: 0.6788\n",
      "Epoch 30/100\n",
      "2888/2888 [==============================] - 1s 280us/step - loss: 0.6253 - acc: 0.6659 - val_loss: 0.6423 - val_acc: 0.6185\n",
      "Epoch 31/100\n",
      "2888/2888 [==============================] - 1s 278us/step - loss: 0.6245 - acc: 0.6655 - val_loss: 0.6432 - val_acc: 0.6102\n",
      "Epoch 32/100\n",
      "2888/2888 [==============================] - 1s 283us/step - loss: 0.6243 - acc: 0.6572 - val_loss: 0.6204 - val_acc: 0.6486\n",
      "Epoch 33/100\n",
      "2888/2888 [==============================] - 1s 278us/step - loss: 0.6243 - acc: 0.6648 - val_loss: 0.6078 - val_acc: 0.6746\n",
      "Epoch 34/100\n",
      "2888/2888 [==============================] - 1s 277us/step - loss: 0.6181 - acc: 0.6714 - val_loss: 0.6062 - val_acc: 0.6736\n",
      "Epoch 35/100\n",
      "2888/2888 [==============================] - 1s 275us/step - loss: 0.6191 - acc: 0.6631 - val_loss: 0.6286 - val_acc: 0.6341\n",
      "Epoch 36/100\n",
      "2888/2888 [==============================] - 1s 284us/step - loss: 0.6218 - acc: 0.6724 - val_loss: 0.6388 - val_acc: 0.6164\n",
      "Epoch 37/100\n",
      "2888/2888 [==============================] - 1s 283us/step - loss: 0.6127 - acc: 0.6690 - val_loss: 0.6015 - val_acc: 0.6798\n",
      "Epoch 38/100\n",
      "2888/2888 [==============================] - 1s 289us/step - loss: 0.6183 - acc: 0.6624 - val_loss: 0.6551 - val_acc: 0.5967\n",
      "Epoch 39/100\n",
      "2888/2888 [==============================] - 1s 282us/step - loss: 0.6223 - acc: 0.6600 - val_loss: 0.6335 - val_acc: 0.6268\n",
      "Epoch 40/100\n",
      "2888/2888 [==============================] - 1s 283us/step - loss: 0.6137 - acc: 0.6790 - val_loss: 0.6198 - val_acc: 0.6445\n",
      "Epoch 41/100\n",
      "2888/2888 [==============================] - 1s 281us/step - loss: 0.6223 - acc: 0.6600 - val_loss: 0.6324 - val_acc: 0.6185\n",
      "Epoch 42/100\n",
      "2888/2888 [==============================] - 1s 286us/step - loss: 0.6151 - acc: 0.6672 - val_loss: 0.6303 - val_acc: 0.6268\n",
      "Epoch 43/100\n",
      "2888/2888 [==============================] - 1s 288us/step - loss: 0.6177 - acc: 0.6756 - val_loss: 0.6171 - val_acc: 0.6580\n",
      "Epoch 44/100\n",
      "2888/2888 [==============================] - 1s 278us/step - loss: 0.6177 - acc: 0.6721 - val_loss: 0.6098 - val_acc: 0.6757\n",
      "Epoch 45/100\n",
      "2888/2888 [==============================] - 1s 284us/step - loss: 0.6162 - acc: 0.6724 - val_loss: 0.5891 - val_acc: 0.6985\n",
      "Epoch 46/100\n",
      "2888/2888 [==============================] - 1s 281us/step - loss: 0.6144 - acc: 0.6742 - val_loss: 0.6136 - val_acc: 0.6694\n",
      "Epoch 47/100\n",
      "2888/2888 [==============================] - 1s 280us/step - loss: 0.6093 - acc: 0.6790 - val_loss: 0.6139 - val_acc: 0.6528\n",
      "Epoch 48/100\n",
      "2888/2888 [==============================] - 1s 290us/step - loss: 0.6167 - acc: 0.6728 - val_loss: 0.6077 - val_acc: 0.6778\n",
      "Epoch 49/100\n",
      "2888/2888 [==============================] - 1s 280us/step - loss: 0.6151 - acc: 0.6690 - val_loss: 0.6106 - val_acc: 0.6674\n",
      "Epoch 50/100\n",
      "2888/2888 [==============================] - 1s 284us/step - loss: 0.6073 - acc: 0.6807 - val_loss: 0.6377 - val_acc: 0.6154\n",
      "Epoch 51/100\n",
      "2888/2888 [==============================] - 1s 279us/step - loss: 0.6105 - acc: 0.6749 - val_loss: 0.6213 - val_acc: 0.6372\n",
      "Epoch 52/100\n",
      "2888/2888 [==============================] - 1s 284us/step - loss: 0.6143 - acc: 0.6648 - val_loss: 0.5988 - val_acc: 0.7069\n",
      "Epoch 53/100\n",
      "2888/2888 [==============================] - 1s 287us/step - loss: 0.6167 - acc: 0.6693 - val_loss: 0.6210 - val_acc: 0.6362\n",
      "Epoch 54/100\n",
      "2888/2888 [==============================] - 1s 278us/step - loss: 0.6087 - acc: 0.6759 - val_loss: 0.6002 - val_acc: 0.6778\n",
      "Epoch 55/100\n",
      "2888/2888 [==============================] - 1s 277us/step - loss: 0.6086 - acc: 0.6728 - val_loss: 0.6106 - val_acc: 0.6684\n",
      "Epoch 56/100\n",
      "2888/2888 [==============================] - 1s 277us/step - loss: 0.6061 - acc: 0.6814 - val_loss: 0.6084 - val_acc: 0.6663\n",
      "Epoch 57/100\n",
      "2888/2888 [==============================] - 1s 283us/step - loss: 0.6065 - acc: 0.6752 - val_loss: 0.6058 - val_acc: 0.6715\n",
      "Epoch 58/100\n",
      "2888/2888 [==============================] - 1s 277us/step - loss: 0.6110 - acc: 0.6759 - val_loss: 0.5986 - val_acc: 0.6892\n",
      "Epoch 59/100\n",
      "2888/2888 [==============================] - 1s 292us/step - loss: 0.6110 - acc: 0.6783 - val_loss: 0.5984 - val_acc: 0.6965\n",
      "Epoch 60/100\n"
     ]
    },
    {
     "name": "stdout",
     "output_type": "stream",
     "text": [
      "2888/2888 [==============================] - 1s 279us/step - loss: 0.6063 - acc: 0.6731 - val_loss: 0.6092 - val_acc: 0.6684\n",
      "Epoch 61/100\n",
      "2888/2888 [==============================] - 1s 281us/step - loss: 0.6114 - acc: 0.6714 - val_loss: 0.5973 - val_acc: 0.6892\n",
      "Epoch 62/100\n",
      "2888/2888 [==============================] - 1s 306us/step - loss: 0.6041 - acc: 0.6776 - val_loss: 0.6088 - val_acc: 0.6663\n",
      "Epoch 63/100\n",
      "2888/2888 [==============================] - 1s 308us/step - loss: 0.6088 - acc: 0.6804 - val_loss: 0.5949 - val_acc: 0.7006\n",
      "Epoch 64/100\n",
      "2888/2888 [==============================] - 1s 312us/step - loss: 0.6018 - acc: 0.6811 - val_loss: 0.6029 - val_acc: 0.6965\n",
      "Epoch 65/100\n",
      "2888/2888 [==============================] - 1s 281us/step - loss: 0.6044 - acc: 0.6814 - val_loss: 0.6131 - val_acc: 0.6601\n",
      "Epoch 66/100\n",
      "2888/2888 [==============================] - 1s 289us/step - loss: 0.6054 - acc: 0.6794 - val_loss: 0.6055 - val_acc: 0.6705\n",
      "Epoch 67/100\n",
      "2888/2888 [==============================] - 1s 284us/step - loss: 0.6054 - acc: 0.6731 - val_loss: 0.6059 - val_acc: 0.6881\n",
      "Epoch 68/100\n",
      "2888/2888 [==============================] - 1s 305us/step - loss: 0.6033 - acc: 0.6794 - val_loss: 0.5879 - val_acc: 0.7037\n",
      "Epoch 69/100\n",
      "2888/2888 [==============================] - 1s 280us/step - loss: 0.6020 - acc: 0.6766 - val_loss: 0.6045 - val_acc: 0.6746\n",
      "Epoch 70/100\n",
      "2888/2888 [==============================] - 1s 279us/step - loss: 0.6061 - acc: 0.6811 - val_loss: 0.5970 - val_acc: 0.6944\n",
      "Epoch 71/100\n",
      "2888/2888 [==============================] - 1s 278us/step - loss: 0.6043 - acc: 0.6804 - val_loss: 0.5891 - val_acc: 0.6944\n",
      "Epoch 72/100\n",
      "2888/2888 [==============================] - 1s 278us/step - loss: 0.6028 - acc: 0.6877 - val_loss: 0.6072 - val_acc: 0.6715\n",
      "Epoch 73/100\n",
      "2888/2888 [==============================] - 1s 276us/step - loss: 0.6043 - acc: 0.6766 - val_loss: 0.5916 - val_acc: 0.6913\n",
      "Epoch 74/100\n",
      "2888/2888 [==============================] - 1s 266us/step - loss: 0.5977 - acc: 0.6859 - val_loss: 0.5980 - val_acc: 0.6923\n",
      "Epoch 75/100\n",
      "2888/2888 [==============================] - 1s 282us/step - loss: 0.6010 - acc: 0.6901 - val_loss: 0.6017 - val_acc: 0.6788\n",
      "Epoch 76/100\n",
      "2888/2888 [==============================] - 1s 274us/step - loss: 0.6034 - acc: 0.6794 - val_loss: 0.6017 - val_acc: 0.6798\n",
      "Epoch 77/100\n",
      "2888/2888 [==============================] - 1s 275us/step - loss: 0.6060 - acc: 0.6735 - val_loss: 0.5956 - val_acc: 0.6954\n",
      "Epoch 78/100\n",
      "2888/2888 [==============================] - 1s 272us/step - loss: 0.5986 - acc: 0.6884 - val_loss: 0.5931 - val_acc: 0.6944\n",
      "Epoch 79/100\n",
      "2888/2888 [==============================] - 1s 288us/step - loss: 0.5948 - acc: 0.6852 - val_loss: 0.5849 - val_acc: 0.7183\n",
      "Epoch 80/100\n",
      "2888/2888 [==============================] - 1s 293us/step - loss: 0.5884 - acc: 0.6873 - val_loss: 0.5912 - val_acc: 0.6902\n",
      "Epoch 81/100\n",
      "2888/2888 [==============================] - 1s 302us/step - loss: 0.5981 - acc: 0.6863 - val_loss: 0.5933 - val_acc: 0.6913\n",
      "Epoch 82/100\n",
      "2888/2888 [==============================] - 1s 277us/step - loss: 0.6027 - acc: 0.6814 - val_loss: 0.5878 - val_acc: 0.7173\n",
      "Epoch 83/100\n",
      "2888/2888 [==============================] - 1s 266us/step - loss: 0.5928 - acc: 0.6846 - val_loss: 0.5729 - val_acc: 0.7214\n",
      "Epoch 84/100\n",
      "2888/2888 [==============================] - 1s 284us/step - loss: 0.6030 - acc: 0.6842 - val_loss: 0.5903 - val_acc: 0.7048\n",
      "Epoch 85/100\n",
      "2888/2888 [==============================] - 1s 288us/step - loss: 0.5920 - acc: 0.6911 - val_loss: 0.6032 - val_acc: 0.6819\n",
      "Epoch 86/100\n",
      "2888/2888 [==============================] - 1s 264us/step - loss: 0.5970 - acc: 0.6880 - val_loss: 0.5841 - val_acc: 0.7121\n",
      "Epoch 87/100\n",
      "2888/2888 [==============================] - 1s 281us/step - loss: 0.5988 - acc: 0.6891 - val_loss: 0.5890 - val_acc: 0.7058\n",
      "Epoch 88/100\n",
      "2888/2888 [==============================] - 1s 282us/step - loss: 0.5982 - acc: 0.6825 - val_loss: 0.5910 - val_acc: 0.7058\n",
      "Epoch 89/100\n",
      "2888/2888 [==============================] - 1s 277us/step - loss: 0.6049 - acc: 0.6790 - val_loss: 0.5883 - val_acc: 0.7141\n",
      "Epoch 90/100\n",
      "2888/2888 [==============================] - 1s 270us/step - loss: 0.6044 - acc: 0.6759 - val_loss: 0.5827 - val_acc: 0.7183\n",
      "Epoch 91/100\n",
      "2888/2888 [==============================] - 1s 284us/step - loss: 0.6032 - acc: 0.6752 - val_loss: 0.5898 - val_acc: 0.7058\n",
      "Epoch 92/100\n",
      "2888/2888 [==============================] - 1s 289us/step - loss: 0.5909 - acc: 0.6839 - val_loss: 0.5881 - val_acc: 0.6985\n",
      "Epoch 93/100\n",
      "2888/2888 [==============================] - 1s 272us/step - loss: 0.5941 - acc: 0.6849 - val_loss: 0.5903 - val_acc: 0.7173\n",
      "Epoch 94/100\n",
      "2888/2888 [==============================] - 1s 284us/step - loss: 0.5962 - acc: 0.6936 - val_loss: 0.6003 - val_acc: 0.6757\n",
      "Epoch 95/100\n",
      "2888/2888 [==============================] - 1s 286us/step - loss: 0.6009 - acc: 0.6766 - val_loss: 0.5961 - val_acc: 0.6757\n",
      "Epoch 96/100\n",
      "2888/2888 [==============================] - 1s 272us/step - loss: 0.5972 - acc: 0.6856 - val_loss: 0.5877 - val_acc: 0.7297\n",
      "Epoch 97/100\n",
      "2888/2888 [==============================] - 1s 277us/step - loss: 0.5997 - acc: 0.6787 - val_loss: 0.5894 - val_acc: 0.7069\n",
      "Epoch 98/100\n",
      "2888/2888 [==============================] - 1s 284us/step - loss: 0.5920 - acc: 0.6963 - val_loss: 0.5880 - val_acc: 0.7162\n",
      "Epoch 99/100\n",
      "2888/2888 [==============================] - 1s 284us/step - loss: 0.5904 - acc: 0.6870 - val_loss: 0.5888 - val_acc: 0.7048\n",
      "Epoch 100/100\n",
      "2888/2888 [==============================] - 1s 287us/step - loss: 0.5955 - acc: 0.6908 - val_loss: 0.5969 - val_acc: 0.6944\n"
     ]
    }
   ],
   "source": [
    "history = model.fit(mod_x_train, y_train,batch_size=16, validation_data=(mod_x_val, y_val), epochs=100)"
   ]
  },
  {
   "cell_type": "code",
   "execution_count": 189,
   "metadata": {},
   "outputs": [
    {
     "data": {
      "image/png": "[encoded data removed]",
      "text/plain": [
       "<Figure size 432x288 with 1 Axes>"
      ]
     },
     "metadata": {},
     "output_type": "display_data"
    }
   ],
   "source": [
    "pd.DataFrame(history.history).plot()\n",
    "plt.show()"
   ]
  },
  {
   "cell_type": "markdown",
   "metadata": {},
   "source": [
    "## Recurrent Neural Net"
   ]
  },
  {
   "cell_type": "code",
   "execution_count": 146,
   "metadata": {},
   "outputs": [],
   "source": [
    "from keras.layers import GRU"
   ]
  },
  {
   "cell_type": "code",
   "execution_count": 154,
   "metadata": {},
   "outputs": [],
   "source": [
    "model = Sequential()\n",
    "model.add(GRU(64, input_shape=(80,1)))\n",
    "model.add(Dense(1, activation='sigmoid'))\n",
    "model.compile(optimizer='rmsprop',\n",
    "              loss='binary_crossentropy',\n",
    "              metrics=['accuracy'])"
   ]
  },
  {
   "cell_type": "code",
   "execution_count": 155,
   "metadata": {},
   "outputs": [
    {
     "name": "stdout",
     "output_type": "stream",
     "text": [
      "_________________________________________________________________\n",
      "Layer (type)                 Output Shape              Param #   \n",
      "=================================================================\n",
      "gru_3 (GRU)                  (None, 64)                12672     \n",
      "_________________________________________________________________\n",
      "dense_36 (Dense)             (None, 1)                 65        \n",
      "=================================================================\n",
      "Total params: 12,737\n",
      "Trainable params: 12,737\n",
      "Non-trainable params: 0\n",
      "_________________________________________________________________\n"
     ]
    }
   ],
   "source": [
    "model.summary()"
   ]
  },
  {
   "cell_type": "code",
   "execution_count": 156,
   "metadata": {
    "scrolled": true
   },
   "outputs": [
    {
     "name": "stdout",
     "output_type": "stream",
     "text": [
      "Train on 2888 samples, validate on 962 samples\n",
      "Epoch 1/50\n",
      "2888/2888 [==============================] - 5s 2ms/step - loss: 0.6878 - acc: 0.5665 - val_loss: 0.6712 - val_acc: 0.5988\n",
      "Epoch 2/50\n",
      "2888/2888 [==============================] - 4s 1ms/step - loss: 0.6729 - acc: 0.5935 - val_loss: 0.6684 - val_acc: 0.5915\n",
      "Epoch 3/50\n",
      "2888/2888 [==============================] - 4s 1ms/step - loss: 0.6648 - acc: 0.6080 - val_loss: 0.6581 - val_acc: 0.6029\n",
      "Epoch 4/50\n",
      "2888/2888 [==============================] - 4s 1ms/step - loss: 0.6542 - acc: 0.6278 - val_loss: 0.6291 - val_acc: 0.6559\n",
      "Epoch 5/50\n",
      "2888/2888 [==============================] - 4s 1ms/step - loss: 0.6452 - acc: 0.6461 - val_loss: 0.6420 - val_acc: 0.6486\n",
      "Epoch 6/50\n",
      "2888/2888 [==============================] - 4s 1ms/step - loss: 0.6495 - acc: 0.6340 - val_loss: 0.6310 - val_acc: 0.6570\n",
      "Epoch 7/50\n",
      "2888/2888 [==============================] - 4s 1ms/step - loss: 0.6441 - acc: 0.6375 - val_loss: 0.6315 - val_acc: 0.6590\n",
      "Epoch 8/50\n",
      "2888/2888 [==============================] - 4s 1ms/step - loss: 0.6460 - acc: 0.6472 - val_loss: 0.6483 - val_acc: 0.6299\n",
      "Epoch 9/50\n",
      "2888/2888 [==============================] - 4s 1ms/step - loss: 0.6543 - acc: 0.6274 - val_loss: 0.6327 - val_acc: 0.6445\n",
      "Epoch 10/50\n",
      "2888/2888 [==============================] - 4s 1ms/step - loss: 0.6445 - acc: 0.6326 - val_loss: 0.6295 - val_acc: 0.6580\n",
      "Epoch 11/50\n",
      "2888/2888 [==============================] - 4s 1ms/step - loss: 0.6389 - acc: 0.6437 - val_loss: 0.6654 - val_acc: 0.5988\n",
      "Epoch 12/50\n",
      "2888/2888 [==============================] - 4s 1ms/step - loss: 0.6392 - acc: 0.6530 - val_loss: 0.6274 - val_acc: 0.6726\n",
      "Epoch 13/50\n",
      "2888/2888 [==============================] - 4s 1ms/step - loss: 0.6382 - acc: 0.6485 - val_loss: 0.6321 - val_acc: 0.6570\n",
      "Epoch 14/50\n",
      "2888/2888 [==============================] - 4s 1ms/step - loss: 0.6370 - acc: 0.6485 - val_loss: 0.6212 - val_acc: 0.6528\n",
      "Epoch 15/50\n",
      "2888/2888 [==============================] - 4s 1ms/step - loss: 0.6238 - acc: 0.6572 - val_loss: 0.6503 - val_acc: 0.6653\n",
      "Epoch 16/50\n",
      "2888/2888 [==============================] - 4s 1ms/step - loss: 0.6134 - acc: 0.6728 - val_loss: 0.5866 - val_acc: 0.6923\n",
      "Epoch 17/50\n",
      "2888/2888 [==============================] - 4s 1ms/step - loss: 0.5938 - acc: 0.6762 - val_loss: 0.5480 - val_acc: 0.6933\n",
      "Epoch 18/50\n",
      "2888/2888 [==============================] - 4s 1ms/step - loss: 0.5670 - acc: 0.7008 - val_loss: 0.6311 - val_acc: 0.6102\n",
      "Epoch 19/50\n",
      "2888/2888 [==============================] - 4s 1ms/step - loss: 0.5625 - acc: 0.7098 - val_loss: 0.6937 - val_acc: 0.6632\n",
      "Epoch 20/50\n",
      "2888/2888 [==============================] - 4s 1ms/step - loss: 0.5691 - acc: 0.7067 - val_loss: 0.9727 - val_acc: 0.5000\n",
      "Epoch 21/50\n",
      "2888/2888 [==============================] - 4s 1ms/step - loss: 0.6168 - acc: 0.6704 - val_loss: 0.4987 - val_acc: 0.7609\n",
      "Epoch 22/50\n",
      "2888/2888 [==============================] - 4s 1ms/step - loss: 0.5407 - acc: 0.7199 - val_loss: 0.5735 - val_acc: 0.7256\n",
      "Epoch 23/50\n",
      "2888/2888 [==============================] - 4s 1ms/step - loss: 0.5303 - acc: 0.7323 - val_loss: 0.5247 - val_acc: 0.7256\n",
      "Epoch 24/50\n",
      "2888/2888 [==============================] - 4s 1ms/step - loss: 0.5110 - acc: 0.7479 - val_loss: 0.4752 - val_acc: 0.7890\n",
      "Epoch 25/50\n",
      "2888/2888 [==============================] - 4s 1ms/step - loss: 0.5024 - acc: 0.7573 - val_loss: 0.4937 - val_acc: 0.7744\n",
      "Epoch 26/50\n",
      "2888/2888 [==============================] - 4s 1ms/step - loss: 0.4950 - acc: 0.7656 - val_loss: 0.4536 - val_acc: 0.7796\n",
      "Epoch 27/50\n",
      "2888/2888 [==============================] - 4s 1ms/step - loss: 0.4743 - acc: 0.7801 - val_loss: 0.5083 - val_acc: 0.7661\n",
      "Epoch 28/50\n",
      "2888/2888 [==============================] - 4s 2ms/step - loss: 0.4730 - acc: 0.7791 - val_loss: 0.4688 - val_acc: 0.7931\n",
      "Epoch 29/50\n",
      "2888/2888 [==============================] - 4s 1ms/step - loss: 0.4556 - acc: 0.7898 - val_loss: 0.4861 - val_acc: 0.7484\n",
      "Epoch 30/50\n",
      "2888/2888 [==============================] - 4s 1ms/step - loss: 0.4601 - acc: 0.7857 - val_loss: 0.4371 - val_acc: 0.8067\n",
      "Epoch 31/50\n",
      "2888/2888 [==============================] - 4s 1ms/step - loss: 0.4594 - acc: 0.7919 - val_loss: 0.4202 - val_acc: 0.8077\n",
      "Epoch 32/50\n",
      "2888/2888 [==============================] - 4s 1ms/step - loss: 0.4407 - acc: 0.8071 - val_loss: 0.4342 - val_acc: 0.7983\n",
      "Epoch 33/50\n",
      "2888/2888 [==============================] - 4s 1ms/step - loss: 0.4343 - acc: 0.8019 - val_loss: 0.4285 - val_acc: 0.7963\n",
      "Epoch 34/50\n",
      "2888/2888 [==============================] - 4s 1ms/step - loss: 0.4480 - acc: 0.7916 - val_loss: 0.4285 - val_acc: 0.7983\n",
      "Epoch 35/50\n",
      "2888/2888 [==============================] - 4s 1ms/step - loss: 0.4279 - acc: 0.8082 - val_loss: 0.4176 - val_acc: 0.8108\n",
      "Epoch 36/50\n",
      "2888/2888 [==============================] - 4s 1ms/step - loss: 0.4296 - acc: 0.7995 - val_loss: 0.3985 - val_acc: 0.8119\n",
      "Epoch 37/50\n",
      "2888/2888 [==============================] - 4s 1ms/step - loss: 0.4233 - acc: 0.8102 - val_loss: 0.4010 - val_acc: 0.8087\n",
      "Epoch 38/50\n",
      "2888/2888 [==============================] - 4s 1ms/step - loss: 0.4166 - acc: 0.8016 - val_loss: 0.4804 - val_acc: 0.7765\n",
      "Epoch 39/50\n",
      "2888/2888 [==============================] - 4s 1ms/step - loss: 0.4150 - acc: 0.8137 - val_loss: 0.6483 - val_acc: 0.6154\n",
      "Epoch 40/50\n",
      "2888/2888 [==============================] - 4s 1ms/step - loss: 0.4075 - acc: 0.8109 - val_loss: 0.3929 - val_acc: 0.7963\n",
      "Epoch 41/50\n",
      "2888/2888 [==============================] - 4s 1ms/step - loss: 0.4102 - acc: 0.8148 - val_loss: 0.6399 - val_acc: 0.7620\n",
      "Epoch 42/50\n",
      "2888/2888 [==============================] - 4s 1ms/step - loss: 0.4138 - acc: 0.8078 - val_loss: 0.4547 - val_acc: 0.7879\n",
      "Epoch 43/50\n",
      "2888/2888 [==============================] - 4s 1ms/step - loss: 0.4051 - acc: 0.8189 - val_loss: 0.3449 - val_acc: 0.8503\n",
      "Epoch 44/50\n",
      "2888/2888 [==============================] - 4s 1ms/step - loss: 0.3958 - acc: 0.8182 - val_loss: 0.4149 - val_acc: 0.8576\n",
      "Epoch 45/50\n",
      "2888/2888 [==============================] - 4s 1ms/step - loss: 0.4003 - acc: 0.8154 - val_loss: 0.3867 - val_acc: 0.8378\n",
      "Epoch 46/50\n",
      "2888/2888 [==============================] - 4s 1ms/step - loss: 0.3932 - acc: 0.8262 - val_loss: 0.4784 - val_acc: 0.7921\n",
      "Epoch 47/50\n",
      "2888/2888 [==============================] - 4s 1ms/step - loss: 0.3945 - acc: 0.8279 - val_loss: 0.4631 - val_acc: 0.7827\n",
      "Epoch 48/50\n",
      "2888/2888 [==============================] - 4s 1ms/step - loss: 0.3914 - acc: 0.8224 - val_loss: 0.5024 - val_acc: 0.8067\n",
      "Epoch 49/50\n",
      "2888/2888 [==============================] - 4s 1ms/step - loss: 0.3750 - acc: 0.8324 - val_loss: 0.3764 - val_acc: 0.8264\n",
      "Epoch 50/50\n",
      "2888/2888 [==============================] - 4s 1ms/step - loss: 0.3886 - acc: 0.8279 - val_loss: 0.4450 - val_acc: 0.7963\n"
     ]
    }
   ],
   "source": [
    "history = model.fit(mod_x_train, y_train,batch_size=16, validation_data=(mod_x_val, y_val), epochs=50)"
   ]
  },
  {
   "cell_type": "code",
   "execution_count": 157,
   "metadata": {},
   "outputs": [
    {
     "data": {
      "image/png": "[encoded data removed]",
      "text/plain": [
       "<Figure size 432x288 with 1 Axes>"
      ]
     },
     "metadata": {},
     "output_type": "display_data"
    }
   ],
   "source": [
    "pd.DataFrame(history.history).plot()\n",
    "plt.show()"
   ]
  },
  {
   "cell_type": "code",
   "execution_count": 158,
   "metadata": {},
   "outputs": [],
   "source": [
    "# stacking GRU\n",
    "model = Sequential()\n",
    "model.add(GRU(64, return_sequences=True, input_shape=(80,1)))\n",
    "model.add(GRU(128, activation='relu'))\n",
    "model.add(Dense(1, activation='sigmoid'))\n",
    "model.compile(optimizer='rmsprop',\n",
    "              loss='binary_crossentropy',\n",
    "              metrics=['accuracy'])"
   ]
  },
  {
   "cell_type": "code",
   "execution_count": 159,
   "metadata": {},
   "outputs": [
    {
     "name": "stdout",
     "output_type": "stream",
     "text": [
      "_________________________________________________________________\n",
      "Layer (type)                 Output Shape              Param #   \n",
      "=================================================================\n",
      "gru_4 (GRU)                  (None, 80, 64)            12672     \n",
      "_________________________________________________________________\n",
      "gru_5 (GRU)                  (None, 128)               74112     \n",
      "_________________________________________________________________\n",
      "dense_37 (Dense)             (None, 1)                 129       \n",
      "=================================================================\n",
      "Total params: 86,913\n",
      "Trainable params: 86,913\n",
      "Non-trainable params: 0\n",
      "_________________________________________________________________\n"
     ]
    }
   ],
   "source": [
    "model.summary()"
   ]
  },
  {
   "cell_type": "code",
   "execution_count": 160,
   "metadata": {
    "scrolled": true
   },
   "outputs": [
    {
     "name": "stdout",
     "output_type": "stream",
     "text": [
      "Train on 2888 samples, validate on 962 samples\n",
      "Epoch 1/50\n",
      "2888/2888 [==============================] - 10s 3ms/step - loss: 0.6771 - acc: 0.5807 - val_loss: 0.7029 - val_acc: 0.5644\n",
      "Epoch 2/50\n",
      "2888/2888 [==============================] - 8s 3ms/step - loss: 0.6693 - acc: 0.6018 - val_loss: 0.6792 - val_acc: 0.5800\n",
      "Epoch 3/50\n",
      "2888/2888 [==============================] - 8s 3ms/step - loss: 0.6714 - acc: 0.5883 - val_loss: 0.6645 - val_acc: 0.5842\n",
      "Epoch 4/50\n",
      "2888/2888 [==============================] - 8s 3ms/step - loss: 0.6645 - acc: 0.6250 - val_loss: 0.6525 - val_acc: 0.6466\n",
      "Epoch 5/50\n",
      "2888/2888 [==============================] - 9s 3ms/step - loss: 0.6647 - acc: 0.5918 - val_loss: 0.6463 - val_acc: 0.6559\n",
      "Epoch 6/50\n",
      "2888/2888 [==============================] - 8s 3ms/step - loss: 0.6498 - acc: 0.6350 - val_loss: 0.6560 - val_acc: 0.6383\n",
      "Epoch 7/50\n",
      "2888/2888 [==============================] - 8s 3ms/step - loss: 0.6433 - acc: 0.6420 - val_loss: 0.6283 - val_acc: 0.6549\n",
      "Epoch 8/50\n",
      "2888/2888 [==============================] - 9s 3ms/step - loss: 0.6661 - acc: 0.5997 - val_loss: 0.6742 - val_acc: 0.6019\n",
      "Epoch 9/50\n",
      "2888/2888 [==============================] - 8s 3ms/step - loss: 0.6188 - acc: 0.6641 - val_loss: 0.6120 - val_acc: 0.6538\n",
      "Epoch 10/50\n",
      "2888/2888 [==============================] - 8s 3ms/step - loss: 0.5978 - acc: 0.6953 - val_loss: 0.5904 - val_acc: 0.6715\n",
      "Epoch 11/50\n",
      "2888/2888 [==============================] - 8s 3ms/step - loss: 0.5939 - acc: 0.6880 - val_loss: 0.5770 - val_acc: 0.6611\n",
      "Epoch 12/50\n",
      "2888/2888 [==============================] - 8s 3ms/step - loss: 0.5820 - acc: 0.6939 - val_loss: 0.5100 - val_acc: 0.7526\n",
      "Epoch 13/50\n",
      "2888/2888 [==============================] - 8s 3ms/step - loss: 0.5697 - acc: 0.7143 - val_loss: 0.5267 - val_acc: 0.7370\n",
      "Epoch 14/50\n",
      "2888/2888 [==============================] - 9s 3ms/step - loss: 0.5513 - acc: 0.7261 - val_loss: 0.5454 - val_acc: 0.7152\n",
      "Epoch 15/50\n",
      "2888/2888 [==============================] - 8s 3ms/step - loss: 0.5313 - acc: 0.7323 - val_loss: 0.4807 - val_acc: 0.7661\n",
      "Epoch 16/50\n",
      "2888/2888 [==============================] - 9s 3ms/step - loss: 0.5203 - acc: 0.7458 - val_loss: 0.8175 - val_acc: 0.5322\n",
      "Epoch 17/50\n",
      "2888/2888 [==============================] - 9s 3ms/step - loss: 0.5056 - acc: 0.7656 - val_loss: 0.4305 - val_acc: 0.8077\n",
      "Epoch 18/50\n",
      "2888/2888 [==============================] - 8s 3ms/step - loss: 0.4777 - acc: 0.7832 - val_loss: 0.4057 - val_acc: 0.8243\n",
      "Epoch 19/50\n",
      "2888/2888 [==============================] - 9s 3ms/step - loss: 0.4650 - acc: 0.7839 - val_loss: 0.4823 - val_acc: 0.7817\n",
      "Epoch 20/50\n",
      "2888/2888 [==============================] - 9s 3ms/step - loss: 0.4537 - acc: 0.8030 - val_loss: 0.5077 - val_acc: 0.7578\n",
      "Epoch 21/50\n",
      "2888/2888 [==============================] - 9s 3ms/step - loss: 0.4217 - acc: 0.8057 - val_loss: 0.3965 - val_acc: 0.8077\n",
      "Epoch 22/50\n",
      "2888/2888 [==============================] - 9s 3ms/step - loss: 0.3888 - acc: 0.8210 - val_loss: 0.4438 - val_acc: 0.7869\n",
      "Epoch 23/50\n",
      "2888/2888 [==============================] - 9s 3ms/step - loss: 0.3837 - acc: 0.8289 - val_loss: 0.4296 - val_acc: 0.8119\n",
      "Epoch 24/50\n",
      "2888/2888 [==============================] - 9s 3ms/step - loss: 0.3803 - acc: 0.8324 - val_loss: 0.4730 - val_acc: 0.7838\n",
      "Epoch 25/50\n",
      "2888/2888 [==============================] - 9s 3ms/step - loss: 0.3479 - acc: 0.8449 - val_loss: 0.3460 - val_acc: 0.8534\n",
      "Epoch 26/50\n",
      "2888/2888 [==============================] - 9s 3ms/step - loss: 0.3485 - acc: 0.8504 - val_loss: 0.4884 - val_acc: 0.7900\n",
      "Epoch 27/50\n",
      "2888/2888 [==============================] - 9s 3ms/step - loss: 0.3289 - acc: 0.8508 - val_loss: 0.2977 - val_acc: 0.8680\n",
      "Epoch 28/50\n",
      "2888/2888 [==============================] - 9s 3ms/step - loss: 0.3216 - acc: 0.8611 - val_loss: 0.3537 - val_acc: 0.8534\n",
      "Epoch 29/50\n",
      "2888/2888 [==============================] - 9s 3ms/step - loss: 0.3514 - acc: 0.8508 - val_loss: 0.3254 - val_acc: 0.8514\n",
      "Epoch 30/50\n",
      "2888/2888 [==============================] - 9s 3ms/step - loss: 0.3070 - acc: 0.8674 - val_loss: 0.3090 - val_acc: 0.8701\n",
      "Epoch 31/50\n",
      "2888/2888 [==============================] - 9s 3ms/step - loss: 0.3256 - acc: 0.8646 - val_loss: 0.3193 - val_acc: 0.8680\n",
      "Epoch 32/50\n",
      "2888/2888 [==============================] - 9s 3ms/step - loss: 0.2895 - acc: 0.8802 - val_loss: 0.3830 - val_acc: 0.8139\n",
      "Epoch 33/50\n",
      "2888/2888 [==============================] - 9s 3ms/step - loss: 0.3007 - acc: 0.8722 - val_loss: 0.2925 - val_acc: 0.8597\n",
      "Epoch 34/50\n",
      "2888/2888 [==============================] - 9s 3ms/step - loss: 0.3170 - acc: 0.8663 - val_loss: 0.2826 - val_acc: 0.8721\n",
      "Epoch 35/50\n",
      "2888/2888 [==============================] - 9s 3ms/step - loss: 0.2860 - acc: 0.8785 - val_loss: 0.3221 - val_acc: 0.8420\n",
      "Epoch 36/50\n",
      "2888/2888 [==============================] - 9s 3ms/step - loss: 0.2810 - acc: 0.8840 - val_loss: 0.2888 - val_acc: 0.8857\n",
      "Epoch 37/50\n",
      "2888/2888 [==============================] - 9s 3ms/step - loss: 0.2867 - acc: 0.8792 - val_loss: 0.2877 - val_acc: 0.8784\n",
      "Epoch 38/50\n",
      "2888/2888 [==============================] - 9s 3ms/step - loss: 0.2894 - acc: 0.8802 - val_loss: 0.3161 - val_acc: 0.8659\n",
      "Epoch 39/50\n",
      "2888/2888 [==============================] - 9s 3ms/step - loss: 0.2645 - acc: 0.8823 - val_loss: 0.2656 - val_acc: 0.8846\n",
      "Epoch 40/50\n",
      "2888/2888 [==============================] - 9s 3ms/step - loss: 0.2651 - acc: 0.8954 - val_loss: 0.2929 - val_acc: 0.8784\n",
      "Epoch 41/50\n",
      "2888/2888 [==============================] - 10s 3ms/step - loss: 0.2525 - acc: 0.8992 - val_loss: 0.3562 - val_acc: 0.8430\n",
      "Epoch 42/50\n",
      "2888/2888 [==============================] - 10s 3ms/step - loss: 0.2494 - acc: 0.8992 - val_loss: 0.3537 - val_acc: 0.8784\n",
      "Epoch 43/50\n",
      "2888/2888 [==============================] - 9s 3ms/step - loss: 0.2519 - acc: 0.8972 - val_loss: 0.2560 - val_acc: 0.8971\n",
      "Epoch 44/50\n",
      "2888/2888 [==============================] - 9s 3ms/step - loss: 0.2455 - acc: 0.8985 - val_loss: 0.3523 - val_acc: 0.8586\n",
      "Epoch 45/50\n",
      "2888/2888 [==============================] - 10s 3ms/step - loss: 0.2559 - acc: 0.8968 - val_loss: 0.3535 - val_acc: 0.8534\n",
      "Epoch 46/50\n",
      "2888/2888 [==============================] - 9s 3ms/step - loss: 0.2481 - acc: 0.8965 - val_loss: 0.2688 - val_acc: 0.8877\n",
      "Epoch 47/50\n",
      "2888/2888 [==============================] - 10s 3ms/step - loss: 0.2374 - acc: 0.9030 - val_loss: 0.2853 - val_acc: 0.8836\n",
      "Epoch 48/50\n",
      "2888/2888 [==============================] - 10s 3ms/step - loss: 0.2457 - acc: 0.9082 - val_loss: 0.2593 - val_acc: 0.8971\n",
      "Epoch 49/50\n",
      "2888/2888 [==============================] - 10s 3ms/step - loss: 0.2347 - acc: 0.9048 - val_loss: 0.2588 - val_acc: 0.8919\n",
      "Epoch 50/50\n",
      "2888/2888 [==============================] - 10s 3ms/step - loss: 0.2203 - acc: 0.9134 - val_loss: 0.3566 - val_acc: 0.8628\n"
     ]
    }
   ],
   "source": [
    "history = model.fit(mod_x_train, y_train,batch_size=16, validation_data=(mod_x_val, y_val), epochs=50)"
   ]
  },
  {
   "cell_type": "code",
   "execution_count": 161,
   "metadata": {},
   "outputs": [
    {
     "data": {
      "image/png": "[encoded data removed]",
      "text/plain": [
       "<Figure size 432x288 with 1 Axes>"
      ]
     },
     "metadata": {},
     "output_type": "display_data"
    }
   ],
   "source": [
    "pd.DataFrame(history.history).plot()\n",
    "plt.show()"
   ]
  },
  {
   "cell_type": "code",
   "execution_count": 162,
   "metadata": {},
   "outputs": [
    {
     "name": "stdout",
     "output_type": "stream",
     "text": [
      "962/962 [==============================] - 1s 722us/step\n"
     ]
    },
    {
     "data": {
      "text/plain": [
       "[0.32133599186389711, 0.87733887733887739]"
      ]
     },
     "execution_count": 162,
     "metadata": {},
     "output_type": "execute_result"
    }
   ],
   "source": [
    "# test set\n",
    "score = model.evaluate(mod_x_test, y_test, batch_size=16)\n",
    "score"
   ]
  },
  {
   "cell_type": "markdown",
   "metadata": {},
   "source": [
    "87% accuracy for the RNN model with a limited number of training steps."
   ]
  },
  {
   "cell_type": "markdown",
   "metadata": {},
   "source": [
    "## Bidirectional RNN"
   ]
  },
  {
   "cell_type": "code",
   "execution_count": 163,
   "metadata": {},
   "outputs": [],
   "source": [
    "from keras.layers import Bidirectional"
   ]
  },
  {
   "cell_type": "code",
   "execution_count": 165,
   "metadata": {},
   "outputs": [],
   "source": [
    "model = Sequential()\n",
    "model.add(Bidirectional(GRU(64), input_shape=(80,1)))\n",
    "model.add(Dense(1, activation='sigmoid'))\n",
    "model.compile(optimizer='rmsprop',\n",
    "              loss='binary_crossentropy',\n",
    "              metrics=['accuracy'])"
   ]
  },
  {
   "cell_type": "code",
   "execution_count": 166,
   "metadata": {},
   "outputs": [
    {
     "name": "stdout",
     "output_type": "stream",
     "text": [
      "_________________________________________________________________\n",
      "Layer (type)                 Output Shape              Param #   \n",
      "=================================================================\n",
      "bidirectional_2 (Bidirection (None, 128)               25344     \n",
      "_________________________________________________________________\n",
      "dense_38 (Dense)             (None, 1)                 129       \n",
      "=================================================================\n",
      "Total params: 25,473\n",
      "Trainable params: 25,473\n",
      "Non-trainable params: 0\n",
      "_________________________________________________________________\n"
     ]
    }
   ],
   "source": [
    "model.summary()"
   ]
  },
  {
   "cell_type": "code",
   "execution_count": 167,
   "metadata": {
    "scrolled": true
   },
   "outputs": [
    {
     "name": "stdout",
     "output_type": "stream",
     "text": [
      "Train on 2888 samples, validate on 962 samples\n",
      "Epoch 1/50\n",
      "2888/2888 [==============================] - 6s 2ms/step - loss: 0.6863 - acc: 0.5831 - val_loss: 0.6747 - val_acc: 0.6143\n",
      "Epoch 2/50\n",
      "2888/2888 [==============================] - 5s 2ms/step - loss: 0.6712 - acc: 0.6046 - val_loss: 0.6792 - val_acc: 0.5447\n",
      "Epoch 3/50\n",
      "2888/2888 [==============================] - 5s 2ms/step - loss: 0.6587 - acc: 0.6198 - val_loss: 0.6613 - val_acc: 0.6227\n",
      "Epoch 4/50\n",
      "2888/2888 [==============================] - 5s 2ms/step - loss: 0.6577 - acc: 0.6160 - val_loss: 0.6577 - val_acc: 0.6195\n",
      "Epoch 5/50\n",
      "2888/2888 [==============================] - 5s 2ms/step - loss: 0.6530 - acc: 0.6191 - val_loss: 0.6371 - val_acc: 0.6570\n",
      "Epoch 6/50\n",
      "2888/2888 [==============================] - 5s 2ms/step - loss: 0.6423 - acc: 0.6399 - val_loss: 0.6500 - val_acc: 0.5956\n",
      "Epoch 7/50\n",
      "2888/2888 [==============================] - 5s 2ms/step - loss: 0.6436 - acc: 0.6316 - val_loss: 0.6341 - val_acc: 0.6653\n",
      "Epoch 8/50\n",
      "2888/2888 [==============================] - 5s 2ms/step - loss: 0.6264 - acc: 0.6607 - val_loss: 0.5953 - val_acc: 0.6923\n",
      "Epoch 9/50\n",
      "2888/2888 [==============================] - 5s 2ms/step - loss: 0.6173 - acc: 0.6586 - val_loss: 0.6603 - val_acc: 0.6341\n",
      "Epoch 10/50\n",
      "2888/2888 [==============================] - 5s 2ms/step - loss: 0.6115 - acc: 0.6707 - val_loss: 0.5815 - val_acc: 0.6975\n",
      "Epoch 11/50\n",
      "2888/2888 [==============================] - 5s 2ms/step - loss: 0.6016 - acc: 0.6669 - val_loss: 0.5734 - val_acc: 0.6746\n",
      "Epoch 12/50\n",
      "2888/2888 [==============================] - 5s 2ms/step - loss: 0.6147 - acc: 0.6434 - val_loss: 0.6349 - val_acc: 0.6507\n",
      "Epoch 13/50\n",
      "2888/2888 [==============================] - 5s 2ms/step - loss: 0.6118 - acc: 0.6579 - val_loss: 0.5681 - val_acc: 0.7162\n",
      "Epoch 14/50\n",
      "2888/2888 [==============================] - 5s 2ms/step - loss: 0.5982 - acc: 0.6742 - val_loss: 0.5675 - val_acc: 0.7141\n",
      "Epoch 15/50\n",
      "2888/2888 [==============================] - 5s 2ms/step - loss: 0.5847 - acc: 0.6901 - val_loss: 0.5621 - val_acc: 0.7058\n",
      "Epoch 16/50\n",
      "2888/2888 [==============================] - 5s 2ms/step - loss: 0.5958 - acc: 0.6877 - val_loss: 0.5731 - val_acc: 0.6663\n",
      "Epoch 17/50\n",
      "2888/2888 [==============================] - 5s 2ms/step - loss: 0.5862 - acc: 0.6873 - val_loss: 0.5448 - val_acc: 0.7557\n",
      "Epoch 18/50\n",
      "2888/2888 [==============================] - 5s 2ms/step - loss: 0.5735 - acc: 0.7067 - val_loss: 0.5270 - val_acc: 0.7443\n",
      "Epoch 19/50\n",
      "2888/2888 [==============================] - 5s 2ms/step - loss: 0.5572 - acc: 0.7178 - val_loss: 0.6648 - val_acc: 0.6778\n",
      "Epoch 20/50\n",
      "2888/2888 [==============================] - 5s 2ms/step - loss: 0.5456 - acc: 0.7368 - val_loss: 0.4916 - val_acc: 0.7921\n",
      "Epoch 21/50\n",
      "2888/2888 [==============================] - 5s 2ms/step - loss: 0.5515 - acc: 0.7285 - val_loss: 0.5089 - val_acc: 0.7526\n",
      "Epoch 22/50\n",
      "2888/2888 [==============================] - 5s 2ms/step - loss: 0.5251 - acc: 0.7361 - val_loss: 0.5196 - val_acc: 0.7401\n",
      "Epoch 23/50\n",
      "2888/2888 [==============================] - 5s 2ms/step - loss: 0.5453 - acc: 0.7303 - val_loss: 0.4756 - val_acc: 0.7911\n",
      "Epoch 24/50\n",
      "2888/2888 [==============================] - 5s 2ms/step - loss: 0.5273 - acc: 0.7420 - val_loss: 0.4511 - val_acc: 0.8046\n",
      "Epoch 25/50\n",
      "2888/2888 [==============================] - 5s 2ms/step - loss: 0.5135 - acc: 0.7465 - val_loss: 0.4862 - val_acc: 0.7744\n",
      "Epoch 26/50\n",
      "2888/2888 [==============================] - 5s 2ms/step - loss: 0.5020 - acc: 0.7559 - val_loss: 0.4517 - val_acc: 0.7973\n",
      "Epoch 27/50\n",
      "2888/2888 [==============================] - 5s 2ms/step - loss: 0.4996 - acc: 0.7611 - val_loss: 0.4502 - val_acc: 0.7983\n",
      "Epoch 28/50\n",
      "2888/2888 [==============================] - 5s 2ms/step - loss: 0.4908 - acc: 0.7628 - val_loss: 0.4968 - val_acc: 0.7526\n",
      "Epoch 29/50\n",
      "2888/2888 [==============================] - 5s 2ms/step - loss: 0.4746 - acc: 0.7732 - val_loss: 0.4585 - val_acc: 0.7869\n",
      "Epoch 30/50\n",
      "2888/2888 [==============================] - 5s 2ms/step - loss: 0.4785 - acc: 0.7722 - val_loss: 0.4093 - val_acc: 0.8254\n",
      "Epoch 31/50\n",
      "2888/2888 [==============================] - 5s 2ms/step - loss: 0.4523 - acc: 0.7832 - val_loss: 0.3978 - val_acc: 0.8139\n",
      "Epoch 32/50\n",
      "2888/2888 [==============================] - 5s 2ms/step - loss: 0.4515 - acc: 0.7926 - val_loss: 0.5231 - val_acc: 0.7682\n",
      "Epoch 33/50\n",
      "2888/2888 [==============================] - 5s 2ms/step - loss: 0.4445 - acc: 0.7940 - val_loss: 0.4056 - val_acc: 0.8160\n",
      "Epoch 34/50\n",
      "2888/2888 [==============================] - 5s 2ms/step - loss: 0.4339 - acc: 0.7981 - val_loss: 0.5523 - val_acc: 0.7017\n",
      "Epoch 35/50\n",
      "2888/2888 [==============================] - 5s 2ms/step - loss: 0.4157 - acc: 0.8123 - val_loss: 0.4104 - val_acc: 0.8067\n",
      "Epoch 36/50\n",
      "2888/2888 [==============================] - 5s 2ms/step - loss: 0.4065 - acc: 0.8148 - val_loss: 0.4290 - val_acc: 0.8035\n",
      "Epoch 37/50\n",
      "2888/2888 [==============================] - 5s 2ms/step - loss: 0.4284 - acc: 0.8057 - val_loss: 0.4062 - val_acc: 0.8129\n",
      "Epoch 38/50\n",
      "2888/2888 [==============================] - 5s 2ms/step - loss: 0.4154 - acc: 0.8144 - val_loss: 0.5356 - val_acc: 0.7640\n",
      "Epoch 39/50\n",
      "2888/2888 [==============================] - 5s 2ms/step - loss: 0.4016 - acc: 0.8248 - val_loss: 0.3958 - val_acc: 0.8285\n",
      "Epoch 40/50\n",
      "2888/2888 [==============================] - 5s 2ms/step - loss: 0.3854 - acc: 0.8317 - val_loss: 0.4335 - val_acc: 0.7620\n",
      "Epoch 41/50\n",
      "2888/2888 [==============================] - 5s 2ms/step - loss: 0.3769 - acc: 0.8341 - val_loss: 0.3650 - val_acc: 0.8410\n",
      "Epoch 42/50\n",
      "2888/2888 [==============================] - 5s 2ms/step - loss: 0.3823 - acc: 0.8321 - val_loss: 0.4083 - val_acc: 0.8139\n",
      "Epoch 43/50\n",
      "2888/2888 [==============================] - 5s 2ms/step - loss: 0.3483 - acc: 0.8594 - val_loss: 0.5571 - val_acc: 0.7183\n",
      "Epoch 44/50\n",
      "2888/2888 [==============================] - 5s 2ms/step - loss: 0.3678 - acc: 0.8331 - val_loss: 0.3360 - val_acc: 0.8638\n",
      "Epoch 45/50\n",
      "2888/2888 [==============================] - 5s 2ms/step - loss: 0.3536 - acc: 0.8521 - val_loss: 0.3391 - val_acc: 0.8586\n",
      "Epoch 46/50\n",
      "2888/2888 [==============================] - 5s 2ms/step - loss: 0.3223 - acc: 0.8663 - val_loss: 0.3531 - val_acc: 0.8514\n",
      "Epoch 47/50\n",
      "2888/2888 [==============================] - 5s 2ms/step - loss: 0.3350 - acc: 0.8598 - val_loss: 0.3410 - val_acc: 0.8576\n",
      "Epoch 48/50\n",
      "2888/2888 [==============================] - 5s 2ms/step - loss: 0.3190 - acc: 0.8618 - val_loss: 0.5887 - val_acc: 0.7547\n",
      "Epoch 49/50\n",
      "2888/2888 [==============================] - 5s 2ms/step - loss: 0.3106 - acc: 0.8726 - val_loss: 0.2898 - val_acc: 0.8815\n",
      "Epoch 50/50\n",
      "2888/2888 [==============================] - 5s 2ms/step - loss: 0.2918 - acc: 0.8778 - val_loss: 0.2850 - val_acc: 0.8784\n"
     ]
    }
   ],
   "source": [
    "history = model.fit(mod_x_train, y_train,batch_size=16, validation_data=(mod_x_val, y_val), epochs=50)"
   ]
  },
  {
   "cell_type": "code",
   "execution_count": 168,
   "metadata": {},
   "outputs": [
    {
     "data": {
      "image/png": "[encoded data removed]",
      "text/plain": [
       "<Figure size 432x288 with 1 Axes>"
      ]
     },
     "metadata": {},
     "output_type": "display_data"
    }
   ],
   "source": [
    "pd.DataFrame(history.history).plot()\n",
    "plt.show()"
   ]
  },
  {
   "cell_type": "code",
   "execution_count": 169,
   "metadata": {},
   "outputs": [
    {
     "name": "stdout",
     "output_type": "stream",
     "text": [
      "962/962 [==============================] - 0s 317us/step\n"
     ]
    },
    {
     "data": {
      "text/plain": [
       "[0.27270552528375397, 0.88669438669438672]"
      ]
     },
     "execution_count": 169,
     "metadata": {},
     "output_type": "execute_result"
    }
   ],
   "source": [
    "# test set\n",
    "score = model.evaluate(mod_x_test, y_test, batch_size=16)\n",
    "score"
   ]
  },
  {
   "cell_type": "markdown",
   "metadata": {},
   "source": [
    "88% accuracy for the bidirectional version of the RNN is about the same as the mono directional version. This is still on a limited number of steps."
   ]
  },
  {
   "cell_type": "code",
   "execution_count": null,
   "metadata": {},
   "outputs": [],
   "source": []
  }
 ],
 "metadata": {
  "kernelspec": {
   "display_name": "Python 3",
   "language": "python",
   "name": "python3"
  },
  "language_info": {
   "codemirror_mode": {
    "name": "ipython",
    "version": 3
   },
   "file_extension": ".py",
   "mimetype": "text/x-python",
   "name": "python",
   "nbconvert_exporter": "python",
   "pygments_lexer": "ipython3",
   "version": "3.5.4"
  }
 },
 "nbformat": 4,
 "nbformat_minor": 2
}
