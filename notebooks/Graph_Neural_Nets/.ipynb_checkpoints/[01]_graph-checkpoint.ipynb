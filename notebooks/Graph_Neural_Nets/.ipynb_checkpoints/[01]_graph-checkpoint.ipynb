{
 "cells": [
  {
   "cell_type": "code",
   "execution_count": 1,
   "metadata": {},
   "outputs": [],
   "source": [
    "import networkx as nx\n",
    "import numpy as np\n",
    "import matplotlib.pyplot as plt"
   ]
  },
  {
   "cell_type": "code",
   "execution_count": 2,
   "metadata": {},
   "outputs": [],
   "source": [
    "g = nx.Graph()"
   ]
  },
  {
   "cell_type": "code",
   "execution_count": 3,
   "metadata": {},
   "outputs": [],
   "source": [
    "g.add_nodes_from([\n",
    "    (0, {'name':'bob', 'age':30, 'sexe':'male', 'job':'driver'}),\n",
    "    (1, {'name':'sue', 'age':35, 'sexe':'female', 'job':'maid'}),\n",
    "    (2, {'name':'barbara', 'age':32, 'sexe':'female', 'job':'unemployed'}),\n",
    "    (3, {'name':'john', 'age':45, 'sexe':'male', 'job':'loaner'})\n",
    "])"
   ]
  },
  {
   "cell_type": "code",
   "execution_count": 4,
   "metadata": {},
   "outputs": [],
   "source": [
    "g.add_edges_from([\n",
    "    (0,1),\n",
    "    (1,2),\n",
    "    (3,1)\n",
    "])"
   ]
  },
  {
   "cell_type": "code",
   "execution_count": 5,
   "metadata": {},
   "outputs": [
    {
     "data": {
      "image/png": "[encoded data removed]",
      "text/plain": [
       "<Figure size 432x288 with 1 Axes>"
      ]
     },
     "metadata": {},
     "output_type": "display_data"
    }
   ],
   "source": [
    "nx.draw(g)\n",
    "plt.show()"
   ]
  },
  {
   "cell_type": "code",
   "execution_count": 6,
   "metadata": {},
   "outputs": [
    {
     "data": {
      "text/plain": [
       "matrix([[0, 1, 0, 0],\n",
       "        [1, 0, 1, 1],\n",
       "        [0, 1, 0, 0],\n",
       "        [0, 1, 0, 0]], dtype=int32)"
      ]
     },
     "execution_count": 6,
     "metadata": {},
     "output_type": "execute_result"
    }
   ],
   "source": [
    "A = nx.adj_matrix(g).todense()\n",
    "A"
   ]
  },
  {
   "cell_type": "code",
   "execution_count": 7,
   "metadata": {},
   "outputs": [],
   "source": [
    "nodes_names = nx.get_node_attributes(g,name='sexe')"
   ]
  },
  {
   "cell_type": "code",
   "execution_count": 8,
   "metadata": {},
   "outputs": [
    {
     "data": {
      "text/plain": [
       "4"
      ]
     },
     "execution_count": 8,
     "metadata": {},
     "output_type": "execute_result"
    }
   ],
   "source": [
    "# one hot encoding\n",
    "rows = len(nodes_names)\n",
    "rows"
   ]
  },
  {
   "cell_type": "code",
   "execution_count": 9,
   "metadata": {},
   "outputs": [
    {
     "data": {
      "text/plain": [
       "2"
      ]
     },
     "execution_count": 9,
     "metadata": {},
     "output_type": "execute_result"
    }
   ],
   "source": [
    "cols = list(nodes_names.values())\n",
    "cols = sorted(cols)\n",
    "d = {}\n",
    "i = 0\n",
    "for val in cols:\n",
    "    if val not in d:\n",
    "        d[val] = i\n",
    "        i += 1\n",
    "len(d)"
   ]
  },
  {
   "cell_type": "code",
   "execution_count": 10,
   "metadata": {},
   "outputs": [
    {
     "data": {
      "text/plain": [
       "{'female': 0, 'male': 1}"
      ]
     },
     "execution_count": 10,
     "metadata": {},
     "output_type": "execute_result"
    }
   ],
   "source": [
    "d"
   ]
  },
  {
   "cell_type": "code",
   "execution_count": 11,
   "metadata": {},
   "outputs": [
    {
     "data": {
      "text/plain": [
       "array([[ 0.,  0.],\n",
       "       [ 0.,  0.],\n",
       "       [ 0.,  0.],\n",
       "       [ 0.,  0.]])"
      ]
     },
     "execution_count": 11,
     "metadata": {},
     "output_type": "execute_result"
    }
   ],
   "source": [
    "# matrix\n",
    "a = np.zeros((rows,len(d)))\n",
    "a"
   ]
  },
  {
   "cell_type": "code",
   "execution_count": 12,
   "metadata": {},
   "outputs": [
    {
     "data": {
      "text/plain": [
       "[1, 0, 0, 1]"
      ]
     },
     "execution_count": 12,
     "metadata": {},
     "output_type": "execute_result"
    }
   ],
   "source": [
    "col_idx = [d[n] for n in nodes_names.values()]\n",
    "col_idx"
   ]
  },
  {
   "cell_type": "code",
   "execution_count": 13,
   "metadata": {},
   "outputs": [
    {
     "data": {
      "text/plain": [
       "array([[ 0.,  1.],\n",
       "       [ 1.,  0.],\n",
       "       [ 1.,  0.],\n",
       "       [ 0.,  1.]])"
      ]
     },
     "execution_count": 13,
     "metadata": {},
     "output_type": "execute_result"
    }
   ],
   "source": [
    "a[np.arange(rows), col_idx] = 1\n",
    "a"
   ]
  },
  {
   "cell_type": "code",
   "execution_count": 14,
   "metadata": {},
   "outputs": [],
   "source": [
    "def one_hot_encoding(node_attr):\n",
    "    '''return a feature matrix from nodes attribute dict'''\n",
    "    rows = len(node_attr)\n",
    "    cols = list(node_attr.values())\n",
    "    cols = sorted(cols)\n",
    "    d = {}\n",
    "    i = 0\n",
    "    for val in cols:\n",
    "        if val not in d:\n",
    "            d[val] = i\n",
    "            i += 1\n",
    "    # matrix\n",
    "    a = np.zeros((rows,len(d)))\n",
    "    col_idx = [d[n] for n in node_attr.values()]\n",
    "    a[np.arange(rows), col_idx] = 1\n",
    "    return a"
   ]
  },
  {
   "cell_type": "code",
   "execution_count": 15,
   "metadata": {},
   "outputs": [
    {
     "data": {
      "text/plain": [
       "array([[ 0.,  1.],\n",
       "       [ 1.,  0.],\n",
       "       [ 1.,  0.],\n",
       "       [ 0.,  1.]])"
      ]
     },
     "execution_count": 15,
     "metadata": {},
     "output_type": "execute_result"
    }
   ],
   "source": [
    "one_hot_encoding(nodes_names)"
   ]
  },
  {
   "cell_type": "code",
   "execution_count": 16,
   "metadata": {},
   "outputs": [
    {
     "data": {
      "text/plain": [
       "array([[ 1.,  0.,  0.,  0.],\n",
       "       [ 0.,  0.,  1.,  0.],\n",
       "       [ 0.,  1.,  0.,  0.],\n",
       "       [ 0.,  0.,  0.,  1.]])"
      ]
     },
     "execution_count": 16,
     "metadata": {},
     "output_type": "execute_result"
    }
   ],
   "source": [
    "one_hot_encoding(nx.get_node_attributes(g, name='age'))"
   ]
  },
  {
   "cell_type": "code",
   "execution_count": 17,
   "metadata": {},
   "outputs": [
    {
     "data": {
      "text/plain": [
       "{0: 'male', 1: 'female', 2: 'female', 3: 'male'}"
      ]
     },
     "execution_count": 17,
     "metadata": {},
     "output_type": "execute_result"
    }
   ],
   "source": [
    "nx.get_node_attributes(g, name='sexe')"
   ]
  },
  {
   "cell_type": "code",
   "execution_count": 18,
   "metadata": {},
   "outputs": [
    {
     "data": {
      "text/plain": [
       "array([[ 0.,  1.],\n",
       "       [ 1.,  0.],\n",
       "       [ 1.,  0.],\n",
       "       [ 0.,  1.]])"
      ]
     },
     "execution_count": 18,
     "metadata": {},
     "output_type": "execute_result"
    }
   ],
   "source": [
    "one_hot_encoding(nx.get_node_attributes(g, name='sexe'))"
   ]
  },
  {
   "cell_type": "markdown",
   "metadata": {},
   "source": [
    "# Graph Convolution Layer"
   ]
  },
  {
   "cell_type": "markdown",
   "metadata": {},
   "source": [
    "$ Z = f(\\tilde D^{-1}\\tilde AXW)$\n",
    "\n",
    "$f()$ is the activation function.   \n",
    "$\\tilde A$ is the adjacency matrix plus the identity matrix ($A+I$).  \n",
    "$\\tilde D$ is the diagonal degree matrix with $\\tilde D_{ii} = \\sum_j{\\tilde A_{ij}}$  \n",
    "$X$ is the nodes' features matrix as one_hot_encoded labels\n",
    "$W$ is the weight matrix such as $W \\in \\Bbb R^{c\\times c'}$"
   ]
  },
  {
   "cell_type": "markdown",
   "metadata": {},
   "source": [
    "## Step 1: linear transformation $XW$\n",
    "\n",
    "$X \\in \\Bbb R^{n \\times c}$ matrix with $n$ the number of nodes and $c$ the length of the encoded features."
   ]
  },
  {
   "cell_type": "code",
   "execution_count": 19,
   "metadata": {},
   "outputs": [],
   "source": [
    "X = one_hot_encoding(nx.get_node_attributes(g, name='sexe'))"
   ]
  },
  {
   "cell_type": "code",
   "execution_count": 20,
   "metadata": {},
   "outputs": [
    {
     "data": {
      "text/plain": [
       "(4, 2)"
      ]
     },
     "execution_count": 20,
     "metadata": {},
     "output_type": "execute_result"
    }
   ],
   "source": [
    "X.shape"
   ]
  },
  {
   "cell_type": "code",
   "execution_count": 21,
   "metadata": {},
   "outputs": [
    {
     "data": {
      "text/plain": [
       "array([[ 0.,  1.],\n",
       "       [ 1.,  0.],\n",
       "       [ 1.,  0.],\n",
       "       [ 0.,  1.]])"
      ]
     },
     "execution_count": 21,
     "metadata": {},
     "output_type": "execute_result"
    }
   ],
   "source": [
    "X"
   ]
  },
  {
   "cell_type": "code",
   "execution_count": 22,
   "metadata": {},
   "outputs": [
    {
     "data": {
      "text/plain": [
       "array([[ 0.53636968, -1.36475796, -0.35472934],\n",
       "       [ 0.45606681, -0.4509158 , -1.09385926]])"
      ]
     },
     "execution_count": 22,
     "metadata": {},
     "output_type": "execute_result"
    }
   ],
   "source": [
    "W = np.random.randn(X.shape[-1], 3)\n",
    "W"
   ]
  },
  {
   "cell_type": "code",
   "execution_count": 23,
   "metadata": {},
   "outputs": [
    {
     "data": {
      "text/plain": [
       "array([[ 0.45606681, -0.4509158 , -1.09385926],\n",
       "       [ 0.53636968, -1.36475796, -0.35472934],\n",
       "       [ 0.53636968, -1.36475796, -0.35472934],\n",
       "       [ 0.45606681, -0.4509158 , -1.09385926]])"
      ]
     },
     "execution_count": 23,
     "metadata": {},
     "output_type": "execute_result"
    }
   ],
   "source": [
    "Y = np.dot(X,W)\n",
    "Y"
   ]
  },
  {
   "cell_type": "markdown",
   "metadata": {},
   "source": [
    "## Step 2: propagate weights\n",
    "$ \\tilde AXW$"
   ]
  },
  {
   "cell_type": "code",
   "execution_count": 43,
   "metadata": {},
   "outputs": [
    {
     "data": {
      "text/plain": [
       "matrix([[ 0.,  1.,  0.,  0.],\n",
       "        [ 1.,  0.,  1.,  1.],\n",
       "        [ 0.,  1.,  0.,  0.],\n",
       "        [ 0.,  1.,  0.,  0.]], dtype=float32)"
      ]
     },
     "execution_count": 43,
     "metadata": {},
     "output_type": "execute_result"
    }
   ],
   "source": [
    "# compute A\n",
    "A = nx.adj_matrix(g).todense()\n",
    "A = A.astype(np.float32)\n",
    "A"
   ]
  },
  {
   "cell_type": "code",
   "execution_count": 44,
   "metadata": {},
   "outputs": [
    {
     "data": {
      "text/plain": [
       "array([[ 1.,  0.,  0.,  0.],\n",
       "       [ 0.,  1.,  0.,  0.],\n",
       "       [ 0.,  0.,  1.,  0.],\n",
       "       [ 0.,  0.,  0.,  1.]])"
      ]
     },
     "execution_count": 44,
     "metadata": {},
     "output_type": "execute_result"
    }
   ],
   "source": [
    "I = np.eye(A.shape[0])\n",
    "I"
   ]
  },
  {
   "cell_type": "code",
   "execution_count": 45,
   "metadata": {},
   "outputs": [
    {
     "data": {
      "text/plain": [
       "matrix([[ 1.,  1.,  0.,  0.],\n",
       "        [ 1.,  1.,  1.,  1.],\n",
       "        [ 0.,  1.,  1.,  0.],\n",
       "        [ 0.,  1.,  0.,  1.]])"
      ]
     },
     "execution_count": 45,
     "metadata": {},
     "output_type": "execute_result"
    }
   ],
   "source": [
    "tA = A + I\n",
    "tA"
   ]
  },
  {
   "cell_type": "code",
   "execution_count": 46,
   "metadata": {},
   "outputs": [
    {
     "data": {
      "text/plain": [
       "matrix([[ 0.99243649, -1.81567376, -1.4485886 ],\n",
       "        [ 1.98487298, -3.63134752, -2.89717719],\n",
       "        [ 1.07273936, -2.72951592, -0.70945868],\n",
       "        [ 0.99243649, -1.81567376, -1.4485886 ]])"
      ]
     },
     "execution_count": 46,
     "metadata": {},
     "output_type": "execute_result"
    }
   ],
   "source": [
    "tAY = np.dot(tA, Y)\n",
    "tAY"
   ]
  },
  {
   "cell_type": "markdown",
   "metadata": {},
   "source": [
    "## Step 3: normalize\n",
    "To keep a fixed feature scale, we multiply by $\\tilde D^{-1}_{ii}$."
   ]
  },
  {
   "cell_type": "code",
   "execution_count": 47,
   "metadata": {},
   "outputs": [
    {
     "data": {
      "text/plain": [
       "matrix([[ 1.],\n",
       "        [ 3.],\n",
       "        [ 1.],\n",
       "        [ 1.]], dtype=float32)"
      ]
     },
     "execution_count": 47,
     "metadata": {},
     "output_type": "execute_result"
    }
   ],
   "source": [
    "# diagonal degree matrix\n",
    "diag = A.sum(axis=1)\n",
    "diag"
   ]
  },
  {
   "cell_type": "code",
   "execution_count": 48,
   "metadata": {},
   "outputs": [
    {
     "data": {
      "text/plain": [
       "matrix([[ 1.,  0.,  0.,  0.],\n",
       "        [ 0.,  3.,  0.,  0.],\n",
       "        [ 0.,  0.,  1.,  0.],\n",
       "        [ 0.,  0.,  0.,  1.]], dtype=float32)"
      ]
     },
     "execution_count": 48,
     "metadata": {},
     "output_type": "execute_result"
    }
   ],
   "source": [
    "tD = np.diagflat(diag)\n",
    "tD"
   ]
  },
  {
   "cell_type": "code",
   "execution_count": 49,
   "metadata": {},
   "outputs": [
    {
     "data": {
      "text/plain": [
       "matrix([[ 1.        , -0.        , -0.        , -0.        ],\n",
       "        [ 0.        ,  0.33333334,  0.        ,  0.        ],\n",
       "        [ 0.        ,  0.        ,  1.        ,  0.        ],\n",
       "        [ 0.        ,  0.        ,  0.        ,  1.        ]], dtype=float32)"
      ]
     },
     "execution_count": 49,
     "metadata": {},
     "output_type": "execute_result"
    }
   ],
   "source": [
    "tD_1 = np.linalg.inv(tD)\n",
    "tD_1"
   ]
  },
  {
   "cell_type": "code",
   "execution_count": 50,
   "metadata": {},
   "outputs": [
    {
     "data": {
      "text/plain": [
       "matrix([[ 0.99243649, -1.81567376, -1.4485886 ],\n",
       "        [ 0.66162435, -1.21044921, -0.96572576],\n",
       "        [ 1.07273936, -2.72951592, -0.70945868],\n",
       "        [ 0.99243649, -1.81567376, -1.4485886 ]])"
      ]
     },
     "execution_count": 50,
     "metadata": {},
     "output_type": "execute_result"
    }
   ],
   "source": [
    "DA = np.dot(tD_1, tAY)\n",
    "DA"
   ]
  },
  {
   "cell_type": "markdown",
   "metadata": {},
   "source": [
    "# Step 4: Activation"
   ]
  },
  {
   "cell_type": "code",
   "execution_count": 51,
   "metadata": {},
   "outputs": [
    {
     "data": {
      "text/plain": [
       "matrix([[ 0.99243649,  0.        ,  0.        ],\n",
       "        [ 0.66162435,  0.        ,  0.        ],\n",
       "        [ 1.07273936,  0.        ,  0.        ],\n",
       "        [ 0.99243649,  0.        ,  0.        ]])"
      ]
     },
     "execution_count": 51,
     "metadata": {},
     "output_type": "execute_result"
    }
   ],
   "source": [
    "# ReLu\n",
    "np.maximum(DA,0)"
   ]
  },
  {
   "cell_type": "code",
   "execution_count": 52,
   "metadata": {},
   "outputs": [],
   "source": [
    "def GCN(X, out_dim):\n",
    "    W = np.random.randn(X.shape[-1], out_dim)\n",
    "    Y = np.dot(X,W)\n",
    "    # compute A\n",
    "    A = nx.adj_matrix(g).todense()\n",
    "    I = np.eye(A.shape[0])\n",
    "    tA = A + I\n",
    "    tAY = np.dot(tA, Y)\n",
    "    # diagonal degree matrix\n",
    "    diag = A.sum(axis=1)\n",
    "    tD = np.diagflat(diag)\n",
    "    tD_1 = np.linalg.inv(tD)\n",
    "    DA = np.dot(tD_1, tAY)\n",
    "    return np.maximum(DA,0)"
   ]
  },
  {
   "cell_type": "code",
   "execution_count": 53,
   "metadata": {},
   "outputs": [
    {
     "data": {
      "text/plain": [
       "matrix([[ 1.26335984],\n",
       "        [ 1.34479208],\n",
       "        [ 1.50765657],\n",
       "        [ 1.26335984]])"
      ]
     },
     "execution_count": 53,
     "metadata": {},
     "output_type": "execute_result"
    }
   ],
   "source": [
    "x0 = GCN(X, 5)\n",
    "x1 = GCN(x0,3)\n",
    "x2 = GCN(x1,1)\n",
    "x2"
   ]
  },
  {
   "cell_type": "markdown",
   "metadata": {},
   "source": [
    "## Keras implementation"
   ]
  },
  {
   "cell_type": "code",
   "execution_count": 66,
   "metadata": {},
   "outputs": [],
   "source": [
    "from keras import backend as K\n",
    "from keras.engine.topology import Layer\n",
    "import tensorflow as tf"
   ]
  },
  {
   "cell_type": "code",
   "execution_count": 67,
   "metadata": {},
   "outputs": [],
   "source": [
    "class GCN(Layer):\n",
    "    def __init__(self, output_dim, g, **kwargs):\n",
    "        self.output_dim = output_dim\n",
    "        self.A = nx.adj_matrix(g).todense()\n",
    "        self.A = self.A.astype(np.float32)\n",
    "        super(GCN, self).__init__(**kwargs)\n",
    "    \n",
    "    def build(self, input_shape):\n",
    "        self.kernel = self.add_weight(name='kernel',\n",
    "                                     shape=(input_shape[1], self.output_dim),\n",
    "                                     initializer='uniform',\n",
    "                                     trainable=True)\n",
    "        super(GCN, self).build(input_shape)\n",
    "    \n",
    "    def call(self, x):\n",
    "        Y = K.dot(x,self.kernel)\n",
    "        I = K.eye(self.A.shape[0])\n",
    "        tA = A + I\n",
    "        tAY = K.dot(tA, Y)\n",
    "        # Diagonal degree matrix\n",
    "        diag = K.sum(self.A, axis=1)\n",
    "        tD = diag* I\n",
    "        tD_1 = tf.matrix_inverse(tD)\n",
    "        DA = K.dot(tD_1, tAY)\n",
    "        return K.maximum(DA,0)\n",
    "    \n",
    "    def compute_output_shape(self, input_shape):\n",
    "        return (input_shape, self.output_dim)"
   ]
  },
  {
   "cell_type": "code",
   "execution_count": 68,
   "metadata": {},
   "outputs": [],
   "source": [
    "layer0 = GCN(output_dim=1, g=g)"
   ]
  },
  {
   "cell_type": "code",
   "execution_count": 69,
   "metadata": {},
   "outputs": [],
   "source": [
    "from keras.layers import Input, Dense\n",
    "from keras.models import Model"
   ]
  },
  {
   "cell_type": "code",
   "execution_count": 70,
   "metadata": {},
   "outputs": [],
   "source": [
    "inputs = Input(shape=(4,))"
   ]
  },
  {
   "cell_type": "code",
   "execution_count": 76,
   "metadata": {},
   "outputs": [],
   "source": [
    "x = GCN(8, g)(inputs)\n",
    "x = GCN(4, g)(x)\n",
    "preds = Dense(1, activation='softmax')(x)"
   ]
  },
  {
   "cell_type": "code",
   "execution_count": 77,
   "metadata": {},
   "outputs": [],
   "source": [
    "model = Model(inputs=inputs, outputs=preds)\n",
    "model.compile(optimizer='rmsprop',\n",
    "             loss='categorical_crossentropy',\n",
    "             metrics=['accuracy'])"
   ]
  },
  {
   "cell_type": "code",
   "execution_count": 78,
   "metadata": {},
   "outputs": [
    {
     "name": "stdout",
     "output_type": "stream",
     "text": [
      "_________________________________________________________________\n",
      "Layer (type)                 Output Shape              Param #   \n",
      "=================================================================\n",
      "input_4 (InputLayer)         (None, 4)                 0         \n",
      "_________________________________________________________________\n",
      "gcn_9 (GCN)                  ((None, 4), 8)            32        \n",
      "_________________________________________________________________\n",
      "gcn_10 (GCN)                 (((None, 4), 8), 4)       32        \n",
      "_________________________________________________________________\n",
      "dense_2 (Dense)              (((None, 4), 8), 1)       5         \n",
      "=================================================================\n",
      "Total params: 69\n",
      "Trainable params: 69\n",
      "Non-trainable params: 0\n",
      "_________________________________________________________________\n"
     ]
    }
   ],
   "source": [
    "model.summary()"
   ]
  },
  {
   "cell_type": "code",
   "execution_count": null,
   "metadata": {},
   "outputs": [],
   "source": []
  }
 ],
 "metadata": {
  "kernelspec": {
   "display_name": "Python 3",
   "language": "python",
   "name": "python3"
  },
  "language_info": {
   "codemirror_mode": {
    "name": "ipython",
    "version": 3
   },
   "file_extension": ".py",
   "mimetype": "text/x-python",
   "name": "python",
   "nbconvert_exporter": "python",
   "pygments_lexer": "ipython3",
   "version": "3.5.4"
  }
 },
 "nbformat": 4,
 "nbformat_minor": 2
}
