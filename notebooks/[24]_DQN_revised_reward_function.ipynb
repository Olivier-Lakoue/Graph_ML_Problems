{
 "cells": [
  {
   "cell_type": "code",
   "execution_count": 1,
   "metadata": {
    "collapsed": true
   },
   "outputs": [],
   "source": [
    "%load_ext autoreload\n",
    "%autoreload 2"
   ]
  },
  {
   "cell_type": "code",
   "execution_count": 2,
   "metadata": {
    "collapsed": true
   },
   "outputs": [],
   "source": [
    "import networkx as nx\n",
    "import sys\n",
    "import random\n",
    "sys.path.append('../src/')\n",
    "from random_graph import RandGraph\n",
    "import pandas as pd\n",
    "import numpy as np\n",
    "import seaborn as sns\n",
    "import matplotlib.pyplot as plt\n",
    "import random"
   ]
  },
  {
   "cell_type": "code",
   "execution_count": 3,
   "metadata": {},
   "outputs": [
    {
     "name": "stderr",
     "output_type": "stream",
     "text": [
      "Using TensorFlow backend.\n"
     ]
    }
   ],
   "source": [
    "from keras.models import Sequential, Model\n",
    "from keras.layers import Dense, Input, Lambda, multiply\n",
    "from keras.initializers import RandomUniform"
   ]
  },
  {
   "cell_type": "markdown",
   "metadata": {},
   "source": [
    "## Model\n",
    "\n",
    "Adrien Lucas Ecoffet suggested in his [post](https://becominghuman.ai/lets-build-an-atari-ai-part-1-dqn-df57e8ff3b26) to use a second input as a mask of possible actions. This mask will be multiplied by the output of all possible actions. This filtered output is the Q value. Thus the network compute the Q values for all possible actions but the gradient will be updated according to the loss of the specific action chosen."
   ]
  },
  {
   "cell_type": "code",
   "execution_count": 4,
   "metadata": {
    "collapsed": true
   },
   "outputs": [],
   "source": [
    "nb_values = 6\n",
    "nb_actions = 6"
   ]
  },
  {
   "cell_type": "code",
   "execution_count": 5,
   "metadata": {
    "collapsed": true
   },
   "outputs": [],
   "source": [
    "values_input = Input((nb_values,), name='values')\n",
    "action_input = Input((nb_actions,), name='mask')"
   ]
  },
  {
   "cell_type": "code",
   "execution_count": 6,
   "metadata": {
    "collapsed": true
   },
   "outputs": [],
   "source": [
    "x = Dense(32, activation='relu')(values_input)\n",
    "x = Dense(32, activation='relu')(x)\n",
    "output = Dense(nb_actions)(x)\n",
    "filtered_output = multiply([output, action_input])\n",
    "\n",
    "model = Model(inputs=[values_input, action_input], outputs=filtered_output)\n"
   ]
  },
  {
   "cell_type": "code",
   "execution_count": 7,
   "metadata": {},
   "outputs": [
    {
     "name": "stdout",
     "output_type": "stream",
     "text": [
      "__________________________________________________________________________________________________\n",
      "Layer (type)                    Output Shape         Param #     Connected to                     \n",
      "==================================================================================================\n",
      "values (InputLayer)             (None, 6)            0                                            \n",
      "__________________________________________________________________________________________________\n",
      "dense_1 (Dense)                 (None, 32)           224         values[0][0]                     \n",
      "__________________________________________________________________________________________________\n",
      "dense_2 (Dense)                 (None, 32)           1056        dense_1[0][0]                    \n",
      "__________________________________________________________________________________________________\n",
      "dense_3 (Dense)                 (None, 6)            198         dense_2[0][0]                    \n",
      "__________________________________________________________________________________________________\n",
      "mask (InputLayer)               (None, 6)            0                                            \n",
      "__________________________________________________________________________________________________\n",
      "multiply_1 (Multiply)           (None, 6)            0           dense_3[0][0]                    \n",
      "                                                                 mask[0][0]                       \n",
      "==================================================================================================\n",
      "Total params: 1,478\n",
      "Trainable params: 1,478\n",
      "Non-trainable params: 0\n",
      "__________________________________________________________________________________________________\n"
     ]
    }
   ],
   "source": [
    "model.compile(optimizer='rmsprop', loss='mse')\n",
    "model.summary()"
   ]
  },
  {
   "cell_type": "code",
   "execution_count": 455,
   "metadata": {
    "collapsed": true
   },
   "outputs": [],
   "source": [
    "def create_model(nb_values, nb_actions):\n",
    "    values_input = Input((nb_values,), name='values')\n",
    "    action_input = Input((nb_actions,), name='mask')\n",
    "    x = Dense(32, activation='relu')(values_input)\n",
    "    x = Dense(32, activation='relu')(x)\n",
    "    output = Dense(nb_actions)(x)\n",
    "    filtered_output = multiply([output, action_input])\n",
    "    model = Model(inputs=[values_input, action_input], outputs=filtered_output)\n",
    "    model.compile(optimizer='rmsprop', loss='mse')\n",
    "    return model"
   ]
  },
  {
   "cell_type": "code",
   "execution_count": 456,
   "metadata": {},
   "outputs": [
    {
     "name": "stdout",
     "output_type": "stream",
     "text": [
      "__________________________________________________________________________________________________\n",
      "Layer (type)                    Output Shape         Param #     Connected to                     \n",
      "==================================================================================================\n",
      "values (InputLayer)             (None, 6)            0                                            \n",
      "__________________________________________________________________________________________________\n",
      "dense_4 (Dense)                 (None, 32)           224         values[0][0]                     \n",
      "__________________________________________________________________________________________________\n",
      "dense_5 (Dense)                 (None, 32)           1056        dense_4[0][0]                    \n",
      "__________________________________________________________________________________________________\n",
      "dense_6 (Dense)                 (None, 6)            198         dense_5[0][0]                    \n",
      "__________________________________________________________________________________________________\n",
      "mask (InputLayer)               (None, 6)            0                                            \n",
      "__________________________________________________________________________________________________\n",
      "multiply_2 (Multiply)           (None, 6)            0           dense_6[0][0]                    \n",
      "                                                                 mask[0][0]                       \n",
      "==================================================================================================\n",
      "Total params: 1,478\n",
      "Trainable params: 1,478\n",
      "Non-trainable params: 0\n",
      "__________________________________________________________________________________________________\n"
     ]
    }
   ],
   "source": [
    "model = create_model(nb_values, nb_actions)\n",
    "model.summary()"
   ]
  },
  {
   "cell_type": "markdown",
   "metadata": {},
   "source": [
    "## Fit batch"
   ]
  },
  {
   "cell_type": "code",
   "execution_count": 8,
   "metadata": {
    "collapsed": true
   },
   "outputs": [],
   "source": [
    "gamma = 0.99\n",
    "start_states = np.array([[0.1,0,0,0,0,0]]) # loading of the 6 core nodes\n",
    "actions = np.array([[0,1,0,1,0,0]]) # one hot encoding of blocked nodes\n",
    "rewards = np.array([[0.0]])\n",
    "next_states = np.array([[0.2,0.1,0,0,0,0]]) # next values after action"
   ]
  },
  {
   "cell_type": "code",
   "execution_count": 9,
   "metadata": {
    "collapsed": true
   },
   "outputs": [],
   "source": [
    "# get all the Q_values for this specific states\n",
    "next_Q_values = model.predict([next_states, np.ones_like(actions)])"
   ]
  },
  {
   "cell_type": "code",
   "execution_count": 10,
   "metadata": {},
   "outputs": [
    {
     "data": {
      "text/plain": [
       "array([[-0.00798716,  0.0077505 , -0.08062326,  0.10341002, -0.01462328,\n",
       "         0.05416442]], dtype=float32)"
      ]
     },
     "execution_count": 10,
     "metadata": {},
     "output_type": "execute_result"
    }
   ],
   "source": [
    "next_Q_values"
   ]
  },
  {
   "cell_type": "code",
   "execution_count": 11,
   "metadata": {
    "collapsed": true
   },
   "outputs": [],
   "source": [
    "# bellman\n",
    "Q_values = rewards + gamma * np.max(next_Q_values, axis=1)"
   ]
  },
  {
   "cell_type": "code",
   "execution_count": 12,
   "metadata": {},
   "outputs": [
    {
     "data": {
      "text/plain": [
       "array([[0.10237592]])"
      ]
     },
     "execution_count": 12,
     "metadata": {},
     "output_type": "execute_result"
    }
   ],
   "source": [
    "Q_values"
   ]
  },
  {
   "cell_type": "code",
   "execution_count": 14,
   "metadata": {},
   "outputs": [
    {
     "data": {
      "text/plain": [
       "0.1023759198"
      ]
     },
     "execution_count": 14,
     "metadata": {},
     "output_type": "execute_result"
    }
   ],
   "source": [
    "0.99 * 0.10341002"
   ]
  },
  {
   "cell_type": "code",
   "execution_count": 15,
   "metadata": {
    "collapsed": true
   },
   "outputs": [],
   "source": [
    "# target Q_values\n",
    "out = actions * Q_values"
   ]
  },
  {
   "cell_type": "code",
   "execution_count": 16,
   "metadata": {},
   "outputs": [
    {
     "data": {
      "text/plain": [
       "array([[0.        , 0.10237592, 0.        , 0.10237592, 0.        ,\n",
       "        0.        ]])"
      ]
     },
     "execution_count": 16,
     "metadata": {},
     "output_type": "execute_result"
    }
   ],
   "source": [
    "out"
   ]
  },
  {
   "cell_type": "code",
   "execution_count": 17,
   "metadata": {},
   "outputs": [
    {
     "name": "stdout",
     "output_type": "stream",
     "text": [
      "Epoch 1/1\n",
      "\r",
      "1/1 [==============================] - 0s 61ms/step - loss: 0.0027\n"
     ]
    },
    {
     "data": {
      "text/plain": [
       "<keras.callbacks.History at 0x7f393095a748>"
      ]
     },
     "execution_count": 17,
     "metadata": {},
     "output_type": "execute_result"
    }
   ],
   "source": [
    "# train\n",
    "model.fit([start_states, actions], out, batch_size=len(start_states))"
   ]
  },
  {
   "cell_type": "code",
   "execution_count": 18,
   "metadata": {},
   "outputs": [
    {
     "data": {
      "text/plain": [
       "array([[-0.01481351,  0.03179383, -0.07861096,  0.11500031, -0.02085284,\n",
       "         0.05248125]], dtype=float32)"
      ]
     },
     "execution_count": 18,
     "metadata": {},
     "output_type": "execute_result"
    }
   ],
   "source": [
    "# check the Q values after update\n",
    "model.predict([next_states, np.ones_like(actions)])"
   ]
  },
  {
   "cell_type": "code",
   "execution_count": 625,
   "metadata": {
    "collapsed": true
   },
   "outputs": [],
   "source": [
    "def fit_batch(model, start_states, actions, rewards, next_states, gamma):\n",
    "    # get all the Q_values for this specific states\n",
    "    next_Q_values = model.predict([next_states, np.ones_like(actions)])\n",
    "    # bellman\n",
    "    Q_values = rewards + gamma * np.max(next_Q_values, axis=1)[:,None]\n",
    "    # target Q_values\n",
    "    out = actions * Q_values \n",
    "    # train\n",
    "    model.fit([start_states, actions], out, batch_size=len(start_states), verbose=0)"
   ]
  },
  {
   "cell_type": "markdown",
   "metadata": {},
   "source": [
    "## Memory"
   ]
  },
  {
   "cell_type": "code",
   "execution_count": 463,
   "metadata": {
    "collapsed": true
   },
   "outputs": [],
   "source": [
    "class Memory():\n",
    "    def __init__(self, shape):\n",
    "        self.m = self._memory(shape)\n",
    "        \n",
    "    def _memory(self, shape):\n",
    "        m = 0.25 * np.random.randn(*shape) + 0.5 # * tuple unpacking\n",
    "        m[0] = np.nan\n",
    "        return m\n",
    "\n",
    "    def remember(self, val):\n",
    "        end_pos = np.where(np.isnan(self.m))[0][0]\n",
    "        self.m[end_pos,:] = val\n",
    "        if end_pos == self.m.shape[0]-1:\n",
    "            end_pos = 0\n",
    "        else:\n",
    "            end_pos += 1\n",
    "        self.m[end_pos,:] = np.nan\n",
    "        \n",
    "\n",
    "    def batch(self, size):\n",
    "        s = tuple(np.subtract(self.m.shape , [1]+[0] * (len(self.m.shape)-1)))\n",
    "        spl = np.random.choice(np.arange(x), size=size)\n",
    "        return self.m[np.where(~ np.isnan(self.m))].reshape(s)[spl]"
   ]
  },
  {
   "cell_type": "code",
   "execution_count": 464,
   "metadata": {
    "collapsed": true
   },
   "outputs": [],
   "source": [
    "m = Memory((64,6))"
   ]
  },
  {
   "cell_type": "code",
   "execution_count": 468,
   "metadata": {},
   "outputs": [
    {
     "data": {
      "text/plain": [
       "array([[1.11709942, 0.35347347, 0.61842722, 0.65376869, 0.50429132,\n",
       "        0.62566185],\n",
       "       [0.67102594, 0.13605903, 0.80715872, 0.53832302, 0.88781922,\n",
       "        0.25599433],\n",
       "       [0.67102594, 0.13605903, 0.80715872, 0.53832302, 0.88781922,\n",
       "        0.25599433],\n",
       "       [0.33400271, 0.74263135, 0.27407966, 0.12802172, 0.25432643,\n",
       "        0.35560663],\n",
       "       [0.32096768, 0.60300088, 0.60503297, 0.50593094, 0.47200723,\n",
       "        0.62622362],\n",
       "       [0.32096768, 0.60300088, 0.60503297, 0.50593094, 0.47200723,\n",
       "        0.62622362],\n",
       "       [0.67102594, 0.13605903, 0.80715872, 0.53832302, 0.88781922,\n",
       "        0.25599433],\n",
       "       [0.44895526, 0.7247081 , 0.30396462, 0.70213947, 0.74230295,\n",
       "        0.24496137]])"
      ]
     },
     "execution_count": 468,
     "metadata": {},
     "output_type": "execute_result"
    }
   ],
   "source": [
    "m.batch(8)"
   ]
  },
  {
   "cell_type": "code",
   "execution_count": 465,
   "metadata": {
    "collapsed": true
   },
   "outputs": [],
   "source": [
    "model = create_model(6,6)"
   ]
  },
  {
   "cell_type": "code",
   "execution_count": 473,
   "metadata": {},
   "outputs": [],
   "source": [
    "fit_batch(model, m.batch(1), np.array([[0,0,0,0,1,0]]), np.array([0,0,0,0,1,0]), np.array([[0,0,0,0,0,0]]), gamma)"
   ]
  },
  {
   "cell_type": "markdown",
   "metadata": {},
   "source": [
    "## graph"
   ]
  },
  {
   "cell_type": "code",
   "execution_count": 474,
   "metadata": {},
   "outputs": [
    {
     "data": {
      "image/png": "[encoded data removed]",
      "text/plain": [
       "<matplotlib.figure.Figure at 0x7f392cd887b8>"
      ]
     },
     "metadata": {},
     "output_type": "display_data"
    }
   ],
   "source": [
    "g = RandGraph(actors=1000, graph_type='simple')\n",
    "g.plot()"
   ]
  },
  {
   "cell_type": "markdown",
   "metadata": {},
   "source": [
    "## Action space"
   ]
  },
  {
   "cell_type": "code",
   "execution_count": 479,
   "metadata": {
    "collapsed": true
   },
   "outputs": [],
   "source": [
    "from itertools import combinations"
   ]
  },
  {
   "cell_type": "code",
   "execution_count": 477,
   "metadata": {},
   "outputs": [
    {
     "data": {
      "text/plain": [
       "[3, 4, 5, 6]"
      ]
     },
     "execution_count": 477,
     "metadata": {},
     "output_type": "execute_result"
    }
   ],
   "source": [
    "g.core_nodes"
   ]
  },
  {
   "cell_type": "code",
   "execution_count": 480,
   "metadata": {
    "collapsed": true
   },
   "outputs": [],
   "source": [
    "comb = []\n",
    "for i in range(1,len(g.core_nodes)+1):\n",
    "    comb.extend(list(combinations(g.core_nodes,i)))\n",
    "    "
   ]
  },
  {
   "cell_type": "code",
   "execution_count": 667,
   "metadata": {},
   "outputs": [
    {
     "data": {
      "text/plain": [
       "[(3,),\n",
       " (4,),\n",
       " (5,),\n",
       " (6,),\n",
       " (3, 4),\n",
       " (3, 5),\n",
       " (3, 6),\n",
       " (4, 5),\n",
       " (4, 6),\n",
       " (5, 6),\n",
       " (3, 4, 5),\n",
       " (3, 4, 6),\n",
       " (3, 5, 6),\n",
       " (4, 5, 6),\n",
       " (3, 4, 5, 6)]"
      ]
     },
     "execution_count": 667,
     "metadata": {},
     "output_type": "execute_result"
    }
   ],
   "source": [
    "comb"
   ]
  },
  {
   "cell_type": "code",
   "execution_count": 669,
   "metadata": {},
   "outputs": [
    {
     "data": {
      "text/plain": [
       "4"
      ]
     },
     "execution_count": 669,
     "metadata": {},
     "output_type": "execute_result"
    }
   ],
   "source": [
    "comb.index((3,4))"
   ]
  },
  {
   "cell_type": "markdown",
   "metadata": {},
   "source": [
    "## one_hot array for action space"
   ]
  },
  {
   "cell_type": "code",
   "execution_count": 512,
   "metadata": {
    "collapsed": true
   },
   "outputs": [],
   "source": [
    "action_space = np.zeros((len(comb), len(g.core_nodes)))"
   ]
  },
  {
   "cell_type": "code",
   "execution_count": 513,
   "metadata": {},
   "outputs": [
    {
     "data": {
      "text/plain": [
       "(15, 4)"
      ]
     },
     "execution_count": 513,
     "metadata": {},
     "output_type": "execute_result"
    }
   ],
   "source": [
    "action_space.shape"
   ]
  },
  {
   "cell_type": "code",
   "execution_count": 514,
   "metadata": {},
   "outputs": [],
   "source": [
    "for i,line in enumerate(comb):\n",
    "    for n in line:\n",
    "        col = n - min(g.core_nodes)\n",
    "        action_space[i,col] = 1"
   ]
  },
  {
   "cell_type": "code",
   "execution_count": 515,
   "metadata": {},
   "outputs": [
    {
     "data": {
      "text/plain": [
       "array([[1., 0., 0., 0.],\n",
       "       [0., 1., 0., 0.],\n",
       "       [0., 0., 1., 0.],\n",
       "       [0., 0., 0., 1.],\n",
       "       [1., 1., 0., 0.],\n",
       "       [1., 0., 1., 0.],\n",
       "       [1., 0., 0., 1.],\n",
       "       [0., 1., 1., 0.],\n",
       "       [0., 1., 0., 1.],\n",
       "       [0., 0., 1., 1.],\n",
       "       [1., 1., 1., 0.],\n",
       "       [1., 1., 0., 1.],\n",
       "       [1., 0., 1., 1.],\n",
       "       [0., 1., 1., 1.],\n",
       "       [1., 1., 1., 1.]])"
      ]
     },
     "execution_count": 515,
     "metadata": {},
     "output_type": "execute_result"
    }
   ],
   "source": [
    "action_space"
   ]
  },
  {
   "cell_type": "code",
   "execution_count": 516,
   "metadata": {},
   "outputs": [
    {
     "data": {
      "text/plain": [
       "array([[0., 1., 0., 1.],\n",
       "       [1., 1., 0., 0.]])"
      ]
     },
     "execution_count": 516,
     "metadata": {},
     "output_type": "execute_result"
    }
   ],
   "source": [
    "action_space[np.random.randint(len(action_space), size=2)]"
   ]
  },
  {
   "cell_type": "code",
   "execution_count": 525,
   "metadata": {},
   "outputs": [
    {
     "data": {
      "text/plain": [
       "[3, 4]"
      ]
     },
     "execution_count": 525,
     "metadata": {},
     "output_type": "execute_result"
    }
   ],
   "source": [
    "list(np.where(action_space[:2] == 1.)[1] + min(g.core_nodes))"
   ]
  },
  {
   "cell_type": "code",
   "execution_count": 677,
   "metadata": {},
   "outputs": [
    {
     "data": {
      "text/plain": [
       "(3, 6)"
      ]
     },
     "execution_count": 677,
     "metadata": {},
     "output_type": "execute_result"
    }
   ],
   "source": [
    "comb[random.randint(0,len(comb))]"
   ]
  },
  {
   "cell_type": "code",
   "execution_count": 672,
   "metadata": {},
   "outputs": [],
   "source": [
    "a = np.zeros((1,len(comb)))"
   ]
  },
  {
   "cell_type": "code",
   "execution_count": 673,
   "metadata": {
    "collapsed": true
   },
   "outputs": [],
   "source": [
    "a[:,comb.index((3,4))] = 1"
   ]
  },
  {
   "cell_type": "code",
   "execution_count": 674,
   "metadata": {},
   "outputs": [
    {
     "data": {
      "text/plain": [
       "array([[0., 0., 0., 0., 1., 0., 0., 0., 0., 0., 0., 0., 0., 0., 0.]])"
      ]
     },
     "execution_count": 674,
     "metadata": {},
     "output_type": "execute_result"
    }
   ],
   "source": [
    "a"
   ]
  },
  {
   "cell_type": "code",
   "execution_count": 681,
   "metadata": {},
   "outputs": [
    {
     "data": {
      "text/plain": [
       "(3, 4)"
      ]
     },
     "execution_count": 681,
     "metadata": {},
     "output_type": "execute_result"
    }
   ],
   "source": [
    "comb[np.where(a == 1.)[1][0]]"
   ]
  },
  {
   "cell_type": "code",
   "execution_count": 745,
   "metadata": {
    "collapsed": true
   },
   "outputs": [],
   "source": [
    "class Action_space():\n",
    "    def __init__(self, g):\n",
    "        self.nodes = g.core_nodes\n",
    "        self.comb = self.action_combinations()\n",
    "#         self.action_space = self.act_space()\n",
    "        \n",
    "    def action_combinations(self):\n",
    "        comb = []\n",
    "        for i in range(1,len(self.nodes)+1):\n",
    "            comb.extend(list(combinations(self.nodes,i)))\n",
    "        return comb\n",
    "    \n",
    "#     def act_space(self):\n",
    "#         action_space = np.zeros((len(self.comb) + 1, len(self.nodes)))\n",
    "#         for i,line in enumerate(self.comb):\n",
    "#             for n in line:\n",
    "#                 col = n - min(self.nodes)\n",
    "#                 action_space[i,col] = 1\n",
    "#         return action_space\n",
    "    \n",
    "    def sample(self):\n",
    "        a = np.zeros((1,len(self.comb)))\n",
    "        idx = self.comb[random.randint(0,len(self.comb)-1)]\n",
    "        a[:,self.comb.index(idx)] = 1\n",
    "        return a\n",
    "    \n",
    "    def get_nodes(self, action):\n",
    "        idx = np.where(action == 1.)[1][0]\n",
    "        return comb[idx]"
   ]
  },
  {
   "cell_type": "code",
   "execution_count": 746,
   "metadata": {},
   "outputs": [],
   "source": [
    "action_space = Action_space(g)"
   ]
  },
  {
   "cell_type": "code",
   "execution_count": 747,
   "metadata": {},
   "outputs": [
    {
     "data": {
      "text/plain": [
       "array([[0., 0., 1., 0., 0., 0., 0., 0., 0., 0., 0., 0., 0., 0., 0.]])"
      ]
     },
     "execution_count": 747,
     "metadata": {},
     "output_type": "execute_result"
    }
   ],
   "source": [
    "action_space.sample()"
   ]
  },
  {
   "cell_type": "code",
   "execution_count": 693,
   "metadata": {},
   "outputs": [
    {
     "data": {
      "text/plain": [
       "(3, 4, 5)"
      ]
     },
     "execution_count": 693,
     "metadata": {},
     "output_type": "execute_result"
    }
   ],
   "source": [
    "action_space.get_nodes(np.array([[0., 0., 0., 0., 0., 0., 0., 0., 0., 0., 1., 0., 0., 0., 0.]]))"
   ]
  },
  {
   "cell_type": "code",
   "execution_count": 694,
   "metadata": {},
   "outputs": [
    {
     "data": {
      "text/plain": [
       "10"
      ]
     },
     "execution_count": 694,
     "metadata": {},
     "output_type": "execute_result"
    }
   ],
   "source": [
    "np.argmax(np.array([[0., 0., 0., 0., 0., 0., 0., 0., 0., 0., 1., 0., 0., 0., 0.]]))"
   ]
  },
  {
   "cell_type": "markdown",
   "metadata": {},
   "source": [
    "## $\\epsilon$-greedy schedule"
   ]
  },
  {
   "cell_type": "code",
   "execution_count": 652,
   "metadata": {},
   "outputs": [
    {
     "data": {
      "text/plain": [
       "0.08999999999999997"
      ]
     },
     "execution_count": 652,
     "metadata": {},
     "output_type": "execute_result"
    }
   ],
   "source": [
    "0.99 - 0.001*900"
   ]
  },
  {
   "cell_type": "code",
   "execution_count": 658,
   "metadata": {
    "collapsed": true
   },
   "outputs": [],
   "source": [
    "def get_epsilon_for(iteration):\n",
    "    e = 0.99 - 0.0001*iteration\n",
    "    if e < 0.1:\n",
    "        e = 0.1\n",
    "    return e"
   ]
  },
  {
   "cell_type": "markdown",
   "metadata": {},
   "source": [
    "## Training"
   ]
  },
  {
   "cell_type": "code",
   "execution_count": null,
   "metadata": {},
   "outputs": [],
   "source": [
    "g = RandGraph(actors=20000, graph_type='simple')\n",
    "# epsilon = 0.9\n",
    "total_reward = []\n",
    "i = len(g.core_nodes)\n",
    "\n",
    "state, reward = g.action()\n",
    "# action space\n",
    "action_space = Action_space(g)\n",
    "# store state, action, next_state, reward\n",
    "memory = Memory((5000, len(g.core_nodes)*2 + len(action_space.comb) + 1))\n",
    "\n",
    "action = action_space.sample()\n",
    "\n",
    "model = create_model(state.shape[-1] , action.shape[-1] )\n",
    "\n",
    "\n",
    "for t_time in range(20000):\n",
    "    #which action\n",
    "    epsilon = get_epsilon_for(t_time)\n",
    "    if np.random.randn() < epsilon:\n",
    "        action = action_space.sample()\n",
    "    else:\n",
    "        q_values = model.predict([state, np.ones_like(action)])\n",
    "        idx = np.argmax(q_values)\n",
    "        action = np.zeros((1, len(action_space.comb)))\n",
    "        action[:,idx] = 1.\n",
    "        \n",
    "    n = action_space.get_nodes(action)\n",
    "    next_state, reward = g.action(n)\n",
    "    total_reward.append(reward)\n",
    "    vect = np.hstack((state.ravel(), next_state.ravel(), np.array(reward), action.ravel()))\n",
    "    memory.remember(vect)\n",
    "    \n",
    "    batch = memory.batch(32)\n",
    "    states = batch[:,:i]\n",
    "    next_states = batch[:,i:2*i]\n",
    "    rewards = batch[:,2*i:2*i+1]\n",
    "    actions = batch[:,2*i+1:]\n",
    "    \n",
    "    fit_batch(model, states, actions, rewards, next_states, gamma)\n",
    "    \n",
    "    state = next_state"
   ]
  },
  {
   "cell_type": "code",
   "execution_count": null,
   "metadata": {},
   "outputs": [],
   "source": [
    "model.predict([state,np.ones_like(action)])"
   ]
  },
  {
   "cell_type": "code",
   "execution_count": null,
   "metadata": {},
   "outputs": [],
   "source": [
    "np.mean(total_reward[-100:])"
   ]
  },
  {
   "cell_type": "code",
   "execution_count": null,
   "metadata": {},
   "outputs": [],
   "source": [
    "df = pd.DataFrame(total_reward)\n",
    "df.plot(kind='kde')\n",
    "plt.show()"
   ]
  },
  {
   "cell_type": "code",
   "execution_count": null,
   "metadata": {},
   "outputs": [],
   "source": [
    "df.rolling(100).mean().plot()\n",
    "plt.show()"
   ]
  },
  {
   "cell_type": "code",
   "execution_count": null,
   "metadata": {
    "collapsed": true
   },
   "outputs": [],
   "source": []
  }
 ],
 "metadata": {
  "kernelspec": {
   "display_name": "Python 3",
   "language": "python",
   "name": "python3"
  },
  "language_info": {
   "codemirror_mode": {
    "name": "ipython",
    "version": 3
   },
   "file_extension": ".py",
   "mimetype": "text/x-python",
   "name": "python",
   "nbconvert_exporter": "python",
   "pygments_lexer": "ipython3",
   "version": "3.5.2"
  }
 },
 "nbformat": 4,
 "nbformat_minor": 2
}
