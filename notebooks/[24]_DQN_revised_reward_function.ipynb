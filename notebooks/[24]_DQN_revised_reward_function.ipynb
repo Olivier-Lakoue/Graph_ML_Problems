{
 "cells": [
  {
   "cell_type": "code",
   "execution_count": 1,
   "metadata": {},
   "outputs": [],
   "source": [
    "%load_ext autoreload\n",
    "%autoreload 2"
   ]
  },
  {
   "cell_type": "code",
   "execution_count": 2,
   "metadata": {},
   "outputs": [],
   "source": [
    "import networkx as nx\n",
    "import sys\n",
    "import random\n",
    "sys.path.append('../src/')\n",
    "from random_graph import RandGraph\n",
    "import pandas as pd\n",
    "import numpy as np\n",
    "import seaborn as sns\n",
    "import matplotlib.pyplot as plt\n",
    "import random"
   ]
  },
  {
   "cell_type": "code",
   "execution_count": 27,
   "metadata": {},
   "outputs": [],
   "source": [
    "from keras.models import Sequential, Model\n",
    "from keras.layers import Dense, Input, Lambda, multiply\n",
    "from keras.initializers import RandomUniform"
   ]
  },
  {
   "cell_type": "markdown",
   "metadata": {},
   "source": [
    "## Model\n",
    "\n",
    "Adrien Lucas Ecoffet suggested in his [post](https://becominghuman.ai/lets-build-an-atari-ai-part-1-dqn-df57e8ff3b26) to use a second input as a mask of possible actions. This mask will be multiplied by the output of all possible actions. This filtered output is the Q value. Thus the network compute the Q values for all possible actions but the gradient will be updated according to the loss of the specific action chosen."
   ]
  },
  {
   "cell_type": "code",
   "execution_count": 20,
   "metadata": {},
   "outputs": [],
   "source": [
    "nb_values = 6\n",
    "nb_actions = 6"
   ]
  },
  {
   "cell_type": "code",
   "execution_count": 21,
   "metadata": {},
   "outputs": [],
   "source": [
    "values_input = Input((nb_values,), name='values')\n",
    "action_input = Input((nb_actions,), name='mask')"
   ]
  },
  {
   "cell_type": "code",
   "execution_count": 54,
   "metadata": {},
   "outputs": [],
   "source": [
    "x = Dense(32, activation='relu')(values_input)\n",
    "x = Dense(32, activation='relu')(x)\n",
    "output = Dense(nb_actions)(x)\n",
    "filtered_output = multiply([output, action_input])\n",
    "\n",
    "model = Model(inputs=[values_input, action_input], outputs=filtered_output)\n"
   ]
  },
  {
   "cell_type": "code",
   "execution_count": 55,
   "metadata": {},
   "outputs": [
    {
     "name": "stdout",
     "output_type": "stream",
     "text": [
      "__________________________________________________________________________________________________\n",
      "Layer (type)                    Output Shape         Param #     Connected to                     \n",
      "==================================================================================================\n",
      "values (InputLayer)             (None, 6)            0                                            \n",
      "__________________________________________________________________________________________________\n",
      "dense_28 (Dense)                (None, 32)           224         values[0][0]                     \n",
      "__________________________________________________________________________________________________\n",
      "dense_29 (Dense)                (None, 32)           1056        dense_28[0][0]                   \n",
      "__________________________________________________________________________________________________\n",
      "dense_30 (Dense)                (None, 6)            198         dense_29[0][0]                   \n",
      "__________________________________________________________________________________________________\n",
      "mask (InputLayer)               (None, 6)            0                                            \n",
      "__________________________________________________________________________________________________\n",
      "multiply_7 (Multiply)           (None, 6)            0           dense_30[0][0]                   \n",
      "                                                                 mask[0][0]                       \n",
      "==================================================================================================\n",
      "Total params: 1,478\n",
      "Trainable params: 1,478\n",
      "Non-trainable params: 0\n",
      "__________________________________________________________________________________________________\n"
     ]
    }
   ],
   "source": [
    "model.compile(optimizer='rmsprop', loss='mse')\n",
    "model.summary()"
   ]
  },
  {
   "cell_type": "markdown",
   "metadata": {},
   "source": [
    "## Fit batch"
   ]
  },
  {
   "cell_type": "code",
   "execution_count": 56,
   "metadata": {},
   "outputs": [],
   "source": [
    "gamma = 0.99\n",
    "start_states = np.array([[0.1,0,0,0,0,0]]) # loading of the 6 core nodes\n",
    "actions = np.array([[0,1,0,1,0,0]]) # one hot encoding of blocked nodes\n",
    "rewards = np.array([[0.0]])\n",
    "next_states = np.array([[0.2,0.1,0,0,0,0]]) # next values after action"
   ]
  },
  {
   "cell_type": "code",
   "execution_count": 57,
   "metadata": {},
   "outputs": [],
   "source": [
    "# get all the Q_values for this specific states\n",
    "next_Q_values = model.predict([next_states, np.ones_like(actions)])"
   ]
  },
  {
   "cell_type": "code",
   "execution_count": 58,
   "metadata": {},
   "outputs": [
    {
     "data": {
      "text/plain": [
       "array([[ 0.03522554,  0.06019057,  0.05209278, -0.03180493, -0.01657225,\n",
       "        -0.0520423 ]], dtype=float32)"
      ]
     },
     "execution_count": 58,
     "metadata": {},
     "output_type": "execute_result"
    }
   ],
   "source": [
    "next_Q_values"
   ]
  },
  {
   "cell_type": "code",
   "execution_count": 59,
   "metadata": {},
   "outputs": [],
   "source": [
    "# bellman\n",
    "Q_values = rewards + gamma * np.max(next_Q_values, axis=1)"
   ]
  },
  {
   "cell_type": "code",
   "execution_count": 60,
   "metadata": {},
   "outputs": [
    {
     "data": {
      "text/plain": [
       "array([[0.05958866]])"
      ]
     },
     "execution_count": 60,
     "metadata": {},
     "output_type": "execute_result"
    }
   ],
   "source": [
    "Q_values"
   ]
  },
  {
   "cell_type": "code",
   "execution_count": 61,
   "metadata": {},
   "outputs": [
    {
     "data": {
      "text/plain": [
       "0.0595886643"
      ]
     },
     "execution_count": 61,
     "metadata": {},
     "output_type": "execute_result"
    }
   ],
   "source": [
    "0.99 * 0.06019057"
   ]
  },
  {
   "cell_type": "code",
   "execution_count": 64,
   "metadata": {},
   "outputs": [],
   "source": [
    "# target Q_values\n",
    "out = actions * Q_values"
   ]
  },
  {
   "cell_type": "code",
   "execution_count": 65,
   "metadata": {},
   "outputs": [
    {
     "data": {
      "text/plain": [
       "array([[0.        , 0.05958866, 0.        , 0.05958866, 0.        ,\n",
       "        0.        ]])"
      ]
     },
     "execution_count": 65,
     "metadata": {},
     "output_type": "execute_result"
    }
   ],
   "source": [
    "out"
   ]
  },
  {
   "cell_type": "code",
   "execution_count": 69,
   "metadata": {},
   "outputs": [
    {
     "name": "stdout",
     "output_type": "stream",
     "text": [
      "Epoch 1/1\n",
      "\r",
      "1/1 [==============================] - 0s 2ms/step - loss: 7.0510e-04\n"
     ]
    },
    {
     "data": {
      "text/plain": [
       "<keras.callbacks.History at 0xe3116a0>"
      ]
     },
     "execution_count": 69,
     "metadata": {},
     "output_type": "execute_result"
    }
   ],
   "source": [
    "# train\n",
    "model.fit([start_states, actions], out, batch_size=len(start_states))"
   ]
  },
  {
   "cell_type": "code",
   "execution_count": 70,
   "metadata": {},
   "outputs": [
    {
     "data": {
      "text/plain": [
       "array([[ 0.03659564,  0.06620126,  0.05930661,  0.01066939, -0.02798991,\n",
       "        -0.04506534]], dtype=float32)"
      ]
     },
     "execution_count": 70,
     "metadata": {},
     "output_type": "execute_result"
    }
   ],
   "source": [
    "# check the Q values after update\n",
    "model.predict([next_states, np.ones_like(actions)])"
   ]
  },
  {
   "cell_type": "code",
   "execution_count": null,
   "metadata": {},
   "outputs": [],
   "source": []
  }
 ],
 "metadata": {
  "kernelspec": {
   "display_name": "Python 3.6 (graph)",
   "language": "python",
   "name": "graph_ml_problems"
  },
  "language_info": {
   "codemirror_mode": {
    "name": "ipython",
    "version": 3
   },
   "file_extension": ".py",
   "mimetype": "text/x-python",
   "name": "python",
   "nbconvert_exporter": "python",
   "pygments_lexer": "ipython3",
   "version": "3.6.5"
  }
 },
 "nbformat": 4,
 "nbformat_minor": 2
}
